{
 "cells": [
  {
   "cell_type": "code",
   "execution_count": null,
   "metadata": {},
   "outputs": [],
   "source": [
    "!pip install -q boto3\n",
    "!pip install -q xgboost==0.90\n",
    "!pip install -q scikit-learn==0.20.3\n",
    "!pip install -q nltk==3.4.5"
   ]
  },
  {
   "cell_type": "code",
   "execution_count": null,
   "metadata": {},
   "outputs": [],
   "source": [
    "import boto3\n",
    "import sagemaker\n",
    "import pandas as pd\n",
    "\n",
    "sess   = sagemaker.Session()\n",
    "bucket = sess.default_bucket()\n",
    "role = sagemaker.get_execution_role()\n",
    "region = boto3.Session().region_name"
   ]
  },
  {
   "cell_type": "code",
   "execution_count": null,
   "metadata": {},
   "outputs": [],
   "source": [
    "!aws s3 cp 's3://{bucket}/amazon-reviews-pds/tsv/amazon_reviews_us_Digital_Software_v1_00.tsv.gz' ./data/"
   ]
  },
  {
   "cell_type": "code",
   "execution_count": null,
   "metadata": {},
   "outputs": [],
   "source": [
    "import csv\n",
    "\n",
    "df = pd.read_csv('./data/amazon_reviews_us_Digital_Software_v1_00.tsv.gz', \n",
    "                 delimiter='\\t', \n",
    "                 quoting=csv.QUOTE_NONE,\n",
    "                 compression='gzip')\n",
    "df.shape"
   ]
  },
  {
   "cell_type": "code",
   "execution_count": null,
   "metadata": {
    "scrolled": true
   },
   "outputs": [],
   "source": [
    "df.head(5)"
   ]
  },
  {
   "cell_type": "markdown",
   "metadata": {},
   "source": [
    "# Clean commas from raw text\n",
    "_Note:  This is not needed as the data does not currently contain commas._"
   ]
  },
  {
   "cell_type": "code",
   "execution_count": null,
   "metadata": {},
   "outputs": [],
   "source": [
    "df_scrubbed_raw = df\n",
    "\n",
    "df_scrubbed_raw['marketplace'] = df_scrubbed_raw['marketplace'].replace(',', ' ')\n",
    "df_scrubbed_raw['review_id'] = df_scrubbed_raw['review_id'].replace(',', ' ')\n",
    "df_scrubbed_raw['product_id'] = df_scrubbed_raw['product_id'].replace(',', ' ')\n",
    "df_scrubbed_raw['product_title'] = df_scrubbed_raw['product_title'].replace(',', ' ')\n",
    "df_scrubbed_raw['product_category'] = df_scrubbed_raw['product_category'].replace(',', ' ')\n",
    "df_scrubbed_raw['review_headline'] = df_scrubbed_raw['review_headline'].replace(',', ' ')\n",
    "df_scrubbed_raw['review_body'] = df_scrubbed_raw['review_body'].replace(',', ' ')\n",
    "df_scrubbed_raw['review_date'] = df_scrubbed_raw['review_date'].replace(',', ' ')\n",
    "\n",
    "df_scrubbed_raw.shape"
   ]
  },
  {
   "cell_type": "code",
   "execution_count": null,
   "metadata": {},
   "outputs": [],
   "source": [
    "df_scrubbed_raw.head(5)"
   ]
  },
  {
   "cell_type": "markdown",
   "metadata": {},
   "source": [
    "# Drop NaNs"
   ]
  },
  {
   "cell_type": "code",
   "execution_count": null,
   "metadata": {},
   "outputs": [],
   "source": [
    "df_scrubbed_raw.isna().values.any()"
   ]
  },
  {
   "cell_type": "code",
   "execution_count": null,
   "metadata": {},
   "outputs": [],
   "source": [
    "df_scrubbed_raw = df_scrubbed_raw.dropna()\n",
    "df_scrubbed_raw = df_scrubbed_raw.reset_index(drop=True)\n",
    "df_scrubbed_raw.shape"
   ]
  },
  {
   "cell_type": "code",
   "execution_count": null,
   "metadata": {
    "scrolled": true
   },
   "outputs": [],
   "source": [
    "df_scrubbed_raw.head(5)"
   ]
  },
  {
   "cell_type": "markdown",
   "metadata": {},
   "source": [
    "### Enrich the data with `is_positive_sentiment` label\n",
    "* True:  `star_rating >= 4`\n",
    "* False:  `star_rating < 4`"
   ]
  },
  {
   "cell_type": "code",
   "execution_count": null,
   "metadata": {
    "scrolled": true
   },
   "outputs": [],
   "source": [
    "df_is_positive_sentiment = (df_scrubbed_raw['star_rating'] >= 4).astype(int)\n",
    "df_scrubbed_raw.insert(0, 'is_positive_sentiment', df_is_positive_sentiment)\n",
    "df_scrubbed_raw.shape"
   ]
  },
  {
   "cell_type": "code",
   "execution_count": null,
   "metadata": {
    "scrolled": false
   },
   "outputs": [],
   "source": [
    "df_scrubbed_raw.head(5)"
   ]
  },
  {
   "cell_type": "markdown",
   "metadata": {},
   "source": [
    "# Split the data into `train` and `test` datasets"
   ]
  },
  {
   "cell_type": "code",
   "execution_count": null,
   "metadata": {
    "scrolled": true
   },
   "outputs": [],
   "source": [
    "from sklearn.model_selection import train_test_split\n",
    "\n",
    "df_unbalanced_raw = df_scrubbed_raw\n",
    "\n",
    "print('df_unbalanced_raw.shape={}'.format(df_unbalanced_raw.shape))\n",
    "\n",
    "# Split all data into 90% train and 10% test\n",
    "df_unbalanced_raw_train, df_unbalanced_raw_test = train_test_split(df_unbalanced_raw, test_size=0.1, stratify=df_scrubbed_raw['is_positive_sentiment'])\n",
    "\n",
    "df_unbalanced_raw_train = df_unbalanced_raw_train.reset_index(drop=True)\n",
    "df_unbalanced_raw_test = df_unbalanced_raw_test.reset_index(drop=True)\n",
    "\n",
    "print('df_unbalanced_raw_train.shape={}'.format(df_unbalanced_raw_train.shape))\n",
    "print('df_unbalanced_raw_test.shape={}'.format(df_unbalanced_raw_test.shape))"
   ]
  },
  {
   "cell_type": "markdown",
   "metadata": {},
   "source": [
    "## Write the data files locally"
   ]
  },
  {
   "cell_type": "code",
   "execution_count": null,
   "metadata": {},
   "outputs": [],
   "source": [
    "prefix_unbalanced_raw_train = 'feature-store/amazon-reviews-autopilot/raw-labeled-split-unbalanced-header-train-csv'\n",
    "prefix_unbalanced_raw_test = 'feature-store/amazon-reviews-autopilot/raw-labeled-split-unbalanced-header-test-csv'\n",
    "\n",
    "unbalanced_raw_with_header_train_path = './{}/data.csv'.format(prefix_unbalanced_raw_train)\n",
    "unbalanced_raw_with_header_test_path = './{}/data.csv'.format(prefix_unbalanced_raw_test)\n",
    "\n",
    "import os\n",
    "os.makedirs(prefix_unbalanced_raw_train, exist_ok=True)\n",
    "os.makedirs(prefix_unbalanced_raw_test, exist_ok=True)\n",
    "\n",
    "# Only review_body\n",
    "df_unbalanced_raw_train[['is_positive_sentiment', 'review_body']].to_csv(unbalanced_raw_with_header_train_path, index=False, header=True)\n",
    "df_unbalanced_raw_test[['is_positive_sentiment', 'review_body']].to_csv(unbalanced_raw_with_header_test_path, index=False, header=True)\n",
    "\n",
    "# All features\n",
    "# df_unbalanced_raw_train.to_csv(unbalanced_raw_with_header_train_path, index=False, header=True)\n",
    "# df_unbalanced_raw_test.to_csv(unbalanced_raw_with_header_test_path, index=False, header=True)\n"
   ]
  },
  {
   "cell_type": "code",
   "execution_count": null,
   "metadata": {},
   "outputs": [],
   "source": [
    "unbalanced_raw_with_header_train_s3_uri = sess.upload_data(path=unbalanced_raw_with_header_train_path, key_prefix=prefix_unbalanced_raw_train)\n",
    "unbalanced_raw_with_header_test_s3_uri = sess.upload_data(path=unbalanced_raw_with_header_test_path, key_prefix=prefix_unbalanced_raw_test)\n",
    "\n",
    "print(unbalanced_raw_with_header_train_s3_uri)\n",
    "print(unbalanced_raw_with_header_test_s3_uri)\n"
   ]
  },
  {
   "cell_type": "code",
   "execution_count": null,
   "metadata": {},
   "outputs": [],
   "source": [
    "!aws s3 ls $unbalanced_raw_with_header_train_s3_uri\n",
    "!aws s3 ls $unbalanced_raw_with_header_test_s3_uri"
   ]
  },
  {
   "cell_type": "markdown",
   "metadata": {},
   "source": [
    "# View the Class Imbalance (Train)"
   ]
  },
  {
   "cell_type": "markdown",
   "metadata": {},
   "source": [
    "### Note:  You may need to run this next cell twice\n"
   ]
  },
  {
   "cell_type": "code",
   "execution_count": null,
   "metadata": {},
   "outputs": [],
   "source": [
    "import seaborn as sns\n",
    "\n",
    "sns.countplot(x='is_positive_sentiment', data=df_unbalanced_raw_train)\n"
   ]
  },
  {
   "cell_type": "code",
   "execution_count": null,
   "metadata": {
    "scrolled": false
   },
   "outputs": [],
   "source": [
    "is_positive_sentiment_count_unbalanced_raw_train = len(df_unbalanced_raw_train.query('is_positive_sentiment == 1'))\n",
    "is_negative_sentiment_count_unbalanced_raw_train = len(df_unbalanced_raw_train.query('is_positive_sentiment == 0'))\n",
    "\n",
    "print('Majority (positive) count: {}'.format(is_positive_sentiment_count_unbalanced_raw_train))\n",
    "print('Minority (negative) count: {}'.format(is_negative_sentiment_count_unbalanced_raw_train))\n",
    "print('Ratio of Majority to Minority: {}'.format(is_positive_sentiment_count_unbalanced_raw_train / is_negative_sentiment_count_unbalanced_raw_train))"
   ]
  },
  {
   "cell_type": "markdown",
   "metadata": {},
   "source": [
    "# Balance the Classes (Train-Split Only)"
   ]
  },
  {
   "cell_type": "code",
   "execution_count": null,
   "metadata": {},
   "outputs": [],
   "source": [
    "from sklearn.utils import resample\n",
    "\n",
    "is_negative_sentiment_unbalanced_raw_train_df = df_unbalanced_raw_train.query('is_positive_sentiment == 0')\n",
    "is_positive_sentiment_unbalanced_raw_train_df = df_unbalanced_raw_train.query('is_positive_sentiment == 1')\n",
    "\n",
    "# TODO:  Check which sentiment has the least number of samples\n",
    "#        We know we have more positive than negative sentiment samples in our case.\n",
    "\n",
    "is_positive_downsampled_raw_train_df = resample(is_positive_sentiment_unbalanced_raw_train_df,\n",
    "                                                replace = False,\n",
    "                                                n_samples = len(is_negative_sentiment_unbalanced_raw_train_df))\n",
    "\n",
    "df_balanced_train_raw = pd.concat([is_negative_sentiment_unbalanced_raw_train_df, is_positive_downsampled_raw_train_df])\n",
    "df_balanced_train_raw = df_balanced_train_raw.reset_index(drop=True)"
   ]
  },
  {
   "cell_type": "code",
   "execution_count": null,
   "metadata": {
    "scrolled": true
   },
   "outputs": [],
   "source": [
    "import seaborn as sns\n",
    "\n",
    "sns.countplot(x='is_positive_sentiment', data=df_balanced_train_raw)\n"
   ]
  },
  {
   "cell_type": "markdown",
   "metadata": {},
   "source": [
    "## Write the data files locally (Balanced, Train)\n"
   ]
  },
  {
   "cell_type": "code",
   "execution_count": null,
   "metadata": {},
   "outputs": [],
   "source": [
    "prefix_balanced_raw_train = 'feature-store/amazon-reviews-autopilot/raw-labeled-split-balanced-header-train-csv'\n",
    "\n",
    "balanced_raw_with_header_train_path = './{}/data.csv'.format(prefix_balanced_raw_train)\n",
    "\n",
    "import os\n",
    "os.makedirs(prefix_balanced_raw_train, exist_ok=True)\n",
    "\n",
    "# Only review_body\n",
    "df_balanced_train_raw[['is_positive_sentiment', 'review_body']].to_csv(balanced_raw_with_header_train_path, index=False, header=True)\n",
    "\n",
    "# All features\n",
    "#df_balanced_train_raw.to_csv(balanced_raw_with_header_train_path, index=False, header=True)\n"
   ]
  },
  {
   "cell_type": "markdown",
   "metadata": {},
   "source": [
    "## Upload Only S3 (Balanced, Train)\n",
    "We will use the test set later to verify."
   ]
  },
  {
   "cell_type": "code",
   "execution_count": null,
   "metadata": {},
   "outputs": [],
   "source": [
    "balanced_raw_with_header_train_s3_uri = sess.upload_data(path=balanced_raw_with_header_train_path, key_prefix=prefix_balanced_raw_train)\n",
    "\n",
    "print(balanced_raw_with_header_train_s3_uri)\n"
   ]
  },
  {
   "cell_type": "code",
   "execution_count": null,
   "metadata": {},
   "outputs": [],
   "source": [
    "!aws s3 ls $balanced_raw_with_header_train_s3_uri\n"
   ]
  },
  {
   "cell_type": "markdown",
   "metadata": {},
   "source": [
    "# Balance the Classes (Test-Split Only)"
   ]
  },
  {
   "cell_type": "code",
   "execution_count": null,
   "metadata": {},
   "outputs": [],
   "source": [
    "from sklearn.utils import resample\n",
    "\n",
    "is_negative_sentiment_unbalanced_raw_test_df = df_unbalanced_raw_test.query('is_positive_sentiment == 0')\n",
    "is_positive_sentiment_unbalanced_raw_test_df = df_unbalanced_raw_test.query('is_positive_sentiment == 1')\n",
    "\n",
    "# TODO:  Check which sentiment has the least number of samples\n",
    "#        We know we have more positive than negative sentiment samples in our case.\n",
    "\n",
    "is_positive_downsampled_raw_test_df = resample(is_positive_sentiment_unbalanced_raw_test_df,\n",
    "                                                replace = False,\n",
    "                                                n_samples = len(is_negative_sentiment_unbalanced_raw_test_df))\n",
    "\n",
    "df_balanced_test_raw = pd.concat([is_negative_sentiment_unbalanced_raw_test_df, is_positive_downsampled_raw_test_df])\n",
    "df_balanced_test_raw = df_balanced_test_raw.reset_index(drop=True)"
   ]
  },
  {
   "cell_type": "code",
   "execution_count": null,
   "metadata": {
    "scrolled": false
   },
   "outputs": [],
   "source": [
    "df_balanced_test_raw.head(5)"
   ]
  },
  {
   "cell_type": "code",
   "execution_count": null,
   "metadata": {
    "scrolled": true
   },
   "outputs": [],
   "source": [
    "import seaborn as sns\n",
    "\n",
    "sns.countplot(x='is_positive_sentiment', data=df_balanced_test_raw)\n"
   ]
  },
  {
   "cell_type": "markdown",
   "metadata": {},
   "source": [
    "## Write the data files locally (Balanced, Test)\n"
   ]
  },
  {
   "cell_type": "code",
   "execution_count": null,
   "metadata": {},
   "outputs": [],
   "source": [
    "prefix_balanced_test_raw = 'feature-store/amazon-reviews-autopilot/raw-labeled-split-balanced-header-test-csv'\n",
    "balanced_raw_with_header_test_path = './{}/data.csv'.format(prefix_balanced_test_raw)\n",
    "\n",
    "import os\n",
    "os.makedirs(prefix_balanced_test_raw, exist_ok=True)\n",
    "\n",
    "# Only review_body\n",
    "df_balanced_test_raw[['is_positive_sentiment', 'review_body']].to_csv(balanced_raw_with_header_test_path, index=False, header=True)\n",
    "\n",
    "# All\n",
    "#df_balanced_test_raw.to_csv(balanced_raw_with_header_test_path, index=False, header=True)\n"
   ]
  },
  {
   "cell_type": "markdown",
   "metadata": {},
   "source": [
    "## Upload Only S3 (Balanced, Test)\n",
    "We will use the test set later to verify."
   ]
  },
  {
   "cell_type": "code",
   "execution_count": null,
   "metadata": {},
   "outputs": [],
   "source": [
    "balanced_raw_with_header_test_s3_uri = sess.upload_data(path=balanced_raw_with_header_test_path, key_prefix=prefix_balanced_raw_test)\n",
    "\n",
    "print(balanced_raw_with_header_test_s3_uri)\n"
   ]
  },
  {
   "cell_type": "code",
   "execution_count": null,
   "metadata": {},
   "outputs": [],
   "source": [
    "!aws s3 ls $balanced_raw_with_header_test_s3_uri\n"
   ]
  },
  {
   "cell_type": "code",
   "execution_count": null,
   "metadata": {},
   "outputs": [],
   "source": [
    "!ls -R ./feature-store"
   ]
  },
  {
   "cell_type": "code",
   "execution_count": null,
   "metadata": {},
   "outputs": [],
   "source": []
  }
 ],
 "metadata": {
  "kernelspec": {
   "display_name": "conda_python3",
   "language": "python",
   "name": "conda_python3"
  },
  "language_info": {
   "codemirror_mode": {
    "name": "ipython",
    "version": 3
   },
   "file_extension": ".py",
   "mimetype": "text/x-python",
   "name": "python",
   "nbconvert_exporter": "python",
   "pygments_lexer": "ipython3",
   "version": "3.6.5"
  }
 },
 "nbformat": 4,
 "nbformat_minor": 4
}
