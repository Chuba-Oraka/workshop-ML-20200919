{
 "cells": [
  {
   "cell_type": "markdown",
   "metadata": {},
   "source": [
    "# Train a Model with SageMaker AutoPilot\n",
    "We will use AutoPilot to predict sentiment of customer reviews."
   ]
  },
  {
   "cell_type": "markdown",
   "metadata": {},
   "source": [
    "# Introduction"
   ]
  },
  {
   "cell_type": "markdown",
   "metadata": {},
   "source": [
    "Amazon SageMaker Autopilot is a service to perform automated machine learning (AutoML) on your datasets.  AutoPilot is available through the UI or AWS SDK.  In this notebook, we will use the AWS SDK to create and deploy a text processing and sentiment classification machine learning pipeline."
   ]
  },
  {
   "cell_type": "markdown",
   "metadata": {},
   "source": [
    "# Setup\n",
    "\n",
    "Let's start by specifying:\n",
    "\n",
    "* The S3 bucket and prefix to use to train our model.  _Note:  This should be in the same region as this notebook._\n",
    "* The IAM role of this notebook needs access to your data."
   ]
  },
  {
   "cell_type": "code",
   "execution_count": 1,
   "metadata": {},
   "outputs": [],
   "source": [
    "import boto3\n",
    "import sagemaker\n",
    "import pandas as pd\n",
    "\n",
    "sess   = sagemaker.Session()\n",
    "bucket = sess.default_bucket()\n",
    "role = sagemaker.get_execution_role()\n",
    "region = boto3.Session().region_name\n",
    "\n",
    "sm = boto3.Session().client(service_name='sagemaker', region_name=region)"
   ]
  },
  {
   "cell_type": "markdown",
   "metadata": {},
   "source": [
    "# Dataset"
   ]
  },
  {
   "cell_type": "code",
   "execution_count": 2,
   "metadata": {},
   "outputs": [
    {
     "name": "stdout",
     "output_type": "stream",
     "text": [
      "s3://sagemaker-us-east-1-835319576252/data/amazon_reviews_us_Digital_Software_v1_00_autopilot_header.csv\n"
     ]
    }
   ],
   "source": [
    "%store -r autopilot_train_s3_uri\n",
    "\n",
    "print(autopilot_train_s3_uri)"
   ]
  },
  {
   "cell_type": "code",
   "execution_count": 3,
   "metadata": {},
   "outputs": [
    {
     "name": "stdout",
     "output_type": "stream",
     "text": [
      "2020-03-27 20:57:49   15164605 amazon_reviews_us_Digital_Software_v1_00_autopilot_header.csv\r\n"
     ]
    }
   ],
   "source": [
    "!aws s3 ls $autopilot_train_s3_uri"
   ]
  },
  {
   "cell_type": "markdown",
   "metadata": {},
   "source": [
    "# Setup the S3 Location for the AutoPilot-Generated Assets \n",
    "This include Jupyter Notebooks (Analysis), Python Scripts (Feature Engineering), and Trained Models."
   ]
  },
  {
   "cell_type": "code",
   "execution_count": 4,
   "metadata": {},
   "outputs": [
    {
     "name": "stdout",
     "output_type": "stream",
     "text": [
      "s3://sagemaker-us-east-1-835319576252/models/autopilot\n"
     ]
    }
   ],
   "source": [
    "prefix_model_output = 'models/autopilot'\n",
    "\n",
    "autopilot_model_output_s3_uri = 's3://{}/{}'.format(bucket, prefix_model_output)\n",
    "\n",
    "print(autopilot_model_output_s3_uri)\n"
   ]
  },
  {
   "cell_type": "code",
   "execution_count": 5,
   "metadata": {},
   "outputs": [],
   "source": [
    "max_candidates = 3\n",
    "\n",
    "job_config = {\n",
    "    'CompletionCriteria': {\n",
    "      'MaxRuntimePerTrainingJobInSeconds': 600,\n",
    "      'MaxCandidates': max_candidates,\n",
    "      'MaxAutoMLJobRuntimeInSeconds': 3600\n",
    "    },\n",
    "}\n",
    "\n",
    "input_data_config = [{\n",
    "      'DataSource': {\n",
    "        'S3DataSource': {\n",
    "          'S3DataType': 'S3Prefix',\n",
    "          'S3Uri': '{}'.format(autopilot_train_s3_uri)\n",
    "        }\n",
    "      },\n",
    "      'TargetAttributeName': 'star_rating'\n",
    "    }\n",
    "]\n",
    "\n",
    "output_data_config = {\n",
    "    'S3OutputPath': '{}'.format(autopilot_model_output_s3_uri)\n",
    "}"
   ]
  },
  {
   "cell_type": "markdown",
   "metadata": {},
   "source": [
    "# Launch the SageMaker AutoPilot job\n",
    "\n",
    "We can now launch the job by calling the `create_auto_ml_job` API."
   ]
  },
  {
   "cell_type": "code",
   "execution_count": 6,
   "metadata": {},
   "outputs": [
    {
     "name": "stdout",
     "output_type": "stream",
     "text": [
      "AutoMLJobName: automl-dm-27-20-59-58\n"
     ]
    }
   ],
   "source": [
    "from time import gmtime, strftime, sleep\n",
    "timestamp_suffix = strftime('%d-%H-%M-%S', gmtime())\n",
    "\n",
    "auto_ml_job_name = 'automl-dm-' + timestamp_suffix\n",
    "print('AutoMLJobName: ' + auto_ml_job_name)"
   ]
  },
  {
   "cell_type": "markdown",
   "metadata": {},
   "source": [
    "_Note that we are not specifying the `ProblemType`.  AutoPilot will automatically detect if we're using regression or classification (binary or multi-class)._"
   ]
  },
  {
   "cell_type": "code",
   "execution_count": 7,
   "metadata": {},
   "outputs": [
    {
     "data": {
      "text/plain": [
       "{'AutoMLJobArn': 'arn:aws:sagemaker:us-east-1:835319576252:automl-job/automl-dm-27-20-59-58',\n",
       " 'ResponseMetadata': {'RequestId': '28dc1439-5b70-4c63-8bfd-9b524cc92df3',\n",
       "  'HTTPStatusCode': 200,\n",
       "  'HTTPHeaders': {'x-amzn-requestid': '28dc1439-5b70-4c63-8bfd-9b524cc92df3',\n",
       "   'content-type': 'application/x-amz-json-1.1',\n",
       "   'content-length': '92',\n",
       "   'date': 'Fri, 27 Mar 2020 20:59:59 GMT'},\n",
       "  'RetryAttempts': 0}}"
      ]
     },
     "execution_count": 7,
     "metadata": {},
     "output_type": "execute_result"
    }
   ],
   "source": [
    "sm.create_auto_ml_job(AutoMLJobName=auto_ml_job_name,\n",
    "                      InputDataConfig=input_data_config,\n",
    "                      OutputDataConfig=output_data_config,\n",
    "                      AutoMLJobConfig=job_config,\n",
    "#                      ProblemType=\"Classification\",\n",
    "                      RoleArn=role)"
   ]
  },
  {
   "cell_type": "markdown",
   "metadata": {},
   "source": [
    "# Tracking the progress of the AutoPilot job\n",
    "SageMaker AutoPilot job consists of the following high-level steps: \n",
    "* _Data Analysis_ where the data is summarized and analyzed to determine which feature engineering techniques, hyper-parameters, and models to explore.\n",
    "* _Feature Engineering_ where the data is scrubbed, balanced, combined, and split into train and validation\n",
    "* _Model Training and Tuning_ where the top performing features, hyper-parameters, and models are selected and trained."
   ]
  },
  {
   "cell_type": "markdown",
   "metadata": {},
   "source": [
    "# Analyzing Data"
   ]
  },
  {
   "cell_type": "code",
   "execution_count": 8,
   "metadata": {},
   "outputs": [
    {
     "name": "stdout",
     "output_type": "stream",
     "text": [
      "InProgress AnalyzingData\n",
      "InProgress AnalyzingData\n",
      "InProgress AnalyzingData\n",
      "InProgress AnalyzingData\n",
      "InProgress AnalyzingData\n",
      "InProgress AnalyzingData\n",
      "InProgress AnalyzingData\n",
      "InProgress AnalyzingData\n",
      "InProgress AnalyzingData\n",
      "InProgress AnalyzingData\n",
      "InProgress AnalyzingData\n",
      "InProgress AnalyzingData\n",
      "InProgress AnalyzingData\n",
      "InProgress AnalyzingData\n",
      "InProgress AnalyzingData\n",
      "InProgress AnalyzingData\n",
      "InProgress AnalyzingData\n",
      "InProgress AnalyzingData\n",
      "InProgress AnalyzingData\n",
      "InProgress AnalyzingData\n",
      "InProgress AnalyzingData\n",
      "InProgress AnalyzingData\n",
      "InProgress AnalyzingData\n",
      "InProgress AnalyzingData\n",
      "InProgress AnalyzingData\n",
      "InProgress FeatureEngineering\n",
      "Data analysis complete\n",
      "{'AutoMLJobName': 'automl-dm-27-20-59-58', 'AutoMLJobArn': 'arn:aws:sagemaker:us-east-1:835319576252:automl-job/automl-dm-27-20-59-58', 'InputDataConfig': [{'DataSource': {'S3DataSource': {'S3DataType': 'S3Prefix', 'S3Uri': 's3://sagemaker-us-east-1-835319576252/data/amazon_reviews_us_Digital_Software_v1_00_autopilot_header.csv'}}, 'TargetAttributeName': 'star_rating'}], 'OutputDataConfig': {'S3OutputPath': 's3://sagemaker-us-east-1-835319576252/models/autopilot'}, 'RoleArn': 'arn:aws:iam::835319576252:role/service-role/AmazonSageMaker-ExecutionRole-20191006T135881', 'AutoMLJobConfig': {'CompletionCriteria': {'MaxCandidates': 3, 'MaxRuntimePerTrainingJobInSeconds': 600, 'MaxAutoMLJobRuntimeInSeconds': 3600}}, 'CreationTime': datetime.datetime(2020, 3, 27, 20, 59, 59, 735000, tzinfo=tzlocal()), 'LastModifiedTime': datetime.datetime(2020, 3, 27, 21, 12, 31, 806000, tzinfo=tzlocal()), 'AutoMLJobStatus': 'InProgress', 'AutoMLJobSecondaryStatus': 'FeatureEngineering', 'GenerateCandidateDefinitionsOnly': False, 'AutoMLJobArtifacts': {'CandidateDefinitionNotebookLocation': 's3://sagemaker-us-east-1-835319576252/models/autopilot/automl-dm-27-20-59-58/sagemaker-automl-candidates/pr-1-5f96d18e2c9b47dc88e5da63ac5371cab2f4a568e4834d758f56285fff/notebooks/SageMakerAutopilotCandidateDefinitionNotebook.ipynb', 'DataExplorationNotebookLocation': 's3://sagemaker-us-east-1-835319576252/models/autopilot/automl-dm-27-20-59-58/sagemaker-automl-candidates/pr-1-5f96d18e2c9b47dc88e5da63ac5371cab2f4a568e4834d758f56285fff/notebooks/SageMakerAutopilotDataExplorationNotebook.ipynb'}, 'ResolvedAttributes': {'AutoMLJobObjective': {'MetricName': 'Accuracy'}, 'ProblemType': 'MulticlassClassification', 'CompletionCriteria': {'MaxCandidates': 3, 'MaxRuntimePerTrainingJobInSeconds': 600, 'MaxAutoMLJobRuntimeInSeconds': 3600}}, 'ResponseMetadata': {'RequestId': '8d20d59e-40bf-4411-85e9-fc72ea7bd8e2', 'HTTPStatusCode': 200, 'HTTPHeaders': {'x-amzn-requestid': '8d20d59e-40bf-4411-85e9-fc72ea7bd8e2', 'content-type': 'application/x-amz-json-1.1', 'content-length': '1666', 'date': 'Fri, 27 Mar 2020 21:12:36 GMT'}, 'RetryAttempts': 0}}\n"
     ]
    }
   ],
   "source": [
    "# Sleep for a bit to ensure the AutoML job above has time to start\n",
    "import time\n",
    "time.sleep(3)\n",
    "\n",
    "job = sm.describe_auto_ml_job(AutoMLJobName=auto_ml_job_name)\n",
    "job_status = job['AutoMLJobStatus']\n",
    "job_sec_status = job['AutoMLJobSecondaryStatus']\n",
    "\n",
    "if job_status not in ('Stopped', 'Failed'):\n",
    "    while job_status in ('InProgress') and job_sec_status in ('AnalyzingData'):\n",
    "        job = sm.describe_auto_ml_job(AutoMLJobName=auto_ml_job_name)\n",
    "        job_status = job['AutoMLJobStatus']\n",
    "        job_sec_status = job['AutoMLJobSecondaryStatus']\n",
    "        print(job_status, job_sec_status)\n",
    "        sleep(30)\n",
    "    print(\"Data analysis complete\")\n",
    "    \n",
    "print(job)"
   ]
  },
  {
   "cell_type": "code",
   "execution_count": 9,
   "metadata": {
    "scrolled": true
   },
   "outputs": [
    {
     "name": "stdout",
     "output_type": "stream",
     "text": [
      "{'AutoMLJobName': 'automl-dm-27-20-59-58', 'AutoMLJobArn': 'arn:aws:sagemaker:us-east-1:835319576252:automl-job/automl-dm-27-20-59-58', 'InputDataConfig': [{'DataSource': {'S3DataSource': {'S3DataType': 'S3Prefix', 'S3Uri': 's3://sagemaker-us-east-1-835319576252/data/amazon_reviews_us_Digital_Software_v1_00_autopilot_header.csv'}}, 'TargetAttributeName': 'star_rating'}], 'OutputDataConfig': {'S3OutputPath': 's3://sagemaker-us-east-1-835319576252/models/autopilot'}, 'RoleArn': 'arn:aws:iam::835319576252:role/service-role/AmazonSageMaker-ExecutionRole-20191006T135881', 'AutoMLJobConfig': {'CompletionCriteria': {'MaxCandidates': 3, 'MaxRuntimePerTrainingJobInSeconds': 600, 'MaxAutoMLJobRuntimeInSeconds': 3600}}, 'CreationTime': datetime.datetime(2020, 3, 27, 20, 59, 59, 735000, tzinfo=tzlocal()), 'LastModifiedTime': datetime.datetime(2020, 3, 27, 21, 12, 49, 733000, tzinfo=tzlocal()), 'AutoMLJobStatus': 'InProgress', 'AutoMLJobSecondaryStatus': 'FeatureEngineering', 'GenerateCandidateDefinitionsOnly': False, 'AutoMLJobArtifacts': {'CandidateDefinitionNotebookLocation': 's3://sagemaker-us-east-1-835319576252/models/autopilot/automl-dm-27-20-59-58/sagemaker-automl-candidates/pr-1-5f96d18e2c9b47dc88e5da63ac5371cab2f4a568e4834d758f56285fff/notebooks/SageMakerAutopilotCandidateDefinitionNotebook.ipynb', 'DataExplorationNotebookLocation': 's3://sagemaker-us-east-1-835319576252/models/autopilot/automl-dm-27-20-59-58/sagemaker-automl-candidates/pr-1-5f96d18e2c9b47dc88e5da63ac5371cab2f4a568e4834d758f56285fff/notebooks/SageMakerAutopilotDataExplorationNotebook.ipynb'}, 'ResolvedAttributes': {'AutoMLJobObjective': {'MetricName': 'Accuracy'}, 'ProblemType': 'MulticlassClassification', 'CompletionCriteria': {'MaxCandidates': 3, 'MaxRuntimePerTrainingJobInSeconds': 600, 'MaxAutoMLJobRuntimeInSeconds': 3600}}, 'ResponseMetadata': {'RequestId': 'bd30e5cd-8617-4494-bea1-4a8fd5e2e67f', 'HTTPStatusCode': 200, 'HTTPHeaders': {'x-amzn-requestid': 'bd30e5cd-8617-4494-bea1-4a8fd5e2e67f', 'content-type': 'application/x-amz-json-1.1', 'content-length': '1666', 'date': 'Fri, 27 Mar 2020 21:13:06 GMT'}, 'RetryAttempts': 0}}\n"
     ]
    }
   ],
   "source": [
    "job = sm.describe_auto_ml_job(AutoMLJobName=auto_ml_job_name)\n",
    "print(job)"
   ]
  },
  {
   "cell_type": "markdown",
   "metadata": {},
   "source": [
    "# Feature Engineering"
   ]
  },
  {
   "cell_type": "code",
   "execution_count": 10,
   "metadata": {},
   "outputs": [
    {
     "name": "stdout",
     "output_type": "stream",
     "text": [
      "InProgress\n",
      "FeatureEngineering\n",
      "InProgress FeatureEngineering\n",
      "InProgress FeatureEngineering\n",
      "InProgress FeatureEngineering\n",
      "InProgress FeatureEngineering\n",
      "InProgress FeatureEngineering\n",
      "InProgress FeatureEngineering\n",
      "InProgress FeatureEngineering\n",
      "InProgress FeatureEngineering\n",
      "InProgress FeatureEngineering\n",
      "InProgress FeatureEngineering\n",
      "InProgress FeatureEngineering\n",
      "InProgress FeatureEngineering\n",
      "InProgress FeatureEngineering\n",
      "InProgress FeatureEngineering\n",
      "InProgress FeatureEngineering\n",
      "InProgress ModelTuning\n",
      "Feature engineering complete\n",
      "{'AutoMLJobName': 'automl-dm-27-20-59-58', 'AutoMLJobArn': 'arn:aws:sagemaker:us-east-1:835319576252:automl-job/automl-dm-27-20-59-58', 'InputDataConfig': [{'DataSource': {'S3DataSource': {'S3DataType': 'S3Prefix', 'S3Uri': 's3://sagemaker-us-east-1-835319576252/data/amazon_reviews_us_Digital_Software_v1_00_autopilot_header.csv'}}, 'TargetAttributeName': 'star_rating'}], 'OutputDataConfig': {'S3OutputPath': 's3://sagemaker-us-east-1-835319576252/models/autopilot'}, 'RoleArn': 'arn:aws:iam::835319576252:role/service-role/AmazonSageMaker-ExecutionRole-20191006T135881', 'AutoMLJobConfig': {'CompletionCriteria': {'MaxCandidates': 3, 'MaxRuntimePerTrainingJobInSeconds': 600, 'MaxAutoMLJobRuntimeInSeconds': 3600}}, 'CreationTime': datetime.datetime(2020, 3, 27, 20, 59, 59, 735000, tzinfo=tzlocal()), 'LastModifiedTime': datetime.datetime(2020, 3, 27, 21, 20, 33, 394000, tzinfo=tzlocal()), 'AutoMLJobStatus': 'InProgress', 'AutoMLJobSecondaryStatus': 'ModelTuning', 'GenerateCandidateDefinitionsOnly': False, 'AutoMLJobArtifacts': {'CandidateDefinitionNotebookLocation': 's3://sagemaker-us-east-1-835319576252/models/autopilot/automl-dm-27-20-59-58/sagemaker-automl-candidates/pr-1-5f96d18e2c9b47dc88e5da63ac5371cab2f4a568e4834d758f56285fff/notebooks/SageMakerAutopilotCandidateDefinitionNotebook.ipynb', 'DataExplorationNotebookLocation': 's3://sagemaker-us-east-1-835319576252/models/autopilot/automl-dm-27-20-59-58/sagemaker-automl-candidates/pr-1-5f96d18e2c9b47dc88e5da63ac5371cab2f4a568e4834d758f56285fff/notebooks/SageMakerAutopilotDataExplorationNotebook.ipynb'}, 'ResolvedAttributes': {'AutoMLJobObjective': {'MetricName': 'Accuracy'}, 'ProblemType': 'MulticlassClassification', 'CompletionCriteria': {'MaxCandidates': 3, 'MaxRuntimePerTrainingJobInSeconds': 600, 'MaxAutoMLJobRuntimeInSeconds': 3600}}, 'ResponseMetadata': {'RequestId': 'c4884f55-9a2d-4335-96ad-fa1997e74003', 'HTTPStatusCode': 200, 'HTTPHeaders': {'x-amzn-requestid': 'c4884f55-9a2d-4335-96ad-fa1997e74003', 'content-type': 'application/x-amz-json-1.1', 'content-length': '1659', 'date': 'Fri, 27 Mar 2020 21:20:37 GMT'}, 'RetryAttempts': 0}}\n"
     ]
    }
   ],
   "source": [
    "job = sm.describe_auto_ml_job(AutoMLJobName=auto_ml_job_name)\n",
    "job_status = job['AutoMLJobStatus']\n",
    "job_sec_status = job['AutoMLJobSecondaryStatus']\n",
    "print(job_status)\n",
    "print(job_sec_status)\n",
    "if job_status not in ('Stopped', 'Failed'):\n",
    "    while job_status in ('InProgress') and job_sec_status in ('FeatureEngineering'):\n",
    "        job = sm.describe_auto_ml_job(AutoMLJobName=auto_ml_job_name)\n",
    "        job_status = job['AutoMLJobStatus']\n",
    "        job_sec_status = job['AutoMLJobSecondaryStatus']\n",
    "        print(job_status, job_sec_status)\n",
    "        sleep(30)\n",
    "    print(\"Feature engineering complete\")\n",
    "    \n",
    "print(job)"
   ]
  },
  {
   "cell_type": "markdown",
   "metadata": {},
   "source": [
    "# Model Training and Tuning"
   ]
  },
  {
   "cell_type": "code",
   "execution_count": 11,
   "metadata": {
    "scrolled": true
   },
   "outputs": [
    {
     "name": "stdout",
     "output_type": "stream",
     "text": [
      "InProgress\n",
      "ModelTuning\n",
      "InProgress ModelTuning\n",
      "InProgress ModelTuning\n",
      "InProgress ModelTuning\n",
      "InProgress ModelTuning\n",
      "InProgress ModelTuning\n",
      "InProgress ModelTuning\n",
      "InProgress ModelTuning\n",
      "InProgress ModelTuning\n",
      "InProgress ModelTuning\n",
      "InProgress ModelTuning\n",
      "Completed MaxCandidatesReached\n",
      "Model tuning complete\n",
      "{'AutoMLJobName': 'automl-dm-27-20-59-58', 'AutoMLJobArn': 'arn:aws:sagemaker:us-east-1:835319576252:automl-job/automl-dm-27-20-59-58', 'InputDataConfig': [{'DataSource': {'S3DataSource': {'S3DataType': 'S3Prefix', 'S3Uri': 's3://sagemaker-us-east-1-835319576252/data/amazon_reviews_us_Digital_Software_v1_00_autopilot_header.csv'}}, 'TargetAttributeName': 'star_rating'}], 'OutputDataConfig': {'S3OutputPath': 's3://sagemaker-us-east-1-835319576252/models/autopilot'}, 'RoleArn': 'arn:aws:iam::835319576252:role/service-role/AmazonSageMaker-ExecutionRole-20191006T135881', 'AutoMLJobConfig': {'CompletionCriteria': {'MaxCandidates': 3, 'MaxRuntimePerTrainingJobInSeconds': 600, 'MaxAutoMLJobRuntimeInSeconds': 3600}}, 'CreationTime': datetime.datetime(2020, 3, 27, 20, 59, 59, 735000, tzinfo=tzlocal()), 'EndTime': datetime.datetime(2020, 3, 27, 21, 25, 49, 509000, tzinfo=tzlocal()), 'LastModifiedTime': datetime.datetime(2020, 3, 27, 21, 25, 49, 546000, tzinfo=tzlocal()), 'BestCandidate': {'CandidateName': 'tuning-job-1-ac11765de5534ec18c-001-c3d46923', 'FinalAutoMLJobObjectiveMetric': {'MetricName': 'validation:accuracy', 'Value': 0.42328301072120667}, 'ObjectiveStatus': 'Succeeded', 'CandidateSteps': [{'CandidateStepType': 'AWS::SageMaker::ProcessingJob', 'CandidateStepArn': 'arn:aws:sagemaker:us-east-1:835319576252:processing-job/db-1-310fc4ef5ca1498884bee1fc995eea138dcc3532d26b4eb589aa132d1e', 'CandidateStepName': 'db-1-310fc4ef5ca1498884bee1fc995eea138dcc3532d26b4eb589aa132d1e'}, {'CandidateStepType': 'AWS::SageMaker::TrainingJob', 'CandidateStepArn': 'arn:aws:sagemaker:us-east-1:835319576252:training-job/automl-dm--dpp2-1-66594188d1bb4d6a95eea191fd95f1679453a4bb6f584', 'CandidateStepName': 'automl-dm--dpp2-1-66594188d1bb4d6a95eea191fd95f1679453a4bb6f584'}, {'CandidateStepType': 'AWS::SageMaker::TransformJob', 'CandidateStepArn': 'arn:aws:sagemaker:us-east-1:835319576252:transform-job/automl-dm--dpp2-rpb-1-8003e3da1d5848f39932f0d188c687ff31739445d', 'CandidateStepName': 'automl-dm--dpp2-rpb-1-8003e3da1d5848f39932f0d188c687ff31739445d'}, {'CandidateStepType': 'AWS::SageMaker::TrainingJob', 'CandidateStepArn': 'arn:aws:sagemaker:us-east-1:835319576252:training-job/tuning-job-1-ac11765de5534ec18c-001-c3d46923', 'CandidateStepName': 'tuning-job-1-ac11765de5534ec18c-001-c3d46923'}], 'CandidateStatus': 'Completed', 'InferenceContainers': [{'Image': '683313688378.dkr.ecr.us-east-1.amazonaws.com/sagemaker-sklearn-automl:0.1.0-cpu-py3', 'ModelDataUrl': 's3://sagemaker-us-east-1-835319576252/models/autopilot/automl-dm-27-20-59-58/data-processor-models/automl-dm--dpp2-1-66594188d1bb4d6a95eea191fd95f1679453a4bb6f584/output/model.tar.gz', 'Environment': {'AUTOML_SPARSE_ENCODE_RECORDIO_PROTOBUF': '1', 'AUTOML_TRANSFORM_MODE': 'feature-transform', 'SAGEMAKER_DEFAULT_INVOCATIONS_ACCEPT': 'application/x-recordio-protobuf', 'SAGEMAKER_PROGRAM': 'sagemaker_serve', 'SAGEMAKER_SUBMIT_DIRECTORY': '/opt/ml/model/sagemaker_serve.py'}}, {'Image': '683313688378.dkr.ecr.us-east-1.amazonaws.com/sagemaker-xgboost:0.90-1-cpu-py3', 'ModelDataUrl': 's3://sagemaker-us-east-1-835319576252/models/autopilot/automl-dm-27-20-59-58/tuning/automl-dm--dpp2-xgb/tuning-job-1-ac11765de5534ec18c-001-c3d46923/output/model.tar.gz', 'Environment': {'MAX_CONTENT_LENGTH': '20971520', 'SAGEMAKER_DEFAULT_INVOCATIONS_ACCEPT': 'text/csv'}}, {'Image': '683313688378.dkr.ecr.us-east-1.amazonaws.com/sagemaker-sklearn-automl:0.1.0-cpu-py3', 'ModelDataUrl': 's3://sagemaker-us-east-1-835319576252/models/autopilot/automl-dm-27-20-59-58/data-processor-models/automl-dm--dpp2-1-66594188d1bb4d6a95eea191fd95f1679453a4bb6f584/output/model.tar.gz', 'Environment': {'AUTOML_TRANSFORM_MODE': 'inverse-label-transform', 'SAGEMAKER_DEFAULT_INVOCATIONS_ACCEPT': 'text/csv', 'SAGEMAKER_PROGRAM': 'sagemaker_serve', 'SAGEMAKER_SUBMIT_DIRECTORY': '/opt/ml/model/sagemaker_serve.py'}}], 'CreationTime': datetime.datetime(2020, 3, 27, 21, 22, 50, tzinfo=tzlocal()), 'EndTime': datetime.datetime(2020, 3, 27, 21, 23, 45, tzinfo=tzlocal()), 'LastModifiedTime': datetime.datetime(2020, 3, 27, 21, 25, 48, 655000, tzinfo=tzlocal())}, 'AutoMLJobStatus': 'Completed', 'AutoMLJobSecondaryStatus': 'MaxCandidatesReached', 'GenerateCandidateDefinitionsOnly': False, 'AutoMLJobArtifacts': {'CandidateDefinitionNotebookLocation': 's3://sagemaker-us-east-1-835319576252/models/autopilot/automl-dm-27-20-59-58/sagemaker-automl-candidates/pr-1-5f96d18e2c9b47dc88e5da63ac5371cab2f4a568e4834d758f56285fff/notebooks/SageMakerAutopilotCandidateDefinitionNotebook.ipynb', 'DataExplorationNotebookLocation': 's3://sagemaker-us-east-1-835319576252/models/autopilot/automl-dm-27-20-59-58/sagemaker-automl-candidates/pr-1-5f96d18e2c9b47dc88e5da63ac5371cab2f4a568e4834d758f56285fff/notebooks/SageMakerAutopilotDataExplorationNotebook.ipynb'}, 'ResolvedAttributes': {'AutoMLJobObjective': {'MetricName': 'Accuracy'}, 'ProblemType': 'MulticlassClassification', 'CompletionCriteria': {'MaxCandidates': 3, 'MaxRuntimePerTrainingJobInSeconds': 600, 'MaxAutoMLJobRuntimeInSeconds': 3600}}, 'ResponseMetadata': {'RequestId': 'aa89c0f9-662d-4c2c-93df-46d9c0c07c30', 'HTTPStatusCode': 200, 'HTTPHeaders': {'x-amzn-requestid': 'aa89c0f9-662d-4c2c-93df-46d9c0c07c30', 'content-type': 'application/x-amz-json-1.1', 'content-length': '4603', 'date': 'Fri, 27 Mar 2020 21:26:08 GMT'}, 'RetryAttempts': 0}}\n"
     ]
    }
   ],
   "source": [
    "job = sm.describe_auto_ml_job(AutoMLJobName=auto_ml_job_name)\n",
    "job_status = job['AutoMLJobStatus']\n",
    "job_sec_status = job['AutoMLJobSecondaryStatus']\n",
    "print(job_status)\n",
    "print(job_sec_status)\n",
    "if job_status not in ('Stopped', 'Failed'):\n",
    "    while job_status in ('InProgress') and job_sec_status in ('ModelTuning'):\n",
    "        job = sm.describe_auto_ml_job(AutoMLJobName=auto_ml_job_name)\n",
    "        job_status = job['AutoMLJobStatus']\n",
    "        job_sec_status = job['AutoMLJobSecondaryStatus']\n",
    "        print(job_status, job_sec_status)\n",
    "        sleep(30)\n",
    "    print(\"Model tuning complete\")\n",
    "    \n",
    "print(job)"
   ]
  },
  {
   "cell_type": "markdown",
   "metadata": {},
   "source": [
    "# Wait Until All Jobs are Done Above Before Proceeding"
   ]
  },
  {
   "cell_type": "markdown",
   "metadata": {},
   "source": [
    "# View Generated Notebooks\n",
    "Once data analysis is complete, SageMaker AutoPilot generates two notebooks: \n",
    "* Data exploration,\n",
    "* Candidate definition."
   ]
  },
  {
   "cell_type": "markdown",
   "metadata": {},
   "source": [
    "## Copy the Generated Notebooks Locally"
   ]
  },
  {
   "cell_type": "code",
   "execution_count": 12,
   "metadata": {
    "scrolled": true
   },
   "outputs": [
    {
     "data": {
      "text/plain": [
       "'s3://sagemaker-us-east-1-835319576252/models/autopilot/automl-dm-27-20-59-58/sagemaker-automl-candidates/pr-1-5f96d18e2c9b47dc88e5da63ac5371cab2f4a568e4834d758f56285fff'"
      ]
     },
     "execution_count": 12,
     "metadata": {},
     "output_type": "execute_result"
    }
   ],
   "source": [
    "generated_resources = job['AutoMLJobArtifacts']['DataExplorationNotebookLocation'].rstrip('notebooks/SageMakerAutopilotDataExplorationNotebook.ipynb')\n",
    "generated_resources"
   ]
  },
  {
   "cell_type": "code",
   "execution_count": 13,
   "metadata": {
    "scrolled": false
   },
   "outputs": [
    {
     "name": "stdout",
     "output_type": "stream",
     "text": [
      "download: s3://sagemaker-us-east-1-835319576252/models/autopilot/automl-dm-27-20-59-58/sagemaker-automl-candidates/pr-1-5f96d18e2c9b47dc88e5da63ac5371cab2f4a568e4834d758f56285fff/generated_module/MANIFEST.in to generated_module/MANIFEST.in\n",
      "download: s3://sagemaker-us-east-1-835319576252/models/autopilot/automl-dm-27-20-59-58/sagemaker-automl-candidates/pr-1-5f96d18e2c9b47dc88e5da63ac5371cab2f4a568e4834d758f56285fff/generated_module/candidate_data_processors/sagemaker_serve.py to generated_module/candidate_data_processors/sagemaker_serve.py\n",
      "download: s3://sagemaker-us-east-1-835319576252/models/autopilot/automl-dm-27-20-59-58/sagemaker-automl-candidates/pr-1-5f96d18e2c9b47dc88e5da63ac5371cab2f4a568e4834d758f56285fff/generated_module/candidate_data_processors/dpp0.py to generated_module/candidate_data_processors/dpp0.py\n",
      "download: s3://sagemaker-us-east-1-835319576252/models/autopilot/automl-dm-27-20-59-58/sagemaker-automl-candidates/pr-1-5f96d18e2c9b47dc88e5da63ac5371cab2f4a568e4834d758f56285fff/generated_module/candidate_data_processors/dpp2.py to generated_module/candidate_data_processors/dpp2.py\n",
      "download: s3://sagemaker-us-east-1-835319576252/models/autopilot/automl-dm-27-20-59-58/sagemaker-automl-candidates/pr-1-5f96d18e2c9b47dc88e5da63ac5371cab2f4a568e4834d758f56285fff/generated_module/candidate_data_processors/dpp1.py to generated_module/candidate_data_processors/dpp1.py\n",
      "download: s3://sagemaker-us-east-1-835319576252/models/autopilot/automl-dm-27-20-59-58/sagemaker-automl-candidates/pr-1-5f96d18e2c9b47dc88e5da63ac5371cab2f4a568e4834d758f56285fff/notebooks/sagemaker_automl/__init__.py to notebooks/sagemaker_automl/__init__.py\n",
      "download: s3://sagemaker-us-east-1-835319576252/models/autopilot/automl-dm-27-20-59-58/sagemaker-automl-candidates/pr-1-5f96d18e2c9b47dc88e5da63ac5371cab2f4a568e4834d758f56285fff/generated_module/candidate_data_processors/trainer.py to generated_module/candidate_data_processors/trainer.py\n",
      "download: s3://sagemaker-us-east-1-835319576252/models/autopilot/automl-dm-27-20-59-58/sagemaker-automl-candidates/pr-1-5f96d18e2c9b47dc88e5da63ac5371cab2f4a568e4834d758f56285fff/generated_module/README.md to generated_module/README.md\n",
      "download: s3://sagemaker-us-east-1-835319576252/models/autopilot/automl-dm-27-20-59-58/sagemaker-automl-candidates/pr-1-5f96d18e2c9b47dc88e5da63ac5371cab2f4a568e4834d758f56285fff/notebooks/SageMakerAutopilotCandidateDefinitionNotebook.ipynb to notebooks/SageMakerAutopilotCandidateDefinitionNotebook.ipynb\n",
      "download: s3://sagemaker-us-east-1-835319576252/models/autopilot/automl-dm-27-20-59-58/sagemaker-automl-candidates/pr-1-5f96d18e2c9b47dc88e5da63ac5371cab2f4a568e4834d758f56285fff/notebooks/sagemaker_automl/steps.py to notebooks/sagemaker_automl/steps.py\n",
      "download: s3://sagemaker-us-east-1-835319576252/models/autopilot/automl-dm-27-20-59-58/sagemaker-automl-candidates/pr-1-5f96d18e2c9b47dc88e5da63ac5371cab2f4a568e4834d758f56285fff/notebooks/sagemaker_automl/common.py to notebooks/sagemaker_automl/common.py\n",
      "download: s3://sagemaker-us-east-1-835319576252/models/autopilot/automl-dm-27-20-59-58/sagemaker-automl-candidates/pr-1-5f96d18e2c9b47dc88e5da63ac5371cab2f4a568e4834d758f56285fff/notebooks/sagemaker_automl/config.py to notebooks/sagemaker_automl/config.py\n",
      "download: s3://sagemaker-us-east-1-835319576252/models/autopilot/automl-dm-27-20-59-58/sagemaker-automl-candidates/pr-1-5f96d18e2c9b47dc88e5da63ac5371cab2f4a568e4834d758f56285fff/notebooks/sagemaker_automl/README.md to notebooks/sagemaker_automl/README.md\n",
      "download: s3://sagemaker-us-east-1-835319576252/models/autopilot/automl-dm-27-20-59-58/sagemaker-automl-candidates/pr-1-5f96d18e2c9b47dc88e5da63ac5371cab2f4a568e4834d758f56285fff/notebooks/sagemaker_automl/interactive_runner.py to notebooks/sagemaker_automl/interactive_runner.py\n",
      "download: s3://sagemaker-us-east-1-835319576252/models/autopilot/automl-dm-27-20-59-58/sagemaker-automl-candidates/pr-1-5f96d18e2c9b47dc88e5da63ac5371cab2f4a568e4834d758f56285fff/notebooks/SageMakerAutopilotDataExplorationNotebook.ipynb to notebooks/SageMakerAutopilotDataExplorationNotebook.ipynb\n",
      "download: s3://sagemaker-us-east-1-835319576252/models/autopilot/automl-dm-27-20-59-58/sagemaker-automl-candidates/pr-1-5f96d18e2c9b47dc88e5da63ac5371cab2f4a568e4834d758f56285fff/notebooks/sagemaker_automl/local_candidate.py to notebooks/sagemaker_automl/local_candidate.py\n",
      "download: s3://sagemaker-us-east-1-835319576252/models/autopilot/automl-dm-27-20-59-58/sagemaker-automl-candidates/pr-1-5f96d18e2c9b47dc88e5da63ac5371cab2f4a568e4834d758f56285fff/generated_module/setup.py to generated_module/setup.py\n"
     ]
    }
   ],
   "source": [
    "!aws s3 cp --recursive $generated_resources ."
   ]
  },
  {
   "cell_type": "markdown",
   "metadata": {},
   "source": [
    "## In the file view, open the following folders:\n",
    "```\n",
    "notebooks/\n",
    "generated_module/\n",
    "```\n",
    "\n",
    "Lots of useful information ^^ in these folders ^^"
   ]
  },
  {
   "cell_type": "markdown",
   "metadata": {},
   "source": [
    "# Viewing All Candidates\n",
    "Once model tuning is complete, you can view all the candidates (pipeline evaluations with different hyperparameter combinations) that were explored by AutoML and sort them by their final performance metric."
   ]
  },
  {
   "cell_type": "code",
   "execution_count": 14,
   "metadata": {},
   "outputs": [
    {
     "name": "stdout",
     "output_type": "stream",
     "text": [
      "0  tuning-job-1-ac11765de5534ec18c-001-c3d46923  0.42328301072120667\n",
      "1  tuning-job-1-ac11765de5534ec18c-002-143f8d7d  0.4216870069503784\n",
      "2  tuning-job-1-ac11765de5534ec18c-003-a59c9707  0.36057499051094055\n"
     ]
    }
   ],
   "source": [
    "candidates = sm.list_candidates_for_auto_ml_job(AutoMLJobName=auto_ml_job_name, \n",
    "                                                SortBy='FinalObjectiveMetricValue')['Candidates']\n",
    "for index, candidate in enumerate(candidates):\n",
    "    print(str(index) + \"  \" \n",
    "        + candidate['CandidateName'] + \"  \" \n",
    "        + str(candidate['FinalAutoMLJobObjectiveMetric']['Value']))"
   ]
  },
  {
   "cell_type": "markdown",
   "metadata": {},
   "source": [
    "# Inspect Trials using Experiments API\n",
    "SageMaker AutoPilot automatically creates a new experiment, and pushes information for each trial. "
   ]
  },
  {
   "cell_type": "code",
   "execution_count": 15,
   "metadata": {},
   "outputs": [
    {
     "data": {
      "text/html": [
       "<div>\n",
       "<style scoped>\n",
       "    .dataframe tbody tr th:only-of-type {\n",
       "        vertical-align: middle;\n",
       "    }\n",
       "\n",
       "    .dataframe tbody tr th {\n",
       "        vertical-align: top;\n",
       "    }\n",
       "\n",
       "    .dataframe thead th {\n",
       "        text-align: right;\n",
       "    }\n",
       "</style>\n",
       "<table border=\"1\" class=\"dataframe\">\n",
       "  <thead>\n",
       "    <tr style=\"text-align: right;\">\n",
       "      <th></th>\n",
       "      <th>TrialComponentName</th>\n",
       "      <th>DisplayName</th>\n",
       "      <th>SourceArn</th>\n",
       "      <th>SageMaker.ImageUri</th>\n",
       "      <th>SageMaker.InstanceCount</th>\n",
       "      <th>SageMaker.InstanceType</th>\n",
       "      <th>SageMaker.VolumeSizeInGB</th>\n",
       "      <th>_tuning_objective_metric</th>\n",
       "      <th>alpha</th>\n",
       "      <th>colsample_bytree</th>\n",
       "      <th>...</th>\n",
       "      <th>train:accuracy - Count</th>\n",
       "      <th>SageMaker.ModelName</th>\n",
       "      <th>SageMaker.ModelPrimary.DataUrl</th>\n",
       "      <th>SageMaker.ModelPrimary.Image</th>\n",
       "      <th>processor_module</th>\n",
       "      <th>sagemaker_program</th>\n",
       "      <th>sagemaker_submit_directory</th>\n",
       "      <th>input_channel_mode</th>\n",
       "      <th>job_name</th>\n",
       "      <th>label_col</th>\n",
       "    </tr>\n",
       "  </thead>\n",
       "  <tbody>\n",
       "    <tr>\n",
       "      <th>0</th>\n",
       "      <td>tuning-job-1-ac11765de5534ec18c-002-143f8d7d-a...</td>\n",
       "      <td>tuning-job-1-ac11765de5534ec18c-002-143f8d7d-a...</td>\n",
       "      <td>arn:aws:sagemaker:us-east-1:835319576252:train...</td>\n",
       "      <td>683313688378.dkr.ecr.us-east-1.amazonaws.com/s...</td>\n",
       "      <td>1.0</td>\n",
       "      <td>ml.m5.4xlarge</td>\n",
       "      <td>50.0</td>\n",
       "      <td>validation:accuracy</td>\n",
       "      <td>0.019082</td>\n",
       "      <td>0.794389</td>\n",
       "      <td>...</td>\n",
       "      <td>88.0</td>\n",
       "      <td>NaN</td>\n",
       "      <td>NaN</td>\n",
       "      <td>NaN</td>\n",
       "      <td>NaN</td>\n",
       "      <td>NaN</td>\n",
       "      <td>NaN</td>\n",
       "      <td>NaN</td>\n",
       "      <td>NaN</td>\n",
       "      <td>NaN</td>\n",
       "    </tr>\n",
       "    <tr>\n",
       "      <th>1</th>\n",
       "      <td>tuning-job-1-ac11765de5534ec18c-003-a59c9707-a...</td>\n",
       "      <td>tuning-job-1-ac11765de5534ec18c-003-a59c9707-a...</td>\n",
       "      <td>arn:aws:sagemaker:us-east-1:835319576252:train...</td>\n",
       "      <td>683313688378.dkr.ecr.us-east-1.amazonaws.com/s...</td>\n",
       "      <td>1.0</td>\n",
       "      <td>ml.m5.4xlarge</td>\n",
       "      <td>50.0</td>\n",
       "      <td>validation:accuracy</td>\n",
       "      <td>0.000008</td>\n",
       "      <td>0.329024</td>\n",
       "      <td>...</td>\n",
       "      <td>2.0</td>\n",
       "      <td>NaN</td>\n",
       "      <td>NaN</td>\n",
       "      <td>NaN</td>\n",
       "      <td>NaN</td>\n",
       "      <td>NaN</td>\n",
       "      <td>NaN</td>\n",
       "      <td>NaN</td>\n",
       "      <td>NaN</td>\n",
       "      <td>NaN</td>\n",
       "    </tr>\n",
       "    <tr>\n",
       "      <th>2</th>\n",
       "      <td>tuning-job-1-ac11765de5534ec18c-001-c3d46923-a...</td>\n",
       "      <td>tuning-job-1-ac11765de5534ec18c-001-c3d46923-a...</td>\n",
       "      <td>arn:aws:sagemaker:us-east-1:835319576252:train...</td>\n",
       "      <td>683313688378.dkr.ecr.us-east-1.amazonaws.com/s...</td>\n",
       "      <td>1.0</td>\n",
       "      <td>ml.m5.4xlarge</td>\n",
       "      <td>50.0</td>\n",
       "      <td>validation:accuracy</td>\n",
       "      <td>0.001994</td>\n",
       "      <td>0.571735</td>\n",
       "      <td>...</td>\n",
       "      <td>20.0</td>\n",
       "      <td>NaN</td>\n",
       "      <td>NaN</td>\n",
       "      <td>NaN</td>\n",
       "      <td>NaN</td>\n",
       "      <td>NaN</td>\n",
       "      <td>NaN</td>\n",
       "      <td>NaN</td>\n",
       "      <td>NaN</td>\n",
       "      <td>NaN</td>\n",
       "    </tr>\n",
       "    <tr>\n",
       "      <th>3</th>\n",
       "      <td>automl-dm--dpp2-rpb-1-8003e3da1d5848f39932f0d1...</td>\n",
       "      <td>automl-dm--dpp2-rpb-1-8003e3da1d5848f39932f0d1...</td>\n",
       "      <td>arn:aws:sagemaker:us-east-1:835319576252:trans...</td>\n",
       "      <td>NaN</td>\n",
       "      <td>1.0</td>\n",
       "      <td>ml.m5.4xlarge</td>\n",
       "      <td>NaN</td>\n",
       "      <td>NaN</td>\n",
       "      <td>NaN</td>\n",
       "      <td>NaN</td>\n",
       "      <td>...</td>\n",
       "      <td>NaN</td>\n",
       "      <td>automl-dm-27-20-59-58-automl-dm--dpp2-model-3e...</td>\n",
       "      <td>s3://sagemaker-us-east-1-835319576252/models/a...</td>\n",
       "      <td>683313688378.dkr.ecr.us-east-1.amazonaws.com/s...</td>\n",
       "      <td>NaN</td>\n",
       "      <td>NaN</td>\n",
       "      <td>NaN</td>\n",
       "      <td>NaN</td>\n",
       "      <td>NaN</td>\n",
       "      <td>NaN</td>\n",
       "    </tr>\n",
       "    <tr>\n",
       "      <th>4</th>\n",
       "      <td>automl-dm--dpp2-1-66594188d1bb4d6a95eea191fd95...</td>\n",
       "      <td>automl-dm--dpp2-1-66594188d1bb4d6a95eea191fd95...</td>\n",
       "      <td>arn:aws:sagemaker:us-east-1:835319576252:train...</td>\n",
       "      <td>683313688378.dkr.ecr.us-east-1.amazonaws.com/s...</td>\n",
       "      <td>1.0</td>\n",
       "      <td>ml.m5.4xlarge</td>\n",
       "      <td>50.0</td>\n",
       "      <td>NaN</td>\n",
       "      <td>NaN</td>\n",
       "      <td>NaN</td>\n",
       "      <td>...</td>\n",
       "      <td>NaN</td>\n",
       "      <td>NaN</td>\n",
       "      <td>NaN</td>\n",
       "      <td>NaN</td>\n",
       "      <td>candidate_data_processors.dpp2</td>\n",
       "      <td>candidate_data_processors.trainer</td>\n",
       "      <td>/opt/ml/input/data/code</td>\n",
       "      <td>NaN</td>\n",
       "      <td>NaN</td>\n",
       "      <td>NaN</td>\n",
       "    </tr>\n",
       "    <tr>\n",
       "      <th>5</th>\n",
       "      <td>db-1-310fc4ef5ca1498884bee1fc995eea138dcc3532d...</td>\n",
       "      <td>db-1-310fc4ef5ca1498884bee1fc995eea138dcc3532d...</td>\n",
       "      <td>arn:aws:sagemaker:us-east-1:835319576252:proce...</td>\n",
       "      <td>NaN</td>\n",
       "      <td>1.0</td>\n",
       "      <td>ml.m5.2xlarge</td>\n",
       "      <td>250.0</td>\n",
       "      <td>NaN</td>\n",
       "      <td>NaN</td>\n",
       "      <td>NaN</td>\n",
       "      <td>...</td>\n",
       "      <td>NaN</td>\n",
       "      <td>NaN</td>\n",
       "      <td>NaN</td>\n",
       "      <td>NaN</td>\n",
       "      <td>NaN</td>\n",
       "      <td>NaN</td>\n",
       "      <td>NaN</td>\n",
       "      <td>Pipe</td>\n",
       "      <td>automl-dm-27-20-59-58</td>\n",
       "      <td>star_rating</td>\n",
       "    </tr>\n",
       "  </tbody>\n",
       "</table>\n",
       "<p>6 rows × 58 columns</p>\n",
       "</div>"
      ],
      "text/plain": [
       "                                  TrialComponentName  \\\n",
       "0  tuning-job-1-ac11765de5534ec18c-002-143f8d7d-a...   \n",
       "1  tuning-job-1-ac11765de5534ec18c-003-a59c9707-a...   \n",
       "2  tuning-job-1-ac11765de5534ec18c-001-c3d46923-a...   \n",
       "3  automl-dm--dpp2-rpb-1-8003e3da1d5848f39932f0d1...   \n",
       "4  automl-dm--dpp2-1-66594188d1bb4d6a95eea191fd95...   \n",
       "5  db-1-310fc4ef5ca1498884bee1fc995eea138dcc3532d...   \n",
       "\n",
       "                                         DisplayName  \\\n",
       "0  tuning-job-1-ac11765de5534ec18c-002-143f8d7d-a...   \n",
       "1  tuning-job-1-ac11765de5534ec18c-003-a59c9707-a...   \n",
       "2  tuning-job-1-ac11765de5534ec18c-001-c3d46923-a...   \n",
       "3  automl-dm--dpp2-rpb-1-8003e3da1d5848f39932f0d1...   \n",
       "4  automl-dm--dpp2-1-66594188d1bb4d6a95eea191fd95...   \n",
       "5  db-1-310fc4ef5ca1498884bee1fc995eea138dcc3532d...   \n",
       "\n",
       "                                           SourceArn  \\\n",
       "0  arn:aws:sagemaker:us-east-1:835319576252:train...   \n",
       "1  arn:aws:sagemaker:us-east-1:835319576252:train...   \n",
       "2  arn:aws:sagemaker:us-east-1:835319576252:train...   \n",
       "3  arn:aws:sagemaker:us-east-1:835319576252:trans...   \n",
       "4  arn:aws:sagemaker:us-east-1:835319576252:train...   \n",
       "5  arn:aws:sagemaker:us-east-1:835319576252:proce...   \n",
       "\n",
       "                                  SageMaker.ImageUri  SageMaker.InstanceCount  \\\n",
       "0  683313688378.dkr.ecr.us-east-1.amazonaws.com/s...                      1.0   \n",
       "1  683313688378.dkr.ecr.us-east-1.amazonaws.com/s...                      1.0   \n",
       "2  683313688378.dkr.ecr.us-east-1.amazonaws.com/s...                      1.0   \n",
       "3                                                NaN                      1.0   \n",
       "4  683313688378.dkr.ecr.us-east-1.amazonaws.com/s...                      1.0   \n",
       "5                                                NaN                      1.0   \n",
       "\n",
       "  SageMaker.InstanceType  SageMaker.VolumeSizeInGB _tuning_objective_metric  \\\n",
       "0          ml.m5.4xlarge                      50.0      validation:accuracy   \n",
       "1          ml.m5.4xlarge                      50.0      validation:accuracy   \n",
       "2          ml.m5.4xlarge                      50.0      validation:accuracy   \n",
       "3          ml.m5.4xlarge                       NaN                      NaN   \n",
       "4          ml.m5.4xlarge                      50.0                      NaN   \n",
       "5          ml.m5.2xlarge                     250.0                      NaN   \n",
       "\n",
       "      alpha  colsample_bytree  ...  train:accuracy - Count  \\\n",
       "0  0.019082          0.794389  ...                    88.0   \n",
       "1  0.000008          0.329024  ...                     2.0   \n",
       "2  0.001994          0.571735  ...                    20.0   \n",
       "3       NaN               NaN  ...                     NaN   \n",
       "4       NaN               NaN  ...                     NaN   \n",
       "5       NaN               NaN  ...                     NaN   \n",
       "\n",
       "                                 SageMaker.ModelName  \\\n",
       "0                                                NaN   \n",
       "1                                                NaN   \n",
       "2                                                NaN   \n",
       "3  automl-dm-27-20-59-58-automl-dm--dpp2-model-3e...   \n",
       "4                                                NaN   \n",
       "5                                                NaN   \n",
       "\n",
       "                      SageMaker.ModelPrimary.DataUrl  \\\n",
       "0                                                NaN   \n",
       "1                                                NaN   \n",
       "2                                                NaN   \n",
       "3  s3://sagemaker-us-east-1-835319576252/models/a...   \n",
       "4                                                NaN   \n",
       "5                                                NaN   \n",
       "\n",
       "                        SageMaker.ModelPrimary.Image  \\\n",
       "0                                                NaN   \n",
       "1                                                NaN   \n",
       "2                                                NaN   \n",
       "3  683313688378.dkr.ecr.us-east-1.amazonaws.com/s...   \n",
       "4                                                NaN   \n",
       "5                                                NaN   \n",
       "\n",
       "                 processor_module                  sagemaker_program  \\\n",
       "0                             NaN                                NaN   \n",
       "1                             NaN                                NaN   \n",
       "2                             NaN                                NaN   \n",
       "3                             NaN                                NaN   \n",
       "4  candidate_data_processors.dpp2  candidate_data_processors.trainer   \n",
       "5                             NaN                                NaN   \n",
       "\n",
       "   sagemaker_submit_directory input_channel_mode               job_name  \\\n",
       "0                         NaN                NaN                    NaN   \n",
       "1                         NaN                NaN                    NaN   \n",
       "2                         NaN                NaN                    NaN   \n",
       "3                         NaN                NaN                    NaN   \n",
       "4     /opt/ml/input/data/code                NaN                    NaN   \n",
       "5                         NaN               Pipe  automl-dm-27-20-59-58   \n",
       "\n",
       "     label_col  \n",
       "0          NaN  \n",
       "1          NaN  \n",
       "2          NaN  \n",
       "3          NaN  \n",
       "4          NaN  \n",
       "5  star_rating  \n",
       "\n",
       "[6 rows x 58 columns]"
      ]
     },
     "execution_count": 15,
     "metadata": {},
     "output_type": "execute_result"
    }
   ],
   "source": [
    "from sagemaker.analytics import ExperimentAnalytics, TrainingJobAnalytics\n",
    "\n",
    "exp = ExperimentAnalytics(\n",
    "    sagemaker_session=sess, \n",
    "    experiment_name=auto_ml_job_name + '-aws-auto-ml-job',\n",
    ")\n",
    "\n",
    "df = exp.dataframe()\n",
    "df"
   ]
  },
  {
   "cell_type": "markdown",
   "metadata": {},
   "source": [
    "# Explore the Best Candidate\n",
    "Now that we have successfully completed the AutoML job on our dataset and visualized the trials, we can create a model from any of the trials with a single API call and then deploy that model for online or batch prediction using [Inference Pipelines](https://docs.aws.amazon.com/sagemaker/latest/dg/inference-pipelines.html). For this notebook, we deploy only the best performing trial for inference."
   ]
  },
  {
   "cell_type": "markdown",
   "metadata": {},
   "source": [
    "The best candidate is the one we're really interested in."
   ]
  },
  {
   "cell_type": "code",
   "execution_count": 16,
   "metadata": {},
   "outputs": [
    {
     "name": "stdout",
     "output_type": "stream",
     "text": [
      "Candidate name: tuning-job-1-ac11765de5534ec18c-001-c3d46923\n",
      "Metric name: validation:accuracy\n",
      "Metric value: 0.42328301072120667\n"
     ]
    }
   ],
   "source": [
    "best_candidate = sm.describe_auto_ml_job(AutoMLJobName=auto_ml_job_name)['BestCandidate']\n",
    "best_candidate_identifier = best_candidate['CandidateName']\n",
    "\n",
    "print(\"Candidate name: \" + best_candidate_identifier)\n",
    "print(\"Metric name: \" + best_candidate['FinalAutoMLJobObjectiveMetric']['MetricName'])\n",
    "print(\"Metric value: \" + str(best_candidate['FinalAutoMLJobObjectiveMetric']['Value']))"
   ]
  },
  {
   "cell_type": "code",
   "execution_count": 17,
   "metadata": {},
   "outputs": [
    {
     "data": {
      "text/plain": [
       "{'CandidateName': 'tuning-job-1-ac11765de5534ec18c-001-c3d46923',\n",
       " 'FinalAutoMLJobObjectiveMetric': {'MetricName': 'validation:accuracy',\n",
       "  'Value': 0.42328301072120667},\n",
       " 'ObjectiveStatus': 'Succeeded',\n",
       " 'CandidateSteps': [{'CandidateStepType': 'AWS::SageMaker::ProcessingJob',\n",
       "   'CandidateStepArn': 'arn:aws:sagemaker:us-east-1:835319576252:processing-job/db-1-310fc4ef5ca1498884bee1fc995eea138dcc3532d26b4eb589aa132d1e',\n",
       "   'CandidateStepName': 'db-1-310fc4ef5ca1498884bee1fc995eea138dcc3532d26b4eb589aa132d1e'},\n",
       "  {'CandidateStepType': 'AWS::SageMaker::TrainingJob',\n",
       "   'CandidateStepArn': 'arn:aws:sagemaker:us-east-1:835319576252:training-job/automl-dm--dpp2-1-66594188d1bb4d6a95eea191fd95f1679453a4bb6f584',\n",
       "   'CandidateStepName': 'automl-dm--dpp2-1-66594188d1bb4d6a95eea191fd95f1679453a4bb6f584'},\n",
       "  {'CandidateStepType': 'AWS::SageMaker::TransformJob',\n",
       "   'CandidateStepArn': 'arn:aws:sagemaker:us-east-1:835319576252:transform-job/automl-dm--dpp2-rpb-1-8003e3da1d5848f39932f0d188c687ff31739445d',\n",
       "   'CandidateStepName': 'automl-dm--dpp2-rpb-1-8003e3da1d5848f39932f0d188c687ff31739445d'},\n",
       "  {'CandidateStepType': 'AWS::SageMaker::TrainingJob',\n",
       "   'CandidateStepArn': 'arn:aws:sagemaker:us-east-1:835319576252:training-job/tuning-job-1-ac11765de5534ec18c-001-c3d46923',\n",
       "   'CandidateStepName': 'tuning-job-1-ac11765de5534ec18c-001-c3d46923'}],\n",
       " 'CandidateStatus': 'Completed',\n",
       " 'InferenceContainers': [{'Image': '683313688378.dkr.ecr.us-east-1.amazonaws.com/sagemaker-sklearn-automl:0.1.0-cpu-py3',\n",
       "   'ModelDataUrl': 's3://sagemaker-us-east-1-835319576252/models/autopilot/automl-dm-27-20-59-58/data-processor-models/automl-dm--dpp2-1-66594188d1bb4d6a95eea191fd95f1679453a4bb6f584/output/model.tar.gz',\n",
       "   'Environment': {'AUTOML_SPARSE_ENCODE_RECORDIO_PROTOBUF': '1',\n",
       "    'AUTOML_TRANSFORM_MODE': 'feature-transform',\n",
       "    'SAGEMAKER_DEFAULT_INVOCATIONS_ACCEPT': 'application/x-recordio-protobuf',\n",
       "    'SAGEMAKER_PROGRAM': 'sagemaker_serve',\n",
       "    'SAGEMAKER_SUBMIT_DIRECTORY': '/opt/ml/model/sagemaker_serve.py'}},\n",
       "  {'Image': '683313688378.dkr.ecr.us-east-1.amazonaws.com/sagemaker-xgboost:0.90-1-cpu-py3',\n",
       "   'ModelDataUrl': 's3://sagemaker-us-east-1-835319576252/models/autopilot/automl-dm-27-20-59-58/tuning/automl-dm--dpp2-xgb/tuning-job-1-ac11765de5534ec18c-001-c3d46923/output/model.tar.gz',\n",
       "   'Environment': {'MAX_CONTENT_LENGTH': '20971520',\n",
       "    'SAGEMAKER_DEFAULT_INVOCATIONS_ACCEPT': 'text/csv'}},\n",
       "  {'Image': '683313688378.dkr.ecr.us-east-1.amazonaws.com/sagemaker-sklearn-automl:0.1.0-cpu-py3',\n",
       "   'ModelDataUrl': 's3://sagemaker-us-east-1-835319576252/models/autopilot/automl-dm-27-20-59-58/data-processor-models/automl-dm--dpp2-1-66594188d1bb4d6a95eea191fd95f1679453a4bb6f584/output/model.tar.gz',\n",
       "   'Environment': {'AUTOML_TRANSFORM_MODE': 'inverse-label-transform',\n",
       "    'SAGEMAKER_DEFAULT_INVOCATIONS_ACCEPT': 'text/csv',\n",
       "    'SAGEMAKER_PROGRAM': 'sagemaker_serve',\n",
       "    'SAGEMAKER_SUBMIT_DIRECTORY': '/opt/ml/model/sagemaker_serve.py'}}],\n",
       " 'CreationTime': datetime.datetime(2020, 3, 27, 21, 22, 50, tzinfo=tzlocal()),\n",
       " 'EndTime': datetime.datetime(2020, 3, 27, 21, 23, 45, tzinfo=tzlocal()),\n",
       " 'LastModifiedTime': datetime.datetime(2020, 3, 27, 21, 25, 48, 655000, tzinfo=tzlocal())}"
      ]
     },
     "execution_count": 17,
     "metadata": {},
     "output_type": "execute_result"
    }
   ],
   "source": [
    "best_candidate"
   ]
  },
  {
   "cell_type": "markdown",
   "metadata": {},
   "source": [
    "We can see the containers and models composing the Inference Pipeline."
   ]
  },
  {
   "cell_type": "code",
   "execution_count": 18,
   "metadata": {},
   "outputs": [
    {
     "name": "stdout",
     "output_type": "stream",
     "text": [
      "683313688378.dkr.ecr.us-east-1.amazonaws.com/sagemaker-sklearn-automl:0.1.0-cpu-py3\n",
      "s3://sagemaker-us-east-1-835319576252/models/autopilot/automl-dm-27-20-59-58/data-processor-models/automl-dm--dpp2-1-66594188d1bb4d6a95eea191fd95f1679453a4bb6f584/output/model.tar.gz\n",
      "======================\n",
      "683313688378.dkr.ecr.us-east-1.amazonaws.com/sagemaker-xgboost:0.90-1-cpu-py3\n",
      "s3://sagemaker-us-east-1-835319576252/models/autopilot/automl-dm-27-20-59-58/tuning/automl-dm--dpp2-xgb/tuning-job-1-ac11765de5534ec18c-001-c3d46923/output/model.tar.gz\n",
      "======================\n",
      "683313688378.dkr.ecr.us-east-1.amazonaws.com/sagemaker-sklearn-automl:0.1.0-cpu-py3\n",
      "s3://sagemaker-us-east-1-835319576252/models/autopilot/automl-dm-27-20-59-58/data-processor-models/automl-dm--dpp2-1-66594188d1bb4d6a95eea191fd95f1679453a4bb6f584/output/model.tar.gz\n",
      "======================\n"
     ]
    }
   ],
   "source": [
    "for container in best_candidate['InferenceContainers']:\n",
    "    print(container['Image'])\n",
    "    print(container['ModelDataUrl'])\n",
    "    print('======================')"
   ]
  },
  {
   "cell_type": "markdown",
   "metadata": {},
   "source": [
    "# AutoPilot Chooses XGBoost as Best Candidate!\n",
    "Note that AutoPilot chose different hyper-parameters and feature transformations than we used in our own XGBoost model."
   ]
  },
  {
   "cell_type": "markdown",
   "metadata": {},
   "source": [
    "# Deploy the Model as a REST Endpoint\n",
    "Batch transformations are also supported, but for now, we will use a REST Endpoint."
   ]
  },
  {
   "cell_type": "code",
   "execution_count": 19,
   "metadata": {},
   "outputs": [
    {
     "name": "stdout",
     "output_type": "stream",
     "text": [
      "Best candidate model ARN:  arn:aws:sagemaker:us-east-1:835319576252:model/automl-dm-model-27-20-59-58\n"
     ]
    }
   ],
   "source": [
    "model_name = 'automl-dm-model-' + timestamp_suffix\n",
    "\n",
    "model_arn = sm.create_model(Containers=best_candidate['InferenceContainers'],\n",
    "                            ModelName=model_name,\n",
    "                            ExecutionRoleArn=role)\n",
    "\n",
    "print('Best candidate model ARN: ', model_arn['ModelArn'])"
   ]
  },
  {
   "cell_type": "code",
   "execution_count": 20,
   "metadata": {},
   "outputs": [
    {
     "name": "stdout",
     "output_type": "stream",
     "text": [
      "automl-dm-ep-27-21-26-41\n",
      "automl-dm-variant-27-21-26-41\n"
     ]
    }
   ],
   "source": [
    "# EndpointConfig name\n",
    "timestamp_suffix = strftime('%d-%H-%M-%S', gmtime())\n",
    "epc_name = 'automl-dm-epc-' + timestamp_suffix\n",
    "\n",
    "# Endpoint name\n",
    "xgb_endpoint_name = 'automl-dm-ep-' + timestamp_suffix\n",
    "variant_name = 'automl-dm-variant-' + timestamp_suffix\n",
    "\n",
    "print(xgb_endpoint_name)\n",
    "print(variant_name)"
   ]
  },
  {
   "cell_type": "code",
   "execution_count": 21,
   "metadata": {},
   "outputs": [],
   "source": [
    "ep_config = sm.create_endpoint_config(EndpointConfigName = epc_name,\n",
    "                                      ProductionVariants=[{'InstanceType':'ml.m4.xlarge',\n",
    "                                                           'InitialInstanceCount': 1,\n",
    "                                                           'ModelName': model_name,\n",
    "                                                           'VariantName': variant_name}])\n"
   ]
  },
  {
   "cell_type": "code",
   "execution_count": 22,
   "metadata": {},
   "outputs": [
    {
     "name": "stdout",
     "output_type": "stream",
     "text": [
      "arn:aws:sagemaker:us-east-1:835319576252:endpoint/automl-dm-ep-27-21-26-41\n"
     ]
    }
   ],
   "source": [
    "create_endpoint_response = sm.create_endpoint(EndpointName=xgb_endpoint_name,\n",
    "                                              EndpointConfigName=epc_name)\n",
    "print(create_endpoint_response['EndpointArn'])"
   ]
  },
  {
   "cell_type": "markdown",
   "metadata": {},
   "source": [
    "# Wait for the Model to Deploy\n",
    "This may take 5-10 mins.  Please be patient."
   ]
  },
  {
   "cell_type": "code",
   "execution_count": null,
   "metadata": {},
   "outputs": [],
   "source": [
    "sm.get_waiter('endpoint_in_service').wait(EndpointName=xgb_endpoint_name)\n"
   ]
  },
  {
   "cell_type": "code",
   "execution_count": 29,
   "metadata": {},
   "outputs": [
    {
     "name": "stdout",
     "output_type": "stream",
     "text": [
      "Arn: arn:aws:sagemaker:us-east-1:835319576252:endpoint/automl-dm-ep-27-21-26-41\n",
      "Status: InService\n"
     ]
    }
   ],
   "source": [
    "resp = sm.describe_endpoint(EndpointName=xgb_endpoint_name)\n",
    "status = resp['EndpointStatus']\n",
    "\n",
    "print(\"Arn: \" + resp['EndpointArn'])\n",
    "print(\"Status: \" + status)"
   ]
  },
  {
   "cell_type": "markdown",
   "metadata": {},
   "source": [
    "# Test Our Model with Some Example Reviews\n",
    "Let's do some ad-hoc predictions on our model."
   ]
  },
  {
   "cell_type": "code",
   "execution_count": 30,
   "metadata": {},
   "outputs": [],
   "source": [
    "sm_runtime = boto3.client('sagemaker-runtime')"
   ]
  },
  {
   "cell_type": "code",
   "execution_count": 31,
   "metadata": {},
   "outputs": [
    {
     "data": {
      "text/plain": [
       "'5'"
      ]
     },
     "execution_count": 31,
     "metadata": {},
     "output_type": "execute_result"
    }
   ],
   "source": [
    "csv_line_predict_positive = \"\"\"I loved it!  I will recommend this to everyone.\"\"\"\n",
    "\n",
    "response = sm_runtime.invoke_endpoint(EndpointName=xgb_endpoint_name, ContentType='text/csv', Accept='text/csv', Body=csv_line_predict_positive)\n",
    "\n",
    "response_body = response['Body'].read().decode('utf-8').strip()\n",
    "response_body"
   ]
  },
  {
   "cell_type": "code",
   "execution_count": 32,
   "metadata": {
    "scrolled": true
   },
   "outputs": [
    {
     "data": {
      "text/plain": [
       "'5'"
      ]
     },
     "execution_count": 32,
     "metadata": {},
     "output_type": "execute_result"
    }
   ],
   "source": [
    "csv_line_predict_negative = \"\"\"Really bad.  I hope they stop making this.\"\"\"\n",
    "\n",
    "response = sm_runtime.invoke_endpoint(EndpointName=xgb_endpoint_name, ContentType='text/csv', Accept='text/csv', Body=csv_line_predict_negative)\n",
    "\n",
    "response_body = response['Body'].read().decode('utf-8').strip()\n",
    "response_body"
   ]
  },
  {
   "cell_type": "code",
   "execution_count": 33,
   "metadata": {},
   "outputs": [
    {
     "data": {
      "text/plain": [
       "'3'"
      ]
     },
     "execution_count": 33,
     "metadata": {},
     "output_type": "execute_result"
    }
   ],
   "source": [
    "csv_line_predict_meh = \"\"\"It's OK.\"\"\"\n",
    "\n",
    "response = sm_runtime.invoke_endpoint(EndpointName=xgb_endpoint_name, ContentType='text/csv', Accept='text/csv', Body=csv_line_predict_meh)\n",
    "\n",
    "response_body = response['Body'].read().decode('utf-8').strip()\n",
    "response_body"
   ]
  },
  {
   "cell_type": "markdown",
   "metadata": {},
   "source": [
    "# Summary\n",
    "We used AutoPilot to automatically find the best model, hyper-parameters, and feature-engineering scripts for our dataset.  \n",
    "\n",
    "AutoPilot uses a white-box approach to generate re-usable exploration Jupyter Notebooks and transformation Python scripts to continue to train and deploy our model on new data - well after this initial interaction with the AutoPilot service."
   ]
  },
  {
   "cell_type": "code",
   "execution_count": null,
   "metadata": {},
   "outputs": [],
   "source": []
  }
 ],
 "metadata": {
  "kernelspec": {
   "display_name": "conda_python3",
   "language": "python",
   "name": "conda_python3"
  },
  "language_info": {
   "codemirror_mode": {
    "name": "ipython",
    "version": 3
   },
   "file_extension": ".py",
   "mimetype": "text/x-python",
   "name": "python",
   "nbconvert_exporter": "python",
   "pygments_lexer": "ipython3",
   "version": "3.6.5"
  }
 },
 "nbformat": 4,
 "nbformat_minor": 4
}
