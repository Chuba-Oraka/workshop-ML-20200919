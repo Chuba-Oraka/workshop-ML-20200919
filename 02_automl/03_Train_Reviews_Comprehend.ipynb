{
 "cells": [
  {
   "cell_type": "markdown",
   "metadata": {},
   "source": [
    "# Setup Comprehend Through CLI/API:\n",
    "https://docs.aws.amazon.com/comprehend/latest/dg/get-started-customclass.html"
   ]
  },
  {
   "cell_type": "markdown",
   "metadata": {},
   "source": [
    "# Setup Comprehend Through AWS Console \n",
    "\n",
    "https://docs.aws.amazon.com/comprehend/latest/dg/getting-started-document-classification.html"
   ]
  },
  {
   "cell_type": "markdown",
   "metadata": {},
   "source": [
    "Good example of using Comprehend for Positive/Negative Sentiment:  https://github.com/aws-samples/amazon-comprehend-custom-entity/blob/master/3-AWS-Comprehend-Negative-Custom-Classifier.ipynb"
   ]
  },
  {
   "cell_type": "markdown",
   "metadata": {},
   "source": [
    "# Make sure this SageMakerNotebookExecutionRole has access to Comprehend"
   ]
  },
  {
   "cell_type": "code",
   "execution_count": null,
   "metadata": {},
   "outputs": [],
   "source": [
    "import boto3\n",
    "import sagemaker\n",
    "import pandas as pd\n",
    "\n",
    "sess   = sagemaker.Session()\n",
    "bucket = sess.default_bucket()\n",
    "role = sagemaker.get_execution_role()\n",
    "region = boto3.Session().region_name\n",
    "\n",
    "sm = boto3.Session().client(service_name='sagemaker', region_name=region)"
   ]
  },
  {
   "cell_type": "code",
   "execution_count": null,
   "metadata": {},
   "outputs": [],
   "source": [
    "comprehend = boto3.client('comprehend')"
   ]
  },
  {
   "cell_type": "code",
   "execution_count": null,
   "metadata": {},
   "outputs": [],
   "source": [
    "%store -r noheader_train_s3_uri\n",
    "\n",
    "print(noheader_train_s3_uri)"
   ]
  },
  {
   "cell_type": "code",
   "execution_count": null,
   "metadata": {
    "scrolled": false
   },
   "outputs": [],
   "source": [
    "!aws s3 ls $noheader_train_s3_uri"
   ]
  },
  {
   "cell_type": "markdown",
   "metadata": {},
   "source": [
    "# Setup IAM Roles and Policies\n",
    "TODO:  Fix this."
   ]
  },
  {
   "cell_type": "code",
   "execution_count": null,
   "metadata": {},
   "outputs": [],
   "source": [
    "print(role)"
   ]
  },
  {
   "cell_type": "code",
   "execution_count": null,
   "metadata": {},
   "outputs": [],
   "source": [
    "# s3_policy = \"\"\"\n",
    "# {\n",
    "#     \"Version\": \"2012-10-17\",\n",
    "#     \"Statement\": [\n",
    "#         {\n",
    "#             \"Action\": [\n",
    "#                 \"s3:GetObject\"\n",
    "#             ],\n",
    "#             \"Resource\": [\n",
    "#                 \"arn:aws:s3:::{}/*\"\n",
    "#             ],\n",
    "#             \"Effect\": \"Allow\"\n",
    "#         },\n",
    "#         {\n",
    "#             \"Action\": [\n",
    "#                 \"s3:ListBucket\"\n",
    "#             ],\n",
    "#             \"Resource\": [\n",
    "#                 \"arn:aws:s3:::{}\"\n",
    "#             ],\n",
    "#             \"Effect\": \"Allow\"\n",
    "#         },\n",
    "#         {\n",
    "#             \"Action\": [\n",
    "#                 \"s3:PutObject\"\n",
    "#             ],\n",
    "#             \"Resource\": [\n",
    "#                 \"arn:aws:s3:::{}/*\"\n",
    "#             ],\n",
    "#             \"Effect\": \"Allow\"\n",
    "#         }\n",
    "#     ]\n",
    "# }\n",
    "# \"\"\".format(bucket, bucket, bucket)\n",
    "\n",
    "# print(s3_policy)\n"
   ]
  },
  {
   "cell_type": "code",
   "execution_count": null,
   "metadata": {},
   "outputs": [],
   "source": [
    "# comprehend_policy = \"\"\"\n",
    "# {\n",
    "#     \"Version\": \"2012-10-17\",\n",
    "#     \"Statement\": [\n",
    "#         {\n",
    "#             \"Action\": [\n",
    "#                 \"comprehend:DetectDominantLanguage\",\n",
    "#                 \"comprehend:BatchDetectDominantLanguage\",\n",
    "#                 \"comprehend:DetectEntities\",\n",
    "#                 \"comprehend:BatchDetectEntities\",\n",
    "#                 \"comprehend:DetectKeyPhrases\",\n",
    "#                 \"comprehend:BatchDetectKeyPhrases\",\n",
    "#                 \"comprehend:DetectSentiment\",\n",
    "#                 \"comprehend:BatchDetectSentiment\",\n",
    "#                 \"comprehend:DetectSyntax\",\n",
    "#                 \"comprehend:BatchDetectSyntax\",\n",
    "#                 \"comprehend:ClassifyDocument\",\n",
    "#                 \"comprehend:DescribeTopicsDetectionJob\",\n",
    "#                 \"comprehend:ListTopicsDetectionJobs\",\n",
    "#                 \"comprehend:DescribeDominantLanguageDetectionJob\",\n",
    "#                 \"comprehend:ListDominantLanguageDetectionJobs\",\n",
    "#                 \"comprehend:DescribeEntitiesDetectionJob\",\n",
    "#                 \"comprehend:ListEntitiesDetectionJobs\",\n",
    "#                 \"comprehend:DescribeKeyPhrasesDetectionJob\",\n",
    "#                 \"comprehend:ListKeyPhrasesDetectionJobs\",\n",
    "#                 \"comprehend:DescribeSentimentDetectionJob\",\n",
    "#                 \"comprehend:ListSentimentDetectionJobs\",\n",
    "#                 \"comprehend:DescribeDocumentClassifier\",\n",
    "#                 \"comprehend:ListDocumentClassifiers\",\n",
    "#                 \"comprehend:DescribeDocumentClassificationJob\",\n",
    "#                 \"comprehend:ListDocumentClassificationJobs\",\n",
    "#                 \"comprehend:DescribeEntityRecognizer\",\n",
    "#                 \"comprehend:ListEntityRecognizers\",\n",
    "#                 \"comprehend:ListTagsForResource\",\n",
    "#                 \"comprehend:DescribeEndpoint\",\n",
    "#                 \"comprehend:ListEndpoints\"\n",
    "#             ],\n",
    "#             \"Effect\": \"Allow\",\n",
    "#             \"Resource\": \"*\"\n",
    "#         }\n",
    "#     ]\n",
    "# }\n",
    "# \"\"\"\n",
    "\n",
    "# print(comprehend_policy)"
   ]
  },
  {
   "cell_type": "markdown",
   "metadata": {},
   "source": [
    "# Train our Model"
   ]
  },
  {
   "cell_type": "code",
   "execution_count": null,
   "metadata": {},
   "outputs": [],
   "source": [
    "prefix = 'models'\n",
    "\n",
    "s3_output_job = 's3://{}/{}/{}'.format(bucket, prefix, 'comprehend/output')\n",
    "print(s3_output_job)"
   ]
  },
  {
   "cell_type": "code",
   "execution_count": null,
   "metadata": {},
   "outputs": [],
   "source": [
    "import datetime\n",
    "\n",
    "id = str(datetime.datetime.now().strftime(\"%s\"))\n",
    "\n",
    "training_job = comprehend.create_document_classifier(\n",
    "    DocumentClassifierName='Amazon-Customer-Reviews-Classifier-'+ id,\n",
    "    DataAccessRoleArn=role,\n",
    "    InputDataConfig={\n",
    "        'S3Uri': noheader_train_s3_uri\n",
    "    },\n",
    "    OutputDataConfig={\n",
    "        'S3Uri': s3_output_job\n",
    "    },\n",
    "    LanguageCode='en'\n",
    ")"
   ]
  },
  {
   "cell_type": "code",
   "execution_count": null,
   "metadata": {},
   "outputs": [],
   "source": [
    "jobArn = training_job['DocumentClassifierArn']\n",
    "\n",
    "max_time = time.time() + 3 * 60 * 60 # 3 hours\n",
    "while time.time() < max_time:\n",
    "    describe_custom_classifier = comprehend.describe_document_classifier(\n",
    "        DocumentClassifierArn = jobArn\n",
    "    )\n",
    "    status = describe_custom_classifier[\"DocumentClassifierProperties\"][\"Status\"]\n",
    "    print(\"Custom classifier: {}\".format(status))\n",
    "    \n",
    "    if status == \"TRAINED\" or status == \"IN_ERROR\":\n",
    "        break\n",
    "        \n",
    "    time.sleep(5)"
   ]
  },
  {
   "cell_type": "markdown",
   "metadata": {},
   "source": [
    "# Get Endpoint"
   ]
  },
  {
   "cell_type": "code",
   "execution_count": null,
   "metadata": {},
   "outputs": [],
   "source": [
    "#endpoint_arn = inference_endpoint_response[\"EndpointArn\"]\n",
    "\n",
    "# TODO:  get account_id\n",
    "#account_id = sess.get_account??\n",
    "\n",
    "endpoint_arn = 'arn:aws:comprehend:{}:{}:document-classifier-endpoint/reviews-star-rating'.format(region, account_id)\n"
   ]
  },
  {
   "cell_type": "code",
   "execution_count": null,
   "metadata": {},
   "outputs": [],
   "source": [
    "describe_response = comprehend.describe_endpoint(\n",
    "    EndpointArn = endpoint_arn\n",
    ")"
   ]
  },
  {
   "cell_type": "code",
   "execution_count": null,
   "metadata": {},
   "outputs": [],
   "source": [
    "import time\n",
    "\n",
    "max_time = time.time() + 3*60*60 # 3 hours\n",
    "while time.time() < max_time:\n",
    "    describe_response = comprehend.describe_endpoint(\n",
    "        EndpointArn = endpoint_arn\n",
    "    )\n",
    "    status = describe_response[\"EndpointProperties\"][\"Status\"]\n",
    "    print(\"Endpoint: {}\".format(status))\n",
    "    \n",
    "    if status == \"IN_SERVICE\" or status == \"IN_ERROR\":\n",
    "        break"
   ]
  },
  {
   "cell_type": "code",
   "execution_count": null,
   "metadata": {},
   "outputs": [],
   "source": [
    "txt = \"This product is awesome.\"\n",
    "\n",
    "response = comprehend.classify_document(\n",
    "    Text= txt,\n",
    "    EndpointArn = endpoint_arn\n",
    ")\n",
    "\n",
    "import json\n",
    "print(json.dumps(response, indent=2, default=str))"
   ]
  },
  {
   "cell_type": "code",
   "execution_count": null,
   "metadata": {},
   "outputs": [],
   "source": [
    "txt = \"This product is ok.\"\n",
    "\n",
    "response = comprehend.classify_document(\n",
    "    Text= txt,\n",
    "    EndpointArn = endpoint_arn\n",
    ")\n",
    "\n",
    "import json\n",
    "print(json.dumps(response, indent=2, default=str))"
   ]
  },
  {
   "cell_type": "code",
   "execution_count": null,
   "metadata": {},
   "outputs": [],
   "source": [
    "txt = \"This product is terrible.\"\n",
    "\n",
    "response = comprehend.classify_document(\n",
    "    Text= txt,\n",
    "    EndpointArn = endpoint_arn\n",
    ")\n",
    "\n",
    "import json\n",
    "print(json.dumps(response, indent=2, default=str))"
   ]
  },
  {
   "cell_type": "code",
   "execution_count": null,
   "metadata": {},
   "outputs": [],
   "source": []
  },
  {
   "cell_type": "code",
   "execution_count": null,
   "metadata": {},
   "outputs": [],
   "source": []
  }
 ],
 "metadata": {
  "kernelspec": {
   "display_name": "conda_python3",
   "language": "python",
   "name": "conda_python3"
  },
  "language_info": {
   "codemirror_mode": {
    "name": "ipython",
    "version": 3
   },
   "file_extension": ".py",
   "mimetype": "text/x-python",
   "name": "python",
   "nbconvert_exporter": "python",
   "pygments_lexer": "ipython3",
   "version": "3.6.5"
  }
 },
 "nbformat": 4,
 "nbformat_minor": 4
}
