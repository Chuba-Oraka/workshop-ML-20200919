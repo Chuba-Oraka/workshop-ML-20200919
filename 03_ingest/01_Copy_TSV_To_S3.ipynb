{
 "cells": [
  {
   "cell_type": "markdown",
   "metadata": {},
   "source": [
    "# Write TSV Data To S3"
   ]
  },
  {
   "cell_type": "markdown",
   "metadata": {},
   "source": [
    "<img src=\"img/write_tsv_to_s3.png\" width=\"45%\" align=\"left\">"
   ]
  },
  {
   "cell_type": "code",
   "execution_count": null,
   "metadata": {},
   "outputs": [],
   "source": [
    "import boto3\n",
    "import sagemaker\n",
    "\n",
    "# Get region \n",
    "session = boto3.session.Session()\n",
    "region_name = session.region_name\n",
    "\n",
    "# Get SageMaker session & default S3 bucket\n",
    "sagemaker_session = sagemaker.Session()\n",
    "bucket = sagemaker_session.default_bucket()\n",
    "\n",
    "# Set S3 prefix\n",
    "tsv_prefix = 'amazon-reviews-pds/tsv'"
   ]
  },
  {
   "cell_type": "code",
   "execution_count": null,
   "metadata": {},
   "outputs": [],
   "source": [
    "# Set S3 source path\n",
    "s3_source_path_tsv = 's3://amazon-reviews-pds/tsv'\n",
    "\n",
    "# Set S3 destination path\n",
    "s3_destination_path_tsv = 's3://{}/{}'.format(bucket, tsv_prefix)"
   ]
  },
  {
   "cell_type": "markdown",
   "metadata": {},
   "source": [
    "### We copy the Amazon Customer Reviews Dataset from the external public S3 bucket to our local private S3 bucket. \n",
    "#### Note that copying data into S3 is free. "
   ]
  },
  {
   "cell_type": "markdown",
   "metadata": {},
   "source": [
    "<img src=\"img/copy_data_to_s3.png\" width=\"60%\" align=\"left\">"
   ]
  },
  {
   "cell_type": "code",
   "execution_count": 7,
   "metadata": {},
   "outputs": [
    {
     "name": "stdout",
     "output_type": "stream",
     "text": [
      "copy: s3://amazon-reviews-pds/tsv/amazon_reviews_us_Digital_Software_v1_00.tsv.gz to s3://sagemaker-us-east-1-835319576252/amazon-reviews-pds/tsv/amazon_reviews_us_Digital_Software_v1_00.tsv.gz\n",
      "copy: s3://amazon-reviews-pds/tsv/amazon_reviews_us_Digital_Music_Purchase_v1_00.tsv.gz to s3://sagemaker-us-east-1-835319576252/amazon-reviews-pds/tsv/amazon_reviews_us_Digital_Music_Purchase_v1_00.tsv.gz\n",
      "copy: s3://amazon-reviews-pds/tsv/amazon_reviews_us_Digital_Video_Download_v1_00.tsv.gz to s3://sagemaker-us-east-1-835319576252/amazon-reviews-pds/tsv/amazon_reviews_us_Digital_Video_Download_v1_00.tsv.gz\n",
      "copy: s3://amazon-reviews-pds/tsv/amazon_reviews_us_Digital_Video_Games_v1_00.tsv.gz to s3://sagemaker-us-east-1-835319576252/amazon-reviews-pds/tsv/amazon_reviews_us_Digital_Video_Games_v1_00.tsv.gz\n"
     ]
    }
   ],
   "source": [
    "# All Data\n",
    "# !aws s3 cp --recursive $s3_source_path_tsv/ $s3_destination_path_tsv/ --exclude \"*\" --include \"amazon_reviews_us_*\"\n",
    "\n",
    "!aws s3 cp --recursive $s3_source_path_tsv/ $s3_destination_path_tsv/ --exclude \"*\" --include \"amazon_reviews_us_Digital_Software_v1_00.tsv.gz\"\n",
    "!aws s3 cp --recursive $s3_source_path_tsv/ $s3_destination_path_tsv/ --exclude \"*\" --include \"amazon_reviews_us_Digital_Music_Purchase_v1_00.tsv.gz\"\n",
    "!aws s3 cp --recursive $s3_source_path_tsv/ $s3_destination_path_tsv/ --exclude \"*\" --include \"amazon_reviews_us_Digital_Video_Download_v1_00.tsv.gz\"\n",
    "!aws s3 cp --recursive $s3_source_path_tsv/ $s3_destination_path_tsv/ --exclude \"*\" --include \"amazon_reviews_us_Digital_Video_Games_v1_00.tsv.gz\""
   ]
  },
  {
   "cell_type": "markdown",
   "metadata": {},
   "source": [
    "### List files"
   ]
  },
  {
   "cell_type": "code",
   "execution_count": 8,
   "metadata": {},
   "outputs": [
    {
     "name": "stdout",
     "output_type": "stream",
     "text": [
      "2020-03-18 20:00:07  253570168 amazon_reviews_us_Digital_Music_Purchase_v1_00.tsv.gz\r\n",
      "2020-03-18 20:00:06   18997559 amazon_reviews_us_Digital_Software_v1_00.tsv.gz\r\n",
      "2020-03-18 20:00:11  506979922 amazon_reviews_us_Digital_Video_Download_v1_00.tsv.gz\r\n",
      "2020-03-18 20:00:20   27442648 amazon_reviews_us_Digital_Video_Games_v1_00.tsv.gz\r\n"
     ]
    }
   ],
   "source": [
    "!aws s3 ls $s3_destination_path_tsv/"
   ]
  },
  {
   "cell_type": "code",
   "execution_count": null,
   "metadata": {},
   "outputs": [],
   "source": []
  }
 ],
 "metadata": {
  "kernelspec": {
   "display_name": "conda_python3",
   "language": "python",
   "name": "conda_python3"
  },
  "language_info": {
   "codemirror_mode": {
    "name": "ipython",
    "version": 3
   },
   "file_extension": ".py",
   "mimetype": "text/x-python",
   "name": "python",
   "nbconvert_exporter": "python",
   "pygments_lexer": "ipython3",
   "version": "3.6.5"
  }
 },
 "nbformat": 4,
 "nbformat_minor": 4
}
