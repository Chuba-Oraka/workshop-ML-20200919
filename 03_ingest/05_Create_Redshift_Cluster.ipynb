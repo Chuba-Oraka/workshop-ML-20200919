{
 "cells": [
  {
   "cell_type": "markdown",
   "metadata": {},
   "source": [
    "# Amazon Redshift - Create Cluster"
   ]
  },
  {
   "cell_type": "markdown",
   "metadata": {},
   "source": [
    "TODO: Describe scenario\n",
    "\n",
    "<img src=\"img/redshift_setup.png\" width=\"45%\" align=\"left\">"
   ]
  },
  {
   "cell_type": "code",
   "execution_count": null,
   "metadata": {},
   "outputs": [],
   "source": [
    "import boto3\n",
    "import sagemaker\n",
    "\n",
    "# Get region \n",
    "session = boto3.session.Session()\n",
    "region_name = session.region_name\n",
    "\n",
    "# Get SageMaker session & default S3 bucket\n",
    "sagemaker_session = sagemaker.Session()\n",
    "bucket = sagemaker_session.default_bucket()\n"
   ]
  },
  {
   "cell_type": "markdown",
   "metadata": {},
   "source": [
    "## Setup Amazon Redshift\n",
    "\n",
    "To create an Amazon Redshift cluster, follow these steps:\n"
   ]
  },
  {
   "cell_type": "markdown",
   "metadata": {},
   "source": [
    "### Collect Configuration Parameters (VPC ID, Security Group ID etc.)"
   ]
  },
  {
   "cell_type": "code",
   "execution_count": null,
   "metadata": {},
   "outputs": [],
   "source": [
    "%%bash\n",
    "\n",
    "#### Get VPC ID\n",
    "# --filters \"Name=tag:Name,Values=eksctl-${AWS_CLUSTER_NAME}-cluster/VPC\"\n",
    "# Make sure this VPC is the same this notebook is running within\n",
    "# Make sure this VPC has the following 2 properties enabled\n",
    "#     DNS resolution = Enabled\n",
    "#     DNS hostnames = Enabled\n",
    "# This allows private, internal access to Redshift from this SageMaker notebook using the fully qualified endpoint name\n",
    "\n",
    "export vpc_id=$(aws ec2 describe-vpcs  --query \"Vpcs[0].VpcId\" --output text)\n",
    "export sub_id=$(aws ec2 describe-subnets --filters \"Name=vpc-id,Values=${vpc_id}\" --query \"Subnets[0].SubnetId\" --output text)\n",
    "\n",
    "# --group-name eks-fsx-security-group\n",
    "# --description \"FSx for Lustre Security Group\"\n",
    "#  --vpc-id ${vpc_id}\n",
    "# --query \"Groups[0].GroupId\"\n",
    "export sec_id=$(aws ec2 describe-security-groups --filters \"Name=vpc-id,Values=${vpc_id}\" --query \"SecurityGroups[0].GroupId\"  --output text)\n",
    "echo $sec_id"
   ]
  },
  {
   "cell_type": "code",
   "execution_count": null,
   "metadata": {},
   "outputs": [],
   "source": [
    "# TODO: This security group might need to have port 5349 open\n",
    "# COPY FROM ABOVE\n",
    "SECURITY_GROUP_ID='xxxxxx'"
   ]
  },
  {
   "cell_type": "markdown",
   "metadata": {},
   "source": [
    "### Define Redshift Parameters"
   ]
  },
  {
   "cell_type": "code",
   "execution_count": null,
   "metadata": {},
   "outputs": [],
   "source": [
    "# Redshift configuration parameters\n",
    "DB_NAME = 'dsoaws'\n",
    "CLUSTER_IDENTIFIER = 'dsoaws'\n",
    "CLUSTER_TYPE = 'multi-node'\n",
    "\n",
    "# Note that only some Instance Types support Redshift Query Editor \n",
    "# (https://docs.aws.amazon.com/redshift/latest/mgmt/query-editor.html)\n",
    "NODE_TYPE = 'dc2.large'\n",
    "NUMBER_NODES = '2' \n",
    "\n",
    "MASTER_USER_NAME = 'dsoaws'\n",
    "MASTER_USER_PW = '<password>'\n",
    "\n",
    "# TODO: Must create a new IAM Role with at least S3 Access to your data bucket that you are loading into Redshift\n",
    "IAM_ROLE = '<IAM_ROLE>'\n"
   ]
  },
  {
   "cell_type": "markdown",
   "metadata": {},
   "source": [
    "### Create Redshift Cluster"
   ]
  },
  {
   "cell_type": "code",
   "execution_count": null,
   "metadata": {},
   "outputs": [],
   "source": [
    "redshift = boto3.client('redshift')\n",
    "\n",
    "response = redshift.create_cluster(\n",
    "        DBName=DB_NAME,\n",
    "        ClusterIdentifier=CLUSTER_IDENTIFIER,\n",
    "        ClusterType=CLUSTER_TYPE,\n",
    "        NodeType=NODE_TYPE,\n",
    "        NumberOfNodes=int(NUMBER_NODES),       \n",
    "        MasterUsername=MASTER_USER_NAME,\n",
    "        MasterUserPassword=MASTER_USER_PW,\n",
    "        IamRoles=[IAM_ROLE],\n",
    "        VpcSecurityGroupIds=[SECURITY_GROUP_ID],\n",
    "        Port=5439,\n",
    "        PubliclyAccessible=False\n",
    ")\n",
    "\n",
    "print(response)\n"
   ]
  }
 ],
 "metadata": {
  "kernelspec": {
   "display_name": "conda_python3",
   "language": "python",
   "name": "conda_python3"
  },
  "language_info": {
   "codemirror_mode": {
    "name": "ipython",
    "version": 3
   },
   "file_extension": ".py",
   "mimetype": "text/x-python",
   "name": "python",
   "nbconvert_exporter": "python",
   "pygments_lexer": "ipython3",
   "version": "3.6.5"
  }
 },
 "nbformat": 4,
 "nbformat_minor": 4
}
