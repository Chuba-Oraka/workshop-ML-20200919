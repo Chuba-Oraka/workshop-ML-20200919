{
 "cells": [
  {
   "cell_type": "markdown",
   "metadata": {},
   "source": [
    "# Amazon Redshift - Load TSV Data Into Redshift"
   ]
  },
  {
   "cell_type": "markdown",
   "metadata": {},
   "source": [
    "TODO: Describe scenario\n",
    "\n",
    "<img src=\"img/c3-10.png\" width=\"90%\" align=\"left\">"
   ]
  },
  {
   "cell_type": "code",
   "execution_count": 123,
   "metadata": {},
   "outputs": [],
   "source": [
    "import boto3\n",
    "import sagemaker\n",
    "\n",
    "# Get region \n",
    "session = boto3.session.Session()\n",
    "region_name = session.region_name\n",
    "\n",
    "# Connect to Redshift\n",
    "redshift = boto3.client('redshift')\n",
    "secretsmanager = boto3.client('secretsmanager')\n",
    "\n",
    "# Get SageMaker session & default S3 bucket\n",
    "sagemaker_session = sagemaker.Session()\n",
    "bucket = sagemaker_session.default_bucket()\n",
    "\n",
    "# Set S3 prefixes\n",
    "tsv_prefix = 'amazon-reviews-pds/tsv'\n",
    "\n",
    "# Set S3 path to TSV data\n",
    "s3_path_tsv = 's3://{}/{}'.format(bucket, tsv_prefix)\n"
   ]
  },
  {
   "cell_type": "markdown",
   "metadata": {},
   "source": [
    "### Setup Redshift Connection Via SQLAlchemy\n",
    "https://pypi.org/project/SQLAlchemy/"
   ]
  },
  {
   "cell_type": "code",
   "execution_count": null,
   "metadata": {},
   "outputs": [],
   "source": [
    "!pip install -q SQLAlchemy==1.3.13"
   ]
  },
  {
   "cell_type": "code",
   "execution_count": 125,
   "metadata": {},
   "outputs": [],
   "source": [
    "from sqlalchemy import create_engine\n",
    "from sqlalchemy.orm import sessionmaker\n",
    "import pandas as pd\n"
   ]
  },
  {
   "cell_type": "markdown",
   "metadata": {},
   "source": [
    "#### Get Redshift credentials"
   ]
  },
  {
   "cell_type": "code",
   "execution_count": 126,
   "metadata": {},
   "outputs": [],
   "source": [
    "import json\n",
    "\n",
    "secret = secretsmanager.get_secret_value(SecretId='dsoaws_redshift_login')\n",
    "cred = json.loads(secret['SecretString'])\n",
    "\n",
    "master_user_name = cred[0]['username']\n",
    "master_user_pw = cred[1]['password']"
   ]
  },
  {
   "cell_type": "markdown",
   "metadata": {},
   "source": [
    "#### Redshift configuration parameters"
   ]
  },
  {
   "cell_type": "code",
   "execution_count": 127,
   "metadata": {},
   "outputs": [],
   "source": [
    "redshift_cluster_identifier = 'dsoaws'\n",
    "\n",
    "database_name_redshift = 'dsoaws'\n",
    "database_name_athena = 'dsoaws'\n",
    "\n",
    "redshift_port = '5439'\n",
    "\n",
    "schema_redshift = 'redshift'\n",
    "schema_athena = 'athena'\n",
    "\n",
    "table_name_tsv = 'amazon_reviews_tsv'"
   ]
  },
  {
   "cell_type": "markdown",
   "metadata": {},
   "source": [
    "#### Get Redshift endpoint address & IAM Role"
   ]
  },
  {
   "cell_type": "code",
   "execution_count": null,
   "metadata": {},
   "outputs": [],
   "source": [
    "response = redshift.describe_clusters(ClusterIdentifier=redshift_cluster_identifier)\n",
    "\n",
    "redshift_endpoint_address = response['Clusters'][0]['Endpoint']['Address']\n",
    "iam_role = response['Clusters'][0]['IamRoles'][0]['IamRoleArn']\n",
    "\n",
    "print(redshift_endpoint_address)\n",
    "print(iam_role)"
   ]
  },
  {
   "cell_type": "markdown",
   "metadata": {},
   "source": [
    "#### Connect to Redshift database engine"
   ]
  },
  {
   "cell_type": "code",
   "execution_count": 129,
   "metadata": {},
   "outputs": [],
   "source": [
    "engine = create_engine('postgresql://{}:{}@{}:{}/{}'.format(master_user_name, master_user_pw, redshift_endpoint_address, redshift_port, database_name))\n"
   ]
  },
  {
   "cell_type": "markdown",
   "metadata": {},
   "source": [
    "#### Configure Session"
   ]
  },
  {
   "cell_type": "code",
   "execution_count": 157,
   "metadata": {},
   "outputs": [],
   "source": [
    "session = sessionmaker()\n",
    "session.configure(bind=engine)\n",
    "s = session()"
   ]
  },
  {
   "cell_type": "markdown",
   "metadata": {},
   "source": [
    "## Redshift Spectrum\n",
    "Amazon Redshift Spectrum directly queries data in S3, using the same SQL syntax of Amazon Redshift. You can also run queries that span both the frequently accessed data stored locally in Amazon Redshift and your full datasets stored cost-effectively in S3.\n",
    "\n",
    "To use Redshift Spectrum, your cluster needs authorization to access data catalog in Amazon Athena and your data files in Amazon S3. You provide that authorization by referencing an AWS Identity and Access Management (IAM) role that is attached to your cluster. \n",
    "\n",
    "To use this capability in from your Amazon SageMaker notebook:\n",
    "\n",
    "* Register your Athena database `dsoaws` with Redshift Spectrum\n",
    "* Query Your Data in Amazon S3"
   ]
  },
  {
   "cell_type": "markdown",
   "metadata": {},
   "source": [
    "### Register Athena Database `dsoaws` with Redshift Spectrum to access the data directly in S3 "
   ]
  },
  {
   "cell_type": "code",
   "execution_count": 131,
   "metadata": {},
   "outputs": [
    {
     "name": "stdout",
     "output_type": "stream",
     "text": [
      "\n",
      "CREATE EXTERNAL SCHEMA IF NOT EXISTS athena FROM DATA CATALOG \n",
      "    DATABASE 'dsoaws' \n",
      "    IAM_ROLE 'arn:aws:iam::806570384721:role/DSOAWS_Redshift'\n",
      "    REGION 'us-east-1'\n",
      "    CREATE EXTERNAL DATABASE IF NOT EXISTS\n",
      "\n"
     ]
    }
   ],
   "source": [
    "statement = \"\"\"\n",
    "CREATE EXTERNAL SCHEMA IF NOT EXISTS {} FROM DATA CATALOG \n",
    "    DATABASE '{}' \n",
    "    IAM_ROLE '{}'\n",
    "    REGION '{}'\n",
    "    CREATE EXTERNAL DATABASE IF NOT EXISTS\n",
    "\"\"\".format(schema_athena, database_name_athena, iam_role, region_name)\n",
    "\n",
    "print(statement)"
   ]
  },
  {
   "cell_type": "code",
   "execution_count": 61,
   "metadata": {},
   "outputs": [],
   "source": [
    "s.execute(statement)\n",
    "s.commit()"
   ]
  },
  {
   "cell_type": "markdown",
   "metadata": {},
   "source": [
    "## Congratulations, we now see our previously created Athena tables in Redshift. "
   ]
  },
  {
   "cell_type": "markdown",
   "metadata": {},
   "source": [
    "### Run a sample query"
   ]
  },
  {
   "cell_type": "code",
   "execution_count": 132,
   "metadata": {},
   "outputs": [
    {
     "name": "stdout",
     "output_type": "stream",
     "text": [
      "\n",
      "SELECT product_category, COUNT(star_rating) AS count_star_rating\n",
      "    FROM athena.amazon_reviews_tsv\n",
      "    GROUP BY product_category\n",
      "    ORDER BY count_star_rating DESC\n",
      "\n"
     ]
    }
   ],
   "source": [
    "statement = \"\"\"\n",
    "SELECT product_category, COUNT(star_rating) AS count_star_rating\n",
    "    FROM {}.{}\n",
    "    GROUP BY product_category\n",
    "    ORDER BY count_star_rating DESC\n",
    "\"\"\".format(schema_athena, table_name_tsv)\n",
    "\n",
    "print(statement)"
   ]
  },
  {
   "cell_type": "code",
   "execution_count": 63,
   "metadata": {},
   "outputs": [
    {
     "data": {
      "text/html": [
       "<div>\n",
       "<style scoped>\n",
       "    .dataframe tbody tr th:only-of-type {\n",
       "        vertical-align: middle;\n",
       "    }\n",
       "\n",
       "    .dataframe tbody tr th {\n",
       "        vertical-align: top;\n",
       "    }\n",
       "\n",
       "    .dataframe thead th {\n",
       "        text-align: right;\n",
       "    }\n",
       "</style>\n",
       "<table border=\"1\" class=\"dataframe\">\n",
       "  <thead>\n",
       "    <tr style=\"text-align: right;\">\n",
       "      <th></th>\n",
       "      <th>product_category</th>\n",
       "      <th>count_star_rating</th>\n",
       "    </tr>\n",
       "  </thead>\n",
       "  <tbody>\n",
       "    <tr>\n",
       "      <th>0</th>\n",
       "      <td>Books</td>\n",
       "      <td>19531329</td>\n",
       "    </tr>\n",
       "    <tr>\n",
       "      <th>1</th>\n",
       "      <td>Digital_Ebook_Purchase</td>\n",
       "      <td>17622415</td>\n",
       "    </tr>\n",
       "    <tr>\n",
       "      <th>2</th>\n",
       "      <td>Wireless</td>\n",
       "      <td>9002021</td>\n",
       "    </tr>\n",
       "    <tr>\n",
       "      <th>3</th>\n",
       "      <td>PC</td>\n",
       "      <td>6908554</td>\n",
       "    </tr>\n",
       "    <tr>\n",
       "      <th>4</th>\n",
       "      <td>Home</td>\n",
       "      <td>6221559</td>\n",
       "    </tr>\n",
       "  </tbody>\n",
       "</table>\n",
       "</div>"
      ],
      "text/plain": [
       "         product_category  count_star_rating\n",
       "0                   Books           19531329\n",
       "1  Digital_Ebook_Purchase           17622415\n",
       "2                Wireless            9002021\n",
       "3                      PC            6908554\n",
       "4                    Home            6221559"
      ]
     },
     "execution_count": 63,
     "metadata": {},
     "output_type": "execute_result"
    }
   ],
   "source": [
    "df = pd.read_sql_query(statement, engine)\n",
    "df.head(5)"
   ]
  },
  {
   "cell_type": "markdown",
   "metadata": {},
   "source": [
    "## Create local Redshift tables with Customer Reviews data of each year for the last 5 years"
   ]
  },
  {
   "cell_type": "markdown",
   "metadata": {},
   "source": [
    "### Create `redshift` schema"
   ]
  },
  {
   "cell_type": "code",
   "execution_count": 133,
   "metadata": {},
   "outputs": [],
   "source": [
    "statement = \"\"\"CREATE SCHEMA IF NOT EXISTS {}\"\"\".format(schema_redshift)\n",
    "\n",
    "s = session()\n",
    "s.execute(statement)\n",
    "s.commit()"
   ]
  },
  {
   "cell_type": "markdown",
   "metadata": {},
   "source": [
    "### Create Redshift tables for every year"
   ]
  },
  {
   "cell_type": "code",
   "execution_count": 134,
   "metadata": {},
   "outputs": [],
   "source": [
    "# Create table function, pass session, table name prefix and start & end year\n",
    "\n",
    "def create_redshift_table_tsv(session, table_name_prefix, start_year, end_year):\n",
    "    for year in range(start_year, end_year+1, 1):\n",
    "        current_table_name = table_name_prefix+'_'+str(year)\n",
    "        statement = \"\"\"\n",
    "        CREATE TABLE IF NOT EXISTS redshift.{}( \n",
    "             marketplace varchar(2),\n",
    "             customer_id varchar(8),\n",
    "             review_id varchar(14),\n",
    "             product_id varchar(10) DISTKEY,\n",
    "             product_parent varchar(9),\n",
    "             product_title varchar(400),\n",
    "             product_category varchar(24),\n",
    "             star_rating int,\n",
    "             helpful_votes int,\n",
    "             total_votes int,\n",
    "             vine varchar(1),\n",
    "             verified_purchase varchar(1),\n",
    "             review_headline varchar(128),\n",
    "             review_body varchar(65535),\n",
    "             review_date varchar(10),\n",
    "             year int)  SORTKEY (product_category)\n",
    "        \"\"\".format(current_table_name)\n",
    "\n",
    "        #print(statement)\n",
    "        session.execute(statement)\n",
    "    session.commit()\n",
    "        \n",
    "    print(\"Done.\")\n"
   ]
  },
  {
   "cell_type": "code",
   "execution_count": 135,
   "metadata": {},
   "outputs": [
    {
     "name": "stdout",
     "output_type": "stream",
     "text": [
      "Done.\n"
     ]
    }
   ],
   "source": [
    "create_redshift_table_tsv(s, 'amazon_reviews_tsv', 2011, 2015)"
   ]
  },
  {
   "cell_type": "markdown",
   "metadata": {},
   "source": [
    "### Insert Data from Athena table into local Redshift table"
   ]
  },
  {
   "cell_type": "code",
   "execution_count": 158,
   "metadata": {},
   "outputs": [],
   "source": [
    "# INSERT INTO function, pass session, table name prefix and start & end year\n",
    "\n",
    "def insert_into_redshift_table_tsv(session, table_name_prefix, start_year, end_year):\n",
    "    for year in range(start_year, end_year+1, 1):\n",
    "        current_table_name = table_name_prefix+'_'+str(year)\n",
    "        statement = \"\"\"\n",
    "            INSERT \n",
    "            INTO\n",
    "                redshift.{}\n",
    "                SELECT\n",
    "                    marketplace,\n",
    "                    customer_id,\n",
    "                    review_id,\n",
    "                    product_id,\n",
    "                    product_parent,\n",
    "                    product_title,\n",
    "                    product_category,\n",
    "                    star_rating,\n",
    "                    helpful_votes,\n",
    "                    total_votes,\n",
    "                    vine,\n",
    "                    verified_purchase,\n",
    "                    review_headline,\n",
    "                    review_body,\n",
    "                    review_date,\n",
    "                    CAST(DATE_PART_YEAR(TO_DATE(review_date, 'YYYY-MM-DD')) AS INTEGER) AS year             \n",
    "                FROM\n",
    "                    athena.amazon_reviews_tsv             \n",
    "                WHERE\n",
    "                    year = {}\n",
    "            \"\"\".format(current_table_name, year)\n",
    "        #print(statement)\n",
    "        session.execute(statement)\n",
    "        session.commit()        \n",
    "    print(\"Done.\")"
   ]
  },
  {
   "cell_type": "markdown",
   "metadata": {},
   "source": [
    "#### Note: The `INSERT INTO` takes approx. 10min/table, please be patient and minimize the no. of tables."
   ]
  },
  {
   "cell_type": "code",
   "execution_count": 159,
   "metadata": {},
   "outputs": [
    {
     "name": "stdout",
     "output_type": "stream",
     "text": [
      "Done.\n"
     ]
    }
   ],
   "source": [
    "insert_into_redshift_table_tsv(s, 'amazon_reviews_tsv', 2011, 2015)"
   ]
  },
  {
   "cell_type": "markdown",
   "metadata": {},
   "source": [
    "### Run a sample query using `UNION ALL` across 2 tables aka. 2 years"
   ]
  },
  {
   "cell_type": "code",
   "execution_count": 1,
   "metadata": {},
   "outputs": [
    {
     "name": "stdout",
     "output_type": "stream",
     "text": [
      "\n",
      "SELECT product_category, COUNT(star_rating) AS count_star_rating, year\n",
      "FROM redshift.amazon_reviews_tsv_2014\n",
      "GROUP BY redshift.amazon_reviews_tsv_2014.product_category, year\n",
      "UNION ALL\n",
      "SELECT product_category, COUNT(star_rating) AS count_star_rating, year\n",
      "FROM redshift.amazon_reviews_tsv_2015\n",
      "GROUP BY redshift.amazon_reviews_tsv_2015.product_category, year\n",
      "ORDER BY count_star_rating DESC, year ASC\n",
      "\n"
     ]
    }
   ],
   "source": [
    "statement = \"\"\"\n",
    "SELECT product_category, COUNT(star_rating) AS count_star_rating, year\n",
    "FROM redshift.amazon_reviews_tsv_2014\n",
    "GROUP BY redshift.amazon_reviews_tsv_2014.product_category, year\n",
    "UNION ALL\n",
    "SELECT product_category, COUNT(star_rating) AS count_star_rating, year\n",
    "FROM redshift.amazon_reviews_tsv_2015\n",
    "GROUP BY redshift.amazon_reviews_tsv_2015.product_category, year\n",
    "ORDER BY count_star_rating DESC, year ASC\n",
    "\"\"\"\n",
    "\n",
    "print(statement)"
   ]
  },
  {
   "cell_type": "code",
   "execution_count": 172,
   "metadata": {},
   "outputs": [
    {
     "data": {
      "text/html": [
       "<div>\n",
       "<style scoped>\n",
       "    .dataframe tbody tr th:only-of-type {\n",
       "        vertical-align: middle;\n",
       "    }\n",
       "\n",
       "    .dataframe tbody tr th {\n",
       "        vertical-align: top;\n",
       "    }\n",
       "\n",
       "    .dataframe thead th {\n",
       "        text-align: right;\n",
       "    }\n",
       "</style>\n",
       "<table border=\"1\" class=\"dataframe\">\n",
       "  <thead>\n",
       "    <tr style=\"text-align: right;\">\n",
       "      <th></th>\n",
       "      <th>product_category</th>\n",
       "      <th>count_star_rating</th>\n",
       "      <th>year</th>\n",
       "    </tr>\n",
       "  </thead>\n",
       "  <tbody>\n",
       "    <tr>\n",
       "      <th>0</th>\n",
       "      <td>Digital_Ebook_Purchase</td>\n",
       "      <td>6615914</td>\n",
       "      <td>2014</td>\n",
       "    </tr>\n",
       "    <tr>\n",
       "      <th>1</th>\n",
       "      <td>Digital_Ebook_Purchase</td>\n",
       "      <td>4533519</td>\n",
       "      <td>2015</td>\n",
       "    </tr>\n",
       "    <tr>\n",
       "      <th>2</th>\n",
       "      <td>Books</td>\n",
       "      <td>3472631</td>\n",
       "      <td>2014</td>\n",
       "    </tr>\n",
       "    <tr>\n",
       "      <th>3</th>\n",
       "      <td>Wireless</td>\n",
       "      <td>2998518</td>\n",
       "      <td>2015</td>\n",
       "    </tr>\n",
       "    <tr>\n",
       "      <th>4</th>\n",
       "      <td>Wireless</td>\n",
       "      <td>2830482</td>\n",
       "      <td>2014</td>\n",
       "    </tr>\n",
       "    <tr>\n",
       "      <th>5</th>\n",
       "      <td>Books</td>\n",
       "      <td>2808751</td>\n",
       "      <td>2015</td>\n",
       "    </tr>\n",
       "    <tr>\n",
       "      <th>6</th>\n",
       "      <td>Apparel</td>\n",
       "      <td>2369754</td>\n",
       "      <td>2015</td>\n",
       "    </tr>\n",
       "    <tr>\n",
       "      <th>7</th>\n",
       "      <td>Home</td>\n",
       "      <td>2172297</td>\n",
       "      <td>2015</td>\n",
       "    </tr>\n",
       "    <tr>\n",
       "      <th>8</th>\n",
       "      <td>Apparel</td>\n",
       "      <td>2122455</td>\n",
       "      <td>2014</td>\n",
       "    </tr>\n",
       "    <tr>\n",
       "      <th>9</th>\n",
       "      <td>Home</td>\n",
       "      <td>1999452</td>\n",
       "      <td>2014</td>\n",
       "    </tr>\n",
       "    <tr>\n",
       "      <th>10</th>\n",
       "      <td>PC</td>\n",
       "      <td>1997342</td>\n",
       "      <td>2014</td>\n",
       "    </tr>\n",
       "    <tr>\n",
       "      <th>11</th>\n",
       "      <td>Health &amp; Personal Care</td>\n",
       "      <td>1919915</td>\n",
       "      <td>2015</td>\n",
       "    </tr>\n",
       "    <tr>\n",
       "      <th>12</th>\n",
       "      <td>PC</td>\n",
       "      <td>1877971</td>\n",
       "      <td>2015</td>\n",
       "    </tr>\n",
       "    <tr>\n",
       "      <th>13</th>\n",
       "      <td>Beauty</td>\n",
       "      <td>1816302</td>\n",
       "      <td>2015</td>\n",
       "    </tr>\n",
       "    <tr>\n",
       "      <th>14</th>\n",
       "      <td>Health &amp; Personal Care</td>\n",
       "      <td>1682461</td>\n",
       "      <td>2014</td>\n",
       "    </tr>\n",
       "    <tr>\n",
       "      <th>15</th>\n",
       "      <td>Beauty</td>\n",
       "      <td>1610968</td>\n",
       "      <td>2014</td>\n",
       "    </tr>\n",
       "    <tr>\n",
       "      <th>16</th>\n",
       "      <td>Mobile_Apps</td>\n",
       "      <td>1609124</td>\n",
       "      <td>2014</td>\n",
       "    </tr>\n",
       "    <tr>\n",
       "      <th>17</th>\n",
       "      <td>Digital_Video_Download</td>\n",
       "      <td>1593521</td>\n",
       "      <td>2015</td>\n",
       "    </tr>\n",
       "    <tr>\n",
       "      <th>18</th>\n",
       "      <td>Sports</td>\n",
       "      <td>1571181</td>\n",
       "      <td>2015</td>\n",
       "    </tr>\n",
       "    <tr>\n",
       "      <th>19</th>\n",
       "      <td>Digital_Video_Download</td>\n",
       "      <td>1562524</td>\n",
       "      <td>2014</td>\n",
       "    </tr>\n",
       "  </tbody>\n",
       "</table>\n",
       "</div>"
      ],
      "text/plain": [
       "          product_category  count_star_rating  year\n",
       "0   Digital_Ebook_Purchase            6615914  2014\n",
       "1   Digital_Ebook_Purchase            4533519  2015\n",
       "2                    Books            3472631  2014\n",
       "3                 Wireless            2998518  2015\n",
       "4                 Wireless            2830482  2014\n",
       "5                    Books            2808751  2015\n",
       "6                  Apparel            2369754  2015\n",
       "7                     Home            2172297  2015\n",
       "8                  Apparel            2122455  2014\n",
       "9                     Home            1999452  2014\n",
       "10                      PC            1997342  2014\n",
       "11  Health & Personal Care            1919915  2015\n",
       "12                      PC            1877971  2015\n",
       "13                  Beauty            1816302  2015\n",
       "14  Health & Personal Care            1682461  2014\n",
       "15                  Beauty            1610968  2014\n",
       "16             Mobile_Apps            1609124  2014\n",
       "17  Digital_Video_Download            1593521  2015\n",
       "18                  Sports            1571181  2015\n",
       "19  Digital_Video_Download            1562524  2014"
      ]
     },
     "execution_count": 172,
     "metadata": {},
     "output_type": "execute_result"
    }
   ],
   "source": [
    "df = pd.read_sql_query(statement, engine)\n",
    "df.head(20)"
   ]
  },
  {
   "cell_type": "markdown",
   "metadata": {},
   "source": [
    "# This completes this notebook. High Five!"
   ]
  }
 ],
 "metadata": {
  "kernelspec": {
   "display_name": "conda_python3",
   "language": "python",
   "name": "conda_python3"
  },
  "language_info": {
   "codemirror_mode": {
    "name": "ipython",
    "version": 3
   },
   "file_extension": ".py",
   "mimetype": "text/x-python",
   "name": "python",
   "nbconvert_exporter": "python",
   "pygments_lexer": "ipython3",
   "version": "3.6.5"
  }
 },
 "nbformat": 4,
 "nbformat_minor": 4
}
