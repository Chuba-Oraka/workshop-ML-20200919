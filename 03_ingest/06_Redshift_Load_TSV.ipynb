{
 "cells": [
  {
   "cell_type": "markdown",
   "metadata": {},
   "source": [
    "# Amazon Redshift - Load TSV Data Into Redshift"
   ]
  },
  {
   "cell_type": "markdown",
   "metadata": {},
   "source": [
    "TODO: Describe scenario\n",
    "\n",
    "<img src=\"img/redshift_load_tsv.png\" width=\"55%\" align=\"left\">"
   ]
  },
  {
   "cell_type": "code",
   "execution_count": null,
   "metadata": {},
   "outputs": [],
   "source": [
    "import boto3\n",
    "import sagemaker\n",
    "\n",
    "# Connect to Redshift\n",
    "redshift = boto3.client('redshift')\n",
    "\n",
    "# Get SageMaker session & default S3 bucket\n",
    "sagemaker_session = sagemaker.Session()\n",
    "bucket = sagemaker_session.default_bucket()\n",
    "\n",
    "# Set S3 prefixes\n",
    "tsv_prefix = 'amazon-reviews-pds/tsv'\n",
    "\n",
    "# Set S3 destination paths\n",
    "s3_destination_path_tsv = 's3://{}/{}'.format(bucket, tsv_prefix)\n"
   ]
  },
  {
   "cell_type": "markdown",
   "metadata": {},
   "source": [
    "## Setup Redshift Connection Via SQLAlchemy\n",
    "https://pypi.org/project/SQLAlchemy/"
   ]
  },
  {
   "cell_type": "code",
   "execution_count": null,
   "metadata": {},
   "outputs": [],
   "source": [
    "!pip install -q SQLAlchemy==1.3.13"
   ]
  },
  {
   "cell_type": "code",
   "execution_count": null,
   "metadata": {},
   "outputs": [],
   "source": [
    "from sqlalchemy import create_engine\n",
    "from sqlalchemy.orm import sessionmaker\n",
    "import pandas as pd\n"
   ]
  },
  {
   "cell_type": "code",
   "execution_count": null,
   "metadata": {},
   "outputs": [],
   "source": [
    "# Redshift configuration parameters\n",
    "\n",
    "redshift_cluster_identifier = 'dsoaws'\n",
    "database_name = 'dsoaws'\n",
    "\n",
    "master_user_name = 'dsoaws'\n",
    "master_user_pw = 'Password9'\n",
    "\n",
    "redshift_endpoint_address = ''\n",
    "redshift_port = '5439'\n",
    "\n",
    "schema = 'redshift'\n",
    "table_name_tsv = 'amazon_reviews_tsv'\n",
    "\n",
    "iam_role = ''\n"
   ]
  },
  {
   "cell_type": "code",
   "execution_count": null,
   "metadata": {},
   "outputs": [],
   "source": [
    "# Set Redshift endpoint address & IAM Role\n",
    "clusters = redshift.describe_clusters()\n",
    "\n",
    "for clr in clusters['Clusters']:\n",
    "    if clr['ClusterIdentifier'] == redshift_cluster_identifier:\n",
    "        endpoint_address = clr['Endpoint']['Address']\n",
    "        iam_role = clr['IamRoles'][0]['IamRoleArn']\n",
    "        break;\n",
    "    else:\n",
    "        endpoint_address =''\n",
    "        iam_role=''\n",
    "        print(\"Cluster and/or IAM Role not found.\")\n",
    "\n",
    "print(endpoint_address)\n",
    "print(iam_role)"
   ]
  },
  {
   "cell_type": "code",
   "execution_count": null,
   "metadata": {},
   "outputs": [],
   "source": [
    "# Connect to Redshift database engine\n",
    "engine = create_engine('postgresql://{}:{}@{}:{}/{}'.format(master_user_name, master_user_pw, redshift_endpoint_address, redshift_port, database_name))\n"
   ]
  },
  {
   "cell_type": "code",
   "execution_count": null,
   "metadata": {},
   "outputs": [],
   "source": [
    "# Configure Session\n",
    "session = sessionmaker()\n",
    "session.configure(bind=engine)\n",
    "s = session()\n",
    "# set_path = \"SET search_path TO %s\" % schema\n",
    "# s.execute(set_path)"
   ]
  },
  {
   "cell_type": "markdown",
   "metadata": {},
   "source": [
    "### Create TSV Table In Redshift"
   ]
  },
  {
   "cell_type": "code",
   "execution_count": null,
   "metadata": {},
   "outputs": [],
   "source": [
    "statement = \"\"\"CREATE SCHEMA IF NOT EXISTS {}\"\"\".format(schema)\n",
    "\n",
    "s = session()\n",
    "s.execute(statement)\n",
    "s.commit()"
   ]
  },
  {
   "cell_type": "code",
   "execution_count": null,
   "metadata": {},
   "outputs": [],
   "source": [
    "statement = \"\"\"DROP TABLE IF EXISTS {}.{}\"\"\".format(schema, table_name_tsv)\n",
    "\n",
    "s = session()\n",
    "s.execute(statement)\n"
   ]
  },
  {
   "cell_type": "code",
   "execution_count": null,
   "metadata": {},
   "outputs": [],
   "source": [
    "statement = \"\"\"CREATE TABLE {}.{}( \n",
    "         marketplace varchar(2),\n",
    "         customer_id varchar(8),\n",
    "         review_id varchar(14),\n",
    "         product_id varchar(10),\n",
    "         product_parent varchar(9),\n",
    "         product_title varchar(400),\n",
    "         product_category varchar(24),\n",
    "         star_rating int,\n",
    "         helpful_votes int,\n",
    "         total_votes int,\n",
    "         vine varchar(1),\n",
    "         verified_purchase varchar(1),\n",
    "         review_headline varchar(128),\n",
    "         review_body varchar(65535),\n",
    "         review_date varchar(10)\n",
    ")\"\"\".format(schema, table_name_tsv)\n"
   ]
  },
  {
   "cell_type": "code",
   "execution_count": null,
   "metadata": {},
   "outputs": [],
   "source": [
    "s.execute(statement)\n",
    "s.commit()"
   ]
  },
  {
   "cell_type": "markdown",
   "metadata": {},
   "source": [
    "## Load TSV Data From S3 Into Redshift"
   ]
  },
  {
   "cell_type": "markdown",
   "metadata": {},
   "source": [
    "Note: The statement below runs for approx. 30min. "
   ]
  },
  {
   "cell_type": "code",
   "execution_count": null,
   "metadata": {},
   "outputs": [],
   "source": [
    "statement = \"\"\"COPY {}.{} (marketplace, customer_id, review_id, product_id, \n",
    "                product_parent, product_title, product_category, star_rating, helpful_votes, total_votes, \n",
    "                vine, verified_purchase, review_headline, review_body, review_date) \n",
    "            FROM \\'{}/\\'\n",
    "            IAM_ROLE \\'{}\\'\n",
    "            IGNOREHEADER 1 DELIMITER '\\\\t' \n",
    "            GZIP TRUNCATECOLUMNS;\"\"\".format(schema, table_name_tsv, s3_destination_path_tsv, iam_role)\n",
    "print(statement)"
   ]
  },
  {
   "cell_type": "code",
   "execution_count": null,
   "metadata": {},
   "outputs": [],
   "source": [
    "s = session()\n",
    "s.execute(statement)\n",
    "s.commit()"
   ]
  },
  {
   "cell_type": "markdown",
   "metadata": {},
   "source": [
    "### Run a sample query"
   ]
  },
  {
   "cell_type": "code",
   "execution_count": null,
   "metadata": {},
   "outputs": [],
   "source": [
    "df = pd.read_sql_query(\"\"\"SELECT product_category,\n",
    "                            COUNT(star_rating) AS count_star_rating\n",
    "                        FROM {}\n",
    "                        GROUP BY product_category\n",
    "                        ORDER BY count_star_rating DESC\"\"\".format(table_name_tsv), engine)"
   ]
  },
  {
   "cell_type": "code",
   "execution_count": null,
   "metadata": {},
   "outputs": [],
   "source": [
    "df.head(5)"
   ]
  }
 ],
 "metadata": {
  "kernelspec": {
   "display_name": "conda_python3",
   "language": "python",
   "name": "conda_python3"
  },
  "language_info": {
   "codemirror_mode": {
    "name": "ipython",
    "version": 3
   },
   "file_extension": ".py",
   "mimetype": "text/x-python",
   "name": "python",
   "nbconvert_exporter": "python",
   "pygments_lexer": "ipython3",
   "version": "3.6.5"
  }
 },
 "nbformat": 4,
 "nbformat_minor": 4
}
