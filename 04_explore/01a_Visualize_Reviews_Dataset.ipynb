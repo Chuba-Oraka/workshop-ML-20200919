{
 "cells": [
  {
   "cell_type": "markdown",
   "metadata": {},
   "source": [
    "# Visualize Amazon Customer Reviews Dataset - Part 2"
   ]
  },
  {
   "cell_type": "markdown",
   "metadata": {},
   "source": [
    "### Dataset columns:\n",
    "\n",
    "- `marketplace`: 2-letter country code (in this case all \"US\").\n",
    "- `customer_id`: Random identifier that can be used to aggregate reviews written by a single author.\n",
    "- `review_id`: A unique ID for the review.\n",
    "- `product_id`: The Amazon Standard Identification Number (ASIN).  `http://www.amazon.com/dp/<ASIN>` links to the product's detail page.\n",
    "- `product_parent`: The parent of that ASIN.  Multiple ASINs (color or format variations of the same product) can roll up into a single parent parent.\n",
    "- `product_title`: Title description of the product.\n",
    "- `product_category`: Broad product category that can be used to group reviews (in this case digital videos).\n",
    "- `star_rating`: The review's rating (1 to 5 stars).\n",
    "- `helpful_votes`: Number of helpful votes for the review.\n",
    "- `total_votes`: Number of total votes the review received.\n",
    "- `vine`: Was the review written as part of the [Vine](https://www.amazon.com/gp/vine/help) program?\n",
    "- `verified_purchase`: Was the review from a verified purchase?\n",
    "- `review_headline`: The title of the review itself.\n",
    "- `review_body`: The text of the review.\n",
    "- `review_date`: The date the review was written."
   ]
  },
  {
   "cell_type": "code",
   "execution_count": 1,
   "metadata": {},
   "outputs": [],
   "source": [
    "%%bash\n",
    "pip install -q --upgrade pip\n",
    "pip install -q pandas==0.23.0\n",
    "pip install -q numpy==1.14.3\n",
    "pip install -q matplotlib==3.0.3\n",
    "pip install -q seaborn==0.8.1\n",
    "pip install -q PyAthena==1.8.0"
   ]
  },
  {
   "cell_type": "code",
   "execution_count": 2,
   "metadata": {},
   "outputs": [],
   "source": [
    "# Imports & Settings\n",
    "\n",
    "import boto3\n",
    "import sagemaker\n",
    "\n",
    "import numpy as np\n",
    "import pandas as pd\n",
    "import seaborn as sns\n",
    "\n",
    "import matplotlib.pyplot as plt\n",
    "%matplotlib inline\n",
    "%config InlineBackend.figure_format='retina'\n",
    "\n",
    "# Get region \n",
    "session = boto3.session.Session()\n",
    "region_name = session.region_name\n",
    "\n",
    "# Get SageMaker session & default S3 bucket\n",
    "sagemaker_session = sagemaker.Session()\n",
    "bucket = sagemaker_session.default_bucket()\n",
    "\n",
    "# Set Athena database & table \n",
    "database_name = 'dsoaws'\n",
    "table_name = 'amazon_reviews_parquet'"
   ]
  },
  {
   "cell_type": "code",
   "execution_count": 6,
   "metadata": {},
   "outputs": [],
   "source": [
    "# PyAthena imports\n",
    "from pyathena import connect\n",
    "from pyathena.pandas_cursor import PandasCursor\n",
    "from pyathena.util import as_pandas"
   ]
  },
  {
   "cell_type": "code",
   "execution_count": 7,
   "metadata": {},
   "outputs": [],
   "source": [
    "# Set S3 staging directory -- this is a temporary directory used for Athena queries\n",
    "s3_staging_dir = 's3://{0}/athena/staging'.format(bucket)"
   ]
  },
  {
   "cell_type": "markdown",
   "metadata": {},
   "source": [
    "### 1. Which product categories are the highest rated by average rating?"
   ]
  },
  {
   "cell_type": "code",
   "execution_count": 9,
   "metadata": {},
   "outputs": [
    {
     "name": "stdout",
     "output_type": "stream",
     "text": [
      "\n",
      "SELECT product_category, AVG(star_rating) AS avg_star_rating\n",
      "FROM dsoaws.amazon_reviews_parquet \n",
      "GROUP BY product_category \n",
      "ORDER BY avg_star_rating DESC\n",
      "\n"
     ]
    }
   ],
   "source": [
    "# SQL statement\n",
    "statement = \"\"\"\n",
    "SELECT product_category, AVG(star_rating) AS avg_star_rating\n",
    "FROM {}.{} \n",
    "GROUP BY product_category \n",
    "ORDER BY avg_star_rating DESC\n",
    "\"\"\".format(database_name, table_name)\n",
    "\n",
    "print(statement)"
   ]
  },
  {
   "cell_type": "code",
   "execution_count": 11,
   "metadata": {},
   "outputs": [
    {
     "data": {
      "text/html": [
       "<div>\n",
       "<style scoped>\n",
       "    .dataframe tbody tr th:only-of-type {\n",
       "        vertical-align: middle;\n",
       "    }\n",
       "\n",
       "    .dataframe tbody tr th {\n",
       "        vertical-align: top;\n",
       "    }\n",
       "\n",
       "    .dataframe thead th {\n",
       "        text-align: right;\n",
       "    }\n",
       "</style>\n",
       "<table border=\"1\" class=\"dataframe\">\n",
       "  <thead>\n",
       "    <tr style=\"text-align: right;\">\n",
       "      <th></th>\n",
       "      <th>product_category</th>\n",
       "      <th>avg_star_rating</th>\n",
       "    </tr>\n",
       "  </thead>\n",
       "  <tbody>\n",
       "    <tr>\n",
       "      <th>0</th>\n",
       "      <td>Gift Card</td>\n",
       "      <td>4.731363</td>\n",
       "    </tr>\n",
       "    <tr>\n",
       "      <th>1</th>\n",
       "      <td>Digital_Music_Purchase</td>\n",
       "      <td>4.642891</td>\n",
       "    </tr>\n",
       "    <tr>\n",
       "      <th>2</th>\n",
       "      <td>Music</td>\n",
       "      <td>4.436624</td>\n",
       "    </tr>\n",
       "    <tr>\n",
       "      <th>3</th>\n",
       "      <td>Books</td>\n",
       "      <td>4.341658</td>\n",
       "    </tr>\n",
       "    <tr>\n",
       "      <th>4</th>\n",
       "      <td>Grocery</td>\n",
       "      <td>4.312219</td>\n",
       "    </tr>\n",
       "  </tbody>\n",
       "</table>\n",
       "</div>"
      ],
      "text/plain": [
       "         product_category  avg_star_rating\n",
       "0               Gift Card         4.731363\n",
       "1  Digital_Music_Purchase         4.642891\n",
       "2                   Music         4.436624\n",
       "3                   Books         4.341658\n",
       "4                 Grocery         4.312219"
      ]
     },
     "execution_count": 11,
     "metadata": {},
     "output_type": "execute_result"
    }
   ],
   "source": [
    "cursor = connect(region_name=region_name, s3_staging_dir=s3_staging_dir).cursor()\n",
    "cursor.execute(statement)\n",
    "\n",
    "# Load query results into Pandas DataFrame and show results\n",
    "df = as_pandas(cursor)\n",
    "df.head()"
   ]
  },
  {
   "cell_type": "code",
   "execution_count": null,
   "metadata": {},
   "outputs": [],
   "source": [
    "# TODO: Visualization"
   ]
  },
  {
   "cell_type": "markdown",
   "metadata": {},
   "source": [
    "### 2. Which product categories have the most reviews?"
   ]
  },
  {
   "cell_type": "code",
   "execution_count": 12,
   "metadata": {},
   "outputs": [
    {
     "name": "stdout",
     "output_type": "stream",
     "text": [
      "\n",
      "SELECT product_category, COUNT(star_rating) AS count_star_rating \n",
      "FROM dsoaws.amazon_reviews_parquet\n",
      "GROUP BY product_category \n",
      "ORDER BY count_star_rating DESC\n",
      "\n"
     ]
    }
   ],
   "source": [
    "# SQL statement\n",
    "statement = \"\"\"\n",
    "SELECT product_category, COUNT(star_rating) AS count_star_rating \n",
    "FROM {}.{}\n",
    "GROUP BY product_category \n",
    "ORDER BY count_star_rating DESC\n",
    "\"\"\".format(database_name, table_name)\n",
    "\n",
    "print(statement)"
   ]
  },
  {
   "cell_type": "code",
   "execution_count": 13,
   "metadata": {},
   "outputs": [
    {
     "data": {
      "text/html": [
       "<div>\n",
       "<style scoped>\n",
       "    .dataframe tbody tr th:only-of-type {\n",
       "        vertical-align: middle;\n",
       "    }\n",
       "\n",
       "    .dataframe tbody tr th {\n",
       "        vertical-align: top;\n",
       "    }\n",
       "\n",
       "    .dataframe thead th {\n",
       "        text-align: right;\n",
       "    }\n",
       "</style>\n",
       "<table border=\"1\" class=\"dataframe\">\n",
       "  <thead>\n",
       "    <tr style=\"text-align: right;\">\n",
       "      <th></th>\n",
       "      <th>product_category</th>\n",
       "      <th>count_star_rating</th>\n",
       "    </tr>\n",
       "  </thead>\n",
       "  <tbody>\n",
       "    <tr>\n",
       "      <th>0</th>\n",
       "      <td>Books</td>\n",
       "      <td>19531329</td>\n",
       "    </tr>\n",
       "    <tr>\n",
       "      <th>1</th>\n",
       "      <td>Digital_Ebook_Purchase</td>\n",
       "      <td>17622415</td>\n",
       "    </tr>\n",
       "    <tr>\n",
       "      <th>2</th>\n",
       "      <td>Wireless</td>\n",
       "      <td>9002021</td>\n",
       "    </tr>\n",
       "    <tr>\n",
       "      <th>3</th>\n",
       "      <td>PC</td>\n",
       "      <td>6908554</td>\n",
       "    </tr>\n",
       "    <tr>\n",
       "      <th>4</th>\n",
       "      <td>Home</td>\n",
       "      <td>6221559</td>\n",
       "    </tr>\n",
       "  </tbody>\n",
       "</table>\n",
       "</div>"
      ],
      "text/plain": [
       "         product_category  count_star_rating\n",
       "0                   Books           19531329\n",
       "1  Digital_Ebook_Purchase           17622415\n",
       "2                Wireless            9002021\n",
       "3                      PC            6908554\n",
       "4                    Home            6221559"
      ]
     },
     "execution_count": 13,
     "metadata": {},
     "output_type": "execute_result"
    }
   ],
   "source": [
    "cursor = connect(region_name=region_name, s3_staging_dir=s3_staging_dir).cursor()\n",
    "cursor.execute(statement)\n",
    "\n",
    "# Load query results into Pandas DataFrame and show results\n",
    "df = as_pandas(cursor)\n",
    "df.head()"
   ]
  },
  {
   "cell_type": "code",
   "execution_count": null,
   "metadata": {},
   "outputs": [],
   "source": [
    "# TODO: Visualization"
   ]
  },
  {
   "cell_type": "markdown",
   "metadata": {},
   "source": [
    "### 3. When did each product category become available in the catalog based on the date of the first review?"
   ]
  },
  {
   "cell_type": "code",
   "execution_count": 14,
   "metadata": {},
   "outputs": [
    {
     "name": "stdout",
     "output_type": "stream",
     "text": [
      "\n",
      "SELECT product_category, MIN(DATE_FORMAT(DATE_ADD('day', review_date, DATE_PARSE('1970-01-01','%Y-%m-%d')), '%Y-%m-%d')) AS first_review_date \n",
      "FROM dsoaws.amazon_reviews_parquet\n",
      "GROUP BY product_category\n",
      "ORDER BY first_review_date\n",
      "\n"
     ]
    }
   ],
   "source": [
    "# SQL statement -- CHRIS\n",
    "statement = \"\"\"\n",
    "SELECT product_category, MIN(DATE_FORMAT(DATE_ADD('day', review_date, DATE_PARSE('1970-01-01','%Y-%m-%d')), '%Y-%m-%d')) AS first_review_date \n",
    "FROM {}.{}\n",
    "GROUP BY product_category\n",
    "ORDER BY first_review_date\n",
    "\"\"\".format(database_name, table_name)\n",
    "\n",
    "print(statement)"
   ]
  },
  {
   "cell_type": "code",
   "execution_count": null,
   "metadata": {},
   "outputs": [],
   "source": [
    "cursor = connect(region_name=region_name, s3_staging_dir=s3_staging_dir).cursor()\n",
    "cursor.execute(statement)\n",
    "\n",
    "# Load query results into Pandas DataFrame and show results\n",
    "df = as_pandas(cursor)\n",
    "df.head()"
   ]
  },
  {
   "cell_type": "code",
   "execution_count": 16,
   "metadata": {},
   "outputs": [
    {
     "name": "stdout",
     "output_type": "stream",
     "text": [
      "\n",
      "SELECT product_category, MIN(review_date) AS first_review_date\n",
      "FROM dsoaws.amazon_reviews_parquet\n",
      "GROUP BY product_category\n",
      "ORDER BY first_review_date \n",
      "\n"
     ]
    }
   ],
   "source": [
    "# SQL statement -- ANTJE\n",
    "statement = \"\"\"\n",
    "SELECT product_category, MIN(review_date) AS first_review_date\n",
    "FROM {}.{}\n",
    "GROUP BY product_category\n",
    "ORDER BY first_review_date \n",
    "\"\"\".format(database_name, table_name)\n",
    "\n",
    "print(statement)"
   ]
  },
  {
   "cell_type": "code",
   "execution_count": 17,
   "metadata": {},
   "outputs": [
    {
     "data": {
      "text/html": [
       "<div>\n",
       "<style scoped>\n",
       "    .dataframe tbody tr th:only-of-type {\n",
       "        vertical-align: middle;\n",
       "    }\n",
       "\n",
       "    .dataframe tbody tr th {\n",
       "        vertical-align: top;\n",
       "    }\n",
       "\n",
       "    .dataframe thead th {\n",
       "        text-align: right;\n",
       "    }\n",
       "</style>\n",
       "<table border=\"1\" class=\"dataframe\">\n",
       "  <thead>\n",
       "    <tr style=\"text-align: right;\">\n",
       "      <th></th>\n",
       "      <th>product_category</th>\n",
       "      <th>first_review_date</th>\n",
       "    </tr>\n",
       "  </thead>\n",
       "  <tbody>\n",
       "    <tr>\n",
       "      <th>0</th>\n",
       "      <td>Books</td>\n",
       "      <td>1995-06-24</td>\n",
       "    </tr>\n",
       "    <tr>\n",
       "      <th>1</th>\n",
       "      <td>Video</td>\n",
       "      <td>1995-11-11</td>\n",
       "    </tr>\n",
       "    <tr>\n",
       "      <th>2</th>\n",
       "      <td>Music</td>\n",
       "      <td>1995-11-11</td>\n",
       "    </tr>\n",
       "    <tr>\n",
       "      <th>3</th>\n",
       "      <td>Video DVD</td>\n",
       "      <td>1996-07-08</td>\n",
       "    </tr>\n",
       "    <tr>\n",
       "      <th>4</th>\n",
       "      <td>Toys</td>\n",
       "      <td>1997-01-05</td>\n",
       "    </tr>\n",
       "  </tbody>\n",
       "</table>\n",
       "</div>"
      ],
      "text/plain": [
       "  product_category first_review_date\n",
       "0            Books        1995-06-24\n",
       "1            Video        1995-11-11\n",
       "2            Music        1995-11-11\n",
       "3        Video DVD        1996-07-08\n",
       "4             Toys        1997-01-05"
      ]
     },
     "execution_count": 17,
     "metadata": {},
     "output_type": "execute_result"
    }
   ],
   "source": [
    "cursor = connect(region_name=region_name, s3_staging_dir=s3_staging_dir).cursor()\n",
    "cursor.execute(statement)\n",
    "\n",
    "# Load query results into Pandas DataFrame and show results\n",
    "df = as_pandas(cursor)\n",
    "df.head()"
   ]
  },
  {
   "cell_type": "code",
   "execution_count": null,
   "metadata": {},
   "outputs": [],
   "source": [
    "# TODO: Visualization"
   ]
  },
  {
   "cell_type": "markdown",
   "metadata": {},
   "source": [
    "### 4. What is the breakdown of ratings (1-5) per product category?  \n"
   ]
  },
  {
   "cell_type": "code",
   "execution_count": 18,
   "metadata": {},
   "outputs": [
    {
     "name": "stdout",
     "output_type": "stream",
     "text": [
      "\n",
      "SELECT product_category,\n",
      "         star_rating,\n",
      "         COUNT(*) AS count_reviews\n",
      "FROM dsoaws.amazon_reviews_parquet\n",
      "GROUP BY  product_category, star_rating\n",
      "ORDER BY  product_category ASC, star_rating DESC, count_reviews\n",
      "\n"
     ]
    }
   ],
   "source": [
    "# SQL statement \n",
    "statement = \"\"\"\n",
    "SELECT product_category,\n",
    "         star_rating,\n",
    "         COUNT(*) AS count_reviews\n",
    "FROM {}.{}\n",
    "GROUP BY  product_category, star_rating\n",
    "ORDER BY  product_category ASC, star_rating DESC, count_reviews\n",
    "\"\"\".format(database_name, table_name)\n",
    "\n",
    "print(statement)"
   ]
  },
  {
   "cell_type": "code",
   "execution_count": 19,
   "metadata": {},
   "outputs": [
    {
     "data": {
      "text/html": [
       "<div>\n",
       "<style scoped>\n",
       "    .dataframe tbody tr th:only-of-type {\n",
       "        vertical-align: middle;\n",
       "    }\n",
       "\n",
       "    .dataframe tbody tr th {\n",
       "        vertical-align: top;\n",
       "    }\n",
       "\n",
       "    .dataframe thead th {\n",
       "        text-align: right;\n",
       "    }\n",
       "</style>\n",
       "<table border=\"1\" class=\"dataframe\">\n",
       "  <thead>\n",
       "    <tr style=\"text-align: right;\">\n",
       "      <th></th>\n",
       "      <th>product_category</th>\n",
       "      <th>star_rating</th>\n",
       "      <th>count_reviews</th>\n",
       "    </tr>\n",
       "  </thead>\n",
       "  <tbody>\n",
       "    <tr>\n",
       "      <th>0</th>\n",
       "      <td>Apparel</td>\n",
       "      <td>5</td>\n",
       "      <td>3320566</td>\n",
       "    </tr>\n",
       "    <tr>\n",
       "      <th>1</th>\n",
       "      <td>Apparel</td>\n",
       "      <td>4</td>\n",
       "      <td>1147237</td>\n",
       "    </tr>\n",
       "    <tr>\n",
       "      <th>2</th>\n",
       "      <td>Apparel</td>\n",
       "      <td>3</td>\n",
       "      <td>623471</td>\n",
       "    </tr>\n",
       "    <tr>\n",
       "      <th>3</th>\n",
       "      <td>Apparel</td>\n",
       "      <td>2</td>\n",
       "      <td>369601</td>\n",
       "    </tr>\n",
       "    <tr>\n",
       "      <th>4</th>\n",
       "      <td>Apparel</td>\n",
       "      <td>1</td>\n",
       "      <td>445458</td>\n",
       "    </tr>\n",
       "  </tbody>\n",
       "</table>\n",
       "</div>"
      ],
      "text/plain": [
       "  product_category  star_rating  count_reviews\n",
       "0          Apparel            5        3320566\n",
       "1          Apparel            4        1147237\n",
       "2          Apparel            3         623471\n",
       "3          Apparel            2         369601\n",
       "4          Apparel            1         445458"
      ]
     },
     "execution_count": 19,
     "metadata": {},
     "output_type": "execute_result"
    }
   ],
   "source": [
    "cursor = connect(region_name=region_name, s3_staging_dir=s3_staging_dir).cursor()\n",
    "cursor.execute(statement)\n",
    "\n",
    "# Load query results into Pandas DataFrame and show results\n",
    "df = as_pandas(cursor)\n",
    "df.head()"
   ]
  },
  {
   "cell_type": "code",
   "execution_count": null,
   "metadata": {},
   "outputs": [],
   "source": [
    "# TODO: Visualization"
   ]
  },
  {
   "cell_type": "markdown",
   "metadata": {},
   "source": [
    "#### With this information, we can also quickly group by star ratings and count the reviews for each rating (5, 4, 3, 2, 1): "
   ]
  },
  {
   "cell_type": "code",
   "execution_count": 20,
   "metadata": {},
   "outputs": [
    {
     "name": "stdout",
     "output_type": "stream",
     "text": [
      "\n",
      "SELECT star_rating,\n",
      "         COUNT(*) AS count_reviews\n",
      "FROM dsoaws.amazon_reviews_parquet\n",
      "GROUP BY  star_rating\n",
      "ORDER BY  star_rating DESC, count_reviews \n",
      "\n"
     ]
    }
   ],
   "source": [
    "# SQL statement \n",
    "statement = \"\"\"\n",
    "SELECT star_rating,\n",
    "         COUNT(*) AS count_reviews\n",
    "FROM dsoaws.amazon_reviews_parquet\n",
    "GROUP BY  star_rating\n",
    "ORDER BY  star_rating DESC, count_reviews \n",
    "\"\"\".format(database_name, table_name)\n",
    "\n",
    "print(statement)"
   ]
  },
  {
   "cell_type": "code",
   "execution_count": 21,
   "metadata": {},
   "outputs": [
    {
     "data": {
      "text/html": [
       "<div>\n",
       "<style scoped>\n",
       "    .dataframe tbody tr th:only-of-type {\n",
       "        vertical-align: middle;\n",
       "    }\n",
       "\n",
       "    .dataframe tbody tr th {\n",
       "        vertical-align: top;\n",
       "    }\n",
       "\n",
       "    .dataframe thead th {\n",
       "        text-align: right;\n",
       "    }\n",
       "</style>\n",
       "<table border=\"1\" class=\"dataframe\">\n",
       "  <thead>\n",
       "    <tr style=\"text-align: right;\">\n",
       "      <th></th>\n",
       "      <th>star_rating</th>\n",
       "      <th>count_reviews</th>\n",
       "    </tr>\n",
       "  </thead>\n",
       "  <tbody>\n",
       "    <tr>\n",
       "      <th>0</th>\n",
       "      <td>5</td>\n",
       "      <td>93200812</td>\n",
       "    </tr>\n",
       "    <tr>\n",
       "      <th>1</th>\n",
       "      <td>4</td>\n",
       "      <td>26223470</td>\n",
       "    </tr>\n",
       "    <tr>\n",
       "      <th>2</th>\n",
       "      <td>3</td>\n",
       "      <td>12133927</td>\n",
       "    </tr>\n",
       "    <tr>\n",
       "      <th>3</th>\n",
       "      <td>2</td>\n",
       "      <td>7304430</td>\n",
       "    </tr>\n",
       "    <tr>\n",
       "      <th>4</th>\n",
       "      <td>1</td>\n",
       "      <td>12099639</td>\n",
       "    </tr>\n",
       "  </tbody>\n",
       "</table>\n",
       "</div>"
      ],
      "text/plain": [
       "   star_rating  count_reviews\n",
       "0            5       93200812\n",
       "1            4       26223470\n",
       "2            3       12133927\n",
       "3            2        7304430\n",
       "4            1       12099639"
      ]
     },
     "execution_count": 21,
     "metadata": {},
     "output_type": "execute_result"
    }
   ],
   "source": [
    "cursor = connect(region_name=region_name, s3_staging_dir=s3_staging_dir).cursor()\n",
    "cursor.execute(statement)\n",
    "\n",
    "# Load query results into Pandas DataFrame and show results\n",
    "df = as_pandas(cursor)\n",
    "df.head()"
   ]
  },
  {
   "cell_type": "code",
   "execution_count": null,
   "metadata": {},
   "outputs": [],
   "source": [
    "# TODO: Visualization"
   ]
  },
  {
   "cell_type": "markdown",
   "metadata": {},
   "source": [
    "#### Stacked percentage horizontal bar plot showing proportion of star ratings per product category"
   ]
  },
  {
   "cell_type": "code",
   "execution_count": null,
   "metadata": {},
   "outputs": [],
   "source": [
    "# See 01_notebook"
   ]
  },
  {
   "cell_type": "code",
   "execution_count": null,
   "metadata": {},
   "outputs": [],
   "source": [
    "# TODO: Visualization"
   ]
  },
  {
   "cell_type": "markdown",
   "metadata": {},
   "source": [
    "### 5. Which star ratings (1-5) are the most helpful?"
   ]
  },
  {
   "cell_type": "code",
   "execution_count": 22,
   "metadata": {},
   "outputs": [
    {
     "name": "stdout",
     "output_type": "stream",
     "text": [
      "\n",
      "SELECT star_rating,\n",
      "         AVG(helpful_votes) AS avg_helpful_votes\n",
      "FROM dsoaws.amazon_reviews_parquet\n",
      "GROUP BY  star_rating\n",
      "ORDER BY  star_rating DESC\n",
      "\n"
     ]
    }
   ],
   "source": [
    "# SQL statement \n",
    "statement = \"\"\"\n",
    "SELECT star_rating,\n",
    "         AVG(helpful_votes) AS avg_helpful_votes\n",
    "FROM {}.{}\n",
    "GROUP BY  star_rating\n",
    "ORDER BY  star_rating DESC\n",
    "\"\"\".format(database_name, table_name)\n",
    "\n",
    "print(statement)"
   ]
  },
  {
   "cell_type": "code",
   "execution_count": 23,
   "metadata": {},
   "outputs": [
    {
     "data": {
      "text/html": [
       "<div>\n",
       "<style scoped>\n",
       "    .dataframe tbody tr th:only-of-type {\n",
       "        vertical-align: middle;\n",
       "    }\n",
       "\n",
       "    .dataframe tbody tr th {\n",
       "        vertical-align: top;\n",
       "    }\n",
       "\n",
       "    .dataframe thead th {\n",
       "        text-align: right;\n",
       "    }\n",
       "</style>\n",
       "<table border=\"1\" class=\"dataframe\">\n",
       "  <thead>\n",
       "    <tr style=\"text-align: right;\">\n",
       "      <th></th>\n",
       "      <th>star_rating</th>\n",
       "      <th>avg_helpful_votes</th>\n",
       "    </tr>\n",
       "  </thead>\n",
       "  <tbody>\n",
       "    <tr>\n",
       "      <th>0</th>\n",
       "      <td>5</td>\n",
       "      <td>1.672698</td>\n",
       "    </tr>\n",
       "    <tr>\n",
       "      <th>1</th>\n",
       "      <td>4</td>\n",
       "      <td>1.678697</td>\n",
       "    </tr>\n",
       "    <tr>\n",
       "      <th>2</th>\n",
       "      <td>3</td>\n",
       "      <td>2.048090</td>\n",
       "    </tr>\n",
       "    <tr>\n",
       "      <th>3</th>\n",
       "      <td>2</td>\n",
       "      <td>2.506635</td>\n",
       "    </tr>\n",
       "    <tr>\n",
       "      <th>4</th>\n",
       "      <td>1</td>\n",
       "      <td>3.684641</td>\n",
       "    </tr>\n",
       "  </tbody>\n",
       "</table>\n",
       "</div>"
      ],
      "text/plain": [
       "   star_rating  avg_helpful_votes\n",
       "0            5           1.672698\n",
       "1            4           1.678697\n",
       "2            3           2.048090\n",
       "3            2           2.506635\n",
       "4            1           3.684641"
      ]
     },
     "execution_count": 23,
     "metadata": {},
     "output_type": "execute_result"
    }
   ],
   "source": [
    "cursor = connect(region_name=region_name, s3_staging_dir=s3_staging_dir).cursor()\n",
    "cursor.execute(statement)\n",
    "\n",
    "# Load query results into Pandas DataFrame and show results\n",
    "df = as_pandas(cursor)\n",
    "df.head()"
   ]
  },
  {
   "cell_type": "code",
   "execution_count": null,
   "metadata": {},
   "outputs": [],
   "source": [
    "# TODO: Visualization"
   ]
  },
  {
   "cell_type": "markdown",
   "metadata": {},
   "source": [
    "### 6. Which products have the most helpful reviews?  How long are those reviews?"
   ]
  },
  {
   "cell_type": "code",
   "execution_count": 24,
   "metadata": {},
   "outputs": [
    {
     "name": "stdout",
     "output_type": "stream",
     "text": [
      "\n",
      "SELECT product_title,\n",
      "         helpful_votes,\n",
      "         star_rating,\n",
      "         LENGTH(review_body) AS review_body_length,\n",
      "         SUBSTR(review_body, 1, 100) AS review_body_substr\n",
      "FROM dsoaws.amazon_reviews_parquet\n",
      "ORDER BY helpful_votes DESC LIMIT 10 \n",
      "\n"
     ]
    }
   ],
   "source": [
    "# SQL statement \n",
    "statement = \"\"\"\n",
    "SELECT product_title,\n",
    "         helpful_votes,\n",
    "         star_rating,\n",
    "         LENGTH(review_body) AS review_body_length,\n",
    "         SUBSTR(review_body, 1, 100) AS review_body_substr\n",
    "FROM {}.{}\n",
    "ORDER BY helpful_votes DESC LIMIT 10 \n",
    "\"\"\".format(database_name, table_name)\n",
    "\n",
    "print(statement)"
   ]
  },
  {
   "cell_type": "code",
   "execution_count": 25,
   "metadata": {},
   "outputs": [
    {
     "data": {
      "text/html": [
       "<div>\n",
       "<style scoped>\n",
       "    .dataframe tbody tr th:only-of-type {\n",
       "        vertical-align: middle;\n",
       "    }\n",
       "\n",
       "    .dataframe tbody tr th {\n",
       "        vertical-align: top;\n",
       "    }\n",
       "\n",
       "    .dataframe thead th {\n",
       "        text-align: right;\n",
       "    }\n",
       "</style>\n",
       "<table border=\"1\" class=\"dataframe\">\n",
       "  <thead>\n",
       "    <tr style=\"text-align: right;\">\n",
       "      <th></th>\n",
       "      <th>product_title</th>\n",
       "      <th>helpful_votes</th>\n",
       "      <th>star_rating</th>\n",
       "      <th>review_body_length</th>\n",
       "      <th>review_body_substr</th>\n",
       "    </tr>\n",
       "  </thead>\n",
       "  <tbody>\n",
       "    <tr>\n",
       "      <th>0</th>\n",
       "      <td>Kindle: Amazon's Original Wireless Reading Dev...</td>\n",
       "      <td>47524</td>\n",
       "      <td>5</td>\n",
       "      <td>12906</td>\n",
       "      <td>This is less a \\\\\"pros and cons\\\\\" review than...</td>\n",
       "    </tr>\n",
       "    <tr>\n",
       "      <th>1</th>\n",
       "      <td>BIC Cristal For Her Ball Pen, 1.0mm, Black, 16...</td>\n",
       "      <td>41393</td>\n",
       "      <td>5</td>\n",
       "      <td>863</td>\n",
       "      <td>Someone has answered my gentle prayers and FIN...</td>\n",
       "    </tr>\n",
       "    <tr>\n",
       "      <th>2</th>\n",
       "      <td>The Mountain Kids 100% Cotton Three Wolf Moon ...</td>\n",
       "      <td>41278</td>\n",
       "      <td>5</td>\n",
       "      <td>1566</td>\n",
       "      <td>This item has wolves on it which makes it intr...</td>\n",
       "    </tr>\n",
       "    <tr>\n",
       "      <th>3</th>\n",
       "      <td>Kindle Keyboard 3G, Free 3G + Wi-Fi, 6\" E Ink ...</td>\n",
       "      <td>31924</td>\n",
       "      <td>5</td>\n",
       "      <td>23069</td>\n",
       "      <td>UPDATE NOVEMBER 2011:&lt;br /&gt;&lt;br /&gt;My review is ...</td>\n",
       "    </tr>\n",
       "    <tr>\n",
       "      <th>4</th>\n",
       "      <td>Kindle Fire HD 7\", Dolby Audio, Dual-Band Wi-Fi</td>\n",
       "      <td>31417</td>\n",
       "      <td>4</td>\n",
       "      <td>13594</td>\n",
       "      <td>I've been an iPad user since the original came...</td>\n",
       "    </tr>\n",
       "  </tbody>\n",
       "</table>\n",
       "</div>"
      ],
      "text/plain": [
       "                                       product_title  helpful_votes  \\\n",
       "0  Kindle: Amazon's Original Wireless Reading Dev...          47524   \n",
       "1  BIC Cristal For Her Ball Pen, 1.0mm, Black, 16...          41393   \n",
       "2  The Mountain Kids 100% Cotton Three Wolf Moon ...          41278   \n",
       "3  Kindle Keyboard 3G, Free 3G + Wi-Fi, 6\" E Ink ...          31924   \n",
       "4    Kindle Fire HD 7\", Dolby Audio, Dual-Band Wi-Fi          31417   \n",
       "\n",
       "   star_rating  review_body_length  \\\n",
       "0            5               12906   \n",
       "1            5                 863   \n",
       "2            5                1566   \n",
       "3            5               23069   \n",
       "4            4               13594   \n",
       "\n",
       "                                  review_body_substr  \n",
       "0  This is less a \\\\\"pros and cons\\\\\" review than...  \n",
       "1  Someone has answered my gentle prayers and FIN...  \n",
       "2  This item has wolves on it which makes it intr...  \n",
       "3  UPDATE NOVEMBER 2011:<br /><br />My review is ...  \n",
       "4  I've been an iPad user since the original came...  "
      ]
     },
     "execution_count": 25,
     "metadata": {},
     "output_type": "execute_result"
    }
   ],
   "source": [
    "cursor = connect(region_name=region_name, s3_staging_dir=s3_staging_dir).cursor()\n",
    "cursor.execute(statement)\n",
    "\n",
    "# Load query results into Pandas DataFrame and show results\n",
    "df = as_pandas(cursor)\n",
    "df.head()"
   ]
  },
  {
   "cell_type": "code",
   "execution_count": null,
   "metadata": {},
   "outputs": [],
   "source": [
    "# TODO: Visualization"
   ]
  },
  {
   "cell_type": "markdown",
   "metadata": {},
   "source": [
    "### 7. For which 2 products does the same individual love and hate?"
   ]
  },
  {
   "cell_type": "code",
   "execution_count": null,
   "metadata": {},
   "outputs": [],
   "source": []
  },
  {
   "cell_type": "code",
   "execution_count": null,
   "metadata": {},
   "outputs": [],
   "source": []
  },
  {
   "cell_type": "markdown",
   "metadata": {},
   "source": [
    "### 8. Which customers have written the most helpful reviews?  \n",
    "And how many reviews have they written?  \n",
    "Across how many categories?  What is their average star rating?"
   ]
  },
  {
   "cell_type": "code",
   "execution_count": 26,
   "metadata": {},
   "outputs": [
    {
     "name": "stdout",
     "output_type": "stream",
     "text": [
      "\n",
      "SELECT customer_id,\n",
      "       ROUND(AVG(helpful_votes),1) AS avg_helpful_votes,\n",
      "       COUNT(*) AS review_count,\n",
      "  COUNT(DISTINCT product_category) AS \n",
      "product_category_count,\n",
      "       ROUND(AVG(star_rating),1) AS avg_star_rating\n",
      "FROM dsoaws.amazon_reviews_parquet\n",
      "GROUP BY  customer_id\n",
      "HAVING count(*) > 100\n",
      "ORDER BY avg_helpful_votes DESC LIMIT 10;\n",
      "\n"
     ]
    }
   ],
   "source": [
    "# SQL statement \n",
    "statement = \"\"\"\n",
    "SELECT customer_id,\n",
    "       ROUND(AVG(helpful_votes),1) AS avg_helpful_votes,\n",
    "       COUNT(*) AS review_count,\n",
    "  COUNT(DISTINCT product_category) AS \n",
    "product_category_count,\n",
    "       ROUND(AVG(star_rating),1) AS avg_star_rating\n",
    "FROM {}.{}\n",
    "GROUP BY  customer_id\n",
    "HAVING count(*) > 100\n",
    "ORDER BY avg_helpful_votes DESC LIMIT 10;\n",
    "\"\"\".format(database_name, table_name)\n",
    "\n",
    "print(statement)"
   ]
  },
  {
   "cell_type": "code",
   "execution_count": 27,
   "metadata": {},
   "outputs": [
    {
     "data": {
      "text/html": [
       "<div>\n",
       "<style scoped>\n",
       "    .dataframe tbody tr th:only-of-type {\n",
       "        vertical-align: middle;\n",
       "    }\n",
       "\n",
       "    .dataframe tbody tr th {\n",
       "        vertical-align: top;\n",
       "    }\n",
       "\n",
       "    .dataframe thead th {\n",
       "        text-align: right;\n",
       "    }\n",
       "</style>\n",
       "<table border=\"1\" class=\"dataframe\">\n",
       "  <thead>\n",
       "    <tr style=\"text-align: right;\">\n",
       "      <th></th>\n",
       "      <th>customer_id</th>\n",
       "      <th>avg_helpful_votes</th>\n",
       "      <th>review_count</th>\n",
       "      <th>product_category_count</th>\n",
       "      <th>avg_star_rating</th>\n",
       "    </tr>\n",
       "  </thead>\n",
       "  <tbody>\n",
       "    <tr>\n",
       "      <th>0</th>\n",
       "      <td>53025525</td>\n",
       "      <td>294.9</td>\n",
       "      <td>143</td>\n",
       "      <td>18</td>\n",
       "      <td>4.4</td>\n",
       "    </tr>\n",
       "    <tr>\n",
       "      <th>1</th>\n",
       "      <td>50629044</td>\n",
       "      <td>258.2</td>\n",
       "      <td>105</td>\n",
       "      <td>24</td>\n",
       "      <td>3.8</td>\n",
       "    </tr>\n",
       "    <tr>\n",
       "      <th>2</th>\n",
       "      <td>52621867</td>\n",
       "      <td>169.7</td>\n",
       "      <td>105</td>\n",
       "      <td>23</td>\n",
       "      <td>3.4</td>\n",
       "    </tr>\n",
       "    <tr>\n",
       "      <th>3</th>\n",
       "      <td>43346653</td>\n",
       "      <td>158.8</td>\n",
       "      <td>103</td>\n",
       "      <td>7</td>\n",
       "      <td>4.1</td>\n",
       "    </tr>\n",
       "    <tr>\n",
       "      <th>4</th>\n",
       "      <td>42793407</td>\n",
       "      <td>145.3</td>\n",
       "      <td>133</td>\n",
       "      <td>25</td>\n",
       "      <td>4.1</td>\n",
       "    </tr>\n",
       "  </tbody>\n",
       "</table>\n",
       "</div>"
      ],
      "text/plain": [
       "  customer_id  avg_helpful_votes  review_count  product_category_count  \\\n",
       "0    53025525              294.9           143                      18   \n",
       "1    50629044              258.2           105                      24   \n",
       "2    52621867              169.7           105                      23   \n",
       "3    43346653              158.8           103                       7   \n",
       "4    42793407              145.3           133                      25   \n",
       "\n",
       "   avg_star_rating  \n",
       "0              4.4  \n",
       "1              3.8  \n",
       "2              3.4  \n",
       "3              4.1  \n",
       "4              4.1  "
      ]
     },
     "execution_count": 27,
     "metadata": {},
     "output_type": "execute_result"
    }
   ],
   "source": [
    "cursor = connect(region_name=region_name, s3_staging_dir=s3_staging_dir).cursor()\n",
    "cursor.execute(statement)\n",
    "\n",
    "# Load query results into Pandas DataFrame and show results\n",
    "df = as_pandas(cursor)\n",
    "df.head()"
   ]
  },
  {
   "cell_type": "code",
   "execution_count": null,
   "metadata": {},
   "outputs": [],
   "source": [
    "# TODO: Visualization"
   ]
  },
  {
   "cell_type": "markdown",
   "metadata": {},
   "source": [
    "### 9. What is the ratio of positive to negative reviews?"
   ]
  },
  {
   "cell_type": "code",
   "execution_count": 30,
   "metadata": {},
   "outputs": [
    {
     "name": "stdout",
     "output_type": "stream",
     "text": [
      "\n",
      "SELECT (CAST(positive_review_count AS DOUBLE) / CAST(negative_review_count AS DOUBLE)) AS positive_to_negative_sentiment_ratio\n",
      "FROM (\n",
      "  SELECT count(*) AS positive_review_count\n",
      "  FROM dsoaws.amazon_reviews_parquet\n",
      "  WHERE star_rating >= 4\n",
      "), (\n",
      "  SELECT count(*) AS negative_review_count\n",
      "  FROM dsoaws.amazon_reviews_parquet\n",
      "  WHERE star_rating < 4\n",
      ")\n",
      "\n"
     ]
    }
   ],
   "source": [
    "# SQL statement \n",
    "statement = \"\"\"\n",
    "SELECT (CAST(positive_review_count AS DOUBLE) / CAST(negative_review_count AS DOUBLE)) AS positive_to_negative_sentiment_ratio\n",
    "FROM (\n",
    "  SELECT count(*) AS positive_review_count\n",
    "  FROM {}.{}\n",
    "  WHERE star_rating >= 4\n",
    "), (\n",
    "  SELECT count(*) AS negative_review_count\n",
    "  FROM {}.{}\n",
    "  WHERE star_rating < 4\n",
    ")\n",
    "\"\"\".format(database_name, table_name, database_name, table_name)\n",
    "\n",
    "print(statement)"
   ]
  },
  {
   "cell_type": "code",
   "execution_count": 31,
   "metadata": {},
   "outputs": [
    {
     "data": {
      "text/html": [
       "<div>\n",
       "<style scoped>\n",
       "    .dataframe tbody tr th:only-of-type {\n",
       "        vertical-align: middle;\n",
       "    }\n",
       "\n",
       "    .dataframe tbody tr th {\n",
       "        vertical-align: top;\n",
       "    }\n",
       "\n",
       "    .dataframe thead th {\n",
       "        text-align: right;\n",
       "    }\n",
       "</style>\n",
       "<table border=\"1\" class=\"dataframe\">\n",
       "  <thead>\n",
       "    <tr style=\"text-align: right;\">\n",
       "      <th></th>\n",
       "      <th>positive_to_negative_sentiment_ratio</th>\n",
       "    </tr>\n",
       "  </thead>\n",
       "  <tbody>\n",
       "    <tr>\n",
       "      <th>0</th>\n",
       "      <td>3.786679</td>\n",
       "    </tr>\n",
       "  </tbody>\n",
       "</table>\n",
       "</div>"
      ],
      "text/plain": [
       "   positive_to_negative_sentiment_ratio\n",
       "0                              3.786679"
      ]
     },
     "execution_count": 31,
     "metadata": {},
     "output_type": "execute_result"
    }
   ],
   "source": [
    "cursor = connect(region_name=region_name, s3_staging_dir=s3_staging_dir).cursor()\n",
    "cursor.execute(statement)\n",
    "\n",
    "# Load query results into Pandas DataFrame and show results\n",
    "df = as_pandas(cursor)\n",
    "df.head()"
   ]
  },
  {
   "cell_type": "code",
   "execution_count": null,
   "metadata": {},
   "outputs": [],
   "source": [
    "# TODO: Visualization"
   ]
  },
  {
   "cell_type": "markdown",
   "metadata": {},
   "source": [
    "### 10. How have ratings changed over time?  ie. has the average rating become more or less critical over the years?"
   ]
  },
  {
   "cell_type": "code",
   "execution_count": 35,
   "metadata": {},
   "outputs": [
    {
     "name": "stdout",
     "output_type": "stream",
     "text": [
      "\n",
      "SELECT year, ROUND(AVG(star_rating),4) AS avg_rating\n",
      "FROM dsoaws.amazon_reviews_parquet\n",
      "GROUP BY year\n",
      "ORDER BY year\n",
      "\n"
     ]
    }
   ],
   "source": [
    "# SQL statement \n",
    "statement = \"\"\"\n",
    "SELECT year, ROUND(AVG(star_rating),4) AS avg_rating\n",
    "FROM {}.{}\n",
    "GROUP BY year\n",
    "ORDER BY year\n",
    "\"\"\".format(database_name, table_name)\n",
    "\n",
    "print(statement)"
   ]
  },
  {
   "cell_type": "code",
   "execution_count": 36,
   "metadata": {},
   "outputs": [
    {
     "data": {
      "text/html": [
       "<div>\n",
       "<style scoped>\n",
       "    .dataframe tbody tr th:only-of-type {\n",
       "        vertical-align: middle;\n",
       "    }\n",
       "\n",
       "    .dataframe tbody tr th {\n",
       "        vertical-align: top;\n",
       "    }\n",
       "\n",
       "    .dataframe thead th {\n",
       "        text-align: right;\n",
       "    }\n",
       "</style>\n",
       "<table border=\"1\" class=\"dataframe\">\n",
       "  <thead>\n",
       "    <tr style=\"text-align: right;\">\n",
       "      <th></th>\n",
       "      <th>year</th>\n",
       "      <th>avg_rating</th>\n",
       "    </tr>\n",
       "  </thead>\n",
       "  <tbody>\n",
       "    <tr>\n",
       "      <th>0</th>\n",
       "      <td>1995</td>\n",
       "      <td>4.6169</td>\n",
       "    </tr>\n",
       "    <tr>\n",
       "      <th>1</th>\n",
       "      <td>1996</td>\n",
       "      <td>4.6003</td>\n",
       "    </tr>\n",
       "    <tr>\n",
       "      <th>2</th>\n",
       "      <td>1997</td>\n",
       "      <td>4.4344</td>\n",
       "    </tr>\n",
       "    <tr>\n",
       "      <th>3</th>\n",
       "      <td>1998</td>\n",
       "      <td>4.3607</td>\n",
       "    </tr>\n",
       "    <tr>\n",
       "      <th>4</th>\n",
       "      <td>1999</td>\n",
       "      <td>4.2819</td>\n",
       "    </tr>\n",
       "  </tbody>\n",
       "</table>\n",
       "</div>"
      ],
      "text/plain": [
       "   year  avg_rating\n",
       "0  1995      4.6169\n",
       "1  1996      4.6003\n",
       "2  1997      4.4344\n",
       "3  1998      4.3607\n",
       "4  1999      4.2819"
      ]
     },
     "execution_count": 36,
     "metadata": {},
     "output_type": "execute_result"
    }
   ],
   "source": [
    "cursor = connect(region_name=region_name, s3_staging_dir=s3_staging_dir).cursor()\n",
    "cursor.execute(statement)\n",
    "\n",
    "# Load query results into Pandas DataFrame and show results\n",
    "df = as_pandas(cursor)\n",
    "df.head()"
   ]
  },
  {
   "cell_type": "code",
   "execution_count": null,
   "metadata": {},
   "outputs": [],
   "source": [
    "# TODO: Visualization"
   ]
  },
  {
   "cell_type": "markdown",
   "metadata": {},
   "source": [
    "### 11. Which customers are abusing the review system by repeatedly reviewing the same product more than once?  What was their average star rating for each product?"
   ]
  },
  {
   "cell_type": "code",
   "execution_count": 40,
   "metadata": {},
   "outputs": [
    {
     "name": "stdout",
     "output_type": "stream",
     "text": [
      "\n",
      "SELECT customer_id, product_category, product_title, \n",
      "ROUND(AVG(star_rating),4) AS avg_star_rating, COUNT(*) AS review_count \n",
      "FROM dsoaws.amazon_reviews_parquet \n",
      "GROUP BY customer_id, product_category, product_title \n",
      "HAVING COUNT(*) > 1 \n",
      "ORDER BY review_count DESC\n",
      "LIMIT 5\n",
      "\n"
     ]
    }
   ],
   "source": [
    "# SQL statement \n",
    "statement = \"\"\"\n",
    "SELECT customer_id, product_category, product_title, \n",
    "ROUND(AVG(star_rating),4) AS avg_star_rating, COUNT(*) AS review_count \n",
    "FROM dsoaws.amazon_reviews_parquet \n",
    "GROUP BY customer_id, product_category, product_title \n",
    "HAVING COUNT(*) > 1 \n",
    "ORDER BY review_count DESC\n",
    "LIMIT 5\n",
    "\"\"\".format(database_name, table_name)\n",
    "\n",
    "print(statement)"
   ]
  },
  {
   "cell_type": "code",
   "execution_count": 41,
   "metadata": {},
   "outputs": [
    {
     "data": {
      "text/html": [
       "<div>\n",
       "<style scoped>\n",
       "    .dataframe tbody tr th:only-of-type {\n",
       "        vertical-align: middle;\n",
       "    }\n",
       "\n",
       "    .dataframe tbody tr th {\n",
       "        vertical-align: top;\n",
       "    }\n",
       "\n",
       "    .dataframe thead th {\n",
       "        text-align: right;\n",
       "    }\n",
       "</style>\n",
       "<table border=\"1\" class=\"dataframe\">\n",
       "  <thead>\n",
       "    <tr style=\"text-align: right;\">\n",
       "      <th></th>\n",
       "      <th>customer_id</th>\n",
       "      <th>product_category</th>\n",
       "      <th>product_title</th>\n",
       "      <th>avg_star_rating</th>\n",
       "      <th>review_count</th>\n",
       "    </tr>\n",
       "  </thead>\n",
       "  <tbody>\n",
       "    <tr>\n",
       "      <th>0</th>\n",
       "      <td>38118182</td>\n",
       "      <td>Video DVD</td>\n",
       "      <td>Pearl Harbor</td>\n",
       "      <td>4.2308</td>\n",
       "      <td>130</td>\n",
       "    </tr>\n",
       "    <tr>\n",
       "      <th>1</th>\n",
       "      <td>33132919</td>\n",
       "      <td>Video DVD</td>\n",
       "      <td>Shania Twain - Up (Live in Chicago)</td>\n",
       "      <td>5.0000</td>\n",
       "      <td>110</td>\n",
       "    </tr>\n",
       "    <tr>\n",
       "      <th>2</th>\n",
       "      <td>52895956</td>\n",
       "      <td>Books</td>\n",
       "      <td>Frankenstein</td>\n",
       "      <td>3.0215</td>\n",
       "      <td>93</td>\n",
       "    </tr>\n",
       "    <tr>\n",
       "      <th>3</th>\n",
       "      <td>32330663</td>\n",
       "      <td>Music</td>\n",
       "      <td>Reprise</td>\n",
       "      <td>5.0000</td>\n",
       "      <td>82</td>\n",
       "    </tr>\n",
       "    <tr>\n",
       "      <th>4</th>\n",
       "      <td>43622173</td>\n",
       "      <td>Music</td>\n",
       "      <td>Sinner</td>\n",
       "      <td>4.9756</td>\n",
       "      <td>82</td>\n",
       "    </tr>\n",
       "  </tbody>\n",
       "</table>\n",
       "</div>"
      ],
      "text/plain": [
       "  customer_id product_category                        product_title  \\\n",
       "0    38118182        Video DVD                         Pearl Harbor   \n",
       "1    33132919        Video DVD  Shania Twain - Up (Live in Chicago)   \n",
       "2    52895956            Books                         Frankenstein   \n",
       "3    32330663            Music                              Reprise   \n",
       "4    43622173            Music                               Sinner   \n",
       "\n",
       "   avg_star_rating  review_count  \n",
       "0           4.2308           130  \n",
       "1           5.0000           110  \n",
       "2           3.0215            93  \n",
       "3           5.0000            82  \n",
       "4           4.9756            82  "
      ]
     },
     "execution_count": 41,
     "metadata": {},
     "output_type": "execute_result"
    }
   ],
   "source": [
    "cursor = connect(region_name=region_name, s3_staging_dir=s3_staging_dir).cursor()\n",
    "cursor.execute(statement)\n",
    "\n",
    "# Load query results into Pandas DataFrame and show results\n",
    "df = as_pandas(cursor)\n",
    "df.head()"
   ]
  },
  {
   "cell_type": "code",
   "execution_count": null,
   "metadata": {},
   "outputs": [],
   "source": [
    "# TODO: Visualization"
   ]
  }
 ],
 "metadata": {
  "kernelspec": {
   "display_name": "conda_python3",
   "language": "python",
   "name": "conda_python3"
  },
  "language_info": {
   "codemirror_mode": {
    "name": "ipython",
    "version": 3
   },
   "file_extension": ".py",
   "mimetype": "text/x-python",
   "name": "python",
   "nbconvert_exporter": "python",
   "pygments_lexer": "ipython3",
   "version": "3.6.5"
  }
 },
 "nbformat": 4,
 "nbformat_minor": 4
}
