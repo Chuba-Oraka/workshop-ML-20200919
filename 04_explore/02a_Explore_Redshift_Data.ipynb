{
 "cells": [
  {
   "cell_type": "markdown",
   "metadata": {},
   "source": [
    "# Explore Data In Redshift - Part 2"
   ]
  },
  {
   "cell_type": "code",
   "execution_count": 2,
   "metadata": {},
   "outputs": [],
   "source": [
    "# Install SQL Alchemy\n",
    "!pip install -q SQLAlchemy==1.3.13"
   ]
  },
  {
   "cell_type": "markdown",
   "metadata": {},
   "source": [
    "### Set Redshift Connection Parameters"
   ]
  },
  {
   "cell_type": "code",
   "execution_count": 3,
   "metadata": {},
   "outputs": [],
   "source": [
    "redshift_schema = 'redshift'\n",
    "redshift_cluster_identifier = 'dsoaws'\n",
    "redshift_host = 'dsoaws'\n",
    "redshift_database = 'dsoaws'\n",
    "redshift_port = '5439'\n",
    "redshift_table_2015 = 'amazon_reviews_tsv_2015'\n",
    "redshift_table_2014 = 'amazon_reviews_tsv_2014'"
   ]
  },
  {
   "cell_type": "markdown",
   "metadata": {},
   "source": [
    "### Load the Redshift Secrets from Secrets Manager"
   ]
  },
  {
   "cell_type": "code",
   "execution_count": 4,
   "metadata": {},
   "outputs": [],
   "source": [
    "import json\n",
    "import boto3\n",
    "\n",
    "secretsmanager = boto3.client('secretsmanager')\n",
    "\n",
    "secret = secretsmanager.get_secret_value(SecretId='dsoaws_redshift_login')\n",
    "cred = json.loads(secret['SecretString'])\n",
    "\n",
    "redshift_username = cred[0]['username']\n",
    "redshift_pw = cred[1]['password']"
   ]
  },
  {
   "cell_type": "code",
   "execution_count": 5,
   "metadata": {},
   "outputs": [
    {
     "name": "stdout",
     "output_type": "stream",
     "text": [
      "dsoaws.cypuzlfd0zvn.us-east-1.redshift.amazonaws.com\n"
     ]
    }
   ],
   "source": [
    "redshift = boto3.client('redshift')\n",
    "response = redshift.describe_clusters(ClusterIdentifier=redshift_cluster_identifier)\n",
    "redshift_endpoint_address = response['Clusters'][0]['Endpoint']['Address']\n",
    "\n",
    "print(redshift_endpoint_address)"
   ]
  },
  {
   "cell_type": "markdown",
   "metadata": {},
   "source": [
    "### Create the Redshift Query Engine "
   ]
  },
  {
   "cell_type": "code",
   "execution_count": 6,
   "metadata": {},
   "outputs": [
    {
     "name": "stderr",
     "output_type": "stream",
     "text": [
      "/home/ec2-user/anaconda3/envs/python3/lib/python3.6/site-packages/psycopg2/__init__.py:144: UserWarning: The psycopg2 wheel package will be renamed from release 2.8; in order to keep installing from binary please use \"pip install psycopg2-binary\" instead. For details see: <http://initd.org/psycopg/docs/install.html#binary-install-from-pypi>.\n",
      "  \"\"\")\n"
     ]
    }
   ],
   "source": [
    "from sqlalchemy import create_engine\n",
    "engine = create_engine('postgresql://{}:{}@{}:{}/{}'.format(redshift_username, redshift_pw, redshift_endpoint_address, redshift_port, redshift_database))\n"
   ]
  },
  {
   "cell_type": "markdown",
   "metadata": {},
   "source": [
    "### Prepare For Visualizations"
   ]
  },
  {
   "cell_type": "code",
   "execution_count": 7,
   "metadata": {},
   "outputs": [],
   "source": [
    "import numpy as np\n",
    "import pandas as pd\n",
    "import seaborn as sns\n",
    "import matplotlib.pyplot as plt\n",
    "%matplotlib inline\n",
    "%config InlineBackend.figure_format='retina'\n"
   ]
  },
  {
   "cell_type": "markdown",
   "metadata": {},
   "source": [
    "## 1. Which product categories have had the most reviews in the last 2 years?"
   ]
  },
  {
   "cell_type": "code",
   "execution_count": 8,
   "metadata": {},
   "outputs": [
    {
     "name": "stdout",
     "output_type": "stream",
     "text": [
      "\n",
      "SELECT\n",
      "    year,\n",
      "    product_category,\n",
      "    COUNT(star_rating) AS count_star_rating  \n",
      "FROM\n",
      "    redshift.amazon_reviews_tsv_2015 \n",
      "GROUP BY\n",
      "    redshift.amazon_reviews_tsv_2015.product_category,\n",
      "    year \n",
      "UNION ALL  \n",
      "SELECT\n",
      "    year,\n",
      "    product_category,\n",
      "    COUNT(star_rating) AS count_star_rating  \n",
      "FROM\n",
      "    redshift.amazon_reviews_tsv_2014\n",
      "GROUP BY\n",
      "    redshift.amazon_reviews_tsv_2014.product_category,\n",
      "    year \n",
      "ORDER BY\n",
      "    count_star_rating DESC,\n",
      "    year DESC\n",
      "\n"
     ]
    }
   ],
   "source": [
    "statement = \"\"\"\n",
    "SELECT\n",
    "    year,\n",
    "    product_category,\n",
    "    COUNT(star_rating) AS count_star_rating  \n",
    "FROM\n",
    "    {}.{} \n",
    "GROUP BY\n",
    "    {}.{}.product_category,\n",
    "    year \n",
    "UNION ALL  \n",
    "SELECT\n",
    "    year,\n",
    "    product_category,\n",
    "    COUNT(star_rating) AS count_star_rating  \n",
    "FROM\n",
    "    {}.{}\n",
    "GROUP BY\n",
    "    {}.{}.product_category,\n",
    "    year \n",
    "ORDER BY\n",
    "    count_star_rating DESC,\n",
    "    year DESC\n",
    "\"\"\".format(redshift_schema, redshift_table_2015, redshift_schema, redshift_table_2015, redshift_schema, redshift_table_2014, redshift_schema, redshift_table_2014)\n",
    "\n",
    "print(statement)"
   ]
  },
  {
   "cell_type": "code",
   "execution_count": 9,
   "metadata": {},
   "outputs": [],
   "source": [
    "df = pd.read_sql_query(statement, engine)"
   ]
  },
  {
   "cell_type": "code",
   "execution_count": 10,
   "metadata": {},
   "outputs": [
    {
     "data": {
      "text/html": [
       "<div>\n",
       "<style scoped>\n",
       "    .dataframe tbody tr th:only-of-type {\n",
       "        vertical-align: middle;\n",
       "    }\n",
       "\n",
       "    .dataframe tbody tr th {\n",
       "        vertical-align: top;\n",
       "    }\n",
       "\n",
       "    .dataframe thead th {\n",
       "        text-align: right;\n",
       "    }\n",
       "</style>\n",
       "<table border=\"1\" class=\"dataframe\">\n",
       "  <thead>\n",
       "    <tr style=\"text-align: right;\">\n",
       "      <th></th>\n",
       "      <th>year</th>\n",
       "      <th>product_category</th>\n",
       "      <th>count_star_rating</th>\n",
       "    </tr>\n",
       "  </thead>\n",
       "  <tbody>\n",
       "    <tr>\n",
       "      <th>0</th>\n",
       "      <td>2014</td>\n",
       "      <td>Digital_Ebook_Purchase</td>\n",
       "      <td>13231828</td>\n",
       "    </tr>\n",
       "    <tr>\n",
       "      <th>1</th>\n",
       "      <td>2015</td>\n",
       "      <td>Digital_Ebook_Purchase</td>\n",
       "      <td>9067038</td>\n",
       "    </tr>\n",
       "    <tr>\n",
       "      <th>2</th>\n",
       "      <td>2014</td>\n",
       "      <td>Books</td>\n",
       "      <td>6945262</td>\n",
       "    </tr>\n",
       "    <tr>\n",
       "      <th>3</th>\n",
       "      <td>2015</td>\n",
       "      <td>Wireless</td>\n",
       "      <td>5997036</td>\n",
       "    </tr>\n",
       "    <tr>\n",
       "      <th>4</th>\n",
       "      <td>2014</td>\n",
       "      <td>Wireless</td>\n",
       "      <td>5660964</td>\n",
       "    </tr>\n",
       "  </tbody>\n",
       "</table>\n",
       "</div>"
      ],
      "text/plain": [
       "   year        product_category  count_star_rating\n",
       "0  2014  Digital_Ebook_Purchase           13231828\n",
       "1  2015  Digital_Ebook_Purchase            9067038\n",
       "2  2014                   Books            6945262\n",
       "3  2015                Wireless            5997036\n",
       "4  2014                Wireless            5660964"
      ]
     },
     "execution_count": 10,
     "metadata": {},
     "output_type": "execute_result"
    }
   ],
   "source": [
    "df.head()"
   ]
  },
  {
   "cell_type": "code",
   "execution_count": null,
   "metadata": {},
   "outputs": [],
   "source": [
    "# TODO: Visualization"
   ]
  },
  {
   "cell_type": "markdown",
   "metadata": {},
   "source": [
    "# 2. Which products have the most helpful reviews in the last year?\n",
    "How long are those reviews?"
   ]
  },
  {
   "cell_type": "code",
   "execution_count": 12,
   "metadata": {},
   "outputs": [
    {
     "name": "stdout",
     "output_type": "stream",
     "text": [
      "\n",
      "SELECT product_title,\n",
      "       helpful_votes,\n",
      "       star_rating,\n",
      "       LENGTH(review_body) AS review_body_length,\n",
      "       SUBSTR(review_body, 1, 100) AS review_body_substr\n",
      "FROM redshift.amazon_reviews_tsv_2015\n",
      "ORDER BY helpful_votes DESC LIMIT 10\n",
      "\n"
     ]
    }
   ],
   "source": [
    "statement = \"\"\"\n",
    "SELECT product_title,\n",
    "       helpful_votes,\n",
    "       star_rating,\n",
    "       LENGTH(review_body) AS review_body_length,\n",
    "       SUBSTR(review_body, 1, 100) AS review_body_substr\n",
    "FROM {}.{}\n",
    "ORDER BY helpful_votes DESC LIMIT 10\n",
    "\"\"\".format(redshift_schema, redshift_table_2015)\n",
    "\n",
    "print(statement)"
   ]
  },
  {
   "cell_type": "code",
   "execution_count": null,
   "metadata": {},
   "outputs": [],
   "source": [
    "df = pd.read_sql_query(statement, engine)"
   ]
  },
  {
   "cell_type": "code",
   "execution_count": null,
   "metadata": {},
   "outputs": [],
   "source": [
    "df"
   ]
  },
  {
   "cell_type": "code",
   "execution_count": null,
   "metadata": {},
   "outputs": [],
   "source": [
    "# TODO: Visualization"
   ]
  },
  {
   "cell_type": "markdown",
   "metadata": {},
   "source": [
    "# 3. "
   ]
  },
  {
   "cell_type": "code",
   "execution_count": null,
   "metadata": {},
   "outputs": [],
   "source": [
    "statement = \"\"\"\n",
    "\n",
    "\"\"\".format(redshift_schema, redshift_table_2015)\n",
    "\n",
    "print(statement)"
   ]
  },
  {
   "cell_type": "code",
   "execution_count": null,
   "metadata": {},
   "outputs": [],
   "source": [
    "df = pd.read_sql_query(statement, engine)"
   ]
  },
  {
   "cell_type": "code",
   "execution_count": null,
   "metadata": {},
   "outputs": [],
   "source": [
    "df"
   ]
  },
  {
   "cell_type": "code",
   "execution_count": null,
   "metadata": {},
   "outputs": [],
   "source": [
    "# TODO: Visualization"
   ]
  },
  {
   "cell_type": "markdown",
   "metadata": {},
   "source": [
    "# 4. "
   ]
  },
  {
   "cell_type": "code",
   "execution_count": null,
   "metadata": {},
   "outputs": [],
   "source": [
    "statement = \"\"\"\n",
    "\n",
    "\"\"\".format(redshift_schema, redshift_table_2015)\n",
    "\n",
    "print(statement)"
   ]
  },
  {
   "cell_type": "code",
   "execution_count": null,
   "metadata": {},
   "outputs": [],
   "source": [
    "df = pd.read_sql_query(statement, engine)"
   ]
  },
  {
   "cell_type": "code",
   "execution_count": null,
   "metadata": {},
   "outputs": [],
   "source": [
    "df"
   ]
  },
  {
   "cell_type": "code",
   "execution_count": null,
   "metadata": {},
   "outputs": [],
   "source": [
    "# TODO: Visualization"
   ]
  },
  {
   "cell_type": "markdown",
   "metadata": {},
   "source": [
    "# 5. "
   ]
  },
  {
   "cell_type": "code",
   "execution_count": null,
   "metadata": {},
   "outputs": [],
   "source": [
    "statement = \"\"\"\n",
    "\n",
    "\"\"\".format(redshift_schema, redshift_table_2015)\n",
    "\n",
    "print(statement)"
   ]
  },
  {
   "cell_type": "code",
   "execution_count": null,
   "metadata": {},
   "outputs": [],
   "source": [
    "df = pd.read_sql_query(statement, engine)"
   ]
  },
  {
   "cell_type": "code",
   "execution_count": null,
   "metadata": {},
   "outputs": [],
   "source": [
    "df"
   ]
  },
  {
   "cell_type": "code",
   "execution_count": null,
   "metadata": {},
   "outputs": [],
   "source": [
    "# TODO: Visualization"
   ]
  }
 ],
 "metadata": {
  "kernelspec": {
   "display_name": "conda_python3",
   "language": "python",
   "name": "conda_python3"
  },
  "language_info": {
   "codemirror_mode": {
    "name": "ipython",
    "version": 3
   },
   "file_extension": ".py",
   "mimetype": "text/x-python",
   "name": "python",
   "nbconvert_exporter": "python",
   "pygments_lexer": "ipython3",
   "version": "3.6.5"
  }
 },
 "nbformat": 4,
 "nbformat_minor": 4
}
