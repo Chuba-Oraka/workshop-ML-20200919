{
 "cells": [
  {
   "cell_type": "markdown",
   "metadata": {},
   "source": [
    "# QuickSight with Redshift"
   ]
  },
  {
   "cell_type": "markdown",
   "metadata": {},
   "source": [
    "You need to open the Quicksight CIDR range in the Redshift security group.\n",
    "\n",
    "https://aws.amazon.com/premiumsupport/knowledge-center/quicksight-redshift-private-connection/\n",
    "\n",
    "See for Quicksight CIDR ranges across regions here:\n",
    "\n",
    "https://docs.aws.amazon.com/quicksight/latest/user/regions.html\n",
    "\n",
    "![](img/quicksight_redshift_sg.png)"
   ]
  },
  {
   "cell_type": "code",
   "execution_count": null,
   "metadata": {},
   "outputs": [],
   "source": []
  }
 ],
 "metadata": {
  "kernelspec": {
   "display_name": "conda_python3",
   "language": "python",
   "name": "conda_python3"
  },
  "language_info": {
   "codemirror_mode": {
    "name": "ipython",
    "version": 3
   },
   "file_extension": ".py",
   "mimetype": "text/x-python",
   "name": "python",
   "nbconvert_exporter": "python",
   "pygments_lexer": "ipython3",
   "version": "3.6.5"
  }
 },
 "nbformat": 4,
 "nbformat_minor": 4
}
