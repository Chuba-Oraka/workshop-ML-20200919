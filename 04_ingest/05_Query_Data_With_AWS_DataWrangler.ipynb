{
 "cells": [
  {
   "cell_type": "markdown",
   "metadata": {},
   "source": [
    "# Query Data with AWS Data Wrangler"
   ]
  },
  {
   "cell_type": "markdown",
   "metadata": {},
   "source": [
    "**AWS Data Wrangler** is an open-source Python library that extends the power of the Pandas library to AWS connecting DataFrames and AWS data related services (Amazon Redshift, AWS Glue, Amazon Athena, Amazon EMR, Amazon QuickSight, etc).\n",
    "\n",
    "* https://github.com/awslabs/aws-data-wrangler\n",
    "* https://aws-data-wrangler.readthedocs.io\n",
    "\n",
    "Built on top of other open-source projects like Pandas, Apache Arrow, Boto3, s3fs, SQLAlchemy, Psycopg2 and PyMySQL, it offers abstracted functions to execute usual ETL tasks like load/unload data from Data Lakes, Data Warehouses and Databases.\n",
    "\n",
    "_Note that AWS Data Wrangler is simply a Python library that uses existing AWS Services.  AWS Data Wrangler is not a separate AWS Service.  You install AWS Data Wrangler through `pip install` as we will see next._"
   ]
  },
  {
   "cell_type": "code",
   "execution_count": 1,
   "metadata": {},
   "outputs": [],
   "source": [
    "!pip install -q awswrangler==1.7.0"
   ]
  },
  {
   "cell_type": "code",
   "execution_count": 2,
   "metadata": {},
   "outputs": [],
   "source": [
    "import boto3\n",
    "import sagemaker\n",
    "\n",
    "# Get region \n",
    "session = boto3.session.Session()\n",
    "region_name = session.region_name\n",
    "\n",
    "# Get SageMaker session & default S3 bucket\n",
    "sagemaker_session = sagemaker.Session()\n",
    "bucket = sagemaker_session.default_bucket()"
   ]
  },
  {
   "cell_type": "code",
   "execution_count": 3,
   "metadata": {},
   "outputs": [],
   "source": [
    "import awswrangler as wr"
   ]
  },
  {
   "cell_type": "markdown",
   "metadata": {},
   "source": [
    "# Query Parquet from S3 with Push-Down Filters\n",
    "\n",
    "Read Apache Parquet file(s) from from a received S3 prefix or list of S3 objects paths.\n",
    "\n",
    "The concept of Dataset goes beyond the simple idea of files and enable more complex features like partitioning and catalog integration (AWS Glue Catalog): \n",
    "\n",
    "dataset (bool) – If True read a parquet dataset instead of simple file(s) loading all the related partitions as columns."
   ]
  },
  {
   "cell_type": "code",
   "execution_count": 4,
   "metadata": {},
   "outputs": [],
   "source": [
    "filter = lambda x: True if x[\"product_category\"] == \"Digital_Software\" else False"
   ]
  },
  {
   "cell_type": "code",
   "execution_count": 5,
   "metadata": {},
   "outputs": [
    {
     "data": {
      "text/plain": [
       "(102084, 3)"
      ]
     },
     "execution_count": 5,
     "metadata": {},
     "output_type": "execute_result"
    }
   ],
   "source": [
    "path = 's3://{}/amazon-reviews-pds/parquet/'.format(bucket)\n",
    "df_parquet_results = wr.s3.read_parquet(path,\n",
    "                                     columns=['star_rating', 'product_category', 'review_body'],\n",
    "                                     #filter=[(\"product_category\", \"=\", \"Digital_Software\")],\n",
    "                                     partition_filter=filter,\n",
    "                                     dataset=True)\n",
    "df_parquet_results.shape"
   ]
  },
  {
   "cell_type": "code",
   "execution_count": 6,
   "metadata": {},
   "outputs": [
    {
     "data": {
      "text/html": [
       "<div>\n",
       "<style scoped>\n",
       "    .dataframe tbody tr th:only-of-type {\n",
       "        vertical-align: middle;\n",
       "    }\n",
       "\n",
       "    .dataframe tbody tr th {\n",
       "        vertical-align: top;\n",
       "    }\n",
       "\n",
       "    .dataframe thead th {\n",
       "        text-align: right;\n",
       "    }\n",
       "</style>\n",
       "<table border=\"1\" class=\"dataframe\">\n",
       "  <thead>\n",
       "    <tr style=\"text-align: right;\">\n",
       "      <th></th>\n",
       "      <th>star_rating</th>\n",
       "      <th>review_body</th>\n",
       "      <th>product_category</th>\n",
       "    </tr>\n",
       "  </thead>\n",
       "  <tbody>\n",
       "    <tr>\n",
       "      <th>0</th>\n",
       "      <td>4</td>\n",
       "      <td>I successfully utilized the Quicken file conve...</td>\n",
       "      <td>Digital_Software</td>\n",
       "    </tr>\n",
       "    <tr>\n",
       "      <th>1</th>\n",
       "      <td>1</td>\n",
       "      <td>This program is a steaming pile of horse manur...</td>\n",
       "      <td>Digital_Software</td>\n",
       "    </tr>\n",
       "    <tr>\n",
       "      <th>2</th>\n",
       "      <td>1</td>\n",
       "      <td>false sense of security, wouldn't recommend</td>\n",
       "      <td>Digital_Software</td>\n",
       "    </tr>\n",
       "    <tr>\n",
       "      <th>3</th>\n",
       "      <td>5</td>\n",
       "      <td>I purchased this about 3  weeks ago. I love it...</td>\n",
       "      <td>Digital_Software</td>\n",
       "    </tr>\n",
       "    <tr>\n",
       "      <th>4</th>\n",
       "      <td>5</td>\n",
       "      <td>I have been using Cook'n Recipe organizer soft...</td>\n",
       "      <td>Digital_Software</td>\n",
       "    </tr>\n",
       "  </tbody>\n",
       "</table>\n",
       "</div>"
      ],
      "text/plain": [
       "   star_rating                                        review_body  \\\n",
       "0            4  I successfully utilized the Quicken file conve...   \n",
       "1            1  This program is a steaming pile of horse manur...   \n",
       "2            1        false sense of security, wouldn't recommend   \n",
       "3            5  I purchased this about 3  weeks ago. I love it...   \n",
       "4            5  I have been using Cook'n Recipe organizer soft...   \n",
       "\n",
       "   product_category  \n",
       "0  Digital_Software  \n",
       "1  Digital_Software  \n",
       "2  Digital_Software  \n",
       "3  Digital_Software  \n",
       "4  Digital_Software  "
      ]
     },
     "execution_count": 6,
     "metadata": {},
     "output_type": "execute_result"
    }
   ],
   "source": [
    "df_parquet_results.head(5)"
   ]
  },
  {
   "cell_type": "markdown",
   "metadata": {},
   "source": [
    "# Query Parquet from S3 in Chunks"
   ]
  },
  {
   "cell_type": "markdown",
   "metadata": {},
   "source": [
    "Batching (chunked argument) (Memory Friendly):\n",
    "\n",
    "Will enable the function to return a Iterable of DataFrames instead of a regular DataFrame.\n",
    "\n",
    "There are two batching strategies on Wrangler:\n",
    "* If chunked=True, a new DataFrame will be returned for each file in your path/dataset.\n",
    "* If chunked=INTEGER, Wrangler will iterate on the data by number of rows equal to the received INTEGER.\n",
    "\n",
    "P.S. chunked=True if faster and uses less memory while chunked=INTEGER is more precise in number of rows for each Dataframe."
   ]
  },
  {
   "cell_type": "code",
   "execution_count": 7,
   "metadata": {},
   "outputs": [],
   "source": [
    "path = 's3://{}/amazon-reviews-pds/parquet/'.format(bucket)\n",
    "chunk_iter = wr.s3.read_parquet(path,\n",
    "                                columns=['star_rating', 'product_category', 'review_body'],\n",
    "                                # filters=[(\"product_category\", \"=\", \"Digital_Software\")],\n",
    "                                partition_filter=filter,\n",
    "                                dataset=True,\n",
    "                                chunked=True)"
   ]
  },
  {
   "cell_type": "code",
   "execution_count": 8,
   "metadata": {
    "scrolled": true
   },
   "outputs": [
    {
     "name": "stdout",
     "output_type": "stream",
     "text": [
      "       star_rating                                        review_body  \\\n",
      "0                4  I successfully utilized the Quicken file conve...   \n",
      "1                1  This program is a steaming pile of horse manur...   \n",
      "2                1        false sense of security, wouldn't recommend   \n",
      "3                5  I purchased this about 3  weeks ago. I love it...   \n",
      "4                5  I have been using Cook'n Recipe organizer soft...   \n",
      "...            ...                                                ...   \n",
      "47979            4  File  electron federal return is free. But you...   \n",
      "47980            3  The download went fine but the install hung on...   \n",
      "47981            3  I've read some complaints about people who dow...   \n",
      "47982            4  Very good product. I have been using Tax Cut f...   \n",
      "47983            2  Okay first off the software works pretty good,...   \n",
      "\n",
      "       product_category  \n",
      "0      Digital_Software  \n",
      "1      Digital_Software  \n",
      "2      Digital_Software  \n",
      "3      Digital_Software  \n",
      "4      Digital_Software  \n",
      "...                 ...  \n",
      "47979  Digital_Software  \n",
      "47980  Digital_Software  \n",
      "47981  Digital_Software  \n",
      "47982  Digital_Software  \n",
      "47983  Digital_Software  \n",
      "\n",
      "[47984 rows x 3 columns]\n"
     ]
    }
   ],
   "source": [
    "print(next(chunk_iter))"
   ]
  },
  {
   "cell_type": "markdown",
   "metadata": {},
   "source": [
    "# Query the Glue Catalog (ie. Hive Metastore)\n",
    "Get an iterator of tables."
   ]
  },
  {
   "cell_type": "code",
   "execution_count": 9,
   "metadata": {},
   "outputs": [],
   "source": [
    "database_name = 'dsoaws'\n",
    "table_name_tsv = 'amazon_reviews_tsv'\n",
    "table_name_parquet = 'amazon_reviews_parquet'"
   ]
  },
  {
   "cell_type": "code",
   "execution_count": 10,
   "metadata": {},
   "outputs": [
    {
     "name": "stdout",
     "output_type": "stream",
     "text": [
      "amazon_reviews_parquet\n",
      "amazon_reviews_tsv\n"
     ]
    }
   ],
   "source": [
    "for table in wr.catalog.get_tables(database=\"dsoaws\"):\n",
    "    print(table['Name'])"
   ]
  },
  {
   "cell_type": "markdown",
   "metadata": {},
   "source": [
    "# Query from Athena\n",
    "Execute any SQL query on AWS Athena and return the results as a Pandas DataFrame.  \n"
   ]
  },
  {
   "cell_type": "code",
   "execution_count": 11,
   "metadata": {},
   "outputs": [
    {
     "name": "stdout",
     "output_type": "stream",
     "text": [
      "CPU times: user 470 ms, sys: 41.4 ms, total: 512 ms\n",
      "Wall time: 8.93 s\n"
     ]
    }
   ],
   "source": [
    "%%time\n",
    "df = wr.athena.read_sql_query(\n",
    "    sql='SELECT * FROM {} LIMIT 5000'.format(table_name_parquet),\n",
    "    database=database_name\n",
    ")"
   ]
  },
  {
   "cell_type": "code",
   "execution_count": 12,
   "metadata": {},
   "outputs": [
    {
     "data": {
      "text/html": [
       "<div>\n",
       "<style scoped>\n",
       "    .dataframe tbody tr th:only-of-type {\n",
       "        vertical-align: middle;\n",
       "    }\n",
       "\n",
       "    .dataframe tbody tr th {\n",
       "        vertical-align: top;\n",
       "    }\n",
       "\n",
       "    .dataframe thead th {\n",
       "        text-align: right;\n",
       "    }\n",
       "</style>\n",
       "<table border=\"1\" class=\"dataframe\">\n",
       "  <thead>\n",
       "    <tr style=\"text-align: right;\">\n",
       "      <th></th>\n",
       "      <th>marketplace</th>\n",
       "      <th>customer_id</th>\n",
       "      <th>review_id</th>\n",
       "      <th>product_id</th>\n",
       "      <th>product_parent</th>\n",
       "      <th>product_title</th>\n",
       "      <th>star_rating</th>\n",
       "      <th>helpful_votes</th>\n",
       "      <th>total_votes</th>\n",
       "      <th>vine</th>\n",
       "      <th>verified_purchase</th>\n",
       "      <th>review_headline</th>\n",
       "      <th>review_body</th>\n",
       "      <th>year</th>\n",
       "      <th>review_date</th>\n",
       "      <th>product_category</th>\n",
       "    </tr>\n",
       "  </thead>\n",
       "  <tbody>\n",
       "    <tr>\n",
       "      <th>0</th>\n",
       "      <td>US</td>\n",
       "      <td>42562419</td>\n",
       "      <td>R1EAF5GW4MHN1N</td>\n",
       "      <td>B00NMPX58E</td>\n",
       "      <td>893965261</td>\n",
       "      <td>Photoshop Elements &amp; Premiere Elements 13 - St...</td>\n",
       "      <td>5</td>\n",
       "      <td>5</td>\n",
       "      <td>7</td>\n",
       "      <td>N</td>\n",
       "      <td>Y</td>\n",
       "      <td>Awesome products</td>\n",
       "      <td>I have heard so much about this photoshop prod...</td>\n",
       "      <td>2014</td>\n",
       "      <td>2014-10-11</td>\n",
       "      <td>Digital_Software</td>\n",
       "    </tr>\n",
       "    <tr>\n",
       "      <th>1</th>\n",
       "      <td>US</td>\n",
       "      <td>43544559</td>\n",
       "      <td>R2C8JI7SE23T6H</td>\n",
       "      <td>B00JPRUDFQ</td>\n",
       "      <td>23010115</td>\n",
       "      <td>WordPerfect Office X7 Home and Student</td>\n",
       "      <td>5</td>\n",
       "      <td>0</td>\n",
       "      <td>0</td>\n",
       "      <td>N</td>\n",
       "      <td>Y</td>\n",
       "      <td>Five Stars</td>\n",
       "      <td>Wp is a great program&lt;br /&gt;&lt;br /&gt;Word perfect</td>\n",
       "      <td>2014</td>\n",
       "      <td>2014-10-11</td>\n",
       "      <td>Digital_Software</td>\n",
       "    </tr>\n",
       "    <tr>\n",
       "      <th>2</th>\n",
       "      <td>US</td>\n",
       "      <td>41551520</td>\n",
       "      <td>R171OZ99U5N2NV</td>\n",
       "      <td>B00M9GTJLY</td>\n",
       "      <td>103182180</td>\n",
       "      <td>Intuit Quicken Rental Property Manager 2015</td>\n",
       "      <td>1</td>\n",
       "      <td>61</td>\n",
       "      <td>62</td>\n",
       "      <td>N</td>\n",
       "      <td>N</td>\n",
       "      <td>Another disappointment</td>\n",
       "      <td>I have used Quicken of years and it seems to b...</td>\n",
       "      <td>2014</td>\n",
       "      <td>2014-10-11</td>\n",
       "      <td>Digital_Software</td>\n",
       "    </tr>\n",
       "    <tr>\n",
       "      <th>3</th>\n",
       "      <td>US</td>\n",
       "      <td>1744683</td>\n",
       "      <td>R39V4Z628T6GKK</td>\n",
       "      <td>B00E7XATMK</td>\n",
       "      <td>659550012</td>\n",
       "      <td>Learning QuickBooks 2014</td>\n",
       "      <td>1</td>\n",
       "      <td>0</td>\n",
       "      <td>0</td>\n",
       "      <td>N</td>\n",
       "      <td>Y</td>\n",
       "      <td>Not satisfied - first order was returned becau...</td>\n",
       "      <td>Not satisfied - first order was returned becau...</td>\n",
       "      <td>2014</td>\n",
       "      <td>2014-10-11</td>\n",
       "      <td>Digital_Software</td>\n",
       "    </tr>\n",
       "    <tr>\n",
       "      <th>4</th>\n",
       "      <td>US</td>\n",
       "      <td>30884389</td>\n",
       "      <td>R2558V53PHXK58</td>\n",
       "      <td>B008SCNLEY</td>\n",
       "      <td>643150354</td>\n",
       "      <td>Norton 360 2013 - 1 User / 3 PC</td>\n",
       "      <td>5</td>\n",
       "      <td>0</td>\n",
       "      <td>0</td>\n",
       "      <td>N</td>\n",
       "      <td>Y</td>\n",
       "      <td>Five Stars</td>\n",
       "      <td>Great product</td>\n",
       "      <td>2014</td>\n",
       "      <td>2014-10-11</td>\n",
       "      <td>Digital_Software</td>\n",
       "    </tr>\n",
       "  </tbody>\n",
       "</table>\n",
       "</div>"
      ],
      "text/plain": [
       "  marketplace customer_id       review_id  product_id product_parent  \\\n",
       "0          US    42562419  R1EAF5GW4MHN1N  B00NMPX58E      893965261   \n",
       "1          US    43544559  R2C8JI7SE23T6H  B00JPRUDFQ       23010115   \n",
       "2          US    41551520  R171OZ99U5N2NV  B00M9GTJLY      103182180   \n",
       "3          US     1744683  R39V4Z628T6GKK  B00E7XATMK      659550012   \n",
       "4          US    30884389  R2558V53PHXK58  B008SCNLEY      643150354   \n",
       "\n",
       "                                       product_title  star_rating  \\\n",
       "0  Photoshop Elements & Premiere Elements 13 - St...            5   \n",
       "1             WordPerfect Office X7 Home and Student            5   \n",
       "2        Intuit Quicken Rental Property Manager 2015            1   \n",
       "3                           Learning QuickBooks 2014            1   \n",
       "4                    Norton 360 2013 - 1 User / 3 PC            5   \n",
       "\n",
       "   helpful_votes  total_votes vine verified_purchase  \\\n",
       "0              5            7    N                 Y   \n",
       "1              0            0    N                 Y   \n",
       "2             61           62    N                 N   \n",
       "3              0            0    N                 Y   \n",
       "4              0            0    N                 Y   \n",
       "\n",
       "                                     review_headline  \\\n",
       "0                                   Awesome products   \n",
       "1                                         Five Stars   \n",
       "2                             Another disappointment   \n",
       "3  Not satisfied - first order was returned becau...   \n",
       "4                                         Five Stars   \n",
       "\n",
       "                                         review_body  year review_date  \\\n",
       "0  I have heard so much about this photoshop prod...  2014  2014-10-11   \n",
       "1      Wp is a great program<br /><br />Word perfect  2014  2014-10-11   \n",
       "2  I have used Quicken of years and it seems to b...  2014  2014-10-11   \n",
       "3  Not satisfied - first order was returned becau...  2014  2014-10-11   \n",
       "4                                      Great product  2014  2014-10-11   \n",
       "\n",
       "   product_category  \n",
       "0  Digital_Software  \n",
       "1  Digital_Software  \n",
       "2  Digital_Software  \n",
       "3  Digital_Software  \n",
       "4  Digital_Software  "
      ]
     },
     "execution_count": 12,
     "metadata": {},
     "output_type": "execute_result"
    }
   ],
   "source": [
    "df.head(5)"
   ]
  },
  {
   "cell_type": "markdown",
   "metadata": {},
   "source": [
    "# Query from Athena in Chunks\n",
    "Retrieving in chunks can help reduce memory requirements."
   ]
  },
  {
   "cell_type": "code",
   "execution_count": 13,
   "metadata": {},
   "outputs": [
    {
     "name": "stdout",
     "output_type": "stream",
     "text": [
      "CPU times: user 322 ms, sys: 13.1 ms, total: 335 ms\n",
      "Wall time: 6.93 s\n"
     ]
    }
   ],
   "source": [
    "%%time\n",
    "\n",
    "chunk_iter = wr.athena.read_sql_query(\n",
    "    sql='SELECT * FROM {} LIMIT 5000'.format(table_name_parquet),\n",
    "    database='{}'.format(database_name),\n",
    "    chunksize=64_000  # 64 KB Chunks\n",
    ")"
   ]
  },
  {
   "cell_type": "code",
   "execution_count": 14,
   "metadata": {},
   "outputs": [
    {
     "name": "stdout",
     "output_type": "stream",
     "text": [
      "     marketplace customer_id       review_id  product_id product_parent  \\\n",
      "0             US    41754720  R19OFJV91M7D8X  B000YMR61A      141393130   \n",
      "1             US    51669529  R1I6G894K5AGG5  B000YMR61A      141393130   \n",
      "2             US    24731012  R17OE43FFEP81I  B000YMR5X4      234295632   \n",
      "3             US    16049580  R15MGDDK63B52Z  B000YMR61A      141393130   \n",
      "4             US    46098046  R1GGJJA2R68033  B000YMNI2Q      847631772   \n",
      "...          ...         ...             ...         ...            ...   \n",
      "4995          US    17089950  R33TENVT3MZAHY  B003ZK5214      690806968   \n",
      "4996          US    24596327  R3MSYUY4KJHVK5  B003SX16CM      190160525   \n",
      "4997          US    36814854  R3LI4NFCKL5BP8  B004E9SKFA      494851576   \n",
      "4998          US    15363863   RO9V9I92PWJI4  B004GB1YO0       47953870   \n",
      "4999          US    10954841   RDTITG2AFTSAF  B004X0DDOI      958139200   \n",
      "\n",
      "                                          product_title  star_rating  \\\n",
      "0                  TurboTax Deluxe Federal + State 2007            2   \n",
      "1                  TurboTax Deluxe Federal + State 2007            4   \n",
      "2                 TurboTax Premier Federal + State 2007            2   \n",
      "3                  TurboTax Deluxe Federal + State 2007            3   \n",
      "4                                   TurboTax Basic 2007            1   \n",
      "...                                                 ...          ...   \n",
      "4995                QuickBooks Pro 2011 - [Old Version]            4   \n",
      "4996       TomTom Lifetime Map Update [Online Map Code]            4   \n",
      "4997  Microsoft Office Professional 2010  (2PC/1 Use...            2   \n",
      "4998                              Final Draft Version 8            5   \n",
      "4999  Riddle Me Scavenger and Treasure Hunt Clue Sof...            5   \n",
      "\n",
      "      helpful_votes  total_votes vine verified_purchase  \\\n",
      "0                12           13    N                 N   \n",
      "1                 6            9    N                 N   \n",
      "2                 9           16    N                 N   \n",
      "3                14           14    N                 N   \n",
      "4                54           60    N                 N   \n",
      "...             ...          ...  ...               ...   \n",
      "4995              0            2    N                 N   \n",
      "4996             25           27    N                 Y   \n",
      "4997              4            6    N                 N   \n",
      "4998              4            4    N                 Y   \n",
      "4999              2            3    N                 N   \n",
      "\n",
      "                                        review_headline  \\\n",
      "0              Easy to use, 1 comment 1 serious problem   \n",
      "1     Schedule C  IS for business- figures it would ...   \n",
      "2                                    Hassel to download   \n",
      "3                                       beware of vista   \n",
      "4                                don't waste your money   \n",
      "...                                                 ...   \n",
      "4995                              QuickBooks Pro Review   \n",
      "4996                       tomtom lifetime map purchase   \n",
      "4997                                 Is this practical?   \n",
      "4998                                    The Final Draft   \n",
      "4999                       Absolutely Awesome Program!!   \n",
      "\n",
      "                                            review_body  year review_date  \\\n",
      "0     I chose the deluxe version CD because of mortg...  2008  2008-02-11   \n",
      "1     Schedule C  IS for business, so figures it wou...  2008  2008-02-08   \n",
      "2     I wish that companies can test several scenari...  2008  2008-02-05   \n",
      "3     i just installed turbotax deluxe 2007. If you ...  2008  2008-02-05   \n",
      "4     The description mentions that you can use this...  2008  2008-01-26   \n",
      "...                                                 ...   ...         ...   \n",
      "4995  QuickBooks has all the features we need in our...  2011  2011-04-26   \n",
      "4996  I purchased this product from a recommendation...  2011  2011-04-26   \n",
      "4997  I like the convenience, but after waiting 17 h...  2011  2011-04-26   \n",
      "4998  Great version of FD.  They never disappoint.  ...  2011  2011-04-26   \n",
      "4999  I have used this program for multiple occasion...  2011  2011-04-25   \n",
      "\n",
      "      product_category  \n",
      "0     Digital_Software  \n",
      "1     Digital_Software  \n",
      "2     Digital_Software  \n",
      "3     Digital_Software  \n",
      "4     Digital_Software  \n",
      "...                ...  \n",
      "4995  Digital_Software  \n",
      "4996  Digital_Software  \n",
      "4997  Digital_Software  \n",
      "4998  Digital_Software  \n",
      "4999  Digital_Software  \n",
      "\n",
      "[5000 rows x 16 columns]\n"
     ]
    }
   ],
   "source": [
    "print(next(chunk_iter))"
   ]
  },
  {
   "cell_type": "code",
   "execution_count": null,
   "metadata": {},
   "outputs": [],
   "source": [
    "%%javascript\n",
    "Jupyter.notebook.save_checkpoint();\n",
    "Jupyter.notebook.session.delete();"
   ]
  }
 ],
 "metadata": {
  "kernelspec": {
   "display_name": "conda_python3",
   "language": "python",
   "name": "conda_python3"
  },
  "language_info": {
   "codemirror_mode": {
    "name": "ipython",
    "version": 3
   },
   "file_extension": ".py",
   "mimetype": "text/x-python",
   "name": "python",
   "nbconvert_exporter": "python",
   "pygments_lexer": "ipython3",
   "version": "3.6.10"
  }
 },
 "nbformat": 4,
 "nbformat_minor": 4
}
