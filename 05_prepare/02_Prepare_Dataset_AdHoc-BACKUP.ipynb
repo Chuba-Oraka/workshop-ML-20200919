{
 "cells": [
  {
   "cell_type": "markdown",
   "metadata": {},
   "source": [
    "Based on these posts: \n",
    "* https://medium.com/@chrisfotache/text-classification-in-python-pipelines-nlp-nltk-tf-idf-xgboost-and-more-b83451a327e0\n",
    "* https://github.com/keisukeirie/Amazon_review_helpfulness_prediction\n",
    "* https://stackabuse.com/text-classification-with-bert-tokenizer-and-tf-2-0-in-python/\n",
    "* https://towardsdatascience.com/simple-bert-using-tensorflow-2-0-132cb19e9b22"
   ]
  },
  {
   "cell_type": "code",
   "execution_count": null,
   "metadata": {},
   "outputs": [],
   "source": [
    "!pip install -q boto3\n",
    "!pip install -q xgboost==0.90\n",
    "!pip install -q scikit-learn==0.20.3\n",
    "!pip install -q nltk==3.4.5"
   ]
  },
  {
   "cell_type": "code",
   "execution_count": null,
   "metadata": {},
   "outputs": [],
   "source": [
    "import boto3\n",
    "import sagemaker\n",
    "import pandas as pd\n",
    "\n",
    "sess   = sagemaker.Session()\n",
    "bucket = sess.default_bucket()\n",
    "role = sagemaker.get_execution_role()\n",
    "region = boto3.Session().region_name\n",
    "\n",
    "#sm = boto3.Session().client(service_name='sagemaker', region_name=region)"
   ]
  },
  {
   "cell_type": "code",
   "execution_count": null,
   "metadata": {},
   "outputs": [],
   "source": [
    "!head ./data/amazon90000.tsv"
   ]
  },
  {
   "cell_type": "code",
   "execution_count": null,
   "metadata": {},
   "outputs": [],
   "source": [
    "df = pd.read_csv('./data/amazon90000.tsv', delimiter='\\t')\n",
    "df.shape"
   ]
  },
  {
   "cell_type": "code",
   "execution_count": null,
   "metadata": {
    "scrolled": true
   },
   "outputs": [],
   "source": [
    "df.head(5)"
   ]
  },
  {
   "cell_type": "markdown",
   "metadata": {},
   "source": [
    "# TODO:  Clean commas from raw text"
   ]
  },
  {
   "cell_type": "code",
   "execution_count": 2,
   "metadata": {},
   "outputs": [],
   "source": [
    "# ..."
   ]
  },
  {
   "cell_type": "markdown",
   "metadata": {},
   "source": [
    "# Drop NaNs"
   ]
  },
  {
   "cell_type": "code",
   "execution_count": null,
   "metadata": {},
   "outputs": [],
   "source": [
    "df.shape"
   ]
  },
  {
   "cell_type": "code",
   "execution_count": null,
   "metadata": {},
   "outputs": [],
   "source": [
    "df.isna().values.any()"
   ]
  },
  {
   "cell_type": "code",
   "execution_count": null,
   "metadata": {},
   "outputs": [],
   "source": [
    "df_scrubbed = df.dropna()\n",
    "df_scrubbed = df_scrubbed.reset_index()\n",
    "df_scrubbed.shape"
   ]
  },
  {
   "cell_type": "code",
   "execution_count": null,
   "metadata": {
    "scrolled": true
   },
   "outputs": [],
   "source": [
    "df_labeled['is_positive_sentiment'] = (df_scrubbed['star_rating'] >= 4).astype(int)\n",
    "df_labeled.head(5)"
   ]
  },
  {
   "cell_type": "code",
   "execution_count": null,
   "metadata": {},
   "outputs": [],
   "source": [
    "import seaborn as sns\n",
    "\n",
    "sns.countplot(x='is_positive_sentiment', data=df_labeled)\n"
   ]
  },
  {
   "cell_type": "markdown",
   "metadata": {},
   "source": [
    "# Balance the Dataset between Classes"
   ]
  },
  {
   "cell_type": "code",
   "execution_count": null,
   "metadata": {},
   "outputs": [],
   "source": [
    "from sklearn.utils import resample\n",
    "\n",
    "is_negative_sentiment_df = df_labeled.query('is_positive_sentiment == 0')\n",
    "is_positive_sentiment_df = df_labeled.query('is_positive_sentiment == 1')\n",
    "\n",
    "is_positive_downsampled_df = resample(is_positive_sentiment_df,\n",
    "                                      replace = False, # sample without replacement\n",
    "                                      n_samples = len(is_negative_sentiment_df), # match minority n\n",
    "                                      random_state = 27) # reproducible results\n",
    "\n",
    "df_labeled_and_balanced = pd.concat([is_negative_sentiment_df, is_positive_downsampled_df])\n"
   ]
  },
  {
   "cell_type": "code",
   "execution_count": null,
   "metadata": {
    "scrolled": true
   },
   "outputs": [],
   "source": [
    "sns.countplot(x='is_positive_sentiment', data=df_cleaned_and_filtered)\n"
   ]
  },
  {
   "cell_type": "code",
   "execution_count": null,
   "metadata": {},
   "outputs": [],
   "source": [
    "# $S3_BUCKET/feature-store/amazon-reviews/labeled-balanced/data.csv\n",
    "\n",
    "df_labeled.to_csv('./feature-store/amazon-reviews/labeled-balanced/data.csv', index=False, header=True)"
   ]
  },
  {
   "cell_type": "code",
   "execution_count": null,
   "metadata": {},
   "outputs": [],
   "source": [
    "from sklearn.model_selection import train_test_split\n",
    "\n",
    "#df_train, df_holdout = train_test_split(df_cleaned_and_filtered, test_size=0.10)\n",
    "#df_validation, df_test = train_test_split(df_holdout, test_size=0.5)\n",
    "\n",
    "X = df_cleaned_and_filtered[['review_body']]\n",
    "y = df_cleaned_and_filtered['is_positive_sentiment']\n",
    "\n",
    "X.to_csv('./feature-store/amazon-reviews/scrubbed-and-balanced-features/csv/train/data.csv', index=False, header=True)\n",
    "y.to_csv('./feature-store/amazon-reviews/labels-with-scrubbed-features/csv/validation/data.csv', index=False, header=True)\n"
   ]
  },
  {
   "cell_type": "code",
   "execution_count": null,
   "metadata": {},
   "outputs": [],
   "source": [
    "print('X.shape:  {}'.format(X.shape))\n",
    "print('y.shape:  {}'.format(y.shape))\n",
    "\n",
    "X_train, X_holdout, y_train, y_holdout = train_test_split(X, y, test_size=0.1, random_state=0)\n",
    "X_validation, X_test, y_validation, y_test = train_test_split(X_holdout, y_holdout, test_size=0.5, random_state=0)\n",
    "\n",
    "print('X.shape={}'.format(X.shape))\n",
    "print('y.shape={}'.format(y.shape))\n",
    "\n",
    "print('X_train.shape={}'.format(X_train.shape))\n",
    "print('y_train.shape={}'.format(y_train.shape))\n",
    "\n",
    "print('X_validation.shape={}'.format(X_validation.shape))\n",
    "print('y_validation.shape={}'.format(y_validation.shape))\n",
    "\n",
    "print('X_test.shape={}'.format(X_test.shape))\n",
    "print('y_test.shape={}'.format(y_test.shape))\n"
   ]
  },
  {
   "cell_type": "code",
   "execution_count": null,
   "metadata": {},
   "outputs": [],
   "source": [
    "X_train.to_csv('./feature-store/amazon-reviews/labels-with-text-features/csv/train/data.csv', index=False, header=True)\n",
    "X_validation.to_csv('./feature-store/amazon-reviews/labels-with-text-features/csv/validation/data.csv', index=False, header=True)\n"
   ]
  },
  {
   "cell_type": "code",
   "execution_count": null,
   "metadata": {},
   "outputs": [],
   "source": [
    "X_train.head(5)"
   ]
  },
  {
   "cell_type": "code",
   "execution_count": null,
   "metadata": {},
   "outputs": [],
   "source": [
    "y_train.head(5)"
   ]
  },
  {
   "cell_type": "code",
   "execution_count": null,
   "metadata": {},
   "outputs": [],
   "source": [
    "# TODO:  Remove this in favor of explicitly merging these wherever they are needed\n",
    "\n",
    "df_train = X_train.merge(y_train, left_index=True, right_index=True)\n",
    "df_train.head(5)\n",
    "\n",
    "df_validation = X_validation.merge(y_validation, left_index=True, right_index=True)\n",
    "df_validation.head(5)\n",
    "\n",
    "df_train.to_csv('./feature-store/amazon-reviews/labels-with-text-features/csv/train/data.csv', index=False, header=True)\n",
    "df_validation.to_csv('./feature-store/amazon-reviews/labels-with-text-features/csv/validation/data.csv', index=False, header=True)"
   ]
  },
  {
   "cell_type": "code",
   "execution_count": null,
   "metadata": {},
   "outputs": [],
   "source": [
    "prefix = 'sagemaker/xgboost/data'\n",
    "\n",
    "train_data_uri = sess.upload_data(path=\"./data/train.csv\", key_prefix=prefix + \"/train\")\n",
    "validation_data_uri = sess.upload_data(path=\"./data/validation.csv\", key_prefix=prefix + \"/validation\")\n",
    "\n",
    "print(train_data_uri)\n",
    "print(validation_data_uri)\n",
    "\n",
    "#s3_input_train_data = sagemaker.s3_input(s3_data=train_data_uri, content_type='text/csv')\n",
    "#s3_input_validation_data = sagemaker.s3_input(s3_data=validation_data_uri, content_type='text/csv')\n"
   ]
  },
  {
   "cell_type": "markdown",
   "metadata": {},
   "source": [
    "# AutoML\n",
    "\n",
    "Typical dataset split:  `train` => `validation` => `test`\n",
    "\n",
    "However, we only specify `train` and `test` (not `validation`) for AutoML.\n",
    "\n",
    "AutoML will use all of the `train` data - splitting into `train` and `validation` on its own.  \n",
    "\n",
    "We hold out `test` to test the final model after AutoML generates the best model candidates."
   ]
  },
  {
   "cell_type": "code",
   "execution_count": null,
   "metadata": {},
   "outputs": [],
   "source": [
    "#df_train_automl = X_train.merge(y_train, left_index=True, right_index=True)[['is_positive_sentiment', 'review_body']]\n",
    "#df_validation = X_validation.merge(y_validation)\n",
    "\n",
    "df_train_automl = df_train[['is_positive_sentiment', 'review_body']]\n",
    "df_train_automl.shape\n"
   ]
  },
  {
   "cell_type": "code",
   "execution_count": null,
   "metadata": {},
   "outputs": [],
   "source": [
    "df_train_automl.head(5)"
   ]
  },
  {
   "cell_type": "code",
   "execution_count": null,
   "metadata": {},
   "outputs": [],
   "source": [
    "# TODO:  Change file name to indicate automl\n",
    "# TODO:  Name `-train.csv` to distriguish from `-test.csv` next\n",
    "df_train_automl.to_csv(path_or_buf='./data/amazon-digital-video-download-cleaned-and-filtered.csv', index=False)"
   ]
  },
  {
   "cell_type": "code",
   "execution_count": null,
   "metadata": {},
   "outputs": [],
   "source": [
    "df_test_automl = df_test[['is_positive_sentiment', 'review_body']]\n",
    "df_test_automl.shape\n"
   ]
  },
  {
   "cell_type": "code",
   "execution_count": null,
   "metadata": {},
   "outputs": [],
   "source": [
    "df_test_automl.head(5)"
   ]
  },
  {
   "cell_type": "code",
   "execution_count": null,
   "metadata": {},
   "outputs": [],
   "source": [
    "# TODO:  Change filename to indicate automl\n",
    "df_test_automl.to_csv(path_or_buf='./data/amazon-digital-video-download-cleaned-and-filtered-test.csv', index=False)"
   ]
  },
  {
   "cell_type": "code",
   "execution_count": null,
   "metadata": {},
   "outputs": [],
   "source": [
    "# TODO:  Unify these locations\n",
    "prefix = 'xgboost-reviews/autopilot'\n",
    "\n",
    "# TODO:  Change to `-train.csv` and remove the old files from S3 to avoid confusion\n",
    "sess.upload_data(path='./data/amazon-digital-video-download-cleaned-and-filtered.csv', bucket=bucket, key_prefix=prefix + '/input')\n",
    "sess.upload_data(path='./data/amazon-digital-video-download-cleaned-and-filtered-test.csv', bucket=bucket, key_prefix=prefix + '/input')"
   ]
  },
  {
   "cell_type": "code",
   "execution_count": null,
   "metadata": {
    "scrolled": true
   },
   "outputs": [],
   "source": [
    "!aws s3 ls $bucket/$prefix/input/"
   ]
  },
  {
   "cell_type": "markdown",
   "metadata": {},
   "source": [
    "# Built-In"
   ]
  },
  {
   "cell_type": "markdown",
   "metadata": {},
   "source": [
    "### Create X (features) and y (labels)"
   ]
  },
  {
   "cell_type": "code",
   "execution_count": null,
   "metadata": {},
   "outputs": [],
   "source": [
    "X = df_cleaned_and_filtered[['review_body']]\n",
    "y = df_cleaned_and_filtered['is_positive_sentiment']\n",
    "\n",
    "print('X.shape:  {}'.format(X.shape))\n",
    "print('y.shape:  {}'.format(y.shape))"
   ]
  },
  {
   "cell_type": "markdown",
   "metadata": {},
   "source": [
    "# TODO:  Split again to separate `validation` from `test`"
   ]
  },
  {
   "cell_type": "code",
   "execution_count": null,
   "metadata": {},
   "outputs": [],
   "source": [
    "from sklearn.model_selection import train_test_split\n",
    "\n",
    "X_train, X_test, y_train, y_test = train_test_split(X, y, test_size=0.10)\n",
    "\n",
    "X_train, X_holdout, y_train, y_holdout = train_test_split(X, y, test_size=0.1, random_state=0)\n",
    "X_validation, X_test, y_validation, y_test = train_test_split(X_holdout, y_holdout, test_size=0.5, random_state=0)\n",
    "\n",
    "print('X.shape={}'.format(X.shape))\n",
    "print('y.shape={}'.format(y.shape))\n",
    "\n",
    "print('X_train.shape={}'.format(X_train.shape))\n",
    "print('y_train.shape={}'.format(y_train.shape))\n",
    "\n",
    "print('X_validation.shape={}'.format(X_validation.shape))\n",
    "print('y_validation.shape={}'.format(y_validation.shape))\n",
    "\n",
    "print('X_test.shape={}'.format(X_test.shape))\n",
    "print('y_test.shape={}'.format(y_test.shape))\n"
   ]
  },
  {
   "cell_type": "code",
   "execution_count": null,
   "metadata": {},
   "outputs": [],
   "source": [
    "X_train.head(5)"
   ]
  },
  {
   "cell_type": "code",
   "execution_count": null,
   "metadata": {
    "scrolled": true
   },
   "outputs": [],
   "source": [
    "y_train.head(5)"
   ]
  },
  {
   "cell_type": "code",
   "execution_count": null,
   "metadata": {},
   "outputs": [],
   "source": [
    "# scikit-Learn==0.20.3\n",
    "# nltk==3.4.5\n",
    "\n",
    "from sklearn.pipeline import Pipeline, FeatureUnion\n",
    "from sklearn.feature_extraction.text import TfidfVectorizer\n",
    "from sklearn.preprocessing import StandardScaler\n",
    "from sklearn.decomposition import TruncatedSVD\n",
    "from sklearn.linear_model import SGDClassifier\n",
    "from sklearn.base import BaseEstimator, TransformerMixin\n",
    "\n",
    "import nltk\n",
    "import re\n",
    "\n",
    "class TextSelector(BaseEstimator, TransformerMixin):\n",
    "    def __init__(self, field):\n",
    "        self.field = field\n",
    "    def fit(self, X, y=None):\n",
    "        return self\n",
    "    def transform(self, X):\n",
    "        return X[self.field]\n",
    "    \n",
    "def Tokenizer(str_input):\n",
    "    words = re.sub(r\"[^A-Za-z0-9\\-]\", \" \", str_input).lower().split()\n",
    "    porter_stemmer=nltk.PorterStemmer()\n",
    "    words = [porter_stemmer.stem(word) for word in words]\n",
    "    return words\n",
    "\n",
    "feature_union = FeatureUnion([\n",
    "    ('body', Pipeline([\n",
    "        ('body_text_selector', TextSelector('review_body')),\n",
    "        ('tfidf_vectorizer', TfidfVectorizer(tokenizer=Tokenizer, stop_words=\"english\",\n",
    "                 min_df=.0025, max_df=0.25, ngram_range=(1,3))),\n",
    "        ('svd', TruncatedSVD(algorithm='randomized', n_components=300)), #for XGB\n",
    "    ]))\n",
    "])\n",
    "\n",
    "X_train_transformed = feature_union.fit_transform(X_train)\n",
    "X_train_transformed.shape"
   ]
  },
  {
   "cell_type": "code",
   "execution_count": null,
   "metadata": {
    "scrolled": true
   },
   "outputs": [],
   "source": [
    "# For CSV training, the XGBoost built-in algorithm assumes that the target variable is in the first column and that the CSV does not have a header record.\n",
    "\n",
    "X_train_new_pd = pd.DataFrame(X_train_transformed)\n",
    "X_train_new_pd.insert(0, 'is_positive_sentiment', y_train)\n",
    "X_train_new_pd = X_train_new_pd.fillna(0)\n",
    "\n",
    "#cols = list(train_df)\n",
    "#cols.insert(0, cols.pop(cols.index('OUTPUT_LABEL')))\n",
    "#train_df = train_df.loc[:, cols]\n",
    "\n",
    "X_train_new_pd.head(5)\n"
   ]
  },
  {
   "cell_type": "markdown",
   "metadata": {},
   "source": [
    "# TODO:  Rename this to _builtin.csv or _tfidf.csv"
   ]
  },
  {
   "cell_type": "code",
   "execution_count": null,
   "metadata": {},
   "outputs": [],
   "source": [
    "X_train_new_pd.to_csv('./data/train_transformed.csv', index=False, header=False)"
   ]
  },
  {
   "cell_type": "code",
   "execution_count": null,
   "metadata": {},
   "outputs": [],
   "source": [
    "X_test_transformed = feature_union.fit_transform(X_test)\n",
    "X_test_transformed.shape"
   ]
  },
  {
   "cell_type": "code",
   "execution_count": null,
   "metadata": {
    "scrolled": true
   },
   "outputs": [],
   "source": [
    "# For CSV training, the XGBoost built-in algorithm assumes that the target variable is in the first column and that the CSV does not have a header record.\n",
    "\n",
    "X_test_new_pd = pd.DataFrame(X_test_transformed)\n",
    "X_test_new_pd.insert(0, 'is_positive_sentiment', y_test)\n",
    "X_test_new_pd = X_test_new_pd.fillna(0)\n",
    "\n",
    "X_test_new_pd.head(5)\n"
   ]
  },
  {
   "cell_type": "markdown",
   "metadata": {},
   "source": [
    "# TODO:  Rename this to _builtin.csv or _tfidf.csv"
   ]
  },
  {
   "cell_type": "code",
   "execution_count": null,
   "metadata": {},
   "outputs": [],
   "source": [
    "X_test_new_pd.to_csv('./data/validation_transformed.csv', index=False, header=False)"
   ]
  },
  {
   "cell_type": "code",
   "execution_count": null,
   "metadata": {},
   "outputs": [],
   "source": []
  }
 ],
 "metadata": {
  "kernelspec": {
   "display_name": "conda_python3",
   "language": "python",
   "name": "conda_python3"
  },
  "language_info": {
   "codemirror_mode": {
    "name": "ipython",
    "version": 3
   },
   "file_extension": ".py",
   "mimetype": "text/x-python",
   "name": "python",
   "nbconvert_exporter": "python",
   "pygments_lexer": "ipython3",
   "version": "3.6.5"
  }
 },
 "nbformat": 4,
 "nbformat_minor": 4
}
