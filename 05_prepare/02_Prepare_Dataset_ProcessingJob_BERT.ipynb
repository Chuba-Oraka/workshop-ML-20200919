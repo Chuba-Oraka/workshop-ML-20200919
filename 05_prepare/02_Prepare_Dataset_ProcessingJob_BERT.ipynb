{
 "cells": [
  {
   "cell_type": "markdown",
   "metadata": {},
   "source": [
    "# Feature Transformation with Amazon a SageMaker Processing Job and Scikit-Learn\n",
    "\n",
    "Typically a machine learning (ML) process consists of few steps. First, gathering data with various ETL jobs, then pre-processing the data, featurizing the dataset by incorporating standard techniques or prior knowledge, and finally training an ML model using an algorithm.\n",
    "\n",
    "Often, distributed data processing frameworks such as Scikit-Learn are used to pre-process data sets in order to prepare them for training. In this notebook we'll use Amazon SageMaker Processing, and leverage the power of Scikit-Learn in a managed SageMaker environment to run our processing workload."
   ]
  },
  {
   "cell_type": "markdown",
   "metadata": {},
   "source": [
    "![](img/prepare_dataset_bert.png)\n",
    "\n",
    "![](img/processing.jpg)\n"
   ]
  },
  {
   "cell_type": "markdown",
   "metadata": {},
   "source": [
    "## Contents\n",
    "\n",
    "1. Setup Environment\n",
    "1. Setup Input Data\n",
    "1. Setup Output Data\n",
    "1. Build a Spark container for running the processing job\n",
    "1. Run the Processing Job using Amazon SageMaker\n",
    "1. Inspect the Processed Output Data"
   ]
  },
  {
   "cell_type": "markdown",
   "metadata": {},
   "source": [
    "# Setup Environment\n",
    "\n",
    "Let's start by specifying:\n",
    "* The S3 bucket and prefixes that you use for training and model data. Use the default bucket specified by the Amazon SageMaker session.\n",
    "* The IAM role ARN used to give processing and training access to the dataset."
   ]
  },
  {
   "cell_type": "code",
   "execution_count": 15,
   "metadata": {},
   "outputs": [
    {
     "name": "stdout",
     "output_type": "stream",
     "text": [
      "Requirement already satisfied: boto3 in /home/ec2-user/anaconda3/envs/python3/lib/python3.6/site-packages (1.12.20)\n",
      "Requirement already satisfied: jmespath<1.0.0,>=0.7.1 in /home/ec2-user/anaconda3/envs/python3/lib/python3.6/site-packages (from boto3) (0.9.4)\n",
      "Requirement already satisfied: botocore<1.16.0,>=1.15.20 in /home/ec2-user/anaconda3/envs/python3/lib/python3.6/site-packages (from boto3) (1.15.20)\n",
      "Requirement already satisfied: s3transfer<0.4.0,>=0.3.0 in /home/ec2-user/anaconda3/envs/python3/lib/python3.6/site-packages (from boto3) (0.3.3)\n",
      "Requirement already satisfied: docutils<0.16,>=0.10 in /home/ec2-user/anaconda3/envs/python3/lib/python3.6/site-packages (from botocore<1.16.0,>=1.15.20->boto3) (0.14)\n",
      "Requirement already satisfied: urllib3<1.26,>=1.20; python_version != \"3.4\" in /home/ec2-user/anaconda3/envs/python3/lib/python3.6/site-packages (from botocore<1.16.0,>=1.15.20->boto3) (1.23)\n",
      "Requirement already satisfied: python-dateutil<3.0.0,>=2.1 in /home/ec2-user/anaconda3/envs/python3/lib/python3.6/site-packages (from botocore<1.16.0,>=1.15.20->boto3) (2.7.3)\n",
      "Requirement already satisfied: six>=1.5 in /home/ec2-user/anaconda3/envs/python3/lib/python3.6/site-packages (from python-dateutil<3.0.0,>=2.1->botocore<1.16.0,>=1.15.20->boto3) (1.14.0)\n"
     ]
    }
   ],
   "source": [
    "!pip install boto3"
   ]
  },
  {
   "cell_type": "code",
   "execution_count": 16,
   "metadata": {},
   "outputs": [],
   "source": [
    "import sagemaker\n",
    "from time import gmtime, strftime\n",
    "import boto3\n",
    "\n",
    "sagemaker_session = sagemaker.Session()\n",
    "role = sagemaker.get_execution_role()\n",
    "bucket = sagemaker_session.default_bucket()\n",
    "region = boto3.Session().region_name"
   ]
  },
  {
   "cell_type": "markdown",
   "metadata": {},
   "source": [
    "# Setup Input Data"
   ]
  },
  {
   "cell_type": "code",
   "execution_count": 17,
   "metadata": {},
   "outputs": [
    {
     "name": "stdout",
     "output_type": "stream",
     "text": [
      "s3://sagemaker-us-east-1-835319576252/amazon-reviews-pds/tsv/\n"
     ]
    }
   ],
   "source": [
    "# Inputs\n",
    "s3_input_data = 's3://{}/amazon-reviews-pds/tsv/'.format(bucket)\n",
    "print(s3_input_data)"
   ]
  },
  {
   "cell_type": "code",
   "execution_count": 18,
   "metadata": {
    "scrolled": true
   },
   "outputs": [
    {
     "name": "stdout",
     "output_type": "stream",
     "text": [
      "2020-03-22 21:56:11   94010685 amazon_reviews_us_Software_v1_00.tsv.gz\r\n",
      "2020-03-22 21:56:24  475199894 amazon_reviews_us_Video_Games_v1_00.tsv.gz\r\n"
     ]
    }
   ],
   "source": [
    "!aws s3 ls $s3_input_data"
   ]
  },
  {
   "cell_type": "markdown",
   "metadata": {},
   "source": [
    "# Setup Output Data"
   ]
  },
  {
   "cell_type": "code",
   "execution_count": 19,
   "metadata": {},
   "outputs": [
    {
     "name": "stdout",
     "output_type": "stream",
     "text": [
      "Processing job name:  amazon-reviews-scikit-processor-2020-03-24-00-40-02\n"
     ]
    }
   ],
   "source": [
    "timestamp_prefix = strftime(\"%Y-%m-%d-%H-%M-%S\", gmtime())\n",
    "\n",
    "output_prefix = 'amazon-reviews-scikit-processor-{}'.format(timestamp_prefix)\n",
    "scikit_processing_job_name = 'amazon-reviews-scikit-processor-{}'.format(timestamp_prefix)\n",
    "\n",
    "print('Processing job name:  {}'.format(scikit_processing_job_name))"
   ]
  },
  {
   "cell_type": "markdown",
   "metadata": {},
   "source": [
    "# Run the Processing Job using Amazon SageMaker\n",
    "\n",
    "Next, use the Amazon SageMaker Python SDK to submit a processing job. Use the Spark container that was just built, and a SparkML script for processing in the job configuration."
   ]
  },
  {
   "cell_type": "markdown",
   "metadata": {},
   "source": [
    "Review the Spark processing script."
   ]
  },
  {
   "cell_type": "code",
   "execution_count": 20,
   "metadata": {},
   "outputs": [
    {
     "name": "stdout",
     "output_type": "stream",
     "text": [
      "#!/usr/bin/env python\r\n",
      "# coding: utf-8\r\n",
      "\r\n",
      "#get_ipython().system('pip install tensorflow-hub')\r\n",
      "\r\n",
      "from sklearn.model_selection import train_test_split\r\n",
      "from sklearn.utils import resample\r\n",
      "\r\n",
      "import pandas as pd\r\n",
      "from datetime import datetime\r\n",
      "import subprocess\r\n",
      "import sys\r\n",
      "subprocess.check_call([sys.executable, '-m', 'pip', 'install', 'tensorflow==1.15.2'])\r\n",
      "subprocess.check_call([sys.executable, '-m', 'pip', 'install', 'tensorflow-hub'])\r\n",
      "subprocess.check_call([sys.executable, '-m', 'pip', 'install', 'bert-tensorflow'])\r\n",
      "\r\n",
      "import tensorflow as tf\r\n",
      "import tensorflow_hub as hub\r\n",
      "\r\n",
      "print(tf.__version__)\r\n",
      "\r\n",
      "import bert\r\n",
      "from bert import run_classifier\r\n",
      "from bert import optimization\r\n",
      "from bert import tokenization\r\n",
      "\r\n",
      "from tensorflow import keras\r\n",
      "import os\r\n",
      "import re\r\n",
      "\r\n",
      "import argparse\r\n",
      "import json\r\n",
      "import os\r\n",
      "import pandas as pd\r\n",
      "import csv\r\n",
      "import glob\r\n",
      "from pathlib import Path\r\n",
      "\r\n",
      "# TODO:  Pass this into the processor\r\n",
      "BERT_MODEL_HUB = \"https://tfhub.dev/google/bert_uncased_L-12_H-768_A-12/1\"\r\n",
      "\r\n",
      "def list_arg(raw_value):\r\n",
      "    \"\"\"argparse type for a list of strings\"\"\"\r\n",
      "    return str(raw_value).split(',')\r\n",
      "\r\n",
      "\r\n",
      "def parse_args():\r\n",
      "    # Unlike SageMaker training jobs (which have `SM_HOSTS` and `SM_CURRENT_HOST` env vars), processing jobs to need to parse the resource config file directly\r\n",
      "    resconfig = {}\r\n",
      "    try:\r\n",
      "        with open('/opt/ml/config/resourceconfig.json', 'r') as cfgfile:\r\n",
      "            resconfig = json.load(cfgfile)\r\n",
      "    except FileNotFoundError:\r\n",
      "        print('/opt/ml/config/resourceconfig.json not found.  current_host is unknown.')\r\n",
      "        pass # Ignore\r\n",
      "\r\n",
      "    # Local testing with CLI args\r\n",
      "    parser = argparse.ArgumentParser(description='Process')\r\n",
      "\r\n",
      "    parser.add_argument('--hosts', type=list_arg,\r\n",
      "        default=resconfig.get('hosts', ['unknown']),\r\n",
      "        help='Comma-separated list of host names running the job'\r\n",
      "    )\r\n",
      "    parser.add_argument('--current-host', type=str,\r\n",
      "        default=resconfig.get('current_host', 'unknown'),\r\n",
      "        help='Name of this host running the job'\r\n",
      "    )\r\n",
      "    parser.add_argument('--input-data', type=str,\r\n",
      "        default='/opt/ml/processing/input/data',\r\n",
      "    )\r\n",
      "    parser.add_argument('--output-data', type=str,\r\n",
      "        default='/opt/ml/processing/output',\r\n",
      "    )\r\n",
      "    return parser.parse_args()\r\n",
      "\r\n",
      "\r\n",
      "def create_tokenizer_from_hub_module():\r\n",
      "    \"\"\"Get the vocab file and casing info from the Hub module.\"\"\"\r\n",
      "    with tf.Graph().as_default():\r\n",
      "        bert_module = hub.Module(BERT_MODEL_HUB)\r\n",
      "        tokenization_info = bert_module(signature=\"tokenization_info\", as_dict=True)\r\n",
      "        with tf.Session() as sess:\r\n",
      "            vocab_file, do_lower_case = sess.run([tokenization_info[\"vocab_file\"],\r\n",
      "                                                  tokenization_info[\"do_lower_case\"]])\r\n",
      "\r\n",
      "    return bert.tokenization.FullTokenizer(\r\n",
      "        vocab_file=vocab_file, do_lower_case=do_lower_case)\r\n",
      "    \r\n",
      "    \r\n",
      "def process(args):\r\n",
      "    print('Current host: {}'.format(args.current_host))\r\n",
      "    \r\n",
      "    train_output_data = None\r\n",
      "    validation_output_data = None\r\n",
      "    test_output_data = None\r\n",
      "\r\n",
      "    # This would print all the files and directories\r\n",
      "    for file in glob.glob('{}/*.tsv.gz'.format(args.input_data)):\r\n",
      "        print(file)\r\n",
      "        \r\n",
      "        filename_without_extension = Path(Path(file).stem).stem\r\n",
      "        \r\n",
      "        df = pd.read_csv(file, \r\n",
      "                         delimiter='\\t', \r\n",
      "                         quoting=csv.QUOTE_NONE,\r\n",
      "                         compression='gzip')\r\n",
      "\r\n",
      "        df.isna().values.any()\r\n",
      "        df = df.dropna()\r\n",
      "        df = df.reset_index(drop=True)\r\n",
      "        \r\n",
      "        df['is_positive_sentiment'] = (df['star_rating'] >= 4).astype(int) \r\n",
      "        df.shape\r\n",
      "        df.head(5)  \r\n",
      "\r\n",
      "        # Balance the Dataset between Classes\r\n",
      "        is_negative_sentiment_df = df.query('is_positive_sentiment == 0')\r\n",
      "        is_positive_sentiment_df = df.query('is_positive_sentiment == 1')\r\n",
      "\r\n",
      "        # TODO:  check which sentiment has the least number of samples\r\n",
      "        is_positive_downsampled_df = resample(is_positive_sentiment_df,\r\n",
      "                                      replace = False,\r\n",
      "                                      n_samples = len(is_negative_sentiment_df),\r\n",
      "                                      random_state = 27)\r\n",
      "\r\n",
      "        df_balanced = pd.concat([is_negative_sentiment_df, is_positive_downsampled_df])\r\n",
      "        df_balanced = df_balanced.reset_index(drop=True)\r\n",
      "        df_balanced.shape\r\n",
      "        df_balanced.head(5)\r\n",
      "       \r\n",
      "        # Split all data into 90% train and 10% holdout\r\n",
      "        df_train, df_holdout = train_test_split(df_balanced, test_size=0.9, stratify=df_balanced['is_positive_sentiment'])\r\n",
      "        df_validation, df_test = train_test_split(df_holdout, test_size=0.1, stratify=df_holdout['is_positive_sentiment'])\r\n",
      "\r\n",
      "        df_train = df_train.reset_index(drop=True)\r\n",
      "        df_validation = df_validation.reset_index(drop=True)\r\n",
      "        df_test = df_test.reset_index(drop=True)\r\n",
      "        \r\n",
      "        DATA_COLUMN = 'review_body'\r\n",
      "        LABEL_COLUMN = 'is_positive_sentiment'\r\n",
      "        LABEL_VALUES = [0, 1]\r\n",
      "\r\n",
      "        # #Data Preprocessing\r\n",
      "        # We'll need to transform our data into a format BERT understands. This involves two steps. First, we create  `InputExample`'s using the constructor provided in the BERT library.\r\n",
      "        # \r\n",
      "        # - `text_a` is the text we want to classify, which in this case, is the `Request` field in our Dataframe. \r\n",
      "        # - `text_b` is used if we're training a model to understand the relationship between sentences (i.e. is `text_b` a translation of `text_a`? Is `text_b` an answer to the question asked by `text_a`?). This doesn't apply to our task since we are predicting sentiment, so we can leave `text_b` blank.\r\n",
      "        # - `label` is the label for our example (0 or 1)\r\n",
      "\r\n",
      "        # Use the InputExample class from BERT's run_classifier code to create examples from the data\r\n",
      "        train_InputExamples = df_train.apply(lambda x: bert.run_classifier.InputExample(guid=None, # Unused in this example\r\n",
      "                                                                           text_a = x[DATA_COLUMN], \r\n",
      "                                                                           text_b = None, \r\n",
      "                                                                           label = x[LABEL_COLUMN]), axis = 1)\r\n",
      "\r\n",
      "        validation_InputExamples = df_validation.apply(lambda x: bert.run_classifier.InputExample(guid=None, \r\n",
      "                                                                           text_a = x[DATA_COLUMN], \r\n",
      "                                                                           text_b = None, \r\n",
      "                                                                           label = x[LABEL_COLUMN]), axis = 1)\r\n",
      "\r\n",
      "        test_InputExamples = df_test.apply(lambda x: bert.run_classifier.InputExample(guid=None, \r\n",
      "                                                                           text_a = x[DATA_COLUMN], \r\n",
      "                                                                           text_b = None, \r\n",
      "                                                                           label = x[LABEL_COLUMN]), axis = 1)\r\n",
      "\r\n",
      "        # Next, we need to preprocess our data so that it matches the data BERT was trained on. For this, we'll need to do a couple of things (but don't worry--this is also included in the Python library):\r\n",
      "        # \r\n",
      "        # \r\n",
      "        # 1. Lowercase our text (if we're using a BERT lowercase model)\r\n",
      "        # 2. Tokenize it (i.e. \"sally says hi\" -> [\"sally\", \"says\", \"hi\"])\r\n",
      "        # 3. Break words into WordPieces (i.e. \"calling\" -> [\"call\", \"##ing\"])\r\n",
      "        # 4. Map our words to indexes using a vocab file that BERT provides\r\n",
      "        # 5. Add special \"CLS\" and \"SEP\" tokens (see the [readme](https://github.com/google-research/bert))\r\n",
      "        # 6. Append \"index\" and \"segment\" tokens to each input (see the [BERT paper](https://arxiv.org/pdf/1810.04805.pdf))\r\n",
      "        # \r\n",
      "        # Happily, we don't have to worry about most of these details.\r\n",
      "        # \r\n",
      "        # To start, we'll need to load a vocabulary file and lowercasing information directly from the BERT tf hub module:\r\n",
      "\r\n",
      "        # This is a path to an uncased (all lowercase) version of BERT\r\n",
      "        BERT_MODEL_HUB = \"https://tfhub.dev/google/bert_uncased_L-12_H-768_A-12/1\"\r\n",
      "\r\n",
      "        tokenizer = create_tokenizer_from_hub_module()\r\n",
      "\r\n",
      "        # This BERT model expects lowercase data (that's what stored in tokenization_info[\"do_lower_case\"]).\r\n",
      "        # We also loaded BERT's vocab file. We also created a tokenizer, which breaks words into word pieces:\r\n",
      "\r\n",
      "        tokenizer.tokenize(\"This here's an example of using the BERT tokenizer\")\r\n",
      "\r\n",
      "        # Using our tokenizer, we'll call `run_classifier.file_based_convert_examples_to_features` on our InputExamples to convert them into features BERT understands, then write the features to a file.\r\n",
      "\r\n",
      "        # We'll set sequences to be at most 128 tokens long.\r\n",
      "        MAX_SEQ_LENGTH = 128\r\n",
      "\r\n",
      "        train_data = '{}/bert/labeled/split/balanced/header/train'.format(args.output_data)\r\n",
      "        validation_data = '{}/bert/labeled/split/balanced/header/validation'.format(args.output_data)\r\n",
      "        test_data = '{}/bert/labeled/split/balanced/header/test'.format(args.output_data)\r\n",
      "\r\n",
      "        # Convert our train and test features to InputFeatures that BERT understands.\r\n",
      "        df_train_embeddings = bert.run_classifier.file_based_convert_examples_to_features(train_InputExamples, LABEL_VALUES, MAX_SEQ_LENGTH, tokenizer, train_data)\r\n",
      "        df_validation_embeddings = bert.file_based_run_classifier.convert_examples_to_features(validation_InputExamples, LABEL_VALUES, MAX_SEQ_LENGTH, tokenizer, validation_data)\r\n",
      "        df_test_embeddings = bert.file_based_run_classifier.convert_examples_to_features(test_InputExamples, LABEL_VALUES, MAX_SEQ_LENGTH, tokenizer, test_data)\r\n",
      "        \r\n",
      "#         print('Creating directory {}'.format(train_data))\r\n",
      "#         os.makedirs(train_data, exist_ok=True)\r\n",
      "#         print('Writing to {}/part-{}-{}.csv'.format(train_data, args.current_host, filename_without_extension))\r\n",
      "#         df_train_embeddings.to_csv('{}/part-{}-{}.csv'.format(train_data, args.current_host, filename_without_extension), sep=',', index=False, header=True)\r\n",
      "\r\n",
      "#         print('Creating directory {}'.format(validation_data))\r\n",
      "#         os.makedirs(validation_data, exist_ok=True)\r\n",
      "#         print('Writing to {}/part-{}-{}.csv'.format(validation_data, args.current_host, filename_without_extension))      \r\n",
      "#         df_validation_embeddings.to_csv('{}/part-{}-{}.csv'.format(validation_data, args.current_host, filename_without_extension), sep=',', index=False, header=True)\r\n",
      "\r\n",
      "#         print('Creating directory {}'.format(test_data))\r\n",
      "#         os.makedirs(test_data, exist_ok=True)\r\n",
      "#         print('Writing to {}/part-{}-{}.csv'.format(test_data, args.current_host, filename_without_extension))\r\n",
      "#         df_test_embeddings.to_csv('{}/part-{}-{}.csv'.format(test_data, args.current_host, filename_without_extension), sep=',', index=False, header=True)\r\n",
      "\r\n",
      "\r\n",
      "    print('Listing contents of {}'.format(args.output_data))\r\n",
      "    dirs_output = os.listdir(args.output_data)\r\n",
      "    for file in dirs_output:\r\n",
      "        print(file)\r\n",
      "\r\n",
      "    print('Listing contents of {}'.format(train_data))\r\n",
      "    dirs_output = os.listdir(train_data)\r\n",
      "    for file in dirs_output:\r\n",
      "        print(file)\r\n",
      "\r\n",
      "    print('Listing contents of {}'.format(validation_data))\r\n",
      "    dirs_output = os.listdir(validation_data)\r\n",
      "    for file in dirs_output:\r\n",
      "        print(file)\r\n",
      "\r\n",
      "    print('Listing contents of {}'.format(test_data))\r\n",
      "    dirs_output = os.listdir(test_data)\r\n",
      "    for file in dirs_output:\r\n",
      "        print(file)\r\n",
      "\r\n",
      "    print('Complete')\r\n",
      "    \r\n",
      "    \r\n",
      "if __name__ == \"__main__\":\r\n",
      "    args = parse_args()\r\n",
      "    print('Loaded arguments:')\r\n",
      "    print(args)\r\n",
      "    \r\n",
      "    print('Environment variables:')\r\n",
      "    print(os.environ)\r\n",
      "\r\n",
      "    process(args)    \r\n"
     ]
    }
   ],
   "source": [
    "cat preprocess-bert.py"
   ]
  },
  {
   "cell_type": "markdown",
   "metadata": {},
   "source": [
    "Run this script as a processing job.  You also need to specify one `ProcessingInput` with the `source` argument of the Amazon S3 bucket and `destination` is where the script reads this data from `/opt/ml/processing/input` (inside the Docker container.)  All local paths inside the processing container must begin with `/opt/ml/processing/`.\n",
    "\n",
    "Also give the `run()` method a `ProcessingOutput`, where the `source` is the path the script writes output data to.  For outputs, the `destination` defaults to an S3 bucket that the Amazon SageMaker Python SDK creates for you, following the format `s3://sagemaker-<region>-<account_id>/<processing_job_name>/output/<output_name>/`.  You also give the `ProcessingOutput` value for `output_name`, to make it easier to retrieve these output artifacts after the job is run.\n",
    "\n",
    "The arguments parameter in the `run()` method are command-line arguments in our `preprocess-bert.py` script.\n",
    "\n",
    "Note that we sharding the data using `ShardedS3Key` to spread the transformations across all worker nodes in the cluster."
   ]
  },
  {
   "cell_type": "code",
   "execution_count": 21,
   "metadata": {},
   "outputs": [],
   "source": [
    "from sagemaker.sklearn.processing import SKLearnProcessor\n",
    "from sagemaker.processing import ProcessingInput, ProcessingOutput\n",
    "\n",
    "processor = SKLearnProcessor(framework_version='0.20.0',\n",
    "                             role=role,\n",
    "                             instance_type='ml.m5.4xlarge',\n",
    "                             instance_count=2)"
   ]
  },
  {
   "cell_type": "code",
   "execution_count": 22,
   "metadata": {
    "scrolled": true
   },
   "outputs": [
    {
     "name": "stdout",
     "output_type": "stream",
     "text": [
      "\n",
      "Job Name:  sagemaker-scikit-learn-2020-03-24-00-40-03-180\n",
      "Inputs:  [{'InputName': 'input-1', 'S3Input': {'S3Uri': 's3://sagemaker-us-east-1-835319576252/amazon-reviews-pds/tsv/', 'LocalPath': '/opt/ml/processing/input/data/', 'S3DataType': 'S3Prefix', 'S3InputMode': 'File', 'S3DataDistributionType': 'ShardedByS3Key', 'S3CompressionType': 'None'}}, {'InputName': 'code', 'S3Input': {'S3Uri': 's3://sagemaker-us-east-1-835319576252/sagemaker-scikit-learn-2020-03-24-00-40-03-180/input/code/preprocess-bert.py', 'LocalPath': '/opt/ml/processing/input/code', 'S3DataType': 'S3Prefix', 'S3InputMode': 'File', 'S3DataDistributionType': 'FullyReplicated', 'S3CompressionType': 'None'}}]\n",
      "Outputs:  [{'OutputName': 'bert-labeled-split-balanced-header-train', 'S3Output': {'S3Uri': 's3://sagemaker-us-east-1-835319576252/sagemaker-scikit-learn-2020-03-24-00-40-03-180/output/bert-labeled-split-balanced-header-train', 'LocalPath': '/opt/ml/processing/output/bert/labeled/split/balanced/header/train', 'S3UploadMode': 'EndOfJob'}}, {'OutputName': 'bert-labeled-split-balanced-header-validation', 'S3Output': {'S3Uri': 's3://sagemaker-us-east-1-835319576252/sagemaker-scikit-learn-2020-03-24-00-40-03-180/output/bert-labeled-split-balanced-header-validation', 'LocalPath': '/opt/ml/processing/output/bert/labeled/split/balanced/header/validation', 'S3UploadMode': 'EndOfJob'}}, {'OutputName': 'bert-labeled-split-balanced-header-test', 'S3Output': {'S3Uri': 's3://sagemaker-us-east-1-835319576252/sagemaker-scikit-learn-2020-03-24-00-40-03-180/output/bert-labeled-split-balanced-header-test', 'LocalPath': '/opt/ml/processing/output/bert/labeled/split/balanced/header/test', 'S3UploadMode': 'EndOfJob'}}]\n"
     ]
    }
   ],
   "source": [
    "processor.run(code='preprocess-bert.py',\n",
    "                      inputs=[ProcessingInput(source=s3_input_data,\n",
    "                                              destination='/opt/ml/processing/input/data/',\n",
    "                                              s3_data_distribution_type='ShardedByS3Key')],\n",
    "                      outputs=[\n",
    "                               ProcessingOutput(s3_upload_mode='EndOfJob',\n",
    "                                                output_name='bert-labeled-split-balanced-header-train',\n",
    "                                                source='/opt/ml/processing/output/bert/labeled/split/balanced/header/train'),\n",
    "                               ProcessingOutput(s3_upload_mode='EndOfJob',\n",
    "                                                output_name='bert-labeled-split-balanced-header-validation',\n",
    "                                                source='/opt/ml/processing/output/bert/labeled/split/balanced/header/validation'),\n",
    "                               ProcessingOutput(s3_upload_mode='EndOfJob',\n",
    "                                                output_name='bert-labeled-split-balanced-header-test',\n",
    "                                                source='/opt/ml/processing/output/bert/labeled/split/balanced/header/test'),\n",
    "                      ],\n",
    "                      logs=True,\n",
    "                      wait=False)\n"
   ]
  },
  {
   "cell_type": "code",
   "execution_count": 23,
   "metadata": {},
   "outputs": [
    {
     "data": {
      "text/html": [
       "<b>Review <a href=\"https://console.aws.amazon.com/cloudwatch/home?region=us-east-1#logStream:group=/aws/sagemaker/ProcessingJobs;prefix=sagemaker-scikit-learn-2020-03-24-00-40-03-180;streamFilter=typeLogStreamPrefix\">CloudWatch Logs</a> After About 5 Minutes</b>"
      ],
      "text/plain": [
       "<IPython.core.display.HTML object>"
      ]
     },
     "metadata": {},
     "output_type": "display_data"
    }
   ],
   "source": [
    "scikit_processing_job_name = processor.jobs[-1].describe()['ProcessingJobName']\n",
    "\n",
    "from IPython.core.display import display, HTML\n",
    "display(HTML('<b>Review <a href=\"https://console.aws.amazon.com/cloudwatch/home?region={}#logStream:group=/aws/sagemaker/ProcessingJobs;prefix={};streamFilter=typeLogStreamPrefix\">CloudWatch Logs</a> After About 5 Minutes</b>'.format(region, scikit_processing_job_name)))\n"
   ]
  },
  {
   "cell_type": "code",
   "execution_count": 24,
   "metadata": {},
   "outputs": [
    {
     "data": {
      "text/html": [
       "<b>Review <a href=\"https://s3.console.aws.amazon.com/s3/buckets/sagemaker-us-east-1-835319576252/sagemaker-scikit-learn-2020-03-24-00-40-03-180/?region=us-east-1&tab=overview\">S3 Output Data</a> After The Spark Job Has Completed</b>"
      ],
      "text/plain": [
       "<IPython.core.display.HTML object>"
      ]
     },
     "metadata": {},
     "output_type": "display_data"
    }
   ],
   "source": [
    "from IPython.core.display import display, HTML\n",
    "\n",
    "# Our job writes to `processing_job_name` since we are using ProcessingOutput above\n",
    "scikit_processing_job_s3_output_prefix = scikit_processing_job_name\n",
    "\n",
    "display(HTML('<b>Review <a href=\"https://s3.console.aws.amazon.com/s3/buckets/{}/{}/?region={}&tab=overview\">S3 Output Data</a> After The Spark Job Has Completed</b>'.format(bucket, scikit_processing_job_s3_output_prefix, region)))\n"
   ]
  },
  {
   "cell_type": "markdown",
   "metadata": {},
   "source": [
    "# Please Wait Until the Processing Job Completes\n",
    "Re-run this next cell until the job status shows `Completed`."
   ]
  },
  {
   "cell_type": "code",
   "execution_count": 25,
   "metadata": {
    "scrolled": true
   },
   "outputs": [
    {
     "name": "stdout",
     "output_type": "stream",
     "text": [
      "\n",
      "\n",
      "InProgress\n",
      "\n",
      "\n",
      "{'ProcessingInputs': [{'InputName': 'input-1', 'S3Input': {'S3Uri': 's3://sagemaker-us-east-1-835319576252/amazon-reviews-pds/tsv/', 'LocalPath': '/opt/ml/processing/input/data/', 'S3DataType': 'S3Prefix', 'S3InputMode': 'File', 'S3DataDistributionType': 'ShardedByS3Key', 'S3CompressionType': 'None'}}, {'InputName': 'code', 'S3Input': {'S3Uri': 's3://sagemaker-us-east-1-835319576252/sagemaker-scikit-learn-2020-03-24-00-40-03-180/input/code/preprocess-bert.py', 'LocalPath': '/opt/ml/processing/input/code', 'S3DataType': 'S3Prefix', 'S3InputMode': 'File', 'S3DataDistributionType': 'FullyReplicated', 'S3CompressionType': 'None'}}], 'ProcessingOutputConfig': {'Outputs': [{'OutputName': 'bert-labeled-split-balanced-header-train', 'S3Output': {'S3Uri': 's3://sagemaker-us-east-1-835319576252/sagemaker-scikit-learn-2020-03-24-00-40-03-180/output/bert-labeled-split-balanced-header-train', 'LocalPath': '/opt/ml/processing/output/bert/labeled/split/balanced/header/train', 'S3UploadMode': 'EndOfJob'}}, {'OutputName': 'bert-labeled-split-balanced-header-validation', 'S3Output': {'S3Uri': 's3://sagemaker-us-east-1-835319576252/sagemaker-scikit-learn-2020-03-24-00-40-03-180/output/bert-labeled-split-balanced-header-validation', 'LocalPath': '/opt/ml/processing/output/bert/labeled/split/balanced/header/validation', 'S3UploadMode': 'EndOfJob'}}, {'OutputName': 'bert-labeled-split-balanced-header-test', 'S3Output': {'S3Uri': 's3://sagemaker-us-east-1-835319576252/sagemaker-scikit-learn-2020-03-24-00-40-03-180/output/bert-labeled-split-balanced-header-test', 'LocalPath': '/opt/ml/processing/output/bert/labeled/split/balanced/header/test', 'S3UploadMode': 'EndOfJob'}}]}, 'ProcessingJobName': 'sagemaker-scikit-learn-2020-03-24-00-40-03-180', 'ProcessingResources': {'ClusterConfig': {'InstanceCount': 2, 'InstanceType': 'ml.m5.4xlarge', 'VolumeSizeInGB': 30}}, 'StoppingCondition': {'MaxRuntimeInSeconds': 86400}, 'AppSpecification': {'ImageUri': '683313688378.dkr.ecr.us-east-1.amazonaws.com/sagemaker-scikit-learn:0.20.0-cpu-py3', 'ContainerEntrypoint': ['python3', '/opt/ml/processing/input/code/preprocess-bert.py']}, 'RoleArn': 'arn:aws:iam::835319576252:role/service-role/AmazonSageMaker-ExecutionRole-20191006T135881', 'ProcessingJobArn': 'arn:aws:sagemaker:us-east-1:835319576252:processing-job/sagemaker-scikit-learn-2020-03-24-00-40-03-180', 'ProcessingJobStatus': 'InProgress', 'LastModifiedTime': datetime.datetime(2020, 3, 24, 0, 40, 3, 472000, tzinfo=tzlocal()), 'CreationTime': datetime.datetime(2020, 3, 24, 0, 40, 3, 472000, tzinfo=tzlocal()), 'ResponseMetadata': {'RequestId': '7c3958b8-f647-4606-ba53-01dffefc1297', 'HTTPStatusCode': 200, 'HTTPHeaders': {'x-amzn-requestid': '7c3958b8-f647-4606-ba53-01dffefc1297', 'content-type': 'application/x-amz-json-1.1', 'content-length': '2381', 'date': 'Tue, 24 Mar 2020 00:40:03 GMT'}, 'RetryAttempts': 0}}\n"
     ]
    }
   ],
   "source": [
    "running_processor = sagemaker.processing.ProcessingJob.from_processing_name(processing_job_name=scikit_processing_job_name,\n",
    "                                                                            sagemaker_session=sagemaker_session)\n",
    "\n",
    "processing_job_description = running_processor.describe()\n",
    "\n",
    "processing_job_status = processing_job_description['ProcessingJobStatus']\n",
    "print('\\n')\n",
    "print(processing_job_status)\n",
    "print('\\n')\n",
    "\n",
    "print(processing_job_description)"
   ]
  },
  {
   "cell_type": "markdown",
   "metadata": {},
   "source": [
    "# Inspect the Processed Output Data\n",
    "\n",
    "## The next cells will not work properly until the job completes above.\n",
    "\n",
    "Take a look at a few rows of the transformed dataset to make sure the processing was successful."
   ]
  },
  {
   "cell_type": "code",
   "execution_count": 26,
   "metadata": {
    "scrolled": true
   },
   "outputs": [
    {
     "name": "stdout",
     "output_type": "stream",
     "text": [
      "s3://sagemaker-us-east-1-835319576252/sagemaker-scikit-learn-2020-03-24-00-40-03-180/output/bert-labeled-split-balanced-header-train\n",
      "s3://sagemaker-us-east-1-835319576252/sagemaker-scikit-learn-2020-03-24-00-40-03-180/output/bert-labeled-split-balanced-header-validation\n",
      "s3://sagemaker-us-east-1-835319576252/sagemaker-scikit-learn-2020-03-24-00-40-03-180/output/bert-labeled-split-balanced-header-test\n"
     ]
    }
   ],
   "source": [
    "output_config = processing_job_description['ProcessingOutputConfig']\n",
    "for output in output_config['Outputs']:\n",
    "    if output['OutputName'] == 'bert-labeled-split-balanced-header-train':\n",
    "        processed_balanced_train_data = output['S3Output']['S3Uri']\n",
    "    if output['OutputName'] == 'bert-labeled-split-balanced-header-validation':\n",
    "        processed_balanced_validation_data = output['S3Output']['S3Uri']        \n",
    "    if output['OutputName'] == 'bert-labeled-split-balanced-header-test':\n",
    "        processed_balanced_test_data = output['S3Output']['S3Uri']\n",
    "        \n",
    "print(processed_balanced_train_data)\n",
    "print(processed_balanced_validation_data)\n",
    "print(processed_balanced_test_data)"
   ]
  },
  {
   "cell_type": "code",
   "execution_count": 27,
   "metadata": {},
   "outputs": [],
   "source": [
    "!aws s3 ls $processed_balanced_train_data/"
   ]
  },
  {
   "cell_type": "code",
   "execution_count": 28,
   "metadata": {},
   "outputs": [],
   "source": [
    "!aws s3 ls $processed_balanced_validation_data/"
   ]
  },
  {
   "cell_type": "code",
   "execution_count": 29,
   "metadata": {},
   "outputs": [],
   "source": [
    "!aws s3 ls $processed_balanced_test_data/"
   ]
  },
  {
   "cell_type": "markdown",
   "metadata": {},
   "source": [
    "# Pass `scikit_processing_job_s3_output_prefix` above as input to the next notebook"
   ]
  },
  {
   "cell_type": "code",
   "execution_count": 30,
   "metadata": {},
   "outputs": [
    {
     "name": "stdout",
     "output_type": "stream",
     "text": [
      "sagemaker-scikit-learn-2020-03-24-00-40-03-180\n"
     ]
    }
   ],
   "source": [
    "print(scikit_processing_job_s3_output_prefix)"
   ]
  },
  {
   "cell_type": "code",
   "execution_count": 31,
   "metadata": {},
   "outputs": [
    {
     "name": "stdout",
     "output_type": "stream",
     "text": [
      "Stored 'scikit_processing_job_s3_output_prefix' (str)\n"
     ]
    }
   ],
   "source": [
    "%store scikit_processing_job_s3_output_prefix\n"
   ]
  },
  {
   "cell_type": "code",
   "execution_count": null,
   "metadata": {},
   "outputs": [],
   "source": []
  }
 ],
 "metadata": {
  "kernelspec": {
   "display_name": "conda_python3",
   "language": "python",
   "name": "conda_python3"
  },
  "language_info": {
   "codemirror_mode": {
    "name": "ipython",
    "version": 3
   },
   "file_extension": ".py",
   "mimetype": "text/x-python",
   "name": "python",
   "nbconvert_exporter": "python",
   "pygments_lexer": "ipython3",
   "version": "3.6.5"
  }
 },
 "nbformat": 4,
 "nbformat_minor": 4
}
