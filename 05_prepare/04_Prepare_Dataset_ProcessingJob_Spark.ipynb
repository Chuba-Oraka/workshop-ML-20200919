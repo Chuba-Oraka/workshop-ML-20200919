{
 "cells": [
  {
   "cell_type": "markdown",
   "metadata": {},
   "source": [
    "# Feature transformation with Amazon SageMaker Processing and SparkML\n",
    "\n",
    "Typically a machine learning (ML) process consists of few steps. First, gathering data with various ETL jobs, then pre-processing the data, featurizing the dataset by incorporating standard techniques or prior knowledge, and finally training an ML model using an algorithm.\n",
    "\n",
    "Often, distributed data processing frameworks such as Spark are used to pre-process data sets in order to prepare them for training. In this notebook we'll use Amazon SageMaker Processing, and leverage the power of Spark in a managed SageMaker environment to run our preprocessing workload. Then, we'll take our preprocessed dataset and train a regression model using XGBoost."
   ]
  },
  {
   "cell_type": "markdown",
   "metadata": {},
   "source": [
    "![](images/processing.jpg)\n"
   ]
  },
  {
   "cell_type": "markdown",
   "metadata": {},
   "source": [
    "## Contents\n",
    "\n",
    "1. [Objective](#Objective:-predict-the-age-of-an-Abalone-from-its-physical-measurement)\n",
    "1. [Setup](#Setup)\n",
    "1. [Using Amazon SageMaker Processing to execute a SparkML Job](#Using-Amazon-SageMaker-Processing-to-execute-a-SparkML-Job)\n",
    "  1. [Downloading dataset and uploading to S3](#Downloading-dataset-and-uploading-to-S3)\n",
    "  1. [Build a Spark container for running the preprocessing job](#Build-a-Spark-container-for-running-the-preprocessing-job)\n",
    "  1. [Run the preprocessing job using Amazon SageMaker Processing](#Run-the-preprocessing-job-using-Amazon-SageMaker-Processing)\n",
    "    1. [Inspect the preprocessed dataset](#Inspect-the-preprocessed-dataset)\n",
    "1. [Train a regression model using the Amazon SageMaker XGBoost algorithm](#Train-a-regression-model-using-the-SageMaker-XGBoost-algorithm)\n",
    "  1. [Retrieve the XGBoost algorithm image](#Retrieve-the-XGBoost-algorithm-image)\n",
    "  1. [Set XGBoost model parameters and dataset details](#Set-XGBoost-model-parameters-and-dataset-details)\n",
    "  1. [Train the XGBoost model](#Train-the-XGBoost-model)"
   ]
  },
  {
   "cell_type": "markdown",
   "metadata": {},
   "source": [
    "## Setup\n",
    "\n",
    "Add the following policies to your SageMaker Execution Role:  \n",
    "* `EC2ContainerRegistry`\n",
    "* Permissions: `List`, `Read`, `Write` \n",
    "* Repository:  `amazon-reviews-spark-processor`\n",
    "\n",
    "Let's start by specifying:\n",
    "* The S3 bucket and prefixes that you use for training and model data. Use the default bucket specified by the Amazon SageMaker session.\n",
    "* The IAM role ARN used to give processing and training access to the dataset."
   ]
  },
  {
   "cell_type": "code",
   "execution_count": 145,
   "metadata": {},
   "outputs": [
    {
     "name": "stdout",
     "output_type": "stream",
     "text": [
      "Processing job name:  amazon-reviews-spark-processor-2020-03-10-04-49-55\n"
     ]
    }
   ],
   "source": [
    "import sagemaker\n",
    "import boto3\n",
    "\n",
    "sagemaker_session = sagemaker.Session()\n",
    "role = sagemaker.get_execution_role()\n",
    "bucket = sagemaker_session.default_bucket()\n",
    "region = boto3.Session().region_name"
   ]
  },
  {
   "cell_type": "markdown",
   "metadata": {},
   "source": [
    "## Using Amazon SageMaker Processing to execute a SparkML job"
   ]
  },
  {
   "cell_type": "markdown",
   "metadata": {},
   "source": [
    "### Downloading dataset and uploading to Amazon Simple Storage Service (Amazon S3)\n",
    "\n",
    "Show the dataset"
   ]
  },
  {
   "cell_type": "markdown",
   "metadata": {},
   "source": [
    "# Get Name of Previous Processing Job To Inspect Output"
   ]
  },
  {
   "cell_type": "code",
   "execution_count": 214,
   "metadata": {},
   "outputs": [],
   "source": [
    "previous_processing_job_name = 'sagemaker-scikit-learn-2020-03-09-21-39-23-619'"
   ]
  },
  {
   "cell_type": "code",
   "execution_count": 215,
   "metadata": {},
   "outputs": [
    {
     "name": "stdout",
     "output_type": "stream",
     "text": [
      "                           PRE raw-labeled-split-balanced-header-test/\r\n",
      "                           PRE raw-labeled-split-balanced-header-train/\r\n",
      "                           PRE raw-labeled-split-balanced-header-validation/\r\n",
      "                           PRE raw-labeled-split-unbalanced-header-test/\r\n",
      "                           PRE raw-labeled-split-unbalanced-header-train/\r\n",
      "                           PRE raw-labeled-split-unbalanced-header-validation/\r\n"
     ]
    }
   ],
   "source": [
    "!aws s3 ls s3://$bucket/$previous_processing_job_name/output/"
   ]
  },
  {
   "cell_type": "code",
   "execution_count": 148,
   "metadata": {},
   "outputs": [],
   "source": [
    "balanced_train_data_input = 's3://{}/{}/output/raw-labeled-split-balanced-header-train/'.format(bucket, previous_processing_job_name)\n",
    "balanced_validation_data_input = 's3://{}/{}/output/raw-labeled-split-balanced-header-validation/'.format(bucket, previous_processing_job_name)\n",
    "balanced_test_data_input = 's3://{}/{}/output/raw-labeled-split-balanced-header-test/'.format(bucket, previous_processing_job_name)"
   ]
  },
  {
   "cell_type": "code",
   "execution_count": 149,
   "metadata": {},
   "outputs": [
    {
     "name": "stdout",
     "output_type": "stream",
     "text": [
      "2020-03-09 21:53:40  898897521 part-algo-1-amazon_reviews_us_Apparel_v1_00.csv\r\n",
      "2020-03-09 21:53:40  101620078 part-algo-1-amazon_reviews_us_Digital_Music_Purchase_v1_00.csv\r\n",
      "2020-03-09 21:53:40  493981090 part-algo-1-amazon_reviews_us_Home_Improvement_v1_00.csv\r\n",
      "2020-03-09 21:53:40  172364050 part-algo-1-amazon_reviews_us_Musical_Instruments_v1_00.csv\r\n",
      "2020-03-09 21:53:40  789101028 part-algo-1-amazon_reviews_us_Toys_v1_00.csv\r\n",
      "2020-03-09 21:53:42 1144801434 part-algo-10-amazon_reviews_us_Digital_Ebook_Purchase_v1_01.csv\r\n",
      "2020-03-09 21:53:42  265389749 part-algo-10-amazon_reviews_us_Home_Entertainment_v1_00.csv\r\n",
      "2020-03-09 21:53:42  968972518 part-algo-10-amazon_reviews_us_Music_v1_00.csv\r\n",
      "2020-03-09 21:53:42  287669682 part-algo-10-amazon_reviews_us_Tools_v1_00.csv\r\n",
      "2020-03-09 21:55:55  513054699 part-algo-2-amazon_reviews_us_Automotive_v1_00.csv\r\n",
      "2020-03-09 21:55:55   39397920 part-algo-2-amazon_reviews_us_Digital_Software_v1_00.csv\r\n",
      "2020-03-09 21:55:55 1056545394 part-algo-2-amazon_reviews_us_Home_v1_00.csv\r\n",
      "2020-03-09 21:55:55  583147870 part-algo-2-amazon_reviews_us_Office_Products_v1_00.csv\r\n",
      "2020-03-09 21:55:55 1382908327 part-algo-2-amazon_reviews_us_Video_DVD_v1_00.csv\r\n",
      "2020-03-09 21:51:33  374229557 part-algo-3-amazon_reviews_us_Baby_v1_00.csv\r\n",
      "2020-03-09 21:51:33  519304021 part-algo-3-amazon_reviews_us_Digital_Video_Download_v1_00.csv\r\n",
      "2020-03-09 21:51:33  269937633 part-algo-3-amazon_reviews_us_Jewelry_v1_00.csv\r\n",
      "2020-03-09 21:51:33  392220153 part-algo-3-amazon_reviews_us_Outdoors_v1_00.csv\r\n",
      "2020-03-09 21:51:33  576569222 part-algo-3-amazon_reviews_us_Video_Games_v1_00.csv\r\n",
      "2020-03-09 21:56:28  876834421 part-algo-4-amazon_reviews_us_Beauty_v1_00.csv\r\n",
      "2020-03-09 21:56:28   42580947 part-algo-4-amazon_reviews_us_Digital_Video_Games_v1_00.csv\r\n",
      "2020-03-09 21:56:28  890364415 part-algo-4-amazon_reviews_us_Kitchen_v1_00.csv\r\n",
      "2020-03-09 21:56:28 1654544795 part-algo-4-amazon_reviews_us_PC_v1_00.csv\r\n",
      "2020-03-09 21:56:28  134802737 part-algo-4-amazon_reviews_us_Video_v1_00.csv\r\n",
      "2020-03-09 21:57:40 1918460895 part-algo-5-amazon_reviews_us_Books_v1_00.csv\r\n",
      "2020-03-09 21:57:40  808652251 part-algo-5-amazon_reviews_us_Electronics_v1_00.csv\r\n",
      "2020-03-09 21:57:40  519122616 part-algo-5-amazon_reviews_us_Lawn_and_Garden_v1_00.csv\r\n",
      "2020-03-09 21:57:40   22430976 part-algo-5-amazon_reviews_us_Personal_Care_Appliances_v1_00.csv\r\n",
      "2020-03-09 21:57:40  174522087 part-algo-5-amazon_reviews_us_Watches_v1_00.csv\r\n",
      "2020-03-09 22:00:42 2488380032 part-algo-6-amazon_reviews_us_Books_v1_01.csv\r\n",
      "2020-03-09 22:00:42  169150460 part-algo-6-amazon_reviews_us_Furniture_v1_00.csv\r\n",
      "2020-03-09 22:00:42   57599988 part-algo-6-amazon_reviews_us_Luggage_v1_00.csv\r\n",
      "2020-03-09 22:00:42  533894846 part-algo-6-amazon_reviews_us_Pet_Products_v1_00.csv\r\n",
      "2020-03-09 22:00:42 2301916634 part-algo-6-amazon_reviews_us_Wireless_v1_00.csv\r\n",
      "2020-03-09 21:50:30 1264314105 part-algo-7-amazon_reviews_us_Books_v1_02.csv\r\n",
      "2020-03-09 21:50:30    5763147 part-algo-7-amazon_reviews_us_Gift_Card_v1_00.csv\r\n",
      "2020-03-09 21:50:30   40302627 part-algo-7-amazon_reviews_us_Major_Appliances_v1_00.csv\r\n",
      "2020-03-09 21:50:30  601203036 part-algo-7-amazon_reviews_us_Shoes_v1_00.csv\r\n",
      "2020-03-09 21:50:28  463631831 part-algo-8-amazon_reviews_us_Camera_v1_00.csv\r\n",
      "2020-03-09 21:50:28  342475083 part-algo-8-amazon_reviews_us_Grocery_v1_00.csv\r\n",
      "2020-03-09 21:50:28  684373220 part-algo-8-amazon_reviews_us_Mobile_Apps_v1_00.csv\r\n",
      "2020-03-09 21:50:28  176159754 part-algo-8-amazon_reviews_us_Software_v1_00.csv\r\n",
      "2020-03-09 21:59:00 2015632703 part-algo-9-amazon_reviews_us_Digital_Ebook_Purchase_v1_00.csv\r\n",
      "2020-03-09 21:59:00 1002397233 part-algo-9-amazon_reviews_us_Health_Personal_Care_v1_00.csv\r\n",
      "2020-03-09 21:59:00   35170245 part-algo-9-amazon_reviews_us_Mobile_Electronics_v1_00.csv\r\n",
      "2020-03-09 21:59:00  767167722 part-algo-9-amazon_reviews_us_Sports_v1_00.csv\r\n"
     ]
    }
   ],
   "source": [
    "!aws s3 ls $balanced_train_data_input"
   ]
  },
  {
   "cell_type": "markdown",
   "metadata": {},
   "source": [
    "### Build a Spark container for running the preprocessing job\n",
    "\n",
    "An example Spark container is included in the `./container` directory of this example. The container handles the bootstrapping of all Spark configuration, and serves as a wrapper around the `spark-submit` CLI. At a high level the container provides:\n",
    "* A set of default Spark/YARN/Hadoop configurations\n",
    "* A bootstrapping script for configuring and starting up Spark master/worker nodes\n",
    "* A wrapper around the `spark-submit` CLI to submit a Spark application\n",
    "\n",
    "\n",
    "After the container build and push process is complete, use the Amazon SageMaker Python SDK to submit a managed, distributed Spark application that performs our dataset preprocessing.\n",
    "\n",
    "Build the example Spark container."
   ]
  },
  {
   "cell_type": "code",
   "execution_count": 150,
   "metadata": {},
   "outputs": [],
   "source": [
    "docker_repo = 'amazon-reviews-spark-processor'\n",
    "docker_tag = 'latest'"
   ]
  },
  {
   "cell_type": "code",
   "execution_count": 151,
   "metadata": {},
   "outputs": [
    {
     "name": "stdout",
     "output_type": "stream",
     "text": [
      "Sending build context to Docker daemon  3.022MB\n",
      "Step 1/33 : FROM openjdk:8-jre-slim\n",
      " ---> 9c82c74fbc96\n",
      "Step 2/33 : RUN apt-get update\n",
      " ---> Using cache\n",
      " ---> ca0a6099c443\n",
      "Step 3/33 : RUN apt-get install -y curl unzip python3 python3-setuptools python3-pip python-dev python3-dev python-psutil\n",
      " ---> Using cache\n",
      " ---> cc1fd71bd88c\n",
      "Step 4/33 : RUN pip3 install py4j psutil==5.6.5 numpy==1.17.4\n",
      " ---> Using cache\n",
      " ---> 376699e73ced\n",
      "Step 5/33 : RUN apt-get clean\n",
      " ---> Using cache\n",
      " ---> 1ea11fb14632\n",
      "Step 6/33 : RUN rm -rf /var/lib/apt/lists/*\n",
      " ---> Using cache\n",
      " ---> ea880623fd34\n",
      "Step 7/33 : ENV PYTHONHASHSEED 0\n",
      " ---> Using cache\n",
      " ---> 7d1b53453a5e\n",
      "Step 8/33 : ENV PYTHONIOENCODING UTF-8\n",
      " ---> Using cache\n",
      " ---> 12cfee88f392\n",
      "Step 9/33 : ENV PIP_DISABLE_PIP_VERSION_CHECK 1\n",
      " ---> Using cache\n",
      " ---> 8010c768a0e5\n",
      "Step 10/33 : ENV HADOOP_VERSION 3.0.0\n",
      " ---> Using cache\n",
      " ---> 0e10f67d8992\n",
      "Step 11/33 : ENV HADOOP_HOME /usr/hadoop-$HADOOP_VERSION\n",
      " ---> Using cache\n",
      " ---> 19f1a57f792c\n",
      "Step 12/33 : ENV HADOOP_CONF_DIR=$HADOOP_HOME/etc/hadoop\n",
      " ---> Using cache\n",
      " ---> 26efdd691c69\n",
      "Step 13/33 : ENV PATH $PATH:$HADOOP_HOME/bin\n",
      " ---> Using cache\n",
      " ---> 20b3f1df2938\n",
      "Step 14/33 : RUN curl -sL --retry 3   \"http://archive.apache.org/dist/hadoop/common/hadoop-$HADOOP_VERSION/hadoop-$HADOOP_VERSION.tar.gz\"   | gunzip   | tar -x -C /usr/  && rm -rf $HADOOP_HOME/share/doc  && chown -R root:root $HADOOP_HOME\n",
      " ---> Using cache\n",
      " ---> 99bf890b2a4b\n",
      "Step 15/33 : ENV SPARK_VERSION 2.4.5\n",
      " ---> Using cache\n",
      " ---> 4c8bd605f733\n",
      "Step 16/33 : ENV SPARK_PACKAGE spark-${SPARK_VERSION}-bin-without-hadoop\n",
      " ---> Using cache\n",
      " ---> 95570132b791\n",
      "Step 17/33 : ENV SPARK_HOME /usr/spark-${SPARK_VERSION}\n",
      " ---> Using cache\n",
      " ---> 46f3c6ef3e2e\n",
      "Step 18/33 : ENV SPARK_DIST_CLASSPATH=\"$HADOOP_HOME/etc/hadoop/*:$HADOOP_HOME/share/hadoop/common/lib/*:$HADOOP_HOME/share/hadoop/common/*:$HADOOP_HOME/share/hadoop/hdfs/*:$HADOOP_HOME/share/hadoop/hdfs/lib/*:$HADOOP_HOME/share/hadoop/hdfs/*:$HADOOP_HOME/share/hadoop/yarn/lib/*:$HADOOP_HOME/share/hadoop/yarn/*:$HADOOP_HOME/share/hadoop/mapreduce/lib/*:$HADOOP_HOME/share/hadoop/mapreduce/*:$HADOOP_HOME/share/hadoop/tools/lib/*\"\n",
      " ---> Using cache\n",
      " ---> 0edbc32cb627\n",
      "Step 19/33 : ENV PATH $PATH:${SPARK_HOME}/bin\n",
      " ---> Using cache\n",
      " ---> 6faefe1a7164\n",
      "Step 20/33 : RUN curl -sL --retry 3   \"https://archive.apache.org/dist/spark/spark-${SPARK_VERSION}/${SPARK_PACKAGE}.tgz\"   | gunzip   | tar x -C /usr/  && mv /usr/$SPARK_PACKAGE $SPARK_HOME  && chown -R root:root $SPARK_HOME\n",
      " ---> Using cache\n",
      " ---> 393fc9f21f4b\n",
      "Step 21/33 : ENV PYSPARK_PYTHON=/usr/bin/python3\n",
      " ---> Using cache\n",
      " ---> 9ae69f1ec4d2\n",
      "Step 22/33 : ENV PATH=\"/usr/bin:/opt/program:${PATH}\"\n",
      " ---> Using cache\n",
      " ---> 84ff81959b4b\n",
      "Step 23/33 : ENV YARN_RESOURCEMANAGER_USER=\"root\"\n",
      " ---> Using cache\n",
      " ---> 851718c619e5\n",
      "Step 24/33 : ENV YARN_NODEMANAGER_USER=\"root\"\n",
      " ---> Using cache\n",
      " ---> dba307054ba1\n",
      "Step 25/33 : ENV HDFS_NAMENODE_USER=\"root\"\n",
      " ---> Using cache\n",
      " ---> c6e12165467e\n",
      "Step 26/33 : ENV HDFS_DATANODE_USER=\"root\"\n",
      " ---> Using cache\n",
      " ---> 6064e2aed768\n",
      "Step 27/33 : ENV HDFS_SECONDARYNAMENODE_USER=\"root\"\n",
      " ---> Using cache\n",
      " ---> 35de5dfe5d32\n",
      "Step 28/33 : COPY program /opt/program\n",
      " ---> Using cache\n",
      " ---> 1a609344ed01\n",
      "Step 29/33 : RUN chmod +x /opt/program/submit\n",
      " ---> Using cache\n",
      " ---> 3da7df9a080c\n",
      "Step 30/33 : COPY hadoop-config /opt/hadoop-config\n",
      " ---> Using cache\n",
      " ---> 627c02067218\n",
      "Step 31/33 : COPY jars /usr/jars\n",
      " ---> Using cache\n",
      " ---> 336c821fc868\n",
      "Step 32/33 : WORKDIR $SPARK_HOME\n",
      " ---> Using cache\n",
      " ---> edc7240135c5\n",
      "Step 33/33 : ENTRYPOINT [\"/opt/program/submit\"]\n",
      " ---> Using cache\n",
      " ---> 3a06159a0962\n",
      "Successfully built 3a06159a0962\n",
      "Successfully tagged amazon-reviews-spark-processor:latest\n"
     ]
    }
   ],
   "source": [
    "!docker build -t $docker_repo:$docker_tag -f container/Dockerfile ./container"
   ]
  },
  {
   "cell_type": "markdown",
   "metadata": {},
   "source": [
    "Create an Amazon Elastic Container Registry (Amazon ECR) repository for the Spark container and push the image."
   ]
  },
  {
   "cell_type": "code",
   "execution_count": 152,
   "metadata": {},
   "outputs": [
    {
     "name": "stdout",
     "output_type": "stream",
     "text": [
      "835319576252.dkr.ecr.us-east-1.amazonaws.com/amazon-reviews-spark-processor:latest\n"
     ]
    }
   ],
   "source": [
    "import boto3\n",
    "account_id = boto3.client('sts').get_caller_identity().get('Account')\n",
    "region = boto3.session.Session().region_name\n",
    "\n",
    "image_uri = '{}.dkr.ecr.{}.amazonaws.com/{}:{}'.format(account_id, region, docker_repo, docker_tag)\n",
    "print(image_uri)"
   ]
  },
  {
   "cell_type": "markdown",
   "metadata": {},
   "source": [
    "Create ECR repository and push docker image"
   ]
  },
  {
   "cell_type": "code",
   "execution_count": 153,
   "metadata": {},
   "outputs": [
    {
     "name": "stdout",
     "output_type": "stream",
     "text": [
      "WARNING! Using --password via the CLI is insecure. Use --password-stdin.\n",
      "WARNING! Your password will be stored unencrypted in /home/ec2-user/.docker/config.json.\n",
      "Configure a credential helper to remove this warning. See\n",
      "https://docs.docker.com/engine/reference/commandline/login/#credentials-store\n",
      "\n",
      "Login Succeeded\n"
     ]
    }
   ],
   "source": [
    "!$(aws ecr get-login --region $region --registry-ids $account_id --no-include-email)"
   ]
  },
  {
   "cell_type": "code",
   "execution_count": 154,
   "metadata": {},
   "outputs": [
    {
     "name": "stdout",
     "output_type": "stream",
     "text": [
      "{\r\n",
      "    \"repositories\": [\r\n",
      "        {\r\n",
      "            \"repositoryArn\": \"arn:aws:ecr:us-east-1:835319576252:repository/amazon-reviews-spark-processor\",\r\n",
      "            \"registryId\": \"835319576252\",\r\n",
      "            \"repositoryName\": \"amazon-reviews-spark-processor\",\r\n",
      "            \"repositoryUri\": \"835319576252.dkr.ecr.us-east-1.amazonaws.com/amazon-reviews-spark-processor\",\r\n",
      "            \"createdAt\": 1581702437.0,\r\n",
      "            \"imageTagMutability\": \"MUTABLE\",\r\n",
      "            \"imageScanningConfiguration\": {\r\n",
      "                \"scanOnPush\": false\r\n",
      "            }\r\n",
      "        }\r\n",
      "    ]\r\n",
      "}\r\n"
     ]
    }
   ],
   "source": [
    "!aws ecr describe-repositories --repository-names $docker_repo || aws ecr create-repository --repository-name $docker_repo"
   ]
  },
  {
   "cell_type": "code",
   "execution_count": 155,
   "metadata": {},
   "outputs": [],
   "source": [
    "!docker tag $docker_repo:$docker_tag $image_uri"
   ]
  },
  {
   "cell_type": "code",
   "execution_count": 156,
   "metadata": {},
   "outputs": [
    {
     "name": "stdout",
     "output_type": "stream",
     "text": [
      "The push refers to repository [835319576252.dkr.ecr.us-east-1.amazonaws.com/amazon-reviews-spark-processor]\n",
      "\n",
      "\u001b[1B4377c451: Preparing \n",
      "\u001b[1B268138d8: Preparing \n",
      "\u001b[1B35559781: Preparing \n",
      "\u001b[1B6b36b7a4: Preparing \n",
      "\u001b[1B782557b4: Preparing \n",
      "\u001b[1B8eb2663a: Preparing \n",
      "\u001b[1B5ae17e8e: Preparing \n",
      "\u001b[1B89b8c28a: Preparing \n",
      "\u001b[1Bd604f04b: Preparing \n",
      "\u001b[1Ba936c4d8: Preparing \n",
      "\u001b[1Bf855c32d: Preparing \n",
      "\u001b[1B964f7673: Preparing \n",
      "\u001b[1B0d7e7b4a: Preparing \n",
      "\u001b[1Ba6e6c92c: Preparing \n",
      "\u001b[1Bfecc21b1: Layer already exists \u001b[10A\u001b[1K\u001b[K\u001b[5A\u001b[1K\u001b[Klatest: digest: sha256:f6fe6ddad0942f0ba99e9298a5e5f39235b3de24ee169a250ac4d51a880f3669 size: 3472\n"
     ]
    }
   ],
   "source": [
    "!docker push $image_uri"
   ]
  },
  {
   "cell_type": "markdown",
   "metadata": {},
   "source": [
    "### Run the preprocessing job using Amazon SageMaker Processing\n",
    "\n",
    "Next, use the Amazon SageMaker Python SDK to submit a processing job. Use the Spark container that was just built, and a SparkML script for preprocessing in the job configuration."
   ]
  },
  {
   "cell_type": "markdown",
   "metadata": {},
   "source": [
    "Review the Spark preprocessing script."
   ]
  },
  {
   "cell_type": "code",
   "execution_count": 157,
   "metadata": {},
   "outputs": [
    {
     "name": "stdout",
     "output_type": "stream",
     "text": [
      "from __future__ import print_function\r\n",
      "from __future__ import unicode_literals\r\n",
      "\r\n",
      "import time\r\n",
      "import sys\r\n",
      "import os\r\n",
      "import shutil\r\n",
      "import csv\r\n",
      "\r\n",
      "import pyspark\r\n",
      "from pyspark.sql import SparkSession\r\n",
      "from pyspark.ml import Pipeline\r\n",
      "from pyspark.sql.types import StructField, StructType, StringType, IntegerType, DateType\r\n",
      "from pyspark.sql.functions import *\r\n",
      "from pyspark.ml.feature import HashingTF, IDF, Tokenizer\r\n",
      "from pyspark.ml.linalg import DenseVector\r\n",
      "from pyspark.sql.functions import split\r\n",
      "from pyspark.sql.functions import udf, col\r\n",
      "from pyspark.sql.types import ArrayType, DoubleType\r\n",
      "from pyspark.ml.feature import PCA, StandardScaler\r\n",
      "\r\n",
      "def to_array(col):\r\n",
      "    def to_array_internal(v):\r\n",
      "        if v:\r\n",
      "            return v.toArray().tolist()\r\n",
      "        else:\r\n",
      "            print('EmptyV: {}'.format(v))\r\n",
      "            return []\r\n",
      "    return udf(to_array_internal, ArrayType(DoubleType())).asNondeterministic()(col)\r\n",
      "\r\n",
      "def main():\r\n",
      "    spark = SparkSession.builder.appName('AmazonReviewsSparkProcessor').getOrCreate()\r\n",
      "    \r\n",
      "    # Convert command line args into a map of args\r\n",
      "    args_iter = iter(sys.argv[1:])\r\n",
      "    args = dict(zip(args_iter, args_iter))\r\n",
      "    \r\n",
      "    # Retrieve the args and replace 's3://' with 's3a://' (used by Spark)\r\n",
      "    s3_input_data = args['s3_input_data'].replace('s3://', 's3a://')\r\n",
      "    s3_output_data = args['s3_output_data'].replace('s3://', 's3a://')\r\n",
      "\r\n",
      "    schema = StructType([\r\n",
      "        StructField('is_positive_sentiment', IntegerType(), True),\r\n",
      "        StructField('marketplace', StringType(), True),\r\n",
      "        StructField('customer_id', StringType(), True),\r\n",
      "        StructField('review_id', StringType(), True),\r\n",
      "        StructField('product_id', StringType(), True),\r\n",
      "        StructField('product_parent', StringType(), True),\r\n",
      "        StructField('product_title', StringType(), True),\r\n",
      "        StructField('product_category', StringType(), True),\r\n",
      "        StructField('star_rating', IntegerType(), True),\r\n",
      "        StructField('helpful_votes', IntegerType(), True),\r\n",
      "        StructField('total_votes', IntegerType(), True),\r\n",
      "        StructField('vine', StringType(), True),\r\n",
      "        StructField('verified_purchase', StringType(), True),\r\n",
      "        StructField('review_headline', StringType(), True),\r\n",
      "        StructField('review_body', StringType(), True),\r\n",
      "        StructField('review_date', StringType(), True)\r\n",
      "    ])\r\n",
      "    \r\n",
      "    df_csv = spark.read.csv(path=s3_input_data,\r\n",
      "                            schema=schema,\r\n",
      "                            header=True,\r\n",
      "                            quote=None)\r\n",
      "    df_csv.show()\r\n",
      "\r\n",
      "    # This dataset should already be clean, but always good to double-check\r\n",
      "    print('Showing null review_body rows...')\r\n",
      "    df_csv.where(col('review_body').isNull()).show()\r\n",
      "\r\n",
      "    df_csv_cleaned = df_csv.na.drop(subset=['review_body'])\r\n",
      "    df_csv_cleaned.where(col('review_body').isNull()).show()\r\n",
      "   \r\n",
      "    tokenizer = Tokenizer(inputCol='review_body', outputCol='words')\r\n",
      "    wordsData = tokenizer.transform(df_csv_cleaned)\r\n",
      "    \r\n",
      "    hashingTF = HashingTF(inputCol='words', outputCol='raw_features', numFeatures=1000)\r\n",
      "    featurizedData = hashingTF.transform(wordsData)\r\n",
      "    \r\n",
      "    # While applying HashingTF only needs a single pass to the data, applying IDF needs two passes:\r\n",
      "    # 1) compute the IDF vector \r\n",
      "    # 2) scale the term frequencies by IDF\r\n",
      "    # Therefore, we cache the result of the HashingTF transformation above to speed up the 2nd pass\r\n",
      "    featurizedData.cache()\r\n",
      "\r\n",
      "    # spark.mllib's IDF implementation provides an option for ignoring terms\r\n",
      "    # which occur in less than a minimum number of documents.\r\n",
      "    # In such cases, the IDF for these terms is set to 0.\r\n",
      "    # This feature can be used by passing the minDocFreq value to the IDF constructor.\r\n",
      "    idf = IDF(inputCol='raw_features', outputCol='features') #, minDocFreq=2)\r\n",
      "    idfModel = idf.fit(featurizedData)\r\n",
      "    features_df = idfModel.transform(featurizedData)\r\n",
      "    features_df.select('is_positive_sentiment', 'features').show()\r\n",
      "\r\n",
      "    # TODO:  Use SVD instead\r\n",
      "    # features_vector_rdd = features_df.select('features').rdd.map( lambda row: Vectors.fromML(row.getAs[MLVector]('features') )\r\n",
      "    # features_vector_rdd.cache()\r\n",
      "    # mat = RowMatrix(features_vector_rdd)\r\n",
      "    # k = 300\r\n",
      "    # svd = mat.computeSVD(k, computeU=True)\r\n",
      "    # TODO:  Reconstruct\r\n",
      "\r\n",
      "    num_features=300\r\n",
      "    pca = PCA(k=num_features, inputCol='features', outputCol='pca_features')\r\n",
      "    pca_model = pca.fit(features_df)\r\n",
      "    pca_features_df = pca_model.transform(features_df).select('is_positive_sentiment', 'pca_features')\r\n",
      "    pca_features_df.show(truncate=False)\r\n",
      "\r\n",
      "    standard_scaler = StandardScaler(inputCol='pca_features', outputCol='scaled_pca_features')\r\n",
      "    standard_scaler_model = standard_scaler.fit(pca_features_df)\r\n",
      "    standard_scaler_features_df = standard_scaler_model.transform(pca_features_df).select('is_positive_sentiment', 'scaled_pca_features')\r\n",
      "    standard_scaler_features_df.show(truncate=False)\r\n",
      "\r\n",
      "    expanded_features_df = (standard_scaler_features_df.withColumn('f', to_array(col('scaled_pca_features')))\r\n",
      "        .select(['is_positive_sentiment'] + [col('f')[i] for i in range(num_features)]))\r\n",
      "    expanded_features_df.show()\r\n",
      "\r\n",
      "    expanded_features_df.write.csv(path=s3_output_data,\r\n",
      "                       header=None,\r\n",
      "                       quote=None,\r\n",
      "                       mode='overwrite')\r\n",
      "\r\n",
      "    print('Wrote to train file:  {}'.format(s3_output_data))\r\n",
      "        \r\n",
      "\r\n",
      "if __name__ == \"__main__\":\r\n",
      "    main()\r\n"
     ]
    }
   ],
   "source": [
    "cat preprocess-spark.py"
   ]
  },
  {
   "cell_type": "code",
   "execution_count": 224,
   "metadata": {},
   "outputs": [],
   "source": [
    "from sagemaker.processing import ScriptProcessor\n",
    "\n",
    "processor = ScriptProcessor(base_job_name='spark-amazon-reviews-processor',\n",
    "                            image_uri=image_uri,\n",
    "                            command=['/opt/program/submit'],\n",
    "                            role=role,\n",
    "                            instance_count=20, # instance_count needs to be > 1 or you will see the following error:  \"INFO yarn.Client: Application report for application_ (state: ACCEPTED)\"\n",
    "                            instance_type='ml.r5.24xlarge',\n",
    "#                            instance_type='ml.r5.8xlarge',\n",
    "#                            max_runtime_in_seconds=600,\n",
    "                            env={'mode': 'python'})"
   ]
  },
  {
   "cell_type": "markdown",
   "metadata": {},
   "source": [
    "## Setup Input Data"
   ]
  },
  {
   "cell_type": "code",
   "execution_count": 225,
   "metadata": {
    "scrolled": true
   },
   "outputs": [
    {
     "name": "stdout",
     "output_type": "stream",
     "text": [
      "2020-03-09 21:53:40  898897521 part-algo-1-amazon_reviews_us_Apparel_v1_00.csv\r\n",
      "2020-03-09 21:53:40  101620078 part-algo-1-amazon_reviews_us_Digital_Music_Purchase_v1_00.csv\r\n",
      "2020-03-09 21:53:40  493981090 part-algo-1-amazon_reviews_us_Home_Improvement_v1_00.csv\r\n",
      "2020-03-09 21:53:40  172364050 part-algo-1-amazon_reviews_us_Musical_Instruments_v1_00.csv\r\n",
      "2020-03-09 21:53:40  789101028 part-algo-1-amazon_reviews_us_Toys_v1_00.csv\r\n",
      "2020-03-09 21:53:42 1144801434 part-algo-10-amazon_reviews_us_Digital_Ebook_Purchase_v1_01.csv\r\n",
      "2020-03-09 21:53:42  265389749 part-algo-10-amazon_reviews_us_Home_Entertainment_v1_00.csv\r\n",
      "2020-03-09 21:53:42  968972518 part-algo-10-amazon_reviews_us_Music_v1_00.csv\r\n",
      "2020-03-09 21:53:42  287669682 part-algo-10-amazon_reviews_us_Tools_v1_00.csv\r\n",
      "2020-03-09 21:55:55  513054699 part-algo-2-amazon_reviews_us_Automotive_v1_00.csv\r\n",
      "2020-03-09 21:55:55   39397920 part-algo-2-amazon_reviews_us_Digital_Software_v1_00.csv\r\n",
      "2020-03-09 21:55:55 1056545394 part-algo-2-amazon_reviews_us_Home_v1_00.csv\r\n",
      "2020-03-09 21:55:55  583147870 part-algo-2-amazon_reviews_us_Office_Products_v1_00.csv\r\n",
      "2020-03-09 21:55:55 1382908327 part-algo-2-amazon_reviews_us_Video_DVD_v1_00.csv\r\n",
      "2020-03-09 21:51:33  374229557 part-algo-3-amazon_reviews_us_Baby_v1_00.csv\r\n",
      "2020-03-09 21:51:33  519304021 part-algo-3-amazon_reviews_us_Digital_Video_Download_v1_00.csv\r\n",
      "2020-03-09 21:51:33  269937633 part-algo-3-amazon_reviews_us_Jewelry_v1_00.csv\r\n",
      "2020-03-09 21:51:33  392220153 part-algo-3-amazon_reviews_us_Outdoors_v1_00.csv\r\n",
      "2020-03-09 21:51:33  576569222 part-algo-3-amazon_reviews_us_Video_Games_v1_00.csv\r\n",
      "2020-03-09 21:56:28  876834421 part-algo-4-amazon_reviews_us_Beauty_v1_00.csv\r\n",
      "2020-03-09 21:56:28   42580947 part-algo-4-amazon_reviews_us_Digital_Video_Games_v1_00.csv\r\n",
      "2020-03-09 21:56:28  890364415 part-algo-4-amazon_reviews_us_Kitchen_v1_00.csv\r\n",
      "2020-03-09 21:56:28 1654544795 part-algo-4-amazon_reviews_us_PC_v1_00.csv\r\n",
      "2020-03-09 21:56:28  134802737 part-algo-4-amazon_reviews_us_Video_v1_00.csv\r\n",
      "2020-03-09 21:57:40 1918460895 part-algo-5-amazon_reviews_us_Books_v1_00.csv\r\n",
      "2020-03-09 21:57:40  808652251 part-algo-5-amazon_reviews_us_Electronics_v1_00.csv\r\n",
      "2020-03-09 21:57:40  519122616 part-algo-5-amazon_reviews_us_Lawn_and_Garden_v1_00.csv\r\n",
      "2020-03-09 21:57:40   22430976 part-algo-5-amazon_reviews_us_Personal_Care_Appliances_v1_00.csv\r\n",
      "2020-03-09 21:57:40  174522087 part-algo-5-amazon_reviews_us_Watches_v1_00.csv\r\n",
      "2020-03-09 22:00:42 2488380032 part-algo-6-amazon_reviews_us_Books_v1_01.csv\r\n",
      "2020-03-09 22:00:42  169150460 part-algo-6-amazon_reviews_us_Furniture_v1_00.csv\r\n",
      "2020-03-09 22:00:42   57599988 part-algo-6-amazon_reviews_us_Luggage_v1_00.csv\r\n",
      "2020-03-09 22:00:42  533894846 part-algo-6-amazon_reviews_us_Pet_Products_v1_00.csv\r\n",
      "2020-03-09 22:00:42 2301916634 part-algo-6-amazon_reviews_us_Wireless_v1_00.csv\r\n",
      "2020-03-09 21:50:30 1264314105 part-algo-7-amazon_reviews_us_Books_v1_02.csv\r\n",
      "2020-03-09 21:50:30    5763147 part-algo-7-amazon_reviews_us_Gift_Card_v1_00.csv\r\n",
      "2020-03-09 21:50:30   40302627 part-algo-7-amazon_reviews_us_Major_Appliances_v1_00.csv\r\n",
      "2020-03-09 21:50:30  601203036 part-algo-7-amazon_reviews_us_Shoes_v1_00.csv\r\n",
      "2020-03-09 21:50:28  463631831 part-algo-8-amazon_reviews_us_Camera_v1_00.csv\r\n",
      "2020-03-09 21:50:28  342475083 part-algo-8-amazon_reviews_us_Grocery_v1_00.csv\r\n",
      "2020-03-09 21:50:28  684373220 part-algo-8-amazon_reviews_us_Mobile_Apps_v1_00.csv\r\n",
      "2020-03-09 21:50:28  176159754 part-algo-8-amazon_reviews_us_Software_v1_00.csv\r\n",
      "2020-03-09 21:59:00 2015632703 part-algo-9-amazon_reviews_us_Digital_Ebook_Purchase_v1_00.csv\r\n",
      "2020-03-09 21:59:00 1002397233 part-algo-9-amazon_reviews_us_Health_Personal_Care_v1_00.csv\r\n",
      "2020-03-09 21:59:00   35170245 part-algo-9-amazon_reviews_us_Mobile_Electronics_v1_00.csv\r\n",
      "2020-03-09 21:59:00  767167722 part-algo-9-amazon_reviews_us_Sports_v1_00.csv\r\n"
     ]
    }
   ],
   "source": [
    "!aws s3 ls $balanced_train_data_input"
   ]
  },
  {
   "cell_type": "markdown",
   "metadata": {},
   "source": [
    "## Setup Output Data"
   ]
  },
  {
   "cell_type": "code",
   "execution_count": 226,
   "metadata": {},
   "outputs": [
    {
     "name": "stdout",
     "output_type": "stream",
     "text": [
      "Processing job name:  amazon-reviews-spark-processor-2020-03-10-07-08-01\n"
     ]
    }
   ],
   "source": [
    "from time import gmtime, strftime\n",
    "timestamp_prefix = strftime(\"%Y-%m-%d-%H-%M-%S\", gmtime())\n",
    "\n",
    "# TODO:  Clean these up\n",
    "#input_raw_prefix = 'sagemaker/spark-preprocess-reviews-demo/input/raw/reviews'\n",
    "output_prefix = 'amazon-reviews-spark-processor-{}'.format(timestamp_prefix)\n",
    "#model_prefix = 'sagemaker/spark-preprocess-reviews-demo/model'\n",
    "processing_job_name = 'amazon-reviews-spark-processor-{}'.format(timestamp_prefix)\n",
    "\n",
    "print('Processing job name:  {}'.format(processing_job_name))"
   ]
  },
  {
   "cell_type": "code",
   "execution_count": 234,
   "metadata": {},
   "outputs": [
    {
     "name": "stdout",
     "output_type": "stream",
     "text": [
      "s3://sagemaker-us-east-1-835319576252/amazon-reviews-spark-processor-2020-03-10-07-08-01/tfidf-labeled-split-balanced-noheader-train\n",
      "s3://sagemaker-us-east-1-835319576252/amazon-reviews-spark-processor-2020-03-10-07-08-01/tfidf-labeled-split-balanced-noheader-validation\n",
      "s3://sagemaker-us-east-1-835319576252/amazon-reviews-spark-processor-2020-03-10-07-08-01/tfidf-labeled-split-balanced-noheader-test\n"
     ]
    }
   ],
   "source": [
    "balanced_train_data_tfidf_output = 's3://{}/{}/tfidf-labeled-split-balanced-noheader-train'.format(bucket, output_prefix)\n",
    "balanced_validation_data_tfidf_output = 's3://{}/{}/tfidf-labeled-split-balanced-noheader-validation'.format(bucket, output_prefix)\n",
    "balanced_test_data_tfidf_output = 's3://{}/{}/tfidf-labeled-split-balanced-noheader-test'.format(bucket, output_prefix)\n",
    "\n",
    "print(balanced_train_data_tfidf_output)\n",
    "print(balanced_validation_data_tfidf_output)\n",
    "print(balanced_test_data_tfidf_output)"
   ]
  },
  {
   "cell_type": "markdown",
   "metadata": {},
   "source": [
    "## Start the Spark Processing Job\n",
    "\n",
    "_Notes on Invoking from Lambda:_\n",
    "* However, if we use the boto3 SDK (ie. with a Lambda), we need to copy the `preprocess.py` file to S3 and specify the everything include --py-files, etc.\n",
    "* We would need to do the following before invoking the Lambda:\n",
    "     !aws s3 cp preprocess.py s3://<location>/sagemaker/spark-preprocess-reviews-demo/code/preprocess.py\n",
    "     !aws s3 cp preprocess.py s3://<location>/sagemaker/spark-preprocess-reviews-demo/py_files/preprocess.py\n",
    "* Then reference the s3://<location> above in the --py-files, etc.\n",
    "* See Lambda example code in this same project for more details.\n",
    "\n",
    "_Notes on not using ProcessingInput and Output:_\n",
    "* Since Spark natively reads/writes from/to S3 using s3a://, we can avoid the copy required by ProcessingInput and ProcessingOutput (FullyReplicated or ShardedByS3Key) and just specify the S3 input and output buckets/prefixes._\"\n",
    "* See https://github.com/awslabs/amazon-sagemaker-examples/issues/994 for issues related to using /opt/ml/processing/input/ and output/\n",
    "* If we use ProcessingInput, the data will be copied to each node (which we don't want in this case since Spark already handles this)"
   ]
  },
  {
   "cell_type": "code",
   "execution_count": 235,
   "metadata": {},
   "outputs": [
    {
     "name": "stdout",
     "output_type": "stream",
     "text": [
      "\n",
      "Job Name:  spark-amazon-reviews-processor-2020-03-10-07-41-34-026\n",
      "Inputs:  [{'InputName': 'code', 'S3Input': {'S3Uri': 's3://sagemaker-us-east-1-835319576252/spark-amazon-reviews-processor-2020-03-10-07-41-34-026/input/code/preprocess-spark.py', 'LocalPath': '/opt/ml/processing/input/code', 'S3DataType': 'S3Prefix', 'S3InputMode': 'File', 'S3DataDistributionType': 'FullyReplicated', 'S3CompressionType': 'None'}}]\n",
      "Outputs:  [{'OutputName': 'dummy-output', 'S3Output': {'S3Uri': 's3://sagemaker-us-east-1-835319576252/spark-amazon-reviews-processor-2020-03-10-07-41-34-026/output/dummy-output', 'LocalPath': '/opt/ml/processing/output', 'S3UploadMode': 'EndOfJob'}}]\n"
     ]
    }
   ],
   "source": [
    "from sagemaker.processing import ProcessingOutput\n",
    "\n",
    "# NOTE:  THIS IS NOW TESTING THE VALIDATION DATA SET (much smaller)\n",
    "\n",
    "processor.run(code='preprocess-spark.py',\n",
    "              arguments=['s3_input_data', balanced_train_data_input,\n",
    "                         's3_output_data', balanced_train_data_tfidf_output,\n",
    "              ],\n",
    "              # We need this dummy output to allow us to call \n",
    "              #    ProcessingJob.from_processing_name() later \n",
    "              #    to describe the job and poll for Completed status\n",
    "              outputs=[\n",
    "                       ProcessingOutput(s3_upload_mode='EndOfJob',\n",
    "                                        output_name='dummy-output',\n",
    "                                        source='/opt/ml/processing/output')\n",
    "              ],          \n",
    "              logs=True,\n",
    "              wait=False\n",
    ")"
   ]
  },
  {
   "cell_type": "code",
   "execution_count": 236,
   "metadata": {},
   "outputs": [
    {
     "name": "stdout",
     "output_type": "stream",
     "text": [
      "{'ProcessingInputs': [{'InputName': 'code', 'S3Input': {'S3Uri': 's3://sagemaker-us-east-1-835319576252/spark-amazon-reviews-processor-2020-03-10-07-41-34-026/input/code/preprocess-spark.py', 'LocalPath': '/opt/ml/processing/input/code', 'S3DataType': 'S3Prefix', 'S3InputMode': 'File', 'S3DataDistributionType': 'FullyReplicated', 'S3CompressionType': 'None'}}], 'ProcessingOutputConfig': {'Outputs': [{'OutputName': 'dummy-output', 'S3Output': {'S3Uri': 's3://sagemaker-us-east-1-835319576252/spark-amazon-reviews-processor-2020-03-10-07-41-34-026/output/dummy-output', 'LocalPath': '/opt/ml/processing/output', 'S3UploadMode': 'EndOfJob'}}]}, 'ProcessingJobName': 'spark-amazon-reviews-processor-2020-03-10-07-41-34-026', 'ProcessingResources': {'ClusterConfig': {'InstanceCount': 20, 'InstanceType': 'ml.r5.24xlarge', 'VolumeSizeInGB': 30}}, 'StoppingCondition': {'MaxRuntimeInSeconds': 86400}, 'AppSpecification': {'ImageUri': '835319576252.dkr.ecr.us-east-1.amazonaws.com/amazon-reviews-spark-processor:latest', 'ContainerEntrypoint': ['/opt/program/submit', '/opt/ml/processing/input/code/preprocess-spark.py'], 'ContainerArguments': ['s3_input_data', 's3://sagemaker-us-east-1-835319576252/sagemaker-scikit-learn-2020-03-09-21-39-23-619/output/raw-labeled-split-balanced-header-train/', 's3_output_data', 's3://sagemaker-us-east-1-835319576252/amazon-reviews-spark-processor-2020-03-10-07-08-01/tfidf-labeled-split-balanced-noheader-train']}, 'Environment': {'mode': 'python'}, 'RoleArn': 'arn:aws:iam::835319576252:role/service-role/AmazonSageMaker-ExecutionRole-20191006T135881', 'ProcessingJobArn': 'arn:aws:sagemaker:us-east-1:835319576252:processing-job/spark-amazon-reviews-processor-2020-03-10-07-41-34-026', 'ProcessingJobStatus': 'InProgress', 'LastModifiedTime': datetime.datetime(2020, 3, 10, 7, 41, 34, 529000, tzinfo=tzlocal()), 'CreationTime': datetime.datetime(2020, 3, 10, 7, 41, 34, 345000, tzinfo=tzlocal()), 'ResponseMetadata': {'RequestId': 'eed729ed-3873-4b5f-8ffe-01747f5bdaac', 'HTTPStatusCode': 200, 'HTTPHeaders': {'x-amzn-requestid': 'eed729ed-3873-4b5f-8ffe-01747f5bdaac', 'content-type': 'application/x-amz-json-1.1', 'content-length': '1769', 'date': 'Tue, 10 Mar 2020 07:41:38 GMT'}, 'RetryAttempts': 0}}\n"
     ]
    }
   ],
   "source": [
    "preprocessing_job_description = processor.jobs[-1].describe()\n",
    "print(preprocessing_job_description)"
   ]
  },
  {
   "cell_type": "code",
   "execution_count": 242,
   "metadata": {},
   "outputs": [
    {
     "data": {
      "text/html": [
       "<b>Review <a href=\"https://console.aws.amazon.com/cloudwatch/home?region=us-east-1#logStream:group=/aws/sagemaker/ProcessingJobs;prefix=spark-amazon-reviews-processor-2020-03-10-07-41-34-026;streamFilter=typeLogStreamPrefix\">CloudWatch Logs</a> After About 5 Minutes</b>"
      ],
      "text/plain": [
       "<IPython.core.display.HTML object>"
      ]
     },
     "metadata": {},
     "output_type": "display_data"
    }
   ],
   "source": [
    "processing_job_name = preprocessing_job_description['ProcessingJobName']\n",
    "\n",
    "from IPython.core.display import display, HTML\n",
    "display(HTML('<b>Review <a href=\"https://console.aws.amazon.com/cloudwatch/home?region={}#logStream:group=/aws/sagemaker/ProcessingJobs;prefix={};streamFilter=typeLogStreamPrefix\">CloudWatch Logs</a> After About 5 Minutes</b>'.format(region, processing_job_name)))\n"
   ]
  },
  {
   "cell_type": "code",
   "execution_count": 241,
   "metadata": {},
   "outputs": [
    {
     "name": "stdout",
     "output_type": "stream",
     "text": [
      "InProgress\n"
     ]
    }
   ],
   "source": [
    "processing_job_status = preprocessing_job_description['ProcessingJobStatus']\n",
    "\n",
    "if (processing_job_status in ['Completed', 'Stopped']):\n",
    "    # TODO:  Do something interesting\n",
    "    print('Complete')\n",
    "else:\n",
    "    print(processing_job_status)"
   ]
  },
  {
   "cell_type": "markdown",
   "metadata": {},
   "source": [
    "## Please wait until the Processing Job Completes above"
   ]
  },
  {
   "cell_type": "code",
   "execution_count": 239,
   "metadata": {
    "scrolled": true
   },
   "outputs": [
    {
     "data": {
      "text/plain": [
       "{'ProcessingInputs': [{'InputName': 'code',\n",
       "   'S3Input': {'S3Uri': 's3://sagemaker-us-east-1-835319576252/spark-amazon-reviews-processor-2020-03-10-07-41-34-026/input/code/preprocess-spark.py',\n",
       "    'LocalPath': '/opt/ml/processing/input/code',\n",
       "    'S3DataType': 'S3Prefix',\n",
       "    'S3InputMode': 'File',\n",
       "    'S3DataDistributionType': 'FullyReplicated',\n",
       "    'S3CompressionType': 'None'}}],\n",
       " 'ProcessingOutputConfig': {'Outputs': [{'OutputName': 'dummy-output',\n",
       "    'S3Output': {'S3Uri': 's3://sagemaker-us-east-1-835319576252/spark-amazon-reviews-processor-2020-03-10-07-41-34-026/output/dummy-output',\n",
       "     'LocalPath': '/opt/ml/processing/output',\n",
       "     'S3UploadMode': 'EndOfJob'}}]},\n",
       " 'ProcessingJobName': 'spark-amazon-reviews-processor-2020-03-10-07-41-34-026',\n",
       " 'ProcessingResources': {'ClusterConfig': {'InstanceCount': 20,\n",
       "   'InstanceType': 'ml.r5.24xlarge',\n",
       "   'VolumeSizeInGB': 30}},\n",
       " 'StoppingCondition': {'MaxRuntimeInSeconds': 86400},\n",
       " 'AppSpecification': {'ImageUri': '835319576252.dkr.ecr.us-east-1.amazonaws.com/amazon-reviews-spark-processor:latest',\n",
       "  'ContainerEntrypoint': ['/opt/program/submit',\n",
       "   '/opt/ml/processing/input/code/preprocess-spark.py'],\n",
       "  'ContainerArguments': ['s3_input_data',\n",
       "   's3://sagemaker-us-east-1-835319576252/sagemaker-scikit-learn-2020-03-09-21-39-23-619/output/raw-labeled-split-balanced-header-train/',\n",
       "   's3_output_data',\n",
       "   's3://sagemaker-us-east-1-835319576252/amazon-reviews-spark-processor-2020-03-10-07-08-01/tfidf-labeled-split-balanced-noheader-train']},\n",
       " 'Environment': {'mode': 'python'},\n",
       " 'RoleArn': 'arn:aws:iam::835319576252:role/service-role/AmazonSageMaker-ExecutionRole-20191006T135881',\n",
       " 'ProcessingJobArn': 'arn:aws:sagemaker:us-east-1:835319576252:processing-job/spark-amazon-reviews-processor-2020-03-10-07-41-34-026',\n",
       " 'ProcessingJobStatus': 'InProgress',\n",
       " 'LastModifiedTime': datetime.datetime(2020, 3, 10, 7, 41, 34, 529000, tzinfo=tzlocal()),\n",
       " 'CreationTime': datetime.datetime(2020, 3, 10, 7, 41, 34, 345000, tzinfo=tzlocal()),\n",
       " 'ResponseMetadata': {'RequestId': 'ef870adf-4388-4317-a0da-43c6513754ea',\n",
       "  'HTTPStatusCode': 200,\n",
       "  'HTTPHeaders': {'x-amzn-requestid': 'ef870adf-4388-4317-a0da-43c6513754ea',\n",
       "   'content-type': 'application/x-amz-json-1.1',\n",
       "   'content-length': '1769',\n",
       "   'date': 'Tue, 10 Mar 2020 07:41:42 GMT'},\n",
       "  'RetryAttempts': 0}}"
      ]
     },
     "execution_count": 239,
     "metadata": {},
     "output_type": "execute_result"
    }
   ],
   "source": [
    "running_processor = sagemaker.processing.ProcessingJob.from_processing_name(processing_job_name=processing_job_name,\n",
    "                                                                            sagemaker_session=sagemaker_session)\n",
    "running_processor.describe()"
   ]
  },
  {
   "cell_type": "code",
   "execution_count": 240,
   "metadata": {},
   "outputs": [
    {
     "data": {
      "text/html": [
       "<b>Review <a href=\"https://s3.console.aws.amazon.com/s3/buckets/sagemaker-us-east-1-835319576252/spark-amazon-reviews-processor-2020-03-10-07-41-34-026/?region=us-east-1&tab=overview\">S3 Output Data</a> After The Spark Job Has Completed</b>"
      ],
      "text/plain": [
       "<IPython.core.display.HTML object>"
      ]
     },
     "metadata": {},
     "output_type": "display_data"
    }
   ],
   "source": [
    "from IPython.core.display import display, HTML\n",
    "display(HTML('<b>Review <a href=\"https://s3.console.aws.amazon.com/s3/buckets/{}/{}/?region={}&tab=overview\">S3 Output Data</a> After The Spark Job Has Completed</b>'.format(bucket, processing_job_name, region)))"
   ]
  },
  {
   "cell_type": "markdown",
   "metadata": {},
   "source": [
    "# TODO:  Run the transformation for both validation and test"
   ]
  },
  {
   "cell_type": "markdown",
   "metadata": {},
   "source": [
    "#### Inspect the processed dataset\n",
    "Take a look at a few rows of the transformed dataset to make sure the preprocessing was successful."
   ]
  },
  {
   "cell_type": "code",
   "execution_count": 206,
   "metadata": {
    "scrolled": true
   },
   "outputs": [],
   "source": [
    "!aws s3 ls --recursive $balanced_train_data_tfidf_output/"
   ]
  },
  {
   "cell_type": "code",
   "execution_count": 207,
   "metadata": {},
   "outputs": [],
   "source": [
    "!aws s3 ls --recursive $balanced_validation_data_tfidf_output/"
   ]
  },
  {
   "cell_type": "code",
   "execution_count": 208,
   "metadata": {},
   "outputs": [],
   "source": [
    "!aws s3 ls --recursive $balanced_test_data_tfidf_output/"
   ]
  },
  {
   "cell_type": "code",
   "execution_count": null,
   "metadata": {},
   "outputs": [],
   "source": []
  },
  {
   "cell_type": "code",
   "execution_count": null,
   "metadata": {},
   "outputs": [],
   "source": []
  }
 ],
 "metadata": {
  "kernelspec": {
   "display_name": "conda_python3",
   "language": "python",
   "name": "conda_python3"
  },
  "language_info": {
   "codemirror_mode": {
    "name": "ipython",
    "version": 3
   },
   "file_extension": ".py",
   "mimetype": "text/x-python",
   "name": "python",
   "nbconvert_exporter": "python",
   "pygments_lexer": "ipython3",
   "version": "3.6.5"
  }
 },
 "nbformat": 4,
 "nbformat_minor": 4
}
