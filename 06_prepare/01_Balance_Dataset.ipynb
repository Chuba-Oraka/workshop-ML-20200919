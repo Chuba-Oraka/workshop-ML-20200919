{
 "cells": [
  {
   "cell_type": "markdown",
   "metadata": {},
   "source": [
    "# WIP: Balance Dataset (All Data)"
   ]
  },
  {
   "cell_type": "code",
   "execution_count": 1,
   "metadata": {},
   "outputs": [],
   "source": [
    "!pip install -q PyAthena==1.10.7"
   ]
  },
  {
   "cell_type": "code",
   "execution_count": 2,
   "metadata": {},
   "outputs": [],
   "source": [
    "from pyathena import connect\n",
    "from pyathena.pandas_cursor import PandasCursor\n",
    "from pyathena.util import as_pandas"
   ]
  },
  {
   "cell_type": "code",
   "execution_count": 3,
   "metadata": {},
   "outputs": [],
   "source": [
    "import boto3\n",
    "import sagemaker\n",
    "import numpy as np\n",
    "import pandas as pd\n",
    "import seaborn as sns\n",
    "import matplotlib.pyplot as plt\n",
    "\n",
    "%matplotlib inline\n",
    "%config InlineBackend.figure_format='retina'"
   ]
  },
  {
   "cell_type": "code",
   "execution_count": 38,
   "metadata": {},
   "outputs": [],
   "source": [
    "sagemaker_session = sagemaker.Session()\n",
    "role = sagemaker.get_execution_role()\n",
    "bucket = sagemaker_session.default_bucket()\n",
    "region = boto3.Session().region_name\n",
    "\n",
    "sm = boto3.Session().client(service_name='sagemaker', region_name=region)"
   ]
  },
  {
   "cell_type": "code",
   "execution_count": 5,
   "metadata": {},
   "outputs": [],
   "source": [
    "# Set S3 staging directory -- this is a temporary directory used for Athena queries\n",
    "s3_staging_dir = 's3://{0}/athena/staging'.format(bucket)\n",
    "\n",
    "# Set Athena database & table \n",
    "database_name = 'dsoaws'\n",
    "table_name = 'amazon_reviews_parquet'"
   ]
  },
  {
   "cell_type": "markdown",
   "metadata": {},
   "source": [
    "# TODO: Download all data into S3 bucket"
   ]
  },
  {
   "cell_type": "code",
   "execution_count": null,
   "metadata": {},
   "outputs": [],
   "source": []
  },
  {
   "cell_type": "code",
   "execution_count": null,
   "metadata": {},
   "outputs": [],
   "source": []
  },
  {
   "cell_type": "markdown",
   "metadata": {},
   "source": [
    "# Number of Reviews per Product Category and Star Rating? "
   ]
  },
  {
   "cell_type": "code",
   "execution_count": 6,
   "metadata": {},
   "outputs": [
    {
     "name": "stdout",
     "output_type": "stream",
     "text": [
      "\n",
      "SELECT product_category,\n",
      "         star_rating,\n",
      "         COUNT(*) AS count_reviews\n",
      "FROM dsoaws.amazon_reviews_parquet\n",
      "GROUP BY  product_category, star_rating\n",
      "ORDER BY  product_category ASC, star_rating DESC, count_reviews\n",
      "\n"
     ]
    }
   ],
   "source": [
    "statement = \"\"\"\n",
    "SELECT product_category,\n",
    "         star_rating,\n",
    "         COUNT(*) AS count_reviews\n",
    "FROM {}.{}\n",
    "GROUP BY  product_category, star_rating\n",
    "ORDER BY  product_category ASC, star_rating DESC, count_reviews\n",
    "\"\"\".format(database_name, table_name)\n",
    "\n",
    "print(statement)"
   ]
  },
  {
   "cell_type": "code",
   "execution_count": 7,
   "metadata": {},
   "outputs": [
    {
     "data": {
      "text/plain": [
       "<pyathena.cursor.Cursor at 0x7f08e58567b8>"
      ]
     },
     "execution_count": 7,
     "metadata": {},
     "output_type": "execute_result"
    }
   ],
   "source": [
    "cursor = connect(region_name=region, s3_staging_dir=s3_staging_dir).cursor()\n",
    "cursor.execute(statement)"
   ]
  },
  {
   "cell_type": "code",
   "execution_count": 8,
   "metadata": {},
   "outputs": [
    {
     "data": {
      "text/html": [
       "<div>\n",
       "<style scoped>\n",
       "    .dataframe tbody tr th:only-of-type {\n",
       "        vertical-align: middle;\n",
       "    }\n",
       "\n",
       "    .dataframe tbody tr th {\n",
       "        vertical-align: top;\n",
       "    }\n",
       "\n",
       "    .dataframe thead th {\n",
       "        text-align: right;\n",
       "    }\n",
       "</style>\n",
       "<table border=\"1\" class=\"dataframe\">\n",
       "  <thead>\n",
       "    <tr style=\"text-align: right;\">\n",
       "      <th></th>\n",
       "      <th>product_category</th>\n",
       "      <th>star_rating</th>\n",
       "      <th>count_reviews</th>\n",
       "    </tr>\n",
       "  </thead>\n",
       "  <tbody>\n",
       "    <tr>\n",
       "      <th>0</th>\n",
       "      <td>Apparel</td>\n",
       "      <td>5</td>\n",
       "      <td>3320566</td>\n",
       "    </tr>\n",
       "    <tr>\n",
       "      <th>1</th>\n",
       "      <td>Apparel</td>\n",
       "      <td>4</td>\n",
       "      <td>1147237</td>\n",
       "    </tr>\n",
       "    <tr>\n",
       "      <th>2</th>\n",
       "      <td>Apparel</td>\n",
       "      <td>3</td>\n",
       "      <td>623471</td>\n",
       "    </tr>\n",
       "    <tr>\n",
       "      <th>3</th>\n",
       "      <td>Apparel</td>\n",
       "      <td>2</td>\n",
       "      <td>369601</td>\n",
       "    </tr>\n",
       "    <tr>\n",
       "      <th>4</th>\n",
       "      <td>Apparel</td>\n",
       "      <td>1</td>\n",
       "      <td>445458</td>\n",
       "    </tr>\n",
       "    <tr>\n",
       "      <th>...</th>\n",
       "      <td>...</td>\n",
       "      <td>...</td>\n",
       "      <td>...</td>\n",
       "    </tr>\n",
       "    <tr>\n",
       "      <th>210</th>\n",
       "      <td>Wireless</td>\n",
       "      <td>5</td>\n",
       "      <td>4824783</td>\n",
       "    </tr>\n",
       "    <tr>\n",
       "      <th>211</th>\n",
       "      <td>Wireless</td>\n",
       "      <td>4</td>\n",
       "      <td>1501327</td>\n",
       "    </tr>\n",
       "    <tr>\n",
       "      <th>212</th>\n",
       "      <td>Wireless</td>\n",
       "      <td>3</td>\n",
       "      <td>815205</td>\n",
       "    </tr>\n",
       "    <tr>\n",
       "      <th>213</th>\n",
       "      <td>Wireless</td>\n",
       "      <td>2</td>\n",
       "      <td>598330</td>\n",
       "    </tr>\n",
       "    <tr>\n",
       "      <th>214</th>\n",
       "      <td>Wireless</td>\n",
       "      <td>1</td>\n",
       "      <td>1262376</td>\n",
       "    </tr>\n",
       "  </tbody>\n",
       "</table>\n",
       "<p>215 rows × 3 columns</p>\n",
       "</div>"
      ],
      "text/plain": [
       "    product_category  star_rating  count_reviews\n",
       "0            Apparel            5        3320566\n",
       "1            Apparel            4        1147237\n",
       "2            Apparel            3         623471\n",
       "3            Apparel            2         369601\n",
       "4            Apparel            1         445458\n",
       "..               ...          ...            ...\n",
       "210         Wireless            5        4824783\n",
       "211         Wireless            4        1501327\n",
       "212         Wireless            3         815205\n",
       "213         Wireless            2         598330\n",
       "214         Wireless            1        1262376\n",
       "\n",
       "[215 rows x 3 columns]"
      ]
     },
     "execution_count": 8,
     "metadata": {},
     "output_type": "execute_result"
    }
   ],
   "source": [
    "df = as_pandas(cursor)\n",
    "df"
   ]
  },
  {
   "cell_type": "markdown",
   "metadata": {},
   "source": [
    "# Balance the Dataset"
   ]
  },
  {
   "cell_type": "markdown",
   "metadata": {},
   "source": [
    "## Find min() number of Reviews per Star Rating (grouped by Star Rating)"
   ]
  },
  {
   "cell_type": "code",
   "execution_count": 14,
   "metadata": {},
   "outputs": [
    {
     "name": "stdout",
     "output_type": "stream",
     "text": [
      "             count_reviews\n",
      "star_rating               \n",
      "1                 12099639\n",
      "2                  7304430\n",
      "3                 12133927\n",
      "4                 26223470\n",
      "5                 93200812\n",
      "\n",
      " Minimum number of reviews: 7304430\n"
     ]
    }
   ],
   "source": [
    "df_sum = df.groupby(['star_rating']).sum()\n",
    "print(df_sum)\n",
    "\n",
    "review_minimum = df_sum['count_reviews'].min()\n",
    "print(\"\\n Minimum number of reviews: \" + str(review_minimum))"
   ]
  },
  {
   "cell_type": "markdown",
   "metadata": {},
   "source": [
    "## Find absolute min() number of Reviews per Star Rating (across Product Categories)"
   ]
  },
  {
   "cell_type": "code",
   "execution_count": 17,
   "metadata": {},
   "outputs": [
    {
     "name": "stdout",
     "output_type": "stream",
     "text": [
      "    product_category  star_rating  count_reviews\n",
      "69         Gift Card            1           4793\n",
      "68         Gift Card            2           1569\n",
      "67         Gift Card            3           3156\n",
      "66         Gift Card            4           9859\n",
      "40  Digital_Software            5          46410\n",
      "\n",
      " Minimum number of reviews: 1569\n"
     ]
    }
   ],
   "source": [
    "df_min = df.loc[df.groupby('star_rating')['count_reviews'].idxmin()]\n",
    "print(df_min)\n",
    "\n",
    "review_minimum_2 = df_min['count_reviews'].min()\n",
    "print(\"\\n Minimum number of reviews: \" + str(review_minimum_2))"
   ]
  },
  {
   "cell_type": "markdown",
   "metadata": {},
   "source": [
    "# Pick number N (min) of Reviews per Star Rating "
   ]
  },
  {
   "cell_type": "markdown",
   "metadata": {},
   "source": [
    "## ---- Using Stratified Reservoir Sampling ----\n",
    "See https://ragrawal.wordpress.com/2017/08/11/data-sampling-in-presto/  \n",
    "Select min() number of reviews (randomized) from each star rating group. "
   ]
  },
  {
   "cell_type": "code",
   "execution_count": 18,
   "metadata": {},
   "outputs": [
    {
     "name": "stdout",
     "output_type": "stream",
     "text": [
      "SELECT star_rating,\n",
      "         review_body,\n",
      "         product_category\n",
      "FROM \n",
      "    (SELECT *,\n",
      "         ROW_NUMBER()\n",
      "        OVER (PARTITION BY star_rating\n",
      "    ORDER BY  rnd) AS rnk\n",
      "    FROM \n",
      "        (SELECT star_rating,\n",
      "         review_body,\n",
      "         product_category,\n",
      "         RANDOM() AS rnd\n",
      "        FROM dsoaws.amazon_reviews_parquet ) bucketed ) sampled\n",
      "    WHERE rnk <= 100\n",
      "\n"
     ]
    }
   ],
   "source": [
    "statement = \"\"\"SELECT star_rating,\n",
    "         review_body,\n",
    "         product_category\n",
    "FROM \n",
    "    (SELECT *,\n",
    "         ROW_NUMBER()\n",
    "        OVER (PARTITION BY star_rating\n",
    "    ORDER BY  rnd) AS rnk\n",
    "    FROM \n",
    "        (SELECT star_rating,\n",
    "         review_body,\n",
    "         product_category,\n",
    "         RANDOM() AS rnd\n",
    "        FROM dsoaws.amazon_reviews_parquet ) bucketed ) sampled\n",
    "    WHERE rnk <= 100\n",
    "\"\"\"\n",
    "\n",
    "print(statement)"
   ]
  },
  {
   "cell_type": "code",
   "execution_count": 19,
   "metadata": {},
   "outputs": [
    {
     "data": {
      "text/plain": [
       "<pyathena.cursor.Cursor at 0x7f08e547b278>"
      ]
     },
     "execution_count": 19,
     "metadata": {},
     "output_type": "execute_result"
    }
   ],
   "source": [
    "cursor = connect(region_name=region, s3_staging_dir=s3_staging_dir).cursor()\n",
    "cursor.execute(statement)"
   ]
  },
  {
   "cell_type": "code",
   "execution_count": 20,
   "metadata": {},
   "outputs": [
    {
     "data": {
      "text/html": [
       "<div>\n",
       "<style scoped>\n",
       "    .dataframe tbody tr th:only-of-type {\n",
       "        vertical-align: middle;\n",
       "    }\n",
       "\n",
       "    .dataframe tbody tr th {\n",
       "        vertical-align: top;\n",
       "    }\n",
       "\n",
       "    .dataframe thead th {\n",
       "        text-align: right;\n",
       "    }\n",
       "</style>\n",
       "<table border=\"1\" class=\"dataframe\">\n",
       "  <thead>\n",
       "    <tr style=\"text-align: right;\">\n",
       "      <th></th>\n",
       "      <th>star_rating</th>\n",
       "      <th>review_body</th>\n",
       "      <th>product_category</th>\n",
       "    </tr>\n",
       "  </thead>\n",
       "  <tbody>\n",
       "    <tr>\n",
       "      <th>0</th>\n",
       "      <td>5</td>\n",
       "      <td>Found a Wiha phillips #2 in my ally back in th...</td>\n",
       "      <td>Tools</td>\n",
       "    </tr>\n",
       "    <tr>\n",
       "      <th>1</th>\n",
       "      <td>5</td>\n",
       "      <td>Excellent, works as it should. You may have to...</td>\n",
       "      <td>Lawn and Garden</td>\n",
       "    </tr>\n",
       "    <tr>\n",
       "      <th>2</th>\n",
       "      <td>5</td>\n",
       "      <td>Very nice item, my grandbaby in love with her ...</td>\n",
       "      <td>Apparel</td>\n",
       "    </tr>\n",
       "    <tr>\n",
       "      <th>3</th>\n",
       "      <td>5</td>\n",
       "      <td>The inside of the hard part looks like it was ...</td>\n",
       "      <td>Wireless</td>\n",
       "    </tr>\n",
       "    <tr>\n",
       "      <th>4</th>\n",
       "      <td>5</td>\n",
       "      <td>This game is great to keep your mind active an...</td>\n",
       "      <td>Mobile_Apps</td>\n",
       "    </tr>\n",
       "  </tbody>\n",
       "</table>\n",
       "</div>"
      ],
      "text/plain": [
       "   star_rating                                        review_body  \\\n",
       "0            5  Found a Wiha phillips #2 in my ally back in th...   \n",
       "1            5  Excellent, works as it should. You may have to...   \n",
       "2            5  Very nice item, my grandbaby in love with her ...   \n",
       "3            5  The inside of the hard part looks like it was ...   \n",
       "4            5  This game is great to keep your mind active an...   \n",
       "\n",
       "  product_category  \n",
       "0            Tools  \n",
       "1  Lawn and Garden  \n",
       "2          Apparel  \n",
       "3         Wireless  \n",
       "4      Mobile_Apps  "
      ]
     },
     "execution_count": 20,
     "metadata": {},
     "output_type": "execute_result"
    }
   ],
   "source": [
    "df_balanced = as_pandas(cursor)\n",
    "df_balanced.head()"
   ]
  },
  {
   "cell_type": "markdown",
   "metadata": {},
   "source": [
    "## CHECK: Number of Reviews per Star Rating"
   ]
  },
  {
   "cell_type": "code",
   "execution_count": 22,
   "metadata": {},
   "outputs": [
    {
     "data": {
      "text/plain": [
       "Text(0, 0.5, 'Review Count')"
      ]
     },
     "execution_count": 22,
     "metadata": {},
     "output_type": "execute_result"
    },
    {
     "data": {
      "image/png": "[encoded data removed]",
      "text/plain": [
       "<Figure size 432x288 with 1 Axes>"
      ]
     },
     "metadata": {
      "image/png": {
       "height": 274,
       "width": 390
      }
     },
     "output_type": "display_data"
    }
   ],
   "source": [
    "df_balanced[['star_rating', 'review_body']].groupby('star_rating').count().plot(kind='bar', title='Breakdown by Star Rating')\n",
    "plt.xlabel('Star Rating')\n",
    "plt.ylabel('Review Count')"
   ]
  },
  {
   "cell_type": "markdown",
   "metadata": {},
   "source": [
    "## ---- Using Athena CTAS Query ----"
   ]
  },
  {
   "cell_type": "code",
   "execution_count": 36,
   "metadata": {},
   "outputs": [],
   "source": [
    "def sample_reviews(num_samples):\n",
    "    for star in range(1,6,1):\n",
    "        statement = \"\"\"\n",
    "        CREATE TABLE IF NOT EXISTS dsoaws.amazon_reviews_sampled_star{}\n",
    "        WITH ( format = 'TEXTFILE', external_location = 's3://{}/amazon-reviews-pds/sampled/star{}', field_delimiter = '\\\\t' ) AS\n",
    "        SELECT review_body,\n",
    "                 product_category,\n",
    "                 star_rating\n",
    "        FROM dsoaws.amazon_reviews_parquet TABLESAMPLE BERNOULLI (1)\n",
    "        WHERE star_rating = {}\n",
    "        LIMIT {}\n",
    "        \"\"\".format(str(star), bucket, str(star), star, num_samples)\n",
    "        print(\"-------------- EXECUTING NOW: ----------------------\")\n",
    "        print(statement)\n",
    "        cursor = connect(region_name=region, s3_staging_dir=s3_staging_dir).cursor()\n",
    "        cursor.execute(statement)\n",
    "        print(\"-------------- EXECUTION FINISHED ------------------\")\n",
    "    print(\"DONE.\")\n"
   ]
  },
  {
   "cell_type": "code",
   "execution_count": 37,
   "metadata": {},
   "outputs": [
    {
     "name": "stdout",
     "output_type": "stream",
     "text": [
      "-------------- EXECUTING NOW -----------------------\n",
      "\n",
      "        CREATE TABLE IF NOT EXISTS dsoaws.amazon_reviews_sampled_star1\n",
      "        WITH ( format = 'TEXTFILE', external_location = 's3://sagemaker-us-east-1-806570384721/amazon-reviews-pds/sampled/star1', field_delimiter = '\\t' ) AS\n",
      "        SELECT review_body,\n",
      "                 product_category,\n",
      "                 star_rating\n",
      "        FROM dsoaws.amazon_reviews_parquet TABLESAMPLE BERNOULLI (1)\n",
      "        WHERE star_rating = 1\n",
      "        LIMIT 10000\n",
      "        \n",
      "-------------- EXECUTING FINISHED ------------------\n",
      "-------------- EXECUTING NOW -----------------------\n",
      "\n",
      "        CREATE TABLE IF NOT EXISTS dsoaws.amazon_reviews_sampled_star2\n",
      "        WITH ( format = 'TEXTFILE', external_location = 's3://sagemaker-us-east-1-806570384721/amazon-reviews-pds/sampled/star2', field_delimiter = '\\t' ) AS\n",
      "        SELECT review_body,\n",
      "                 product_category,\n",
      "                 star_rating\n",
      "        FROM dsoaws.amazon_reviews_parquet TABLESAMPLE BERNOULLI (1)\n",
      "        WHERE star_rating = 2\n",
      "        LIMIT 10000\n",
      "        \n",
      "-------------- EXECUTING FINISHED ------------------\n",
      "-------------- EXECUTING NOW -----------------------\n",
      "\n",
      "        CREATE TABLE IF NOT EXISTS dsoaws.amazon_reviews_sampled_star3\n",
      "        WITH ( format = 'TEXTFILE', external_location = 's3://sagemaker-us-east-1-806570384721/amazon-reviews-pds/sampled/star3', field_delimiter = '\\t' ) AS\n",
      "        SELECT review_body,\n",
      "                 product_category,\n",
      "                 star_rating\n",
      "        FROM dsoaws.amazon_reviews_parquet TABLESAMPLE BERNOULLI (1)\n",
      "        WHERE star_rating = 3\n",
      "        LIMIT 10000\n",
      "        \n",
      "-------------- EXECUTING FINISHED ------------------\n",
      "-------------- EXECUTING NOW -----------------------\n",
      "\n",
      "        CREATE TABLE IF NOT EXISTS dsoaws.amazon_reviews_sampled_star4\n",
      "        WITH ( format = 'TEXTFILE', external_location = 's3://sagemaker-us-east-1-806570384721/amazon-reviews-pds/sampled/star4', field_delimiter = '\\t' ) AS\n",
      "        SELECT review_body,\n",
      "                 product_category,\n",
      "                 star_rating\n",
      "        FROM dsoaws.amazon_reviews_parquet TABLESAMPLE BERNOULLI (1)\n",
      "        WHERE star_rating = 4\n",
      "        LIMIT 10000\n",
      "        \n",
      "-------------- EXECUTING FINISHED ------------------\n",
      "-------------- EXECUTING NOW -----------------------\n",
      "\n",
      "        CREATE TABLE IF NOT EXISTS dsoaws.amazon_reviews_sampled_star5\n",
      "        WITH ( format = 'TEXTFILE', external_location = 's3://sagemaker-us-east-1-806570384721/amazon-reviews-pds/sampled/star5', field_delimiter = '\\t' ) AS\n",
      "        SELECT review_body,\n",
      "                 product_category,\n",
      "                 star_rating\n",
      "        FROM dsoaws.amazon_reviews_parquet TABLESAMPLE BERNOULLI (1)\n",
      "        WHERE star_rating = 5\n",
      "        LIMIT 10000\n",
      "        \n",
      "-------------- EXECUTING FINISHED ------------------\n",
      "DONE.\n"
     ]
    }
   ],
   "source": [
    "sample_reviews(10000)"
   ]
  },
  {
   "cell_type": "code",
   "execution_count": null,
   "metadata": {},
   "outputs": [],
   "source": []
  },
  {
   "cell_type": "markdown",
   "metadata": {},
   "source": [
    "# TODO: Combine 5x TSV Files in Query"
   ]
  },
  {
   "cell_type": "code",
   "execution_count": null,
   "metadata": {},
   "outputs": [],
   "source": []
  },
  {
   "cell_type": "code",
   "execution_count": null,
   "metadata": {},
   "outputs": [],
   "source": []
  },
  {
   "cell_type": "code",
   "execution_count": null,
   "metadata": {},
   "outputs": [],
   "source": []
  },
  {
   "cell_type": "markdown",
   "metadata": {},
   "source": [
    "# Set up BERT feature engineering pipeline"
   ]
  },
  {
   "cell_type": "code",
   "execution_count": null,
   "metadata": {},
   "outputs": [],
   "source": [
    "!pip install -q wrapt --upgrade --ignore-installed\n",
    "!pip install -q transformers==2.8.0\n",
    "!pip install -q tensorflow==2.1.0"
   ]
  },
  {
   "cell_type": "code",
   "execution_count": null,
   "metadata": {},
   "outputs": [],
   "source": [
    "import tensorflow as tf\n",
    "import collections\n",
    "import json\n",
    "import os\n",
    "import pandas as pd\n",
    "import csv\n",
    "from transformers import DistilBertTokenizer\n",
    "\n",
    "tokenizer = DistilBertTokenizer.from_pretrained('distilbert-base-uncased')\n",
    "\n",
    "DATA_COLUMN = 'review_body'\n",
    "LABEL_COLUMN = 'star_rating'\n",
    "LABEL_VALUES = [1, 2, 3, 4, 5]\n",
    "\n",
    "label_map = {}\n",
    "for (i, label) in enumerate(LABEL_VALUES):\n",
    "    label_map[label] = i\n",
    "\n",
    "    \n",
    "class InputFeatures(object):\n",
    "  \"\"\"BERT feature vectors.\"\"\"\n",
    "\n",
    "  def __init__(self,\n",
    "               input_ids,\n",
    "               input_mask,\n",
    "               segment_ids,\n",
    "               label_id):\n",
    "    self.input_ids = input_ids\n",
    "    self.input_mask = input_mask\n",
    "    self.segment_ids = segment_ids\n",
    "    self.label_id = label_id\n",
    "    \n",
    "    \n",
    "class Input(object):\n",
    "  \"\"\"A single training/test input for sequence classification.\"\"\"\n",
    "\n",
    "  def __init__(self, text, label=None):\n",
    "    \"\"\"Constructs an Input.\n",
    "    Args:\n",
    "      text: string. The untokenized text of the first sequence. For single\n",
    "        sequence tasks, only this sequence must be specified.\n",
    "      label: (Optional) string. The label of the example. This should be\n",
    "        specified for train and dev examples, but not for test examples.\n",
    "    \"\"\"\n",
    "    self.text = text\n",
    "    self.label = label\n",
    "    \n",
    "\n",
    "def convert_input(text_input, max_seq_length):\n",
    "    # First, we need to preprocess our data so that it matches the data BERT was trained on:\n",
    "    # 1. Lowercase our text (if we're using a BERT lowercase model)\n",
    "    # 2. Tokenize it (i.e. \"sally says hi\" -> [\"sally\", \"says\", \"hi\"])\n",
    "    # 3. Break words into WordPieces (i.e. \"calling\" -> [\"call\", \"##ing\"])\n",
    "    # \n",
    "    # Fortunately, the Transformers tokenizer does this for us!\n",
    "\n",
    "    tokens = tokenizer.tokenize(text_input.text)\n",
    "    print('**tokens**\\n{}\\n'.format(tokens))\n",
    "\n",
    "    encode_plus_tokens = tokenizer.encode_plus(text_input.text,\n",
    "                                               pad_to_max_length=True,\n",
    "                                               max_length=max_seq_length)\n",
    "\n",
    "    # The id from the pre-trained BERT vocabulary that represents the token.  (Padding of 0 will be used if the # of tokens is less than `max_seq_length`)\n",
    "    input_ids = encode_plus_tokens['input_ids']\n",
    "    \n",
    "    # Specifies which tokens BERT should pay attention to (0 or 1).  Padded `input_ids` will have 0 in each of these vector elements.    \n",
    "    input_mask = encode_plus_tokens['attention_mask']\n",
    "\n",
    "    # Segment ids are always 0 for single-sequence tasks such as text classification.  1 is used for two-sequence tasks such as question/answer and next sentence prediction.\n",
    "    segment_ids = [0] * max_seq_length\n",
    "\n",
    "    # Label for each training row (`star_rating` 1 through 5)\n",
    "    label_id = label_map[text_input.label]\n",
    "\n",
    "    features = InputFeatures(\n",
    "        input_ids=input_ids,\n",
    "        input_mask=input_mask,\n",
    "        segment_ids=segment_ids,\n",
    "        label_id=label_id)\n",
    "\n",
    "    print('**input_ids**\\n{}\\n'.format(features.input_ids))\n",
    "    print('**input_mask**\\n{}\\n'.format(features.input_mask))\n",
    "    print('**segment_ids**\\n{}\\n'.format(features.segment_ids))\n",
    "    print('**label_id**\\n{}\\n'.format(features.label_id))\n",
    "\n",
    "    return features\n",
    "\n",
    "\n",
    "# We'll need to transform our data into a format that BERT understands.\n",
    "# - `text` is the text we want to classify, which in this case, is the `Request` field in our Dataframe. \n",
    "# - `label` is the star_rating label (1, 2, 3, 4, 5) for our training input data\n",
    "def transform_inputs_to_tfrecord(inputs, max_seq_length):\n",
    "    tf_records = []\n",
    "    for (input_idx, text_input) in enumerate(inputs):\n",
    "      if input_idx % 10000 == 0:\n",
    "          print('Writing input {} of {}\\n'.format(input_idx, len(inputs)))\n",
    "\n",
    "      features = convert_input(text_input, max_seq_length)\n",
    "        \n",
    "      all_features = collections.OrderedDict()\n",
    "      all_features['input_ids'] = tf.train.Feature(int64_list=tf.train.Int64List(value=features.input_ids))\n",
    "      all_features['input_mask'] = tf.train.Feature(int64_list=tf.train.Int64List(value=features.input_mask))\n",
    "      all_features['segment_ids'] = tf.train.Feature(int64_list=tf.train.Int64List(value=features.segment_ids))\n",
    "      all_features['label_ids'] = tf.train.Feature(int64_list=tf.train.Int64List(value=[features.label_id]))\n",
    "\n",
    "      tf_record = tf.train.Example(features=tf.train.Features(feature=all_features))\n",
    "      tf_records.append(tf_record.SerializeToString())\n",
    "\n",
    "    return tf_records\n"
   ]
  },
  {
   "cell_type": "markdown",
   "metadata": {},
   "source": [
    "# Choose a `max_seq_length` for BERT\n",
    "Since a smaller `max_seq_length` leads to faster training and lower resource utilization, we want to find the smallest review length that captures `70%` of our reviews.\n",
    "\n",
    "Remember our distribution of review lengths from a previous section?\n",
    "\n",
    "```\n",
    "mean         67.930174\n",
    "std         130.954079\n",
    "min           1.000000\n",
    "10%           4.000000\n",
    "20%          14.000000\n",
    "30%          21.000000\n",
    "40%          25.000000\n",
    "50%          31.000000\n",
    "60%          42.000000\n",
    "70%          59.000000\n",
    "80%          87.000000\n",
    "90%         149.000000\n",
    "100%       5347.000000\n",
    "max        5347.000000\n",
    "```\n",
    "\n",
    "![](img/review_word_count_distribution.png)\n",
    "\n",
    "Review length `59` represents the `70th` percentile for this dataset.  However, it's best to stick with powers-of-2 when using BERT.  So let's choose `64` as this is the smallest power-of-2 greater than `59`.  Reviews with length > `64` will be truncated to `64`."
   ]
  },
  {
   "cell_type": "code",
   "execution_count": null,
   "metadata": {},
   "outputs": [],
   "source": [
    "max_seq_length = 64"
   ]
  },
  {
   "cell_type": "markdown",
   "metadata": {},
   "source": [
    "Three(3) feature vectors are created from each raw review (`review_body`) during the feature engineering phase to prepare for BERT processing:\n",
    "\n",
    "* **`input_ids`**:  The id from the pre-trained BERT vocabulary that represents the token.  (Padding of 0 will be used if the # of tokens is less than `max_seq_length`)\n",
    "    \n",
    "* **`input_mask`**:  Specifies which tokens BERT should pay attention to (0 or 1).  Padded `input_ids` will have 0 in each of these vector elements.\n",
    "\n",
    "* **`segment_ids`**:  Segment ids are always 0 for single-sequence tasks such as text classification.  1 is used for two-sequence tasks such as question/answer and next sentence prediction.\n",
    "\n",
    "And one(1) label is created from each raw review (`star_rating`)  :\n",
    "\n",
    "* **`label_id`**:  Label for each training row (`star_rating` 1 through 5)"
   ]
  },
  {
   "cell_type": "markdown",
   "metadata": {},
   "source": [
    "# Demonstrate the BERT-specific Feature Engineering Step\n",
    "While we are demonstrating this code with a small amount of data here in the notebook, we will soon scale this to much more data on a powerful SageMaker cluster."
   ]
  },
  {
   "cell_type": "code",
   "execution_count": null,
   "metadata": {
    "scrolled": true
   },
   "outputs": [],
   "source": [
    "import pandas as pd\n",
    "\n",
    "data = [\n",
    "        [5,\"\"\"I needed an antivirus application and know the quality of Norton products.  This was a no brainer for me and I am glad it was so simple to get.\"\"\"],\n",
    "        [3,\"\"\"The problem with ElephantDrive is that it requires the use of Java. Since Java is notorious for security problems I haveit removed from all of my computers. What files I do have stored are photos.\"\"\"],\n",
    "        [1,\"\"\"Terrible, none of my codes worked, and I can't uninstall it.  I think this product IS malware and viruses\"\"\"]\n",
    "       ]\n",
    "\n",
    "df = pd.DataFrame(data, columns=['star_rating','review_body'])\n",
    "\n",
    "# Use the InputExample class from BERT's run_classifier code to create examples from the data\n",
    "inputs = df.apply(lambda x: Input(text = x[DATA_COLUMN], \n",
    "                                  label = x[LABEL_COLUMN]), \n",
    "                  axis = 1)\n",
    "\n",
    "tf_records = transform_inputs_to_tfrecord(inputs, max_seq_length)"
   ]
  },
  {
   "cell_type": "markdown",
   "metadata": {},
   "source": [
    "The three(3) features vectors and one(1) label are converted into a list of `TFRecord` instances (1 per each row of training data):\n",
    "* **`tf_records`**:  Binary representation of each row of training data (3 features + 1 label)\n",
    "\n",
    "These `TFRecord`s are the engineered features that we will use throughout the rest of the pipeline."
   ]
  },
  {
   "cell_type": "code",
   "execution_count": null,
   "metadata": {},
   "outputs": [],
   "source": [
    "print('**tf_records**')\n",
    "\n",
    "for tf_record in tf_records:\n",
    "    print(tf_record)"
   ]
  },
  {
   "cell_type": "code",
   "execution_count": null,
   "metadata": {},
   "outputs": [],
   "source": [
    "%%javascript\n",
    "Jupyter.notebook.save_checkpoint();\n",
    "Jupyter.notebook.session.delete();"
   ]
  },
  {
   "cell_type": "code",
   "execution_count": null,
   "metadata": {},
   "outputs": [],
   "source": []
  }
 ],
 "metadata": {
  "kernelspec": {
   "display_name": "conda_python3",
   "language": "python",
   "name": "conda_python3"
  },
  "language_info": {
   "codemirror_mode": {
    "name": "ipython",
    "version": 3
   },
   "file_extension": ".py",
   "mimetype": "text/x-python",
   "name": "python",
   "nbconvert_exporter": "python",
   "pygments_lexer": "ipython3",
   "version": "3.6.5"
  }
 },
 "nbformat": 4,
 "nbformat_minor": 4
}
