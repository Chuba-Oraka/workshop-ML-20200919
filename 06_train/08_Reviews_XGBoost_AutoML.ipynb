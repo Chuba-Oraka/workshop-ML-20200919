{
 "cells": [
  {
   "cell_type": "code",
   "execution_count": null,
   "metadata": {},
   "outputs": [],
   "source": [
    "!pip install boto3"
   ]
  },
  {
   "cell_type": "code",
   "execution_count": 19,
   "metadata": {},
   "outputs": [],
   "source": [
    "import boto3\n",
    "import sagemaker\n",
    "import pandas as pd\n",
    "\n",
    "sess   = sagemaker.Session()\n",
    "bucket = sess.default_bucket()\n",
    "role = sagemaker.get_execution_role()\n",
    "region = boto3.Session().region_name\n",
    "\n",
    "sm = boto3.Session().client(service_name='sagemaker', region_name=region)"
   ]
  },
  {
   "cell_type": "code",
   "execution_count": 20,
   "metadata": {},
   "outputs": [
    {
     "name": "stdout",
     "output_type": "stream",
     "text": [
      "s3://sagemaker-us-east-1-835319576252/feature-store/amazon-reviews/csv/balanced-raw-with-header/train/data.csv\n"
     ]
    }
   ],
   "source": [
    "prefix = 'feature-store/amazon-reviews/csv/balanced-raw-with-header/train'\n",
    "\n",
    "balanced_raw_with_header_s3_uri = 's3://{}/{}/data.csv'.format(bucket, prefix)\n",
    "\n",
    "print(balanced_raw_with_header_s3_uri)"
   ]
  },
  {
   "cell_type": "code",
   "execution_count": 21,
   "metadata": {},
   "outputs": [
    {
     "name": "stdout",
     "output_type": "stream",
     "text": [
      "s3://sagemaker-us-east-1-835319576252/models/amazon-reviews/autopilot\n"
     ]
    }
   ],
   "source": [
    "prefix = 'models/amazon-reviews/autopilot'\n",
    "\n",
    "autopilot_model_output_s3_uri = 's3://{}/{}'.format(bucket, prefix)\n",
    "\n",
    "print(autopilot_model_output_s3_uri)\n"
   ]
  },
  {
   "cell_type": "code",
   "execution_count": 22,
   "metadata": {},
   "outputs": [],
   "source": [
    "max_candidates = 3\n",
    "\n",
    "job_config = {\n",
    "    'CompletionCriteria': {\n",
    "      'MaxRuntimePerTrainingJobInSeconds': 600,\n",
    "      'MaxCandidates': max_candidates,\n",
    "      'MaxAutoMLJobRuntimeInSeconds': 3600\n",
    "    },\n",
    "}\n",
    "\n",
    "input_data_config = [{\n",
    "      'DataSource': {\n",
    "        'S3DataSource': {\n",
    "          'S3DataType': 'S3Prefix',\n",
    "          'S3Uri': '{}'.format(balanced_raw_with_header_s3_uri)\n",
    "        }\n",
    "      },\n",
    "      'TargetAttributeName': 'is_positive_sentiment'\n",
    "    }\n",
    "]\n",
    "\n",
    "output_data_config = {\n",
    "    'S3OutputPath': '{}'.format(autopilot_model_output_s3_uri)\n",
    "}\n",
    "\n",
    "#problem_type = 'Regression'\n",
    "\n",
    "#auto_ml_job_objective = {\n",
    "#    'MetricName': 'MSE'\n",
    "#}"
   ]
  },
  {
   "cell_type": "markdown",
   "metadata": {},
   "source": [
    "## Launching the SageMaker AutoPilot job\n",
    "\n",
    "We can now launch the job by calling the `create_auto_ml_job` API."
   ]
  },
  {
   "cell_type": "code",
   "execution_count": 23,
   "metadata": {},
   "outputs": [
    {
     "name": "stdout",
     "output_type": "stream",
     "text": [
      "AutoMLJobName: automl-dm-05-00-53-23\n"
     ]
    }
   ],
   "source": [
    "from time import gmtime, strftime, sleep\n",
    "timestamp_suffix = strftime('%d-%H-%M-%S', gmtime())\n",
    "\n",
    "auto_ml_job_name = 'automl-dm-' + timestamp_suffix\n",
    "print('AutoMLJobName: ' + auto_ml_job_name)"
   ]
  },
  {
   "cell_type": "code",
   "execution_count": 24,
   "metadata": {},
   "outputs": [
    {
     "data": {
      "text/plain": [
       "{'AutoMLJobArn': 'arn:aws:sagemaker:us-east-1:835319576252:automl-job/automl-dm-05-00-53-23',\n",
       " 'ResponseMetadata': {'RequestId': 'afa7e257-7593-4563-b881-660aa82b8c0b',\n",
       "  'HTTPStatusCode': 200,\n",
       "  'HTTPHeaders': {'x-amzn-requestid': 'afa7e257-7593-4563-b881-660aa82b8c0b',\n",
       "   'content-type': 'application/x-amz-json-1.1',\n",
       "   'content-length': '92',\n",
       "   'date': 'Thu, 05 Mar 2020 00:53:25 GMT'},\n",
       "  'RetryAttempts': 0}}"
      ]
     },
     "execution_count": 24,
     "metadata": {},
     "output_type": "execute_result"
    }
   ],
   "source": [
    "sm.create_auto_ml_job(AutoMLJobName=auto_ml_job_name,\n",
    "                      InputDataConfig=input_data_config,\n",
    "                      OutputDataConfig=output_data_config,\n",
    "                      AutoMLJobConfig=job_config,\n",
    "#                      ProblemType=problem_type,\n",
    "#                      AutoMLJobObjective=auto_ml_job_objective,\n",
    "                      RoleArn=role)"
   ]
  },
  {
   "cell_type": "markdown",
   "metadata": {},
   "source": [
    "### Tracking the progress of the AutoPilot job\n",
    "SageMaker AutoPilot job consists of four high-level steps : \n",
    "* Data Preprocessing, where the dataset is split into train and validation sets.\n",
    "* Recommending Pipelines, where the dataset is analyzed and SageMaker AutoPilot comes up with a list of ML pipelines that should be tried out on the dataset.\n",
    "* Automatic Feature Engineering, where SageMaker AutoPilot performs feature transformation on individual features of the dataset as well as at an aggregate level.\n",
    "* ML pipeline selection and hyperparameter tuning, where the top performing pipeline is selected along with the optimal hyperparameters for the training algorithm (the last stage of the pipeline). "
   ]
  },
  {
   "cell_type": "code",
   "execution_count": 25,
   "metadata": {},
   "outputs": [
    {
     "name": "stdout",
     "output_type": "stream",
     "text": [
      "InProgress AnalyzingData\n",
      "InProgress AnalyzingData\n",
      "InProgress AnalyzingData\n",
      "InProgress AnalyzingData\n",
      "InProgress AnalyzingData\n",
      "InProgress AnalyzingData\n",
      "InProgress AnalyzingData\n",
      "InProgress AnalyzingData\n",
      "InProgress AnalyzingData\n",
      "InProgress AnalyzingData\n",
      "InProgress AnalyzingData\n",
      "InProgress AnalyzingData\n",
      "InProgress AnalyzingData\n",
      "InProgress AnalyzingData\n",
      "InProgress FeatureEngineering\n",
      "Data analysis complete\n",
      "{'AutoMLJobName': 'automl-dm-05-00-53-23', 'AutoMLJobArn': 'arn:aws:sagemaker:us-east-1:835319576252:automl-job/automl-dm-05-00-53-23', 'InputDataConfig': [{'DataSource': {'S3DataSource': {'S3DataType': 'S3Prefix', 'S3Uri': 's3://sagemaker-us-east-1-835319576252/feature-store/amazon-reviews/csv/balanced-raw-with-header/train/data.csv'}}, 'TargetAttributeName': 'is_positive_sentiment'}], 'OutputDataConfig': {'S3OutputPath': 's3://sagemaker-us-east-1-835319576252/models/amazon-reviews/autopilot'}, 'RoleArn': 'arn:aws:iam::835319576252:role/service-role/AmazonSageMaker-ExecutionRole-20191006T135881', 'AutoMLJobConfig': {'CompletionCriteria': {'MaxCandidates': 3, 'MaxRuntimePerTrainingJobInSeconds': 600, 'MaxAutoMLJobRuntimeInSeconds': 3600}}, 'CreationTime': datetime.datetime(2020, 3, 5, 0, 53, 25, 854000, tzinfo=tzlocal()), 'LastModifiedTime': datetime.datetime(2020, 3, 5, 1, 0, 19, 139000, tzinfo=tzlocal()), 'AutoMLJobStatus': 'InProgress', 'AutoMLJobSecondaryStatus': 'FeatureEngineering', 'GenerateCandidateDefinitionsOnly': False, 'AutoMLJobArtifacts': {'CandidateDefinitionNotebookLocation': 's3://sagemaker-us-east-1-835319576252/models/amazon-reviews/autopilot/automl-dm-05-00-53-23/sagemaker-automl-candidates/pr-1-01858f1904d043ecbd9122ce8a6897d540e9715fe1bb46f084070f1520/notebooks/SageMakerAutopilotCandidateDefinitionNotebook.ipynb', 'DataExplorationNotebookLocation': 's3://sagemaker-us-east-1-835319576252/models/amazon-reviews/autopilot/automl-dm-05-00-53-23/sagemaker-automl-candidates/pr-1-01858f1904d043ecbd9122ce8a6897d540e9715fe1bb46f084070f1520/notebooks/SageMakerAutopilotDataExplorationNotebook.ipynb'}, 'ResolvedAttributes': {'AutoMLJobObjective': {'MetricName': 'Accuracy'}, 'ProblemType': 'BinaryClassification', 'CompletionCriteria': {'MaxCandidates': 3, 'MaxRuntimePerTrainingJobInSeconds': 600, 'MaxAutoMLJobRuntimeInSeconds': 3600}}, 'ResponseMetadata': {'RequestId': 'd76ce2ac-3407-4012-9a03-d6694c44fe65', 'HTTPStatusCode': 200, 'HTTPHeaders': {'x-amzn-requestid': 'd76ce2ac-3407-4012-9a03-d6694c44fe65', 'content-type': 'application/x-amz-json-1.1', 'content-length': '1723', 'date': 'Thu, 05 Mar 2020 01:00:32 GMT'}, 'RetryAttempts': 0}}\n"
     ]
    }
   ],
   "source": [
    "# Sleep for a bit to ensure the AutoML job above has time to start\n",
    "import time\n",
    "time.sleep(3)\n",
    "\n",
    "job = sm.describe_auto_ml_job(AutoMLJobName=auto_ml_job_name)\n",
    "job_status = job['AutoMLJobStatus']\n",
    "job_sec_status = job['AutoMLJobSecondaryStatus']\n",
    "\n",
    "if job_status not in ('Stopped', 'Failed'):\n",
    "    while job_status in ('InProgress') and job_sec_status in ('AnalyzingData'):\n",
    "        job = sm.describe_auto_ml_job(AutoMLJobName=auto_ml_job_name)\n",
    "        job_status = job['AutoMLJobStatus']\n",
    "        job_sec_status = job['AutoMLJobSecondaryStatus']\n",
    "        print(job_status, job_sec_status)\n",
    "        sleep(30)\n",
    "    print(\"Data analysis complete\")\n",
    "    \n",
    "print(job)"
   ]
  },
  {
   "cell_type": "code",
   "execution_count": 26,
   "metadata": {},
   "outputs": [
    {
     "name": "stdout",
     "output_type": "stream",
     "text": [
      "InProgress\n",
      "FeatureEngineering\n",
      "InProgress FeatureEngineering\n",
      "InProgress FeatureEngineering\n",
      "InProgress FeatureEngineering\n",
      "InProgress FeatureEngineering\n",
      "InProgress FeatureEngineering\n",
      "InProgress FeatureEngineering\n",
      "InProgress FeatureEngineering\n",
      "InProgress FeatureEngineering\n",
      "InProgress FeatureEngineering\n",
      "InProgress FeatureEngineering\n",
      "InProgress FeatureEngineering\n",
      "InProgress FeatureEngineering\n",
      "InProgress FeatureEngineering\n",
      "InProgress FeatureEngineering\n",
      "InProgress FeatureEngineering\n",
      "InProgress ModelTuning\n",
      "Feature engineering complete\n",
      "{'AutoMLJobName': 'automl-dm-05-00-53-23', 'AutoMLJobArn': 'arn:aws:sagemaker:us-east-1:835319576252:automl-job/automl-dm-05-00-53-23', 'InputDataConfig': [{'DataSource': {'S3DataSource': {'S3DataType': 'S3Prefix', 'S3Uri': 's3://sagemaker-us-east-1-835319576252/feature-store/amazon-reviews/csv/balanced-raw-with-header/train/data.csv'}}, 'TargetAttributeName': 'is_positive_sentiment'}], 'OutputDataConfig': {'S3OutputPath': 's3://sagemaker-us-east-1-835319576252/models/amazon-reviews/autopilot'}, 'RoleArn': 'arn:aws:iam::835319576252:role/service-role/AmazonSageMaker-ExecutionRole-20191006T135881', 'AutoMLJobConfig': {'CompletionCriteria': {'MaxCandidates': 3, 'MaxRuntimePerTrainingJobInSeconds': 600, 'MaxAutoMLJobRuntimeInSeconds': 3600}}, 'CreationTime': datetime.datetime(2020, 3, 5, 0, 53, 25, 854000, tzinfo=tzlocal()), 'LastModifiedTime': datetime.datetime(2020, 3, 5, 1, 8, 34, 693000, tzinfo=tzlocal()), 'AutoMLJobStatus': 'InProgress', 'AutoMLJobSecondaryStatus': 'ModelTuning', 'GenerateCandidateDefinitionsOnly': False, 'AutoMLJobArtifacts': {'CandidateDefinitionNotebookLocation': 's3://sagemaker-us-east-1-835319576252/models/amazon-reviews/autopilot/automl-dm-05-00-53-23/sagemaker-automl-candidates/pr-1-01858f1904d043ecbd9122ce8a6897d540e9715fe1bb46f084070f1520/notebooks/SageMakerAutopilotCandidateDefinitionNotebook.ipynb', 'DataExplorationNotebookLocation': 's3://sagemaker-us-east-1-835319576252/models/amazon-reviews/autopilot/automl-dm-05-00-53-23/sagemaker-automl-candidates/pr-1-01858f1904d043ecbd9122ce8a6897d540e9715fe1bb46f084070f1520/notebooks/SageMakerAutopilotDataExplorationNotebook.ipynb'}, 'ResolvedAttributes': {'AutoMLJobObjective': {'MetricName': 'Accuracy'}, 'ProblemType': 'BinaryClassification', 'CompletionCriteria': {'MaxCandidates': 3, 'MaxRuntimePerTrainingJobInSeconds': 600, 'MaxAutoMLJobRuntimeInSeconds': 3600}}, 'ResponseMetadata': {'RequestId': 'ded74b32-e956-4c54-b600-632a90a8ea5b', 'HTTPStatusCode': 200, 'HTTPHeaders': {'x-amzn-requestid': 'ded74b32-e956-4c54-b600-632a90a8ea5b', 'content-type': 'application/x-amz-json-1.1', 'content-length': '1716', 'date': 'Thu, 05 Mar 2020 01:08:34 GMT'}, 'RetryAttempts': 0}}\n"
     ]
    }
   ],
   "source": [
    "job = sm.describe_auto_ml_job(AutoMLJobName=auto_ml_job_name)\n",
    "job_status = job['AutoMLJobStatus']\n",
    "job_sec_status = job['AutoMLJobSecondaryStatus']\n",
    "print(job_status)\n",
    "print(job_sec_status)\n",
    "if job_status not in ('Stopped', 'Failed'):\n",
    "    while job_status in ('InProgress') and job_sec_status in ('FeatureEngineering'):\n",
    "        job = sm.describe_auto_ml_job(AutoMLJobName=auto_ml_job_name)\n",
    "        job_status = job['AutoMLJobStatus']\n",
    "        job_sec_status = job['AutoMLJobSecondaryStatus']\n",
    "        print(job_status, job_sec_status)\n",
    "        sleep(30)\n",
    "    print(\"Feature engineering complete\")\n",
    "    \n",
    "print(job)"
   ]
  },
  {
   "cell_type": "code",
   "execution_count": 27,
   "metadata": {},
   "outputs": [
    {
     "name": "stdout",
     "output_type": "stream",
     "text": [
      "InProgress\n",
      "ModelTuning\n",
      "InProgress ModelTuning\n",
      "InProgress ModelTuning\n",
      "InProgress ModelTuning\n",
      "InProgress ModelTuning\n",
      "InProgress ModelTuning\n",
      "InProgress ModelTuning\n",
      "Completed MaxCandidatesReached\n",
      "Model tuning complete\n",
      "{'AutoMLJobName': 'automl-dm-05-00-53-23', 'AutoMLJobArn': 'arn:aws:sagemaker:us-east-1:835319576252:automl-job/automl-dm-05-00-53-23', 'InputDataConfig': [{'DataSource': {'S3DataSource': {'S3DataType': 'S3Prefix', 'S3Uri': 's3://sagemaker-us-east-1-835319576252/feature-store/amazon-reviews/csv/balanced-raw-with-header/train/data.csv'}}, 'TargetAttributeName': 'is_positive_sentiment'}], 'OutputDataConfig': {'S3OutputPath': 's3://sagemaker-us-east-1-835319576252/models/amazon-reviews/autopilot'}, 'RoleArn': 'arn:aws:iam::835319576252:role/service-role/AmazonSageMaker-ExecutionRole-20191006T135881', 'AutoMLJobConfig': {'CompletionCriteria': {'MaxCandidates': 3, 'MaxRuntimePerTrainingJobInSeconds': 600, 'MaxAutoMLJobRuntimeInSeconds': 3600}}, 'CreationTime': datetime.datetime(2020, 3, 5, 0, 53, 25, 854000, tzinfo=tzlocal()), 'EndTime': datetime.datetime(2020, 3, 5, 1, 11, 56, 365000, tzinfo=tzlocal()), 'LastModifiedTime': datetime.datetime(2020, 3, 5, 1, 11, 56, 393000, tzinfo=tzlocal()), 'BestCandidate': {'CandidateName': 'tuning-job-1-2504f97bd82442a9a9-001-0067a3c3', 'FinalAutoMLJobObjectiveMetric': {'MetricName': 'validation:binary_classification_accuracy', 'Value': 0.5003120303153992}, 'ObjectiveStatus': 'Succeeded', 'CandidateSteps': [{'CandidateStepType': 'AWS::SageMaker::ProcessingJob', 'CandidateStepArn': 'arn:aws:sagemaker:us-east-1:835319576252:processing-job/db-1-bdc6a20ab17f44758d34e3211a26f0c948066b0b5e844e55accd37c8f0', 'CandidateStepName': 'db-1-bdc6a20ab17f44758d34e3211a26f0c948066b0b5e844e55accd37c8f0'}, {'CandidateStepType': 'AWS::SageMaker::TrainingJob', 'CandidateStepArn': 'arn:aws:sagemaker:us-east-1:835319576252:training-job/automl-dm--dpp2-1-daec0ef2bcec4674803e30502374e376eb27de2111034', 'CandidateStepName': 'automl-dm--dpp2-1-daec0ef2bcec4674803e30502374e376eb27de2111034'}, {'CandidateStepType': 'AWS::SageMaker::TransformJob', 'CandidateStepArn': 'arn:aws:sagemaker:us-east-1:835319576252:transform-job/automl-dm--dpp2-rpb-1-fb6312fe10dc4bb68e3c17f0efd9f4491629b1767', 'CandidateStepName': 'automl-dm--dpp2-rpb-1-fb6312fe10dc4bb68e3c17f0efd9f4491629b1767'}, {'CandidateStepType': 'AWS::SageMaker::TrainingJob', 'CandidateStepArn': 'arn:aws:sagemaker:us-east-1:835319576252:training-job/tuning-job-1-2504f97bd82442a9a9-001-0067a3c3', 'CandidateStepName': 'tuning-job-1-2504f97bd82442a9a9-001-0067a3c3'}], 'CandidateStatus': 'Completed', 'InferenceContainers': [{'Image': '683313688378.dkr.ecr.us-east-1.amazonaws.com/sagemaker-sklearn-automl:0.1.0-cpu-py3', 'ModelDataUrl': 's3://sagemaker-us-east-1-835319576252/models/amazon-reviews/autopilot/automl-dm-05-00-53-23/data-processor-models/automl-dm--dpp2-1-daec0ef2bcec4674803e30502374e376eb27de2111034/output/model.tar.gz', 'Environment': {'AUTOML_TRANSFORM_MODE': 'feature-transform', 'SAGEMAKER_DEFAULT_INVOCATIONS_ACCEPT': 'application/x-recordio-protobuf', 'SAGEMAKER_PROGRAM': 'sagemaker_serve', 'SAGEMAKER_SUBMIT_DIRECTORY': '/opt/ml/model/sagemaker_serve.py'}}, {'Image': '382416733822.dkr.ecr.us-east-1.amazonaws.com/linear-learner:latest', 'ModelDataUrl': 's3://sagemaker-us-east-1-835319576252/models/amazon-reviews/autopilot/automl-dm-05-00-53-23/tuning/automl-dm--dpp2-ll/tuning-job-1-2504f97bd82442a9a9-001-0067a3c3/output/model.tar.gz', 'Environment': {'MAX_CONTENT_LENGTH': '20971520', 'SAGEMAKER_DEFAULT_INVOCATIONS_ACCEPT': 'text/csv'}}, {'Image': '683313688378.dkr.ecr.us-east-1.amazonaws.com/sagemaker-sklearn-automl:0.1.0-cpu-py3', 'ModelDataUrl': 's3://sagemaker-us-east-1-835319576252/models/amazon-reviews/autopilot/automl-dm-05-00-53-23/data-processor-models/automl-dm--dpp2-1-daec0ef2bcec4674803e30502374e376eb27de2111034/output/model.tar.gz', 'Environment': {'AUTOML_TRANSFORM_MODE': 'inverse-label-transform', 'SAGEMAKER_DEFAULT_INVOCATIONS_ACCEPT': 'text/csv', 'SAGEMAKER_PROGRAM': 'sagemaker_serve', 'SAGEMAKER_SUBMIT_DIRECTORY': '/opt/ml/model/sagemaker_serve.py'}}], 'CreationTime': datetime.datetime(2020, 3, 5, 1, 11, 55, 507000, tzinfo=tzlocal()), 'LastModifiedTime': datetime.datetime(2020, 3, 5, 1, 11, 55, 507000, tzinfo=tzlocal())}, 'AutoMLJobStatus': 'Completed', 'AutoMLJobSecondaryStatus': 'MaxCandidatesReached', 'GenerateCandidateDefinitionsOnly': False, 'AutoMLJobArtifacts': {'CandidateDefinitionNotebookLocation': 's3://sagemaker-us-east-1-835319576252/models/amazon-reviews/autopilot/automl-dm-05-00-53-23/sagemaker-automl-candidates/pr-1-01858f1904d043ecbd9122ce8a6897d540e9715fe1bb46f084070f1520/notebooks/SageMakerAutopilotCandidateDefinitionNotebook.ipynb', 'DataExplorationNotebookLocation': 's3://sagemaker-us-east-1-835319576252/models/amazon-reviews/autopilot/automl-dm-05-00-53-23/sagemaker-automl-candidates/pr-1-01858f1904d043ecbd9122ce8a6897d540e9715fe1bb46f084070f1520/notebooks/SageMakerAutopilotDataExplorationNotebook.ipynb'}, 'ResolvedAttributes': {'AutoMLJobObjective': {'MetricName': 'Accuracy'}, 'ProblemType': 'BinaryClassification', 'CompletionCriteria': {'MaxCandidates': 3, 'MaxRuntimePerTrainingJobInSeconds': 600, 'MaxAutoMLJobRuntimeInSeconds': 3600}}, 'ResponseMetadata': {'RequestId': 'f0122e7b-c02e-4d85-8fee-1c4e002e6aaa', 'HTTPStatusCode': 200, 'HTTPHeaders': {'x-amzn-requestid': 'f0122e7b-c02e-4d85-8fee-1c4e002e6aaa', 'content-type': 'application/x-amz-json-1.1', 'content-length': '4649', 'date': 'Thu, 05 Mar 2020 01:12:05 GMT'}, 'RetryAttempts': 0}}\n"
     ]
    }
   ],
   "source": [
    "job = sm.describe_auto_ml_job(AutoMLJobName=auto_ml_job_name)\n",
    "job_status = job['AutoMLJobStatus']\n",
    "job_sec_status = job['AutoMLJobSecondaryStatus']\n",
    "print(job_status)\n",
    "print(job_sec_status)\n",
    "if job_status not in ('Stopped', 'Failed'):\n",
    "    while job_status in ('InProgress') and job_sec_status in ('ModelTuning'):\n",
    "        job = sm.describe_auto_ml_job(AutoMLJobName=auto_ml_job_name)\n",
    "        job_status = job['AutoMLJobStatus']\n",
    "        job_sec_status = job['AutoMLJobSecondaryStatus']\n",
    "        print(job_status, job_sec_status)\n",
    "        sleep(30)\n",
    "    print(\"Model tuning complete\")\n",
    "    \n",
    "print(job)"
   ]
  },
  {
   "cell_type": "markdown",
   "metadata": {},
   "source": [
    "### Viewing all candidates explored by SageMaker AutoPilot\n",
    "Once model tuning is complete, you can view all the candidates (pipeline evaluations with different hyperparameter combinations) that were explored by AutoML and sort them by their final performance metric."
   ]
  },
  {
   "cell_type": "code",
   "execution_count": 28,
   "metadata": {},
   "outputs": [
    {
     "name": "stdout",
     "output_type": "stream",
     "text": [
      "0  tuning-job-1-2504f97bd82442a9a9-001-0067a3c3  0.5003120303153992\n",
      "1  tuning-job-1-2504f97bd82442a9a9-002-03db27a4  0.4996879994869232\n",
      "2  tuning-job-1-2504f97bd82442a9a9-003-ac57e879  0.4996879994869232\n"
     ]
    }
   ],
   "source": [
    "candidates = sm.list_candidates_for_auto_ml_job(AutoMLJobName=auto_ml_job_name, \n",
    "                                                SortBy='FinalObjectiveMetricValue')['Candidates']\n",
    "for index, candidate in enumerate(candidates):\n",
    "    print(str(index) + \"  \" \n",
    "        + candidate['CandidateName'] + \"  \" \n",
    "        + str(candidate['FinalAutoMLJobObjectiveMetric']['Value']))"
   ]
  },
  {
   "cell_type": "markdown",
   "metadata": {},
   "source": [
    "## Inspect SageMaker AutoPilot trials with Amazon SageMaker Experiments\n",
    "SageMaker AutoPilot automatically creates a new experiment, and pushes information for each trial. "
   ]
  },
  {
   "cell_type": "code",
   "execution_count": 29,
   "metadata": {},
   "outputs": [
    {
     "data": {
      "text/html": [
       "<div>\n",
       "<style scoped>\n",
       "    .dataframe tbody tr th:only-of-type {\n",
       "        vertical-align: middle;\n",
       "    }\n",
       "\n",
       "    .dataframe tbody tr th {\n",
       "        vertical-align: top;\n",
       "    }\n",
       "\n",
       "    .dataframe thead th {\n",
       "        text-align: right;\n",
       "    }\n",
       "</style>\n",
       "<table border=\"1\" class=\"dataframe\">\n",
       "  <thead>\n",
       "    <tr style=\"text-align: right;\">\n",
       "      <th></th>\n",
       "      <th>TrialComponentName</th>\n",
       "      <th>DisplayName</th>\n",
       "      <th>SourceArn</th>\n",
       "      <th>SageMaker.ImageUri</th>\n",
       "      <th>SageMaker.InstanceCount</th>\n",
       "      <th>SageMaker.InstanceType</th>\n",
       "      <th>SageMaker.VolumeSizeInGB</th>\n",
       "      <th>_tuning_objective_metric</th>\n",
       "      <th>alpha</th>\n",
       "      <th>colsample_bytree</th>\n",
       "      <th>...</th>\n",
       "      <th>validation:binary_f_beta - Count</th>\n",
       "      <th>SageMaker.ModelName</th>\n",
       "      <th>SageMaker.ModelPrimary.DataUrl</th>\n",
       "      <th>SageMaker.ModelPrimary.Image</th>\n",
       "      <th>processor_module</th>\n",
       "      <th>sagemaker_program</th>\n",
       "      <th>sagemaker_submit_directory</th>\n",
       "      <th>input_channel_mode</th>\n",
       "      <th>job_name</th>\n",
       "      <th>label_col</th>\n",
       "    </tr>\n",
       "  </thead>\n",
       "  <tbody>\n",
       "    <tr>\n",
       "      <th>0</th>\n",
       "      <td>tuning-job-1-2504f97bd82442a9a9-002-03db27a4-a...</td>\n",
       "      <td>tuning-job-1-2504f97bd82442a9a9-002-03db27a4-a...</td>\n",
       "      <td>arn:aws:sagemaker:us-east-1:835319576252:train...</td>\n",
       "      <td>683313688378.dkr.ecr.us-east-1.amazonaws.com/s...</td>\n",
       "      <td>1.0</td>\n",
       "      <td>ml.m5.4xlarge</td>\n",
       "      <td>50.0</td>\n",
       "      <td>validation:accuracy</td>\n",
       "      <td>0.538189</td>\n",
       "      <td>0.840489</td>\n",
       "      <td>...</td>\n",
       "      <td>NaN</td>\n",
       "      <td>NaN</td>\n",
       "      <td>NaN</td>\n",
       "      <td>NaN</td>\n",
       "      <td>NaN</td>\n",
       "      <td>NaN</td>\n",
       "      <td>NaN</td>\n",
       "      <td>NaN</td>\n",
       "      <td>NaN</td>\n",
       "      <td>NaN</td>\n",
       "    </tr>\n",
       "    <tr>\n",
       "      <th>1</th>\n",
       "      <td>tuning-job-1-2504f97bd82442a9a9-001-0067a3c3-a...</td>\n",
       "      <td>tuning-job-1-2504f97bd82442a9a9-001-0067a3c3-a...</td>\n",
       "      <td>arn:aws:sagemaker:us-east-1:835319576252:train...</td>\n",
       "      <td>382416733822.dkr.ecr.us-east-1.amazonaws.com/l...</td>\n",
       "      <td>1.0</td>\n",
       "      <td>ml.m5.4xlarge</td>\n",
       "      <td>50.0</td>\n",
       "      <td>validation:binary_classification_accuracy</td>\n",
       "      <td>NaN</td>\n",
       "      <td>NaN</td>\n",
       "      <td>...</td>\n",
       "      <td>1.0</td>\n",
       "      <td>NaN</td>\n",
       "      <td>NaN</td>\n",
       "      <td>NaN</td>\n",
       "      <td>NaN</td>\n",
       "      <td>NaN</td>\n",
       "      <td>NaN</td>\n",
       "      <td>NaN</td>\n",
       "      <td>NaN</td>\n",
       "      <td>NaN</td>\n",
       "    </tr>\n",
       "    <tr>\n",
       "      <th>2</th>\n",
       "      <td>tuning-job-1-2504f97bd82442a9a9-003-ac57e879-a...</td>\n",
       "      <td>tuning-job-1-2504f97bd82442a9a9-003-ac57e879-a...</td>\n",
       "      <td>arn:aws:sagemaker:us-east-1:835319576252:train...</td>\n",
       "      <td>683313688378.dkr.ecr.us-east-1.amazonaws.com/s...</td>\n",
       "      <td>1.0</td>\n",
       "      <td>ml.m5.4xlarge</td>\n",
       "      <td>50.0</td>\n",
       "      <td>validation:accuracy</td>\n",
       "      <td>0.538189</td>\n",
       "      <td>0.840489</td>\n",
       "      <td>...</td>\n",
       "      <td>NaN</td>\n",
       "      <td>NaN</td>\n",
       "      <td>NaN</td>\n",
       "      <td>NaN</td>\n",
       "      <td>NaN</td>\n",
       "      <td>NaN</td>\n",
       "      <td>NaN</td>\n",
       "      <td>NaN</td>\n",
       "      <td>NaN</td>\n",
       "      <td>NaN</td>\n",
       "    </tr>\n",
       "    <tr>\n",
       "      <th>3</th>\n",
       "      <td>automl-dm--dpp1-csv-1-faee8d25d9e34a99a4627e44...</td>\n",
       "      <td>automl-dm--dpp1-csv-1-faee8d25d9e34a99a4627e44...</td>\n",
       "      <td>arn:aws:sagemaker:us-east-1:835319576252:trans...</td>\n",
       "      <td>NaN</td>\n",
       "      <td>1.0</td>\n",
       "      <td>ml.m5.4xlarge</td>\n",
       "      <td>NaN</td>\n",
       "      <td>NaN</td>\n",
       "      <td>NaN</td>\n",
       "      <td>NaN</td>\n",
       "      <td>...</td>\n",
       "      <td>NaN</td>\n",
       "      <td>automl-dm-05-00-53-23-automl-dm--dpp1-model-a4...</td>\n",
       "      <td>s3://sagemaker-us-east-1-835319576252/models/a...</td>\n",
       "      <td>683313688378.dkr.ecr.us-east-1.amazonaws.com/s...</td>\n",
       "      <td>NaN</td>\n",
       "      <td>NaN</td>\n",
       "      <td>NaN</td>\n",
       "      <td>NaN</td>\n",
       "      <td>NaN</td>\n",
       "      <td>NaN</td>\n",
       "    </tr>\n",
       "    <tr>\n",
       "      <th>4</th>\n",
       "      <td>automl-dm--dpp0-rpb-1-64783d1075b24cb3a0bfcf58...</td>\n",
       "      <td>automl-dm--dpp0-rpb-1-64783d1075b24cb3a0bfcf58...</td>\n",
       "      <td>arn:aws:sagemaker:us-east-1:835319576252:trans...</td>\n",
       "      <td>NaN</td>\n",
       "      <td>1.0</td>\n",
       "      <td>ml.m5.4xlarge</td>\n",
       "      <td>NaN</td>\n",
       "      <td>NaN</td>\n",
       "      <td>NaN</td>\n",
       "      <td>NaN</td>\n",
       "      <td>...</td>\n",
       "      <td>NaN</td>\n",
       "      <td>automl-dm-05-00-53-23-automl-dm--dpp0-model-4f...</td>\n",
       "      <td>s3://sagemaker-us-east-1-835319576252/models/a...</td>\n",
       "      <td>683313688378.dkr.ecr.us-east-1.amazonaws.com/s...</td>\n",
       "      <td>NaN</td>\n",
       "      <td>NaN</td>\n",
       "      <td>NaN</td>\n",
       "      <td>NaN</td>\n",
       "      <td>NaN</td>\n",
       "      <td>NaN</td>\n",
       "    </tr>\n",
       "    <tr>\n",
       "      <th>5</th>\n",
       "      <td>automl-dm--dpp2-rpb-1-fb6312fe10dc4bb68e3c17f0...</td>\n",
       "      <td>automl-dm--dpp2-rpb-1-fb6312fe10dc4bb68e3c17f0...</td>\n",
       "      <td>arn:aws:sagemaker:us-east-1:835319576252:trans...</td>\n",
       "      <td>NaN</td>\n",
       "      <td>1.0</td>\n",
       "      <td>ml.m5.4xlarge</td>\n",
       "      <td>NaN</td>\n",
       "      <td>NaN</td>\n",
       "      <td>NaN</td>\n",
       "      <td>NaN</td>\n",
       "      <td>...</td>\n",
       "      <td>NaN</td>\n",
       "      <td>automl-dm-05-00-53-23-automl-dm--dpp2-model-b7...</td>\n",
       "      <td>s3://sagemaker-us-east-1-835319576252/models/a...</td>\n",
       "      <td>683313688378.dkr.ecr.us-east-1.amazonaws.com/s...</td>\n",
       "      <td>NaN</td>\n",
       "      <td>NaN</td>\n",
       "      <td>NaN</td>\n",
       "      <td>NaN</td>\n",
       "      <td>NaN</td>\n",
       "      <td>NaN</td>\n",
       "    </tr>\n",
       "    <tr>\n",
       "      <th>6</th>\n",
       "      <td>automl-dm--dpp1-1-d9dca7b83fa24a3f8f5ea88356b4...</td>\n",
       "      <td>automl-dm--dpp1-1-d9dca7b83fa24a3f8f5ea88356b4...</td>\n",
       "      <td>arn:aws:sagemaker:us-east-1:835319576252:train...</td>\n",
       "      <td>683313688378.dkr.ecr.us-east-1.amazonaws.com/s...</td>\n",
       "      <td>1.0</td>\n",
       "      <td>ml.m5.4xlarge</td>\n",
       "      <td>50.0</td>\n",
       "      <td>NaN</td>\n",
       "      <td>NaN</td>\n",
       "      <td>NaN</td>\n",
       "      <td>...</td>\n",
       "      <td>NaN</td>\n",
       "      <td>NaN</td>\n",
       "      <td>NaN</td>\n",
       "      <td>NaN</td>\n",
       "      <td>candidate_data_processors.dpp1</td>\n",
       "      <td>candidate_data_processors.trainer</td>\n",
       "      <td>/opt/ml/input/data/code</td>\n",
       "      <td>NaN</td>\n",
       "      <td>NaN</td>\n",
       "      <td>NaN</td>\n",
       "    </tr>\n",
       "    <tr>\n",
       "      <th>7</th>\n",
       "      <td>automl-dm--dpp2-1-daec0ef2bcec4674803e30502374...</td>\n",
       "      <td>automl-dm--dpp2-1-daec0ef2bcec4674803e30502374...</td>\n",
       "      <td>arn:aws:sagemaker:us-east-1:835319576252:train...</td>\n",
       "      <td>683313688378.dkr.ecr.us-east-1.amazonaws.com/s...</td>\n",
       "      <td>1.0</td>\n",
       "      <td>ml.m5.4xlarge</td>\n",
       "      <td>50.0</td>\n",
       "      <td>NaN</td>\n",
       "      <td>NaN</td>\n",
       "      <td>NaN</td>\n",
       "      <td>...</td>\n",
       "      <td>NaN</td>\n",
       "      <td>NaN</td>\n",
       "      <td>NaN</td>\n",
       "      <td>NaN</td>\n",
       "      <td>candidate_data_processors.dpp2</td>\n",
       "      <td>candidate_data_processors.trainer</td>\n",
       "      <td>/opt/ml/input/data/code</td>\n",
       "      <td>NaN</td>\n",
       "      <td>NaN</td>\n",
       "      <td>NaN</td>\n",
       "    </tr>\n",
       "    <tr>\n",
       "      <th>8</th>\n",
       "      <td>automl-dm--dpp0-1-cf56b610f2414d139e35710a6f25...</td>\n",
       "      <td>automl-dm--dpp0-1-cf56b610f2414d139e35710a6f25...</td>\n",
       "      <td>arn:aws:sagemaker:us-east-1:835319576252:train...</td>\n",
       "      <td>683313688378.dkr.ecr.us-east-1.amazonaws.com/s...</td>\n",
       "      <td>1.0</td>\n",
       "      <td>ml.m5.4xlarge</td>\n",
       "      <td>50.0</td>\n",
       "      <td>NaN</td>\n",
       "      <td>NaN</td>\n",
       "      <td>NaN</td>\n",
       "      <td>...</td>\n",
       "      <td>NaN</td>\n",
       "      <td>NaN</td>\n",
       "      <td>NaN</td>\n",
       "      <td>NaN</td>\n",
       "      <td>candidate_data_processors.dpp0</td>\n",
       "      <td>candidate_data_processors.trainer</td>\n",
       "      <td>/opt/ml/input/data/code</td>\n",
       "      <td>NaN</td>\n",
       "      <td>NaN</td>\n",
       "      <td>NaN</td>\n",
       "    </tr>\n",
       "    <tr>\n",
       "      <th>9</th>\n",
       "      <td>db-1-bdc6a20ab17f44758d34e3211a26f0c948066b0b5...</td>\n",
       "      <td>db-1-bdc6a20ab17f44758d34e3211a26f0c948066b0b5...</td>\n",
       "      <td>arn:aws:sagemaker:us-east-1:835319576252:proce...</td>\n",
       "      <td>NaN</td>\n",
       "      <td>1.0</td>\n",
       "      <td>ml.m5.2xlarge</td>\n",
       "      <td>250.0</td>\n",
       "      <td>NaN</td>\n",
       "      <td>NaN</td>\n",
       "      <td>NaN</td>\n",
       "      <td>...</td>\n",
       "      <td>NaN</td>\n",
       "      <td>NaN</td>\n",
       "      <td>NaN</td>\n",
       "      <td>NaN</td>\n",
       "      <td>NaN</td>\n",
       "      <td>NaN</td>\n",
       "      <td>NaN</td>\n",
       "      <td>Pipe</td>\n",
       "      <td>automl-dm-05-00-53-23</td>\n",
       "      <td>is_positive_sentiment</td>\n",
       "    </tr>\n",
       "  </tbody>\n",
       "</table>\n",
       "<p>10 rows × 114 columns</p>\n",
       "</div>"
      ],
      "text/plain": [
       "                                  TrialComponentName  \\\n",
       "0  tuning-job-1-2504f97bd82442a9a9-002-03db27a4-a...   \n",
       "1  tuning-job-1-2504f97bd82442a9a9-001-0067a3c3-a...   \n",
       "2  tuning-job-1-2504f97bd82442a9a9-003-ac57e879-a...   \n",
       "3  automl-dm--dpp1-csv-1-faee8d25d9e34a99a4627e44...   \n",
       "4  automl-dm--dpp0-rpb-1-64783d1075b24cb3a0bfcf58...   \n",
       "5  automl-dm--dpp2-rpb-1-fb6312fe10dc4bb68e3c17f0...   \n",
       "6  automl-dm--dpp1-1-d9dca7b83fa24a3f8f5ea88356b4...   \n",
       "7  automl-dm--dpp2-1-daec0ef2bcec4674803e30502374...   \n",
       "8  automl-dm--dpp0-1-cf56b610f2414d139e35710a6f25...   \n",
       "9  db-1-bdc6a20ab17f44758d34e3211a26f0c948066b0b5...   \n",
       "\n",
       "                                         DisplayName  \\\n",
       "0  tuning-job-1-2504f97bd82442a9a9-002-03db27a4-a...   \n",
       "1  tuning-job-1-2504f97bd82442a9a9-001-0067a3c3-a...   \n",
       "2  tuning-job-1-2504f97bd82442a9a9-003-ac57e879-a...   \n",
       "3  automl-dm--dpp1-csv-1-faee8d25d9e34a99a4627e44...   \n",
       "4  automl-dm--dpp0-rpb-1-64783d1075b24cb3a0bfcf58...   \n",
       "5  automl-dm--dpp2-rpb-1-fb6312fe10dc4bb68e3c17f0...   \n",
       "6  automl-dm--dpp1-1-d9dca7b83fa24a3f8f5ea88356b4...   \n",
       "7  automl-dm--dpp2-1-daec0ef2bcec4674803e30502374...   \n",
       "8  automl-dm--dpp0-1-cf56b610f2414d139e35710a6f25...   \n",
       "9  db-1-bdc6a20ab17f44758d34e3211a26f0c948066b0b5...   \n",
       "\n",
       "                                           SourceArn  \\\n",
       "0  arn:aws:sagemaker:us-east-1:835319576252:train...   \n",
       "1  arn:aws:sagemaker:us-east-1:835319576252:train...   \n",
       "2  arn:aws:sagemaker:us-east-1:835319576252:train...   \n",
       "3  arn:aws:sagemaker:us-east-1:835319576252:trans...   \n",
       "4  arn:aws:sagemaker:us-east-1:835319576252:trans...   \n",
       "5  arn:aws:sagemaker:us-east-1:835319576252:trans...   \n",
       "6  arn:aws:sagemaker:us-east-1:835319576252:train...   \n",
       "7  arn:aws:sagemaker:us-east-1:835319576252:train...   \n",
       "8  arn:aws:sagemaker:us-east-1:835319576252:train...   \n",
       "9  arn:aws:sagemaker:us-east-1:835319576252:proce...   \n",
       "\n",
       "                                  SageMaker.ImageUri  SageMaker.InstanceCount  \\\n",
       "0  683313688378.dkr.ecr.us-east-1.amazonaws.com/s...                      1.0   \n",
       "1  382416733822.dkr.ecr.us-east-1.amazonaws.com/l...                      1.0   \n",
       "2  683313688378.dkr.ecr.us-east-1.amazonaws.com/s...                      1.0   \n",
       "3                                                NaN                      1.0   \n",
       "4                                                NaN                      1.0   \n",
       "5                                                NaN                      1.0   \n",
       "6  683313688378.dkr.ecr.us-east-1.amazonaws.com/s...                      1.0   \n",
       "7  683313688378.dkr.ecr.us-east-1.amazonaws.com/s...                      1.0   \n",
       "8  683313688378.dkr.ecr.us-east-1.amazonaws.com/s...                      1.0   \n",
       "9                                                NaN                      1.0   \n",
       "\n",
       "  SageMaker.InstanceType  SageMaker.VolumeSizeInGB  \\\n",
       "0          ml.m5.4xlarge                      50.0   \n",
       "1          ml.m5.4xlarge                      50.0   \n",
       "2          ml.m5.4xlarge                      50.0   \n",
       "3          ml.m5.4xlarge                       NaN   \n",
       "4          ml.m5.4xlarge                       NaN   \n",
       "5          ml.m5.4xlarge                       NaN   \n",
       "6          ml.m5.4xlarge                      50.0   \n",
       "7          ml.m5.4xlarge                      50.0   \n",
       "8          ml.m5.4xlarge                      50.0   \n",
       "9          ml.m5.2xlarge                     250.0   \n",
       "\n",
       "                    _tuning_objective_metric     alpha  colsample_bytree  ...  \\\n",
       "0                        validation:accuracy  0.538189          0.840489  ...   \n",
       "1  validation:binary_classification_accuracy       NaN               NaN  ...   \n",
       "2                        validation:accuracy  0.538189          0.840489  ...   \n",
       "3                                        NaN       NaN               NaN  ...   \n",
       "4                                        NaN       NaN               NaN  ...   \n",
       "5                                        NaN       NaN               NaN  ...   \n",
       "6                                        NaN       NaN               NaN  ...   \n",
       "7                                        NaN       NaN               NaN  ...   \n",
       "8                                        NaN       NaN               NaN  ...   \n",
       "9                                        NaN       NaN               NaN  ...   \n",
       "\n",
       "   validation:binary_f_beta - Count  \\\n",
       "0                               NaN   \n",
       "1                               1.0   \n",
       "2                               NaN   \n",
       "3                               NaN   \n",
       "4                               NaN   \n",
       "5                               NaN   \n",
       "6                               NaN   \n",
       "7                               NaN   \n",
       "8                               NaN   \n",
       "9                               NaN   \n",
       "\n",
       "                                 SageMaker.ModelName  \\\n",
       "0                                                NaN   \n",
       "1                                                NaN   \n",
       "2                                                NaN   \n",
       "3  automl-dm-05-00-53-23-automl-dm--dpp1-model-a4...   \n",
       "4  automl-dm-05-00-53-23-automl-dm--dpp0-model-4f...   \n",
       "5  automl-dm-05-00-53-23-automl-dm--dpp2-model-b7...   \n",
       "6                                                NaN   \n",
       "7                                                NaN   \n",
       "8                                                NaN   \n",
       "9                                                NaN   \n",
       "\n",
       "                      SageMaker.ModelPrimary.DataUrl  \\\n",
       "0                                                NaN   \n",
       "1                                                NaN   \n",
       "2                                                NaN   \n",
       "3  s3://sagemaker-us-east-1-835319576252/models/a...   \n",
       "4  s3://sagemaker-us-east-1-835319576252/models/a...   \n",
       "5  s3://sagemaker-us-east-1-835319576252/models/a...   \n",
       "6                                                NaN   \n",
       "7                                                NaN   \n",
       "8                                                NaN   \n",
       "9                                                NaN   \n",
       "\n",
       "                        SageMaker.ModelPrimary.Image  \\\n",
       "0                                                NaN   \n",
       "1                                                NaN   \n",
       "2                                                NaN   \n",
       "3  683313688378.dkr.ecr.us-east-1.amazonaws.com/s...   \n",
       "4  683313688378.dkr.ecr.us-east-1.amazonaws.com/s...   \n",
       "5  683313688378.dkr.ecr.us-east-1.amazonaws.com/s...   \n",
       "6                                                NaN   \n",
       "7                                                NaN   \n",
       "8                                                NaN   \n",
       "9                                                NaN   \n",
       "\n",
       "                 processor_module                  sagemaker_program  \\\n",
       "0                             NaN                                NaN   \n",
       "1                             NaN                                NaN   \n",
       "2                             NaN                                NaN   \n",
       "3                             NaN                                NaN   \n",
       "4                             NaN                                NaN   \n",
       "5                             NaN                                NaN   \n",
       "6  candidate_data_processors.dpp1  candidate_data_processors.trainer   \n",
       "7  candidate_data_processors.dpp2  candidate_data_processors.trainer   \n",
       "8  candidate_data_processors.dpp0  candidate_data_processors.trainer   \n",
       "9                             NaN                                NaN   \n",
       "\n",
       "  sagemaker_submit_directory  input_channel_mode               job_name  \\\n",
       "0                        NaN                 NaN                    NaN   \n",
       "1                        NaN                 NaN                    NaN   \n",
       "2                        NaN                 NaN                    NaN   \n",
       "3                        NaN                 NaN                    NaN   \n",
       "4                        NaN                 NaN                    NaN   \n",
       "5                        NaN                 NaN                    NaN   \n",
       "6    /opt/ml/input/data/code                 NaN                    NaN   \n",
       "7    /opt/ml/input/data/code                 NaN                    NaN   \n",
       "8    /opt/ml/input/data/code                 NaN                    NaN   \n",
       "9                        NaN                Pipe  automl-dm-05-00-53-23   \n",
       "\n",
       "               label_col  \n",
       "0                    NaN  \n",
       "1                    NaN  \n",
       "2                    NaN  \n",
       "3                    NaN  \n",
       "4                    NaN  \n",
       "5                    NaN  \n",
       "6                    NaN  \n",
       "7                    NaN  \n",
       "8                    NaN  \n",
       "9  is_positive_sentiment  \n",
       "\n",
       "[10 rows x 114 columns]"
      ]
     },
     "execution_count": 29,
     "metadata": {},
     "output_type": "execute_result"
    }
   ],
   "source": [
    "from sagemaker.analytics import ExperimentAnalytics, TrainingJobAnalytics\n",
    "\n",
    "exp = ExperimentAnalytics(\n",
    "    sagemaker_session=sess, \n",
    "    experiment_name=auto_ml_job_name + '-aws-auto-ml-job',\n",
    ")\n",
    "\n",
    "df = exp.dataframe()\n",
    "df"
   ]
  },
  {
   "cell_type": "markdown",
   "metadata": {},
   "source": [
    "## Viewing notebooks generated by SageMaker AutoPilot\n",
    "Once data analysis is complete, SageMaker AutoPilot generates two notebooks: \n",
    "* Data exploration,\n",
    "* Candidate definition."
   ]
  },
  {
   "cell_type": "code",
   "execution_count": 30,
   "metadata": {},
   "outputs": [
    {
     "name": "stdout",
     "output_type": "stream",
     "text": [
      "{'AutoMLJobName': 'automl-dm-05-00-53-23', 'AutoMLJobArn': 'arn:aws:sagemaker:us-east-1:835319576252:automl-job/automl-dm-05-00-53-23', 'InputDataConfig': [{'DataSource': {'S3DataSource': {'S3DataType': 'S3Prefix', 'S3Uri': 's3://sagemaker-us-east-1-835319576252/feature-store/amazon-reviews/csv/balanced-raw-with-header/train/data.csv'}}, 'TargetAttributeName': 'is_positive_sentiment'}], 'OutputDataConfig': {'S3OutputPath': 's3://sagemaker-us-east-1-835319576252/models/amazon-reviews/autopilot'}, 'RoleArn': 'arn:aws:iam::835319576252:role/service-role/AmazonSageMaker-ExecutionRole-20191006T135881', 'AutoMLJobConfig': {'CompletionCriteria': {'MaxCandidates': 3, 'MaxRuntimePerTrainingJobInSeconds': 600, 'MaxAutoMLJobRuntimeInSeconds': 3600}}, 'CreationTime': datetime.datetime(2020, 3, 5, 0, 53, 25, 854000, tzinfo=tzlocal()), 'EndTime': datetime.datetime(2020, 3, 5, 1, 11, 56, 365000, tzinfo=tzlocal()), 'LastModifiedTime': datetime.datetime(2020, 3, 5, 1, 11, 56, 393000, tzinfo=tzlocal()), 'BestCandidate': {'CandidateName': 'tuning-job-1-2504f97bd82442a9a9-001-0067a3c3', 'FinalAutoMLJobObjectiveMetric': {'MetricName': 'validation:binary_classification_accuracy', 'Value': 0.5003120303153992}, 'ObjectiveStatus': 'Succeeded', 'CandidateSteps': [{'CandidateStepType': 'AWS::SageMaker::ProcessingJob', 'CandidateStepArn': 'arn:aws:sagemaker:us-east-1:835319576252:processing-job/db-1-bdc6a20ab17f44758d34e3211a26f0c948066b0b5e844e55accd37c8f0', 'CandidateStepName': 'db-1-bdc6a20ab17f44758d34e3211a26f0c948066b0b5e844e55accd37c8f0'}, {'CandidateStepType': 'AWS::SageMaker::TrainingJob', 'CandidateStepArn': 'arn:aws:sagemaker:us-east-1:835319576252:training-job/automl-dm--dpp2-1-daec0ef2bcec4674803e30502374e376eb27de2111034', 'CandidateStepName': 'automl-dm--dpp2-1-daec0ef2bcec4674803e30502374e376eb27de2111034'}, {'CandidateStepType': 'AWS::SageMaker::TransformJob', 'CandidateStepArn': 'arn:aws:sagemaker:us-east-1:835319576252:transform-job/automl-dm--dpp2-rpb-1-fb6312fe10dc4bb68e3c17f0efd9f4491629b1767', 'CandidateStepName': 'automl-dm--dpp2-rpb-1-fb6312fe10dc4bb68e3c17f0efd9f4491629b1767'}, {'CandidateStepType': 'AWS::SageMaker::TrainingJob', 'CandidateStepArn': 'arn:aws:sagemaker:us-east-1:835319576252:training-job/tuning-job-1-2504f97bd82442a9a9-001-0067a3c3', 'CandidateStepName': 'tuning-job-1-2504f97bd82442a9a9-001-0067a3c3'}], 'CandidateStatus': 'Completed', 'InferenceContainers': [{'Image': '683313688378.dkr.ecr.us-east-1.amazonaws.com/sagemaker-sklearn-automl:0.1.0-cpu-py3', 'ModelDataUrl': 's3://sagemaker-us-east-1-835319576252/models/amazon-reviews/autopilot/automl-dm-05-00-53-23/data-processor-models/automl-dm--dpp2-1-daec0ef2bcec4674803e30502374e376eb27de2111034/output/model.tar.gz', 'Environment': {'AUTOML_TRANSFORM_MODE': 'feature-transform', 'SAGEMAKER_DEFAULT_INVOCATIONS_ACCEPT': 'application/x-recordio-protobuf', 'SAGEMAKER_PROGRAM': 'sagemaker_serve', 'SAGEMAKER_SUBMIT_DIRECTORY': '/opt/ml/model/sagemaker_serve.py'}}, {'Image': '382416733822.dkr.ecr.us-east-1.amazonaws.com/linear-learner:latest', 'ModelDataUrl': 's3://sagemaker-us-east-1-835319576252/models/amazon-reviews/autopilot/automl-dm-05-00-53-23/tuning/automl-dm--dpp2-ll/tuning-job-1-2504f97bd82442a9a9-001-0067a3c3/output/model.tar.gz', 'Environment': {'MAX_CONTENT_LENGTH': '20971520', 'SAGEMAKER_DEFAULT_INVOCATIONS_ACCEPT': 'text/csv'}}, {'Image': '683313688378.dkr.ecr.us-east-1.amazonaws.com/sagemaker-sklearn-automl:0.1.0-cpu-py3', 'ModelDataUrl': 's3://sagemaker-us-east-1-835319576252/models/amazon-reviews/autopilot/automl-dm-05-00-53-23/data-processor-models/automl-dm--dpp2-1-daec0ef2bcec4674803e30502374e376eb27de2111034/output/model.tar.gz', 'Environment': {'AUTOML_TRANSFORM_MODE': 'inverse-label-transform', 'SAGEMAKER_DEFAULT_INVOCATIONS_ACCEPT': 'text/csv', 'SAGEMAKER_PROGRAM': 'sagemaker_serve', 'SAGEMAKER_SUBMIT_DIRECTORY': '/opt/ml/model/sagemaker_serve.py'}}], 'CreationTime': datetime.datetime(2020, 3, 5, 1, 11, 55, 507000, tzinfo=tzlocal()), 'LastModifiedTime': datetime.datetime(2020, 3, 5, 1, 11, 55, 507000, tzinfo=tzlocal())}, 'AutoMLJobStatus': 'Completed', 'AutoMLJobSecondaryStatus': 'MaxCandidatesReached', 'GenerateCandidateDefinitionsOnly': False, 'AutoMLJobArtifacts': {'CandidateDefinitionNotebookLocation': 's3://sagemaker-us-east-1-835319576252/models/amazon-reviews/autopilot/automl-dm-05-00-53-23/sagemaker-automl-candidates/pr-1-01858f1904d043ecbd9122ce8a6897d540e9715fe1bb46f084070f1520/notebooks/SageMakerAutopilotCandidateDefinitionNotebook.ipynb', 'DataExplorationNotebookLocation': 's3://sagemaker-us-east-1-835319576252/models/amazon-reviews/autopilot/automl-dm-05-00-53-23/sagemaker-automl-candidates/pr-1-01858f1904d043ecbd9122ce8a6897d540e9715fe1bb46f084070f1520/notebooks/SageMakerAutopilotDataExplorationNotebook.ipynb'}, 'ResolvedAttributes': {'AutoMLJobObjective': {'MetricName': 'Accuracy'}, 'ProblemType': 'BinaryClassification', 'CompletionCriteria': {'MaxCandidates': 3, 'MaxRuntimePerTrainingJobInSeconds': 600, 'MaxAutoMLJobRuntimeInSeconds': 3600}}, 'ResponseMetadata': {'RequestId': '04df6cc9-ee36-4037-b1a8-16d336da58ea', 'HTTPStatusCode': 200, 'HTTPHeaders': {'x-amzn-requestid': '04df6cc9-ee36-4037-b1a8-16d336da58ea', 'content-type': 'application/x-amz-json-1.1', 'content-length': '4649', 'date': 'Thu, 05 Mar 2020 01:12:35 GMT'}, 'RetryAttempts': 0}}\n"
     ]
    }
   ],
   "source": [
    "job = sm.describe_auto_ml_job(AutoMLJobName=auto_ml_job_name)\n",
    "print(job)"
   ]
  },
  {
   "cell_type": "markdown",
   "metadata": {},
   "source": [
    "### Let's copy all of the generated resources including the two notebooks."
   ]
  },
  {
   "cell_type": "code",
   "execution_count": 31,
   "metadata": {},
   "outputs": [
    {
     "data": {
      "text/plain": [
       "'s3://sagemaker-us-east-1-835319576252/models/amazon-reviews/autopilot/automl-dm-05-00-53-23/sagemaker-automl-candidates/pr-1-01858f1904d043ecbd9122ce8a6897d540e9715fe1bb46f084070f1520'"
      ]
     },
     "execution_count": 31,
     "metadata": {},
     "output_type": "execute_result"
    }
   ],
   "source": [
    "generated_resources = job['AutoMLJobArtifacts']['DataExplorationNotebookLocation'].rstrip('notebooks/SageMakerAutopilotDataExplorationNotebook.ipynb')\n",
    "generated_resources"
   ]
  },
  {
   "cell_type": "code",
   "execution_count": 32,
   "metadata": {},
   "outputs": [
    {
     "name": "stdout",
     "output_type": "stream",
     "text": [
      "download: s3://sagemaker-us-east-1-835319576252/models/amazon-reviews/autopilot/automl-dm-05-00-53-23/sagemaker-automl-candidates/pr-1-01858f1904d043ecbd9122ce8a6897d540e9715fe1bb46f084070f1520/generated_module/MANIFEST.in to generated_module/MANIFEST.in\n",
      "download: s3://sagemaker-us-east-1-835319576252/models/amazon-reviews/autopilot/automl-dm-05-00-53-23/sagemaker-automl-candidates/pr-1-01858f1904d043ecbd9122ce8a6897d540e9715fe1bb46f084070f1520/generated_module/candidate_data_processors/trainer.py to generated_module/candidate_data_processors/trainer.py\n",
      "download: s3://sagemaker-us-east-1-835319576252/models/amazon-reviews/autopilot/automl-dm-05-00-53-23/sagemaker-automl-candidates/pr-1-01858f1904d043ecbd9122ce8a6897d540e9715fe1bb46f084070f1520/generated_module/candidate_data_processors/sagemaker_serve.py to generated_module/candidate_data_processors/sagemaker_serve.py\n",
      "download: s3://sagemaker-us-east-1-835319576252/models/amazon-reviews/autopilot/automl-dm-05-00-53-23/sagemaker-automl-candidates/pr-1-01858f1904d043ecbd9122ce8a6897d540e9715fe1bb46f084070f1520/generated_module/setup.py to generated_module/setup.py\n",
      "download: s3://sagemaker-us-east-1-835319576252/models/amazon-reviews/autopilot/automl-dm-05-00-53-23/sagemaker-automl-candidates/pr-1-01858f1904d043ecbd9122ce8a6897d540e9715fe1bb46f084070f1520/notebooks/SageMakerAutopilotCandidateDefinitionNotebook.ipynb to notebooks/SageMakerAutopilotCandidateDefinitionNotebook.ipynb\n",
      "download: s3://sagemaker-us-east-1-835319576252/models/amazon-reviews/autopilot/automl-dm-05-00-53-23/sagemaker-automl-candidates/pr-1-01858f1904d043ecbd9122ce8a6897d540e9715fe1bb46f084070f1520/notebooks/SageMakerAutopilotDataExplorationNotebook.ipynb to notebooks/SageMakerAutopilotDataExplorationNotebook.ipynb\n",
      "download: s3://sagemaker-us-east-1-835319576252/models/amazon-reviews/autopilot/automl-dm-05-00-53-23/sagemaker-automl-candidates/pr-1-01858f1904d043ecbd9122ce8a6897d540e9715fe1bb46f084070f1520/generated_module/candidate_data_processors/dpp0.py to generated_module/candidate_data_processors/dpp0.py\n",
      "download: s3://sagemaker-us-east-1-835319576252/models/amazon-reviews/autopilot/automl-dm-05-00-53-23/sagemaker-automl-candidates/pr-1-01858f1904d043ecbd9122ce8a6897d540e9715fe1bb46f084070f1520/generated_module/candidate_data_processors/dpp1.py to generated_module/candidate_data_processors/dpp1.py\n",
      "download: s3://sagemaker-us-east-1-835319576252/models/amazon-reviews/autopilot/automl-dm-05-00-53-23/sagemaker-automl-candidates/pr-1-01858f1904d043ecbd9122ce8a6897d540e9715fe1bb46f084070f1520/generated_module/README.md to generated_module/README.md\n",
      "download: s3://sagemaker-us-east-1-835319576252/models/amazon-reviews/autopilot/automl-dm-05-00-53-23/sagemaker-automl-candidates/pr-1-01858f1904d043ecbd9122ce8a6897d540e9715fe1bb46f084070f1520/notebooks/sagemaker_automl/README.md to notebooks/sagemaker_automl/README.md\n",
      "download: s3://sagemaker-us-east-1-835319576252/models/amazon-reviews/autopilot/automl-dm-05-00-53-23/sagemaker-automl-candidates/pr-1-01858f1904d043ecbd9122ce8a6897d540e9715fe1bb46f084070f1520/notebooks/sagemaker_automl/common.py to notebooks/sagemaker_automl/common.py\n",
      "download: s3://sagemaker-us-east-1-835319576252/models/amazon-reviews/autopilot/automl-dm-05-00-53-23/sagemaker-automl-candidates/pr-1-01858f1904d043ecbd9122ce8a6897d540e9715fe1bb46f084070f1520/notebooks/sagemaker_automl/config.py to notebooks/sagemaker_automl/config.py\n",
      "download: s3://sagemaker-us-east-1-835319576252/models/amazon-reviews/autopilot/automl-dm-05-00-53-23/sagemaker-automl-candidates/pr-1-01858f1904d043ecbd9122ce8a6897d540e9715fe1bb46f084070f1520/notebooks/sagemaker_automl/__init__.py to notebooks/sagemaker_automl/__init__.py\n",
      "download: s3://sagemaker-us-east-1-835319576252/models/amazon-reviews/autopilot/automl-dm-05-00-53-23/sagemaker-automl-candidates/pr-1-01858f1904d043ecbd9122ce8a6897d540e9715fe1bb46f084070f1520/notebooks/sagemaker_automl/local_candidate.py to notebooks/sagemaker_automl/local_candidate.py\n",
      "download: s3://sagemaker-us-east-1-835319576252/models/amazon-reviews/autopilot/automl-dm-05-00-53-23/sagemaker-automl-candidates/pr-1-01858f1904d043ecbd9122ce8a6897d540e9715fe1bb46f084070f1520/notebooks/sagemaker_automl/interactive_runner.py to notebooks/sagemaker_automl/interactive_runner.py\n",
      "download: s3://sagemaker-us-east-1-835319576252/models/amazon-reviews/autopilot/automl-dm-05-00-53-23/sagemaker-automl-candidates/pr-1-01858f1904d043ecbd9122ce8a6897d540e9715fe1bb46f084070f1520/notebooks/sagemaker_automl/steps.py to notebooks/sagemaker_automl/steps.py\n",
      "download: s3://sagemaker-us-east-1-835319576252/models/amazon-reviews/autopilot/automl-dm-05-00-53-23/sagemaker-automl-candidates/pr-1-01858f1904d043ecbd9122ce8a6897d540e9715fe1bb46f084070f1520/generated_module/candidate_data_processors/dpp2.py to generated_module/candidate_data_processors/dpp2.py\n"
     ]
    }
   ],
   "source": [
    "!rm -rf ./generated_module\n",
    "!rm -rf ./notebooks\n",
    "!aws s3 cp --recursive $generated_resources ."
   ]
  },
  {
   "cell_type": "markdown",
   "metadata": {},
   "source": [
    "### In the file view, open the `notebooks/` and `generated_module/` folders.  Lots of useful information in there!"
   ]
  },
  {
   "cell_type": "markdown",
   "metadata": {},
   "source": [
    "## Deploying the best candidate\n",
    "Now that we have successfully completed the AutoML job on our dataset and visualized the trials, we can create a model from any of the trials with a single API call and then deploy that model for online or batch prediction using [Inference Pipelines](https://docs.aws.amazon.com/sagemaker/latest/dg/inference-pipelines.html). For this notebook, we deploy only the best performing trial for inference."
   ]
  },
  {
   "cell_type": "markdown",
   "metadata": {},
   "source": [
    "The best candidate is the one we're really interested in."
   ]
  },
  {
   "cell_type": "code",
   "execution_count": 33,
   "metadata": {},
   "outputs": [
    {
     "name": "stdout",
     "output_type": "stream",
     "text": [
      "Candidate name: tuning-job-1-2504f97bd82442a9a9-001-0067a3c3\n",
      "Metric name: validation:binary_classification_accuracy\n",
      "Metric value: 0.5003120303153992\n"
     ]
    }
   ],
   "source": [
    "best_candidate = sm.describe_auto_ml_job(AutoMLJobName=auto_ml_job_name)['BestCandidate']\n",
    "best_candidate_identifier = best_candidate['CandidateName']\n",
    "\n",
    "print(\"Candidate name: \" + best_candidate_identifier)\n",
    "print(\"Metric name: \" + best_candidate['FinalAutoMLJobObjectiveMetric']['MetricName'])\n",
    "print(\"Metric value: \" + str(best_candidate['FinalAutoMLJobObjectiveMetric']['Value']))"
   ]
  },
  {
   "cell_type": "code",
   "execution_count": 34,
   "metadata": {},
   "outputs": [
    {
     "data": {
      "text/plain": [
       "{'CandidateName': 'tuning-job-1-2504f97bd82442a9a9-001-0067a3c3',\n",
       " 'FinalAutoMLJobObjectiveMetric': {'MetricName': 'validation:binary_classification_accuracy',\n",
       "  'Value': 0.5003120303153992},\n",
       " 'ObjectiveStatus': 'Succeeded',\n",
       " 'CandidateSteps': [{'CandidateStepType': 'AWS::SageMaker::ProcessingJob',\n",
       "   'CandidateStepArn': 'arn:aws:sagemaker:us-east-1:835319576252:processing-job/db-1-bdc6a20ab17f44758d34e3211a26f0c948066b0b5e844e55accd37c8f0',\n",
       "   'CandidateStepName': 'db-1-bdc6a20ab17f44758d34e3211a26f0c948066b0b5e844e55accd37c8f0'},\n",
       "  {'CandidateStepType': 'AWS::SageMaker::TrainingJob',\n",
       "   'CandidateStepArn': 'arn:aws:sagemaker:us-east-1:835319576252:training-job/automl-dm--dpp2-1-daec0ef2bcec4674803e30502374e376eb27de2111034',\n",
       "   'CandidateStepName': 'automl-dm--dpp2-1-daec0ef2bcec4674803e30502374e376eb27de2111034'},\n",
       "  {'CandidateStepType': 'AWS::SageMaker::TransformJob',\n",
       "   'CandidateStepArn': 'arn:aws:sagemaker:us-east-1:835319576252:transform-job/automl-dm--dpp2-rpb-1-fb6312fe10dc4bb68e3c17f0efd9f4491629b1767',\n",
       "   'CandidateStepName': 'automl-dm--dpp2-rpb-1-fb6312fe10dc4bb68e3c17f0efd9f4491629b1767'},\n",
       "  {'CandidateStepType': 'AWS::SageMaker::TrainingJob',\n",
       "   'CandidateStepArn': 'arn:aws:sagemaker:us-east-1:835319576252:training-job/tuning-job-1-2504f97bd82442a9a9-001-0067a3c3',\n",
       "   'CandidateStepName': 'tuning-job-1-2504f97bd82442a9a9-001-0067a3c3'}],\n",
       " 'CandidateStatus': 'Completed',\n",
       " 'InferenceContainers': [{'Image': '683313688378.dkr.ecr.us-east-1.amazonaws.com/sagemaker-sklearn-automl:0.1.0-cpu-py3',\n",
       "   'ModelDataUrl': 's3://sagemaker-us-east-1-835319576252/models/amazon-reviews/autopilot/automl-dm-05-00-53-23/data-processor-models/automl-dm--dpp2-1-daec0ef2bcec4674803e30502374e376eb27de2111034/output/model.tar.gz',\n",
       "   'Environment': {'AUTOML_TRANSFORM_MODE': 'feature-transform',\n",
       "    'SAGEMAKER_DEFAULT_INVOCATIONS_ACCEPT': 'application/x-recordio-protobuf',\n",
       "    'SAGEMAKER_PROGRAM': 'sagemaker_serve',\n",
       "    'SAGEMAKER_SUBMIT_DIRECTORY': '/opt/ml/model/sagemaker_serve.py'}},\n",
       "  {'Image': '382416733822.dkr.ecr.us-east-1.amazonaws.com/linear-learner:latest',\n",
       "   'ModelDataUrl': 's3://sagemaker-us-east-1-835319576252/models/amazon-reviews/autopilot/automl-dm-05-00-53-23/tuning/automl-dm--dpp2-ll/tuning-job-1-2504f97bd82442a9a9-001-0067a3c3/output/model.tar.gz',\n",
       "   'Environment': {'MAX_CONTENT_LENGTH': '20971520',\n",
       "    'SAGEMAKER_DEFAULT_INVOCATIONS_ACCEPT': 'text/csv'}},\n",
       "  {'Image': '683313688378.dkr.ecr.us-east-1.amazonaws.com/sagemaker-sklearn-automl:0.1.0-cpu-py3',\n",
       "   'ModelDataUrl': 's3://sagemaker-us-east-1-835319576252/models/amazon-reviews/autopilot/automl-dm-05-00-53-23/data-processor-models/automl-dm--dpp2-1-daec0ef2bcec4674803e30502374e376eb27de2111034/output/model.tar.gz',\n",
       "   'Environment': {'AUTOML_TRANSFORM_MODE': 'inverse-label-transform',\n",
       "    'SAGEMAKER_DEFAULT_INVOCATIONS_ACCEPT': 'text/csv',\n",
       "    'SAGEMAKER_PROGRAM': 'sagemaker_serve',\n",
       "    'SAGEMAKER_SUBMIT_DIRECTORY': '/opt/ml/model/sagemaker_serve.py'}}],\n",
       " 'CreationTime': datetime.datetime(2020, 3, 5, 1, 11, 55, 507000, tzinfo=tzlocal()),\n",
       " 'LastModifiedTime': datetime.datetime(2020, 3, 5, 1, 11, 55, 507000, tzinfo=tzlocal())}"
      ]
     },
     "execution_count": 34,
     "metadata": {},
     "output_type": "execute_result"
    }
   ],
   "source": [
    "best_candidate"
   ]
  },
  {
   "cell_type": "markdown",
   "metadata": {},
   "source": [
    "We can see the containers and models composing the Inference Pipeline."
   ]
  },
  {
   "cell_type": "code",
   "execution_count": 35,
   "metadata": {},
   "outputs": [
    {
     "name": "stdout",
     "output_type": "stream",
     "text": [
      "683313688378.dkr.ecr.us-east-1.amazonaws.com/sagemaker-sklearn-automl:0.1.0-cpu-py3\n",
      "s3://sagemaker-us-east-1-835319576252/models/amazon-reviews/autopilot/automl-dm-05-00-53-23/data-processor-models/automl-dm--dpp2-1-daec0ef2bcec4674803e30502374e376eb27de2111034/output/model.tar.gz\n",
      "======================\n",
      "382416733822.dkr.ecr.us-east-1.amazonaws.com/linear-learner:latest\n",
      "s3://sagemaker-us-east-1-835319576252/models/amazon-reviews/autopilot/automl-dm-05-00-53-23/tuning/automl-dm--dpp2-ll/tuning-job-1-2504f97bd82442a9a9-001-0067a3c3/output/model.tar.gz\n",
      "======================\n",
      "683313688378.dkr.ecr.us-east-1.amazonaws.com/sagemaker-sklearn-automl:0.1.0-cpu-py3\n",
      "s3://sagemaker-us-east-1-835319576252/models/amazon-reviews/autopilot/automl-dm-05-00-53-23/data-processor-models/automl-dm--dpp2-1-daec0ef2bcec4674803e30502374e376eb27de2111034/output/model.tar.gz\n",
      "======================\n"
     ]
    }
   ],
   "source": [
    "for container in best_candidate['InferenceContainers']:\n",
    "    print(container['Image'])\n",
    "    print(container['ModelDataUrl'])\n",
    "    print('======================')"
   ]
  },
  {
   "cell_type": "code",
   "execution_count": 36,
   "metadata": {},
   "outputs": [
    {
     "name": "stdout",
     "output_type": "stream",
     "text": [
      "Best candidate model ARN:  arn:aws:sagemaker:us-east-1:835319576252:model/automl-dm-model-05-00-53-23\n"
     ]
    }
   ],
   "source": [
    "model_name = 'automl-dm-model-' + timestamp_suffix\n",
    "\n",
    "model_arn = sm.create_model(Containers=best_candidate['InferenceContainers'],\n",
    "                            ModelName=model_name,\n",
    "                            ExecutionRoleArn=role)\n",
    "\n",
    "print('Best candidate model ARN: ', model_arn['ModelArn'])"
   ]
  },
  {
   "cell_type": "markdown",
   "metadata": {},
   "source": [
    "Let's deploy the pipeline."
   ]
  },
  {
   "cell_type": "code",
   "execution_count": 37,
   "metadata": {},
   "outputs": [
    {
     "name": "stdout",
     "output_type": "stream",
     "text": [
      "automl-dm-ep-05-01-12-37\n",
      "automl-dm-variant-05-01-12-37\n"
     ]
    }
   ],
   "source": [
    "# EndpointConfig name\n",
    "timestamp_suffix = strftime('%d-%H-%M-%S', gmtime())\n",
    "epc_name = 'automl-dm-epc-' + timestamp_suffix\n",
    "\n",
    "# Endpoint name\n",
    "ep_name = 'automl-dm-ep-' + timestamp_suffix\n",
    "variant_name = 'automl-dm-variant-' + timestamp_suffix\n",
    "\n",
    "print(ep_name)\n",
    "print(variant_name)"
   ]
  },
  {
   "cell_type": "code",
   "execution_count": 38,
   "metadata": {},
   "outputs": [
    {
     "name": "stdout",
     "output_type": "stream",
     "text": [
      "arn:aws:sagemaker:us-east-1:835319576252:endpoint/automl-dm-ep-05-01-12-37\n"
     ]
    }
   ],
   "source": [
    "ep_config = sm.create_endpoint_config(EndpointConfigName = epc_name,\n",
    "                                      ProductionVariants=[{'InstanceType':'ml.m4.xlarge',\n",
    "                                                           'InitialInstanceCount':1,\n",
    "                                                           'ModelName':model_name,\n",
    "                                                           'VariantName':variant_name}])\n",
    "\n",
    "create_endpoint_response = sm.create_endpoint(EndpointName=ep_name,\n",
    "                                              EndpointConfigName=epc_name)\n",
    "print(create_endpoint_response['EndpointArn'])"
   ]
  },
  {
   "cell_type": "code",
   "execution_count": 39,
   "metadata": {},
   "outputs": [
    {
     "name": "stdout",
     "output_type": "stream",
     "text": [
      "CPU times: user 127 ms, sys: 31.7 ms, total: 159 ms\n",
      "Wall time: 7min 31s\n"
     ]
    }
   ],
   "source": [
    "%%time\n",
    "sm.get_waiter('endpoint_in_service').wait(EndpointName=ep_name)"
   ]
  },
  {
   "cell_type": "code",
   "execution_count": 40,
   "metadata": {},
   "outputs": [
    {
     "name": "stdout",
     "output_type": "stream",
     "text": [
      "Arn: arn:aws:sagemaker:us-east-1:835319576252:endpoint/automl-dm-ep-05-01-12-37\n",
      "Status: InService\n"
     ]
    }
   ],
   "source": [
    "resp = sm.describe_endpoint(EndpointName=ep_name)\n",
    "status = resp['EndpointStatus']\n",
    "\n",
    "print(\"Arn: \" + resp['EndpointArn'])\n",
    "print(\"Status: \" + status)"
   ]
  },
  {
   "cell_type": "markdown",
   "metadata": {},
   "source": [
    "## Scoring the Best Candidate\n",
    "Let's predict and score the validation set. We'll compute metrics ourselves just for fun."
   ]
  },
  {
   "cell_type": "code",
   "execution_count": 41,
   "metadata": {},
   "outputs": [],
   "source": [
    "sm_rt = boto3.Session().client('runtime.sagemaker', region_name=region)"
   ]
  },
  {
   "cell_type": "code",
   "execution_count": 42,
   "metadata": {},
   "outputs": [
    {
     "data": {
      "text/plain": [
       "'0'"
      ]
     },
     "execution_count": 42,
     "metadata": {},
     "output_type": "execute_result"
    }
   ],
   "source": [
    "#ep_name = ''\n",
    "\n",
    "csv_line_predict_positive = \"\"\"I loved it!  I wish there was a new season...\"\"\"\n",
    "response = sm_rt.invoke_endpoint(EndpointName=ep_name, ContentType='text/csv', Accept='text/csv', Body=csv_line_predict_positive)\n",
    "\n",
    "response_body = response['Body'].read().decode(\"utf-8\").strip()\n",
    "response_body"
   ]
  },
  {
   "cell_type": "code",
   "execution_count": 43,
   "metadata": {},
   "outputs": [
    {
     "data": {
      "text/plain": [
       "'0'"
      ]
     },
     "execution_count": 43,
     "metadata": {},
     "output_type": "execute_result"
    }
   ],
   "source": [
    "csv_line_predict_negative = \"\"\"This isn't good.  Complete waste of time.\"\"\"\n",
    "response = sm_rt.invoke_endpoint(EndpointName=ep_name, ContentType='text/csv', Accept='text/csv', Body=csv_line_predict_negative)\n",
    "\n",
    "response_body = response['Body'].read().decode(\"utf-8\").strip()\n",
    "response_body"
   ]
  },
  {
   "cell_type": "markdown",
   "metadata": {},
   "source": [
    "# TODO:  Update test"
   ]
  },
  {
   "cell_type": "code",
   "execution_count": 44,
   "metadata": {},
   "outputs": [
    {
     "ename": "NameError",
     "evalue": "name 'test' is not defined",
     "output_type": "error",
     "traceback": [
      "\u001b[0;31m---------------------------------------------------------------------------\u001b[0m",
      "\u001b[0;31mNameError\u001b[0m                                 Traceback (most recent call last)",
      "\u001b[0;32m<ipython-input-44-8f252b98c8b5>\u001b[0m in \u001b[0;36m<module>\u001b[0;34m()\u001b[0m\n\u001b[0;32m----> 1\u001b[0;31m \u001b[0;32mfor\u001b[0m \u001b[0mreview_body\u001b[0m \u001b[0;32min\u001b[0m \u001b[0mtest\u001b[0m\u001b[0;34m[\u001b[0m\u001b[0;34m'review_body'\u001b[0m\u001b[0;34m]\u001b[0m\u001b[0;34m:\u001b[0m\u001b[0;34m\u001b[0m\u001b[0m\n\u001b[0m\u001b[1;32m      2\u001b[0m     \u001b[0mprint\u001b[0m\u001b[0;34m(\u001b[0m\u001b[0mreview_body\u001b[0m\u001b[0;34m)\u001b[0m\u001b[0;34m\u001b[0m\u001b[0m\n",
      "\u001b[0;31mNameError\u001b[0m: name 'test' is not defined"
     ]
    }
   ],
   "source": [
    "for review_body in test['review_body']:\n",
    "    print(review_body)"
   ]
  },
  {
   "cell_type": "code",
   "execution_count": null,
   "metadata": {},
   "outputs": [],
   "source": [
    "test['review_body'].shape"
   ]
  },
  {
   "cell_type": "code",
   "execution_count": null,
   "metadata": {
    "scrolled": false
   },
   "outputs": [],
   "source": [
    "responses = [int(sm_rt.invoke_endpoint(EndpointName=ep_name, ContentType='text/csv', Accept='text/csv', Body=review_body.replace(',', ' '))['Body'].read().decode(\"utf-8\").strip())\n",
    "             for review_body in test['review_body']]"
   ]
  },
  {
   "cell_type": "code",
   "execution_count": null,
   "metadata": {},
   "outputs": [],
   "source": [
    "tp = 0\n",
    "fn = 0\n",
    "tn = 0\n",
    "fp = 0\n",
    "\n",
    "# TODO:  Compare to test['is_positive_sentiment']\n",
    "for index, response in enumerate(responses):\n",
    "    if (test.iloc[index]['is_positive_sentiment'] == 1):\n",
    "        if response == 1:\n",
    "            # True positive\n",
    "            tp = tp + 1\n",
    "        else:\n",
    "            # False negative\n",
    "            fn = fn + 1\n",
    "    else:\n",
    "        if (test.iloc[index]['is_positive_sentiment'] == 0):\n",
    "            # True negative\n",
    "            tn = tn + 1\n",
    "        else:\n",
    "            # False positive\n",
    "            fp = fp + 1"
   ]
  },
  {
   "cell_type": "code",
   "execution_count": null,
   "metadata": {},
   "outputs": [],
   "source": [
    "#Confusion matrix\n",
    "print (\"%d %d\" % (tn, fp))\n",
    "print (\"%d %d\" % (fn, tp))\n",
    "\n",
    "accuracy  = (tp + tn) / (tp + tn + fp + fn)\n",
    "precision = tp / (tp + fp)\n",
    "recall    = tn / (tn + fn)\n",
    "f1        = (2 * precision * recall)/(precision + recall)\n",
    "\n",
    "print (\"accuracy:\\t%.4f\\nprecision:\\t%.4f\\nrecall:\\t\\t%.4f\\nf1:\\t\\t%.4f\" % (accuracy, precision, recall, f1))"
   ]
  },
  {
   "cell_type": "code",
   "execution_count": null,
   "metadata": {},
   "outputs": [],
   "source": []
  }
 ],
 "metadata": {
  "kernelspec": {
   "display_name": "conda_python3",
   "language": "python",
   "name": "conda_python3"
  },
  "language_info": {
   "codemirror_mode": {
    "name": "ipython",
    "version": 3
   },
   "file_extension": ".py",
   "mimetype": "text/x-python",
   "name": "python",
   "nbconvert_exporter": "python",
   "pygments_lexer": "ipython3",
   "version": "3.6.5"
  }
 },
 "nbformat": 4,
 "nbformat_minor": 4
}
