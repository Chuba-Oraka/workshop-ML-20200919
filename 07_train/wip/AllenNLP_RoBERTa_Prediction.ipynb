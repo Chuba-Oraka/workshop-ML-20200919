{
 "cells": [
  {
   "cell_type": "markdown",
   "metadata": {},
   "source": [
    "* https://demo.allennlp.org/sentiment-analysis/MjI4MTQzNw==\n",
    "* https://github.com/allenai/allennlp/tree/master/allennlp/interpret/saliency_interpreters\n",
    "* https://github.com/allenai/allennlp/blob/master/allennlp/interpret/saliency_interpreters/simple_gradient.py"
   ]
  },
  {
   "cell_type": "code",
   "execution_count": 1,
   "metadata": {},
   "outputs": [
    {
     "name": "stdout",
     "output_type": "stream",
     "text": [
      "Collecting allennlp==1.0.0\n",
      "  Downloading allennlp-1.0.0-py3-none-any.whl (473 kB)\n",
      "\u001b[K     |████████████████████████████████| 473 kB 15.0 MB/s eta 0:00:01\n",
      "\u001b[?25hCollecting allennlp-models==1.0.0\n",
      "  Downloading allennlp_models-1.0.0-py3-none-any.whl (282 kB)\n",
      "\u001b[K     |████████████████████████████████| 282 kB 82.3 MB/s eta 0:00:01\n",
      "\u001b[?25hRequirement already satisfied: h5py in /home/ec2-user/anaconda3/envs/python3/lib/python3.6/site-packages (from allennlp==1.0.0) (2.10.0)\n",
      "Collecting tensorboardX>=1.2\n",
      "  Downloading tensorboardX-2.1-py2.py3-none-any.whl (308 kB)\n",
      "\u001b[K     |████████████████████████████████| 308 kB 101.9 MB/s eta 0:00:01\n",
      "\u001b[?25hRequirement already satisfied: scipy in /home/ec2-user/anaconda3/envs/python3/lib/python3.6/site-packages (from allennlp==1.0.0) (1.4.1)\n",
      "Requirement already satisfied: tqdm>=4.19 in /home/ec2-user/anaconda3/envs/python3/lib/python3.6/site-packages (from allennlp==1.0.0) (4.44.1)\n",
      "Requirement already satisfied: pytest in /home/ec2-user/anaconda3/envs/python3/lib/python3.6/site-packages (from allennlp==1.0.0) (5.4.1)\n",
      "Requirement already satisfied: requests>=2.18 in /home/ec2-user/anaconda3/envs/python3/lib/python3.6/site-packages (from allennlp==1.0.0) (2.24.0)\n",
      "Requirement already satisfied: scikit-learn in /home/ec2-user/anaconda3/envs/python3/lib/python3.6/site-packages (from allennlp==1.0.0) (0.21.3)\n",
      "Collecting jsonpickle\n",
      "  Downloading jsonpickle-1.4.1-py2.py3-none-any.whl (36 kB)\n",
      "Requirement already satisfied: dataclasses; python_version < \"3.7\" in /home/ec2-user/anaconda3/envs/python3/lib/python3.6/site-packages (from allennlp==1.0.0) (0.7)\n",
      "Requirement already satisfied: boto3 in /home/ec2-user/anaconda3/envs/python3/lib/python3.6/site-packages (from allennlp==1.0.0) (1.14.27)\n",
      "Collecting jsonnet>=0.10.0; sys_platform != \"win32\"\n",
      "  Downloading jsonnet-0.16.0.tar.gz (256 kB)\n",
      "\u001b[K     |████████████████████████████████| 256 kB 90.2 MB/s eta 0:00:01\n",
      "\u001b[?25hCollecting transformers<2.12,>=2.9\n",
      "  Downloading transformers-2.11.0-py3-none-any.whl (674 kB)\n",
      "\u001b[K     |████████████████████████████████| 674 kB 78.2 MB/s eta 0:00:01\n",
      "\u001b[?25hRequirement already satisfied: filelock<3.1,>=3.0 in /home/ec2-user/anaconda3/envs/python3/lib/python3.6/site-packages (from allennlp==1.0.0) (3.0.12)\n",
      "Collecting overrides==3.0.0\n",
      "  Downloading overrides-3.0.0.tar.gz (4.5 kB)\n",
      "Requirement already satisfied: torch<1.6.0,>=1.5.0 in /home/ec2-user/anaconda3/envs/python3/lib/python3.6/site-packages (from allennlp==1.0.0) (1.5.0)\n",
      "Collecting spacy<2.3,>=2.1.0\n",
      "  Downloading spacy-2.2.4-cp36-cp36m-manylinux1_x86_64.whl (10.6 MB)\n",
      "\u001b[K     |████████████████████████████████| 10.6 MB 8.1 MB/s eta 0:00:01\n",
      "\u001b[?25hRequirement already satisfied: numpy in /home/ec2-user/anaconda3/envs/python3/lib/python3.6/site-packages (from allennlp==1.0.0) (1.19.1)\n",
      "Requirement already satisfied: nltk in /home/ec2-user/anaconda3/envs/python3/lib/python3.6/site-packages (from allennlp==1.0.0) (3.4.5)\n",
      "Collecting conllu==3.0\n",
      "  Downloading conllu-3.0-py2.py3-none-any.whl (14 kB)\n",
      "Collecting word2number>=1.1\n",
      "  Downloading word2number-1.1.zip (9.7 kB)\n",
      "Collecting py-rouge==1.1\n",
      "  Downloading py_rouge-1.1-py3-none-any.whl (56 kB)\n",
      "\u001b[K     |████████████████████████████████| 56 kB 8.6 MB/s  eta 0:00:01\n",
      "\u001b[?25hRequirement already satisfied: six in /home/ec2-user/anaconda3/envs/python3/lib/python3.6/site-packages (from h5py->allennlp==1.0.0) (1.15.0)\n",
      "Requirement already satisfied: protobuf>=3.8.0 in /home/ec2-user/anaconda3/envs/python3/lib/python3.6/site-packages (from tensorboardX>=1.2->allennlp==1.0.0) (3.13.0)\n",
      "Requirement already satisfied: py>=1.5.0 in /home/ec2-user/anaconda3/envs/python3/lib/python3.6/site-packages (from pytest->allennlp==1.0.0) (1.8.1)\n",
      "Requirement already satisfied: packaging in /home/ec2-user/anaconda3/envs/python3/lib/python3.6/site-packages (from pytest->allennlp==1.0.0) (20.3)\n",
      "Requirement already satisfied: attrs>=17.4.0 in /home/ec2-user/anaconda3/envs/python3/lib/python3.6/site-packages (from pytest->allennlp==1.0.0) (19.3.0)\n",
      "Requirement already satisfied: more-itertools>=4.0.0 in /home/ec2-user/anaconda3/envs/python3/lib/python3.6/site-packages (from pytest->allennlp==1.0.0) (8.2.0)\n",
      "Requirement already satisfied: pluggy<1.0,>=0.12 in /home/ec2-user/anaconda3/envs/python3/lib/python3.6/site-packages (from pytest->allennlp==1.0.0) (0.13.1)\n",
      "Requirement already satisfied: wcwidth in /home/ec2-user/anaconda3/envs/python3/lib/python3.6/site-packages (from pytest->allennlp==1.0.0) (0.1.9)\n",
      "Requirement already satisfied: importlib-metadata>=0.12 in /home/ec2-user/anaconda3/envs/python3/lib/python3.6/site-packages (from pytest->allennlp==1.0.0) (1.7.0)\n",
      "Requirement already satisfied: certifi>=2017.4.17 in /home/ec2-user/anaconda3/envs/python3/lib/python3.6/site-packages (from requests>=2.18->allennlp==1.0.0) (2020.6.20)\n",
      "Requirement already satisfied: urllib3!=1.25.0,!=1.25.1,<1.26,>=1.21.1 in /home/ec2-user/anaconda3/envs/python3/lib/python3.6/site-packages (from requests>=2.18->allennlp==1.0.0) (1.25.10)\n",
      "Requirement already satisfied: chardet<4,>=3.0.2 in /home/ec2-user/anaconda3/envs/python3/lib/python3.6/site-packages (from requests>=2.18->allennlp==1.0.0) (3.0.4)\n",
      "Requirement already satisfied: idna<3,>=2.5 in /home/ec2-user/anaconda3/envs/python3/lib/python3.6/site-packages (from requests>=2.18->allennlp==1.0.0) (2.10)\n",
      "Requirement already satisfied: joblib>=0.11 in /home/ec2-user/anaconda3/envs/python3/lib/python3.6/site-packages (from scikit-learn->allennlp==1.0.0) (0.14.1)\n",
      "Requirement already satisfied: jmespath<1.0.0,>=0.7.1 in /home/ec2-user/anaconda3/envs/python3/lib/python3.6/site-packages (from boto3->allennlp==1.0.0) (0.9.4)\n",
      "Requirement already satisfied: botocore<1.18.0,>=1.17.27 in /home/ec2-user/anaconda3/envs/python3/lib/python3.6/site-packages (from boto3->allennlp==1.0.0) (1.17.27)\n",
      "Requirement already satisfied: s3transfer<0.4.0,>=0.3.0 in /home/ec2-user/anaconda3/envs/python3/lib/python3.6/site-packages (from boto3->allennlp==1.0.0) (0.3.3)\n",
      "Requirement already satisfied: regex!=2019.12.17 in /home/ec2-user/anaconda3/envs/python3/lib/python3.6/site-packages (from transformers<2.12,>=2.9->allennlp==1.0.0) (2020.7.14)\n",
      "Requirement already satisfied: sentencepiece in /home/ec2-user/anaconda3/envs/python3/lib/python3.6/site-packages (from transformers<2.12,>=2.9->allennlp==1.0.0) (0.1.91)\n",
      "Requirement already satisfied: sacremoses in /home/ec2-user/anaconda3/envs/python3/lib/python3.6/site-packages (from transformers<2.12,>=2.9->allennlp==1.0.0) (0.0.43)\n",
      "Collecting tokenizers==0.7.0\n",
      "  Downloading tokenizers-0.7.0-cp36-cp36m-manylinux1_x86_64.whl (3.8 MB)\n",
      "\u001b[K     |████████████████████████████████| 3.8 MB 108.8 MB/s eta 0:00:01\n",
      "\u001b[?25hRequirement already satisfied: future in /home/ec2-user/anaconda3/envs/python3/lib/python3.6/site-packages (from torch<1.6.0,>=1.5.0->allennlp==1.0.0) (0.18.2)\n",
      "Collecting catalogue<1.1.0,>=0.0.7\n",
      "  Downloading catalogue-1.0.0-py2.py3-none-any.whl (7.7 kB)\n",
      "Collecting plac<1.2.0,>=0.9.6\n",
      "  Downloading plac-1.1.3-py2.py3-none-any.whl (20 kB)\n",
      "Collecting cymem<2.1.0,>=2.0.2\n",
      "  Downloading cymem-2.0.3-cp36-cp36m-manylinux1_x86_64.whl (32 kB)\n",
      "Requirement already satisfied: setuptools in /home/ec2-user/anaconda3/envs/python3/lib/python3.6/site-packages (from spacy<2.3,>=2.1.0->allennlp==1.0.0) (49.6.0)\n",
      "Collecting blis<0.5.0,>=0.4.0\n",
      "  Downloading blis-0.4.1-cp36-cp36m-manylinux1_x86_64.whl (3.7 MB)\n",
      "\u001b[K     |████████████████████████████████| 3.7 MB 109.9 MB/s eta 0:00:01\n",
      "\u001b[?25hCollecting murmurhash<1.1.0,>=0.28.0\n",
      "  Downloading murmurhash-1.0.2-cp36-cp36m-manylinux1_x86_64.whl (19 kB)\n",
      "Collecting thinc==7.4.0\n",
      "  Downloading thinc-7.4.0-cp36-cp36m-manylinux1_x86_64.whl (2.2 MB)\n",
      "\u001b[K     |████████████████████████████████| 2.2 MB 70.4 MB/s eta 0:00:01\n",
      "\u001b[?25hCollecting wasabi<1.1.0,>=0.4.0\n",
      "  Downloading wasabi-0.8.0-py3-none-any.whl (23 kB)\n",
      "Collecting srsly<1.1.0,>=1.0.2\n",
      "  Downloading srsly-1.0.2-cp36-cp36m-manylinux1_x86_64.whl (185 kB)\n",
      "\u001b[K     |████████████████████████████████| 185 kB 90.0 MB/s eta 0:00:01\n",
      "\u001b[?25hCollecting preshed<3.1.0,>=3.0.2\n",
      "  Downloading preshed-3.0.2-cp36-cp36m-manylinux1_x86_64.whl (119 kB)\n",
      "\u001b[K     |████████████████████████████████| 119 kB 91.8 MB/s eta 0:00:01\n",
      "\u001b[?25hRequirement already satisfied: pyparsing>=2.0.2 in /home/ec2-user/anaconda3/envs/python3/lib/python3.6/site-packages (from packaging->pytest->allennlp==1.0.0) (2.4.6)\n",
      "Requirement already satisfied: zipp>=0.5 in /home/ec2-user/anaconda3/envs/python3/lib/python3.6/site-packages (from importlib-metadata>=0.12->pytest->allennlp==1.0.0) (3.1.0)\n",
      "Requirement already satisfied: python-dateutil<3.0.0,>=2.1 in /home/ec2-user/anaconda3/envs/python3/lib/python3.6/site-packages (from botocore<1.18.0,>=1.17.27->boto3->allennlp==1.0.0) (2.8.1)\n",
      "Requirement already satisfied: docutils<0.16,>=0.10 in /home/ec2-user/anaconda3/envs/python3/lib/python3.6/site-packages (from botocore<1.18.0,>=1.17.27->boto3->allennlp==1.0.0) (0.15.2)\n",
      "Requirement already satisfied: click in /home/ec2-user/anaconda3/envs/python3/lib/python3.6/site-packages (from sacremoses->transformers<2.12,>=2.9->allennlp==1.0.0) (7.1.1)\n",
      "Building wheels for collected packages: jsonnet, overrides, word2number\n"
     ]
    },
    {
     "name": "stdout",
     "output_type": "stream",
     "text": [
      "  Building wheel for jsonnet (setup.py) ... \u001b[?25ldone\n",
      "\u001b[?25h  Created wheel for jsonnet: filename=jsonnet-0.16.0-cp36-cp36m-linux_x86_64.whl size=2814871 sha256=e443f49a3ad1d10e9a562dc8f3352e3b70e3f1359ab2c9776fd1b79aae5dcbde\n",
      "  Stored in directory: /home/ec2-user/.cache/pip/wheels/65/b4/58/f8bc07c96823d8dcef1a4994e6f7312568bb00e22ee1e532cd\n",
      "  Building wheel for overrides (setup.py) ... \u001b[?25ldone\n",
      "\u001b[?25h  Created wheel for overrides: filename=overrides-3.0.0-py3-none-any.whl size=5668 sha256=17ef5ac5ac1ccd9ebf702f93aa7e359361a1a6685d711b34dbf6c79658482fe8\n",
      "  Stored in directory: /home/ec2-user/.cache/pip/wheels/f2/3d/28/8dcb6c53ed45921ff7cc1ddba3815aa1a45361fb9b2bf4da2b\n",
      "  Building wheel for word2number (setup.py) ... \u001b[?25ldone\n",
      "\u001b[?25h  Created wheel for word2number: filename=word2number-1.1-py3-none-any.whl size=5586 sha256=689b6485ea6477fdd0911923d68a7080f8c5314c62c2dbfbb29cfccaf62f3323\n",
      "  Stored in directory: /home/ec2-user/.cache/pip/wheels/6c/5e/36/8b922f014b64e2a45bac622008bc439281784eb1e09fe5d8d5\n",
      "Successfully built jsonnet overrides word2number\n",
      "Installing collected packages: tensorboardX, jsonpickle, jsonnet, tokenizers, transformers, overrides, catalogue, plac, cymem, blis, murmurhash, preshed, srsly, wasabi, thinc, spacy, allennlp, conllu, word2number, py-rouge, allennlp-models\n",
      "  Attempting uninstall: tokenizers\n",
      "    Found existing installation: tokenizers 0.5.2\n",
      "    Uninstalling tokenizers-0.5.2:\n",
      "      Successfully uninstalled tokenizers-0.5.2\n",
      "  Attempting uninstall: transformers\n",
      "    Found existing installation: transformers 2.8.0\n",
      "    Uninstalling transformers-2.8.0:\n",
      "      Successfully uninstalled transformers-2.8.0\n",
      "Successfully installed allennlp-1.0.0 allennlp-models-1.0.0 blis-0.4.1 catalogue-1.0.0 conllu-3.0 cymem-2.0.3 jsonnet-0.16.0 jsonpickle-1.4.1 murmurhash-1.0.2 overrides-3.0.0 plac-1.1.3 preshed-3.0.2 py-rouge-1.1 spacy-2.2.4 srsly-1.0.2 tensorboardX-2.1 thinc-7.4.0 tokenizers-0.7.0 transformers-2.11.0 wasabi-0.8.0 word2number-1.1\n",
      "\u001b[33mWARNING: You are using pip version 20.2.2; however, version 20.2.3 is available.\n",
      "You should consider upgrading via the '/home/ec2-user/anaconda3/envs/python3/bin/python -m pip install --upgrade pip' command.\u001b[0m\n"
     ]
    }
   ],
   "source": [
    "!pip install -q allennlp==1.0.0 allennlp-models==1.0.0\n"
   ]
  },
  {
   "cell_type": "code",
   "execution_count": 2,
   "metadata": {},
   "outputs": [
    {
     "name": "stderr",
     "output_type": "stream",
     "text": [
      "[nltk_data] Downloading package punkt to /home/ec2-user/nltk_data...\n",
      "[nltk_data]   Unzipping tokenizers/punkt.zip.\n",
      "[nltk_data] Downloading package wordnet to /home/ec2-user/nltk_data...\n",
      "[nltk_data]   Unzipping corpora/wordnet.zip.\n"
     ]
    },
    {
     "data": {
      "application/vnd.jupyter.widget-view+json": {
       "model_id": "1ac6d4c8886c4585af6c9099bb881d40",
       "version_major": 2,
       "version_minor": 0
      },
      "text/plain": [
       "HBox(children=(FloatProgress(value=0.0, max=1286605089.0), HTML(value='')))"
      ]
     },
     "metadata": {},
     "output_type": "display_data"
    },
    {
     "name": "stdout",
     "output_type": "stream",
     "text": [
      "\n"
     ]
    },
    {
     "data": {
      "application/vnd.jupyter.widget-view+json": {
       "model_id": "4245ffb5710e4de7be280c38e7475d1b",
       "version_major": 2,
       "version_minor": 0
      },
      "text/plain": [
       "HBox(children=(FloatProgress(value=0.0, description='Downloading', max=482.0, style=ProgressStyle(description_…"
      ]
     },
     "metadata": {},
     "output_type": "display_data"
    },
    {
     "name": "stdout",
     "output_type": "stream",
     "text": [
      "\n"
     ]
    },
    {
     "data": {
      "application/vnd.jupyter.widget-view+json": {
       "model_id": "e0ea87aa7d9048338d92c42576a47d44",
       "version_major": 2,
       "version_minor": 0
      },
      "text/plain": [
       "HBox(children=(FloatProgress(value=0.0, description='Downloading', max=1425941629.0, style=ProgressStyle(descr…"
      ]
     },
     "metadata": {},
     "output_type": "display_data"
    },
    {
     "name": "stdout",
     "output_type": "stream",
     "text": [
      "\n"
     ]
    },
    {
     "data": {
      "application/vnd.jupyter.widget-view+json": {
       "model_id": "90f4f7df488a454496e4636027b6ae05",
       "version_major": 2,
       "version_minor": 0
      },
      "text/plain": [
       "HBox(children=(FloatProgress(value=0.0, description='Downloading', max=898823.0, style=ProgressStyle(descripti…"
      ]
     },
     "metadata": {},
     "output_type": "display_data"
    },
    {
     "name": "stdout",
     "output_type": "stream",
     "text": [
      "\n"
     ]
    },
    {
     "data": {
      "application/vnd.jupyter.widget-view+json": {
       "model_id": "d830433e00f843b7bb00355526060e5b",
       "version_major": 2,
       "version_minor": 0
      },
      "text/plain": [
       "HBox(children=(FloatProgress(value=0.0, description='Downloading', max=456318.0, style=ProgressStyle(descripti…"
      ]
     },
     "metadata": {},
     "output_type": "display_data"
    },
    {
     "name": "stdout",
     "output_type": "stream",
     "text": [
      "\n"
     ]
    },
    {
     "name": "stderr",
     "output_type": "stream",
     "text": [
      "Spacy models 'en_core_web_sm' not found.  Downloading and installing.\n"
     ]
    },
    {
     "name": "stdout",
     "output_type": "stream",
     "text": [
      "\u001b[38;5;2m✔ Download and installation successful\u001b[0m\n",
      "You can now load the model via spacy.load('en_core_web_sm')\n"
     ]
    },
    {
     "data": {
      "text/plain": [
       "{'logits': [5.19218111038208, -3.8541877269744873],\n",
       " 'probs': [0.9998822212219238, 0.00011780422937590629],\n",
       " 'token_ids': [0, 10, 182, 157, 111, 156, 2156, 6269, 8, 11110, 2170, 479, 2],\n",
       " 'label': '1',\n",
       " 'tokens': ['<s>',\n",
       "  'Ġa',\n",
       "  'Ġvery',\n",
       "  'Ġwell',\n",
       "  'Ġ-',\n",
       "  'Ġmade',\n",
       "  'Ġ,',\n",
       "  'Ġfunny',\n",
       "  'Ġand',\n",
       "  'Ġentertaining',\n",
       "  'Ġpicture',\n",
       "  'Ġ.',\n",
       "  '</s>']}"
      ]
     },
     "execution_count": 2,
     "metadata": {},
     "output_type": "execute_result"
    }
   ],
   "source": [
    "from allennlp.predictors.predictor import Predictor\n",
    "import allennlp_models.classification\n",
    "\n",
    "predictor = Predictor.from_path(\"https://storage.googleapis.com/allennlp-public-models/sst-roberta-large-2020.06.08.tar.gz\")"
   ]
  },
  {
   "cell_type": "code",
   "execution_count": 3,
   "metadata": {},
   "outputs": [
    {
     "data": {
      "text/plain": [
       "{'logits': [5.19218111038208, -3.8541877269744873],\n",
       " 'probs': [0.9998822212219238, 0.00011780422937590629],\n",
       " 'token_ids': [0, 10, 182, 157, 111, 156, 2156, 6269, 8, 11110, 2170, 479, 2],\n",
       " 'label': '1',\n",
       " 'tokens': ['<s>',\n",
       "  'Ġa',\n",
       "  'Ġvery',\n",
       "  'Ġwell',\n",
       "  'Ġ-',\n",
       "  'Ġmade',\n",
       "  'Ġ,',\n",
       "  'Ġfunny',\n",
       "  'Ġand',\n",
       "  'Ġentertaining',\n",
       "  'Ġpicture',\n",
       "  'Ġ.',\n",
       "  '</s>']}"
      ]
     },
     "execution_count": 3,
     "metadata": {},
     "output_type": "execute_result"
    }
   ],
   "source": [
    "predictor.predict(\n",
    "  sentence=\"a very well-made, funny and entertaining picture.\"\n",
    ")"
   ]
  },
  {
   "cell_type": "code",
   "execution_count": null,
   "metadata": {},
   "outputs": [],
   "source": []
  }
 ],
 "metadata": {
  "kernelspec": {
   "display_name": "conda_python3",
   "language": "python",
   "name": "conda_python3"
  },
  "language_info": {
   "codemirror_mode": {
    "name": "ipython",
    "version": 3
   },
   "file_extension": ".py",
   "mimetype": "text/x-python",
   "name": "python",
   "nbconvert_exporter": "python",
   "pygments_lexer": "ipython3",
   "version": "3.6.10"
  }
 },
 "nbformat": 4,
 "nbformat_minor": 4
}
