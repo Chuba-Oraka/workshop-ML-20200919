{
 "cells": [
  {
   "cell_type": "markdown",
   "metadata": {},
   "source": [
    "* https://demo.allennlp.org/sentiment-analysis/MjI4MTQzNw==\n",
    "* https://github.com/allenai/allennlp/tree/master/allennlp/interpret/saliency_interpreters\n",
    "* https://github.com/allenai/allennlp/blob/master/allennlp/interpret/saliency_interpreters/simple_gradient.py"
   ]
  },
  {
   "cell_type": "code",
   "execution_count": 1,
   "metadata": {},
   "outputs": [
    {
     "name": "stdout",
     "output_type": "stream",
     "text": [
      "\u001b[33mWARNING: You are using pip version 20.0.2; however, version 20.2.3 is available.\r\n",
      "You should consider upgrading via the '/home/ec2-user/anaconda3/envs/python3/bin/python -m pip install --upgrade pip' command.\u001b[0m\r\n"
     ]
    }
   ],
   "source": [
    "!pip install -q allennlp==1.0.0 allennlp-models==1.0.0\n"
   ]
  },
  {
   "cell_type": "code",
   "execution_count": 2,
   "metadata": {},
   "outputs": [
    {
     "name": "stderr",
     "output_type": "stream",
     "text": [
      "[nltk_data] Downloading package punkt to /home/ec2-user/nltk_data...\n",
      "[nltk_data]   Unzipping tokenizers/punkt.zip.\n",
      "[nltk_data] Downloading package wordnet to /home/ec2-user/nltk_data...\n",
      "[nltk_data]   Unzipping corpora/wordnet.zip.\n"
     ]
    },
    {
     "data": {
      "application/vnd.jupyter.widget-view+json": {
       "model_id": "503db9d55ca14d8fafa82e0b7570146e",
       "version_major": 2,
       "version_minor": 0
      },
      "text/plain": [
       "HBox(children=(FloatProgress(value=0.0, max=1286605089.0), HTML(value='')))"
      ]
     },
     "metadata": {},
     "output_type": "display_data"
    },
    {
     "name": "stdout",
     "output_type": "stream",
     "text": [
      "\n"
     ]
    },
    {
     "data": {
      "application/vnd.jupyter.widget-view+json": {
       "model_id": "5f8f374306ea41b8ac52da95e9d265ba",
       "version_major": 2,
       "version_minor": 0
      },
      "text/plain": [
       "HBox(children=(FloatProgress(value=0.0, description='Downloading', max=482.0, style=ProgressStyle(description_…"
      ]
     },
     "metadata": {},
     "output_type": "display_data"
    },
    {
     "name": "stdout",
     "output_type": "stream",
     "text": [
      "\n"
     ]
    },
    {
     "data": {
      "application/vnd.jupyter.widget-view+json": {
       "model_id": "2f730940a28f4b83832d37b655f3ba4e",
       "version_major": 2,
       "version_minor": 0
      },
      "text/plain": [
       "HBox(children=(FloatProgress(value=0.0, description='Downloading', max=1425941629.0, style=ProgressStyle(descr…"
      ]
     },
     "metadata": {},
     "output_type": "display_data"
    },
    {
     "name": "stdout",
     "output_type": "stream",
     "text": [
      "\n"
     ]
    },
    {
     "data": {
      "application/vnd.jupyter.widget-view+json": {
       "model_id": "8c16e7443fcb4cd88f2ce1364e8b8e5d",
       "version_major": 2,
       "version_minor": 0
      },
      "text/plain": [
       "HBox(children=(FloatProgress(value=0.0, description='Downloading', max=898823.0, style=ProgressStyle(descripti…"
      ]
     },
     "metadata": {},
     "output_type": "display_data"
    },
    {
     "name": "stdout",
     "output_type": "stream",
     "text": [
      "\n"
     ]
    },
    {
     "data": {
      "application/vnd.jupyter.widget-view+json": {
       "model_id": "13683e6c19164eaa99b9a591325faec6",
       "version_major": 2,
       "version_minor": 0
      },
      "text/plain": [
       "HBox(children=(FloatProgress(value=0.0, description='Downloading', max=456318.0, style=ProgressStyle(descripti…"
      ]
     },
     "metadata": {},
     "output_type": "display_data"
    },
    {
     "name": "stdout",
     "output_type": "stream",
     "text": [
      "\n"
     ]
    }
   ],
   "source": [
    "from allennlp.predictors.predictor import Predictor\n",
    "import allennlp_models.classification\n",
    "\n",
    "predictor = Predictor.from_path(\"https://storage.googleapis.com/allennlp-public-models/sst-roberta-large-2020.06.08.tar.gz\")"
   ]
  },
  {
   "cell_type": "code",
   "execution_count": 34,
   "metadata": {},
   "outputs": [
    {
     "name": "stdout",
     "output_type": "stream",
     "text": [
      "{'logits': [5.19218111038208, -3.8541877269744873], 'probs': [0.9998822212219238, 0.00011780422937590629], 'token_ids': [0, 10, 182, 157, 111, 156, 2156, 6269, 8, 11110, 2170, 479, 2], 'label': '1', 'tokens': ['<s>', 'Ġa', 'Ġvery', 'Ġwell', 'Ġ-', 'Ġmade', 'Ġ,', 'Ġfunny', 'Ġand', 'Ġentertaining', 'Ġpicture', 'Ġ.', '</s>']}\n",
      "a very well-made, funny and entertaining picture.\n"
     ]
    }
   ],
   "source": [
    "s = \"a very well-made, funny and entertaining picture.\"\n",
    "m = 'roberta-sentiment-analysis'\n",
    "\n",
    "response = predictor.predict(\n",
    "  sentence=s\n",
    ")\n",
    "\n",
    "print(response)\n",
    "print(s)"
   ]
  },
  {
   "cell_type": "markdown",
   "metadata": {},
   "source": [
    "# Smooth Gradient"
   ]
  },
  {
   "cell_type": "code",
   "execution_count": 30,
   "metadata": {},
   "outputs": [],
   "source": [
    "from allennlp.interpret.saliency_interpreters import SmoothGradient\n",
    "interpreter = SmoothGradient(predictor)"
   ]
  },
  {
   "cell_type": "code",
   "execution_count": 31,
   "metadata": {},
   "outputs": [],
   "source": [
    "inputs = {\"sentence\": \"the eminem tune was totally awesome.\"}"
   ]
  },
  {
   "cell_type": "code",
   "execution_count": 32,
   "metadata": {},
   "outputs": [
    {
     "name": "stdout",
     "output_type": "stream",
     "text": [
      "{'instance_1': {'grad_input_1': [1.0, 0.0, 0.0, 0.0, 0.0, 0.0, 0.0]}}\n"
     ]
    }
   ],
   "source": [
    "interpretation = interpreter.saliency_interpret_from_json(inputs)\n",
    "print(interpretation)"
   ]
  },
  {
   "cell_type": "markdown",
   "metadata": {},
   "source": [
    "# SimpleGradient"
   ]
  },
  {
   "cell_type": "code",
   "execution_count": null,
   "metadata": {},
   "outputs": [],
   "source": [
    "class TestSmoothGradient(AllenNlpTestCase):\n",
    "    def test_smooth_gradient(self):\n",
    "        inputs = {\"sentence\": \"It was the ending that I hated\"}\n",
    "        archive = load_archive(\n",
    "            self.FIXTURES_ROOT / \"basic_classifier\" / \"serialization\" / \"model.tar.gz\"\n",
    "        )\n",
    "        predictor = Predictor.from_archive(archive, \"text_classifier\")\n",
    "\n",
    "        interpreter = SmoothGradient(predictor)\n",
    "        interpretation = interpreter.saliency_interpret_from_json(inputs)\n",
    "        assert interpretation is not None\n",
    "        assert \"instance_1\" in interpretation\n",
    "        assert \"grad_input_1\" in interpretation[\"instance_1\"]\n",
    "        assert len(interpretation[\"instance_1\"][\"grad_input_1\"]) == 7  # 7 words in input"
   ]
  },
  {
   "cell_type": "code",
   "execution_count": null,
   "metadata": {},
   "outputs": [],
   "source": []
  }
 ],
 "metadata": {
  "kernelspec": {
   "display_name": "conda_python3",
   "language": "python",
   "name": "conda_python3"
  },
  "language_info": {
   "codemirror_mode": {
    "name": "ipython",
    "version": 3
   },
   "file_extension": ".py",
   "mimetype": "text/x-python",
   "name": "python",
   "nbconvert_exporter": "python",
   "pygments_lexer": "ipython3",
   "version": "3.6.10"
  }
 },
 "nbformat": 4,
 "nbformat_minor": 4
}
