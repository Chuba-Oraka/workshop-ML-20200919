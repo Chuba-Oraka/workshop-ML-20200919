{
 "cells": [
  {
   "cell_type": "code",
   "execution_count": 166,
   "metadata": {},
   "outputs": [],
   "source": [
    "import boto3\n",
    "import sagemaker\n",
    "import pandas as pd\n",
    "\n",
    "sess   = sagemaker.Session()\n",
    "bucket = sess.default_bucket()\n",
    "role = sagemaker.get_execution_role()\n",
    "region = boto3.Session().region_name\n",
    "\n",
    "sm = boto3.Session().client(service_name='sagemaker', region_name=region)"
   ]
  },
  {
   "cell_type": "code",
   "execution_count": 167,
   "metadata": {},
   "outputs": [],
   "source": [
    "%store -r training_job_name"
   ]
  },
  {
   "cell_type": "code",
   "execution_count": 168,
   "metadata": {},
   "outputs": [
    {
     "name": "stdout",
     "output_type": "stream",
     "text": [
      "tensorflow-training-2020-04-30-03-09-12-331\n"
     ]
    }
   ],
   "source": [
    "print(training_job_name)"
   ]
  },
  {
   "cell_type": "code",
   "execution_count": 173,
   "metadata": {},
   "outputs": [],
   "source": [
    "from sagemaker.tensorflow.serving import Model\n",
    "\n",
    "# Following this example:\n",
    "#    https://github.com/aws/sagemaker-python-sdk/blob/master/src/sagemaker/tensorflow/deploying_tensorflow_serving.rst#making-predictions-against-a-sagemaker-endpoint\n",
    "    \n",
    "# For network isolation mode:\n",
    "#    If you are working in a network-isolation situation or if you don't \n",
    "#    want to install dependencies at runtime every time your endpoint \n",
    "#    starts or a batch transform job runs, you might want to put pre-downloaded \n",
    "#    dependencies under a lib directory and this directory as dependency. The container \n",
    "#    adds the modules to the Python path. Note that if both lib and requirements.txt are\n",
    "#    present in the model archive, the requirements.txt is ignored:\n",
    "\n",
    "# If you change SAGEMAKER_TFS_DEFAULT_MODEL_NAME to something other than 'saved_model', you may see the dreaded ping error in the logs error\n",
    "env = {\n",
    "  'SAGEMAKER_TFS_DEFAULT_MODEL_NAME': 'saved_model' # <== change this when using multi-model,\n",
    "                                                    #     but watch out for the dreaded ping/ error \n",
    "                                                    #     if the model name doesn't exist\n",
    "}\n",
    "\n",
    "model = Model(entry_point='inference.py',\n",
    "              source_dir='src_inference',\n",
    "              model_data='s3://{}/{}/output/model.tar.gz'.format(bucket, training_job_name),\n",
    "              role=role,\n",
    "              framework_version='2.1.0',\n",
    "              env=env)"
   ]
  },
  {
   "cell_type": "code",
   "execution_count": 174,
   "metadata": {},
   "outputs": [
    {
     "name": "stdout",
     "output_type": "stream",
     "text": [
      "<class 'sagemaker.tensorflow.serving.Model'>\n"
     ]
    }
   ],
   "source": [
    "print(type(model))"
   ]
  },
  {
   "cell_type": "code",
   "execution_count": 175,
   "metadata": {
    "scrolled": true
   },
   "outputs": [
    {
     "name": "stdout",
     "output_type": "stream",
     "text": [
      "-------------!"
     ]
    }
   ],
   "source": [
    "predictor = model.deploy(initial_instance_count=1, \n",
    "                         instance_type='ml.c5.xlarge')"
   ]
  },
  {
   "cell_type": "markdown",
   "metadata": {},
   "source": [
    "# Copy the training model (not useful here)"
   ]
  },
  {
   "cell_type": "code",
   "execution_count": 178,
   "metadata": {},
   "outputs": [],
   "source": [
    "# !aws s3 cp s3://$bucket/$training_job_name/output/model.tar.gz ./model.tar.gz"
   ]
  },
  {
   "cell_type": "code",
   "execution_count": 179,
   "metadata": {
    "scrolled": true
   },
   "outputs": [],
   "source": [
    "# !tar -xvzf ./model.tar.gz"
   ]
  },
  {
   "cell_type": "markdown",
   "metadata": {},
   "source": [
    "# Copy the Inference Model (useful)"
   ]
  },
  {
   "cell_type": "code",
   "execution_count": 180,
   "metadata": {
    "scrolled": true
   },
   "outputs": [
    {
     "name": "stdout",
     "output_type": "stream",
     "text": [
      "fatal error: An error occurred (404) when calling the HeadObject operation: Key \"tensorflow-inference-2020-04-30-20-05-22-385/model.tar.gz\" does not exist\r\n"
     ]
    }
   ],
   "source": [
    "!aws s3 cp s3://$bucket/$predictor.endpoint/model.tar.gz ./model.tar.gz"
   ]
  },
  {
   "cell_type": "code",
   "execution_count": 181,
   "metadata": {},
   "outputs": [
    {
     "name": "stdout",
     "output_type": "stream",
     "text": [
      "tar (child): ./model.tar.gz: Cannot open: No such file or directory\r\n",
      "tar (child): Error is not recoverable: exiting now\r\n",
      "tar: Child returned status 2\r\n",
      "tar: Error is not recoverable: exiting now\r\n"
     ]
    }
   ],
   "source": [
    "!tar -xvzf ./model.tar.gz"
   ]
  },
  {
   "cell_type": "code",
   "execution_count": 182,
   "metadata": {},
   "outputs": [
    {
     "name": "stdout",
     "output_type": "stream",
     "text": [
      "2020-04-30 20:11:55.961610: W tensorflow/stream_executor/platform/default/dso_loader.cc:55] Could not load dynamic library 'libnvinfer.so.6'; dlerror: libnvinfer.so.6: cannot open shared object file: No such file or directory; LD_LIBRARY_PATH: /usr/local/cuda-10.0/lib64:/usr/local/cuda-10.0/extras/CUPTI/lib64:/usr/local/cuda-10.0/lib:/usr/local/cuda-10.0/efa/lib:/opt/amazon/efa/lib:/opt/amazon/efa/lib64:/usr/lib64/openmpi/lib/:/usr/local/lib:/usr/lib:/usr/local/mpi/lib:/lib/:/usr/lib64/openmpi/lib/:/usr/local/lib:/usr/lib:/usr/local/mpi/lib:/lib/:/usr/lib64/openmpi/lib/:/usr/local/lib:/usr/lib:/usr/local/mpi/lib:/lib/:\n",
      "2020-04-30 20:11:55.961692: W tensorflow/stream_executor/platform/default/dso_loader.cc:55] Could not load dynamic library 'libnvinfer_plugin.so.6'; dlerror: libnvinfer_plugin.so.6: cannot open shared object file: No such file or directory; LD_LIBRARY_PATH: /usr/local/cuda-10.0/lib64:/usr/local/cuda-10.0/extras/CUPTI/lib64:/usr/local/cuda-10.0/lib:/usr/local/cuda-10.0/efa/lib:/opt/amazon/efa/lib:/opt/amazon/efa/lib64:/usr/lib64/openmpi/lib/:/usr/local/lib:/usr/lib:/usr/local/mpi/lib:/lib/:/usr/lib64/openmpi/lib/:/usr/local/lib:/usr/lib:/usr/local/mpi/lib:/lib/:/usr/lib64/openmpi/lib/:/usr/local/lib:/usr/lib:/usr/local/mpi/lib:/lib/:\n",
      "2020-04-30 20:11:55.961704: W tensorflow/compiler/tf2tensorrt/utils/py_utils.cc:30] Cannot dlopen some TensorRT libraries. If you would like to use Nvidia GPU with TensorRT, please make sure the missing libraries mentioned above are installed properly.\n",
      "Traceback (most recent call last):\n",
      "  File \"/home/ec2-user/anaconda3/envs/python3/bin/saved_model_cli\", line 8, in <module>\n",
      "    sys.exit(main())\n",
      "  File \"/home/ec2-user/anaconda3/envs/python3/lib/python3.6/site-packages/tensorflow_core/python/tools/saved_model_cli.py\", line 990, in main\n",
      "    args.func(args)\n",
      "  File \"/home/ec2-user/anaconda3/envs/python3/lib/python3.6/site-packages/tensorflow_core/python/tools/saved_model_cli.py\", line 691, in show\n",
      "    _show_all(args.dir)\n",
      "  File \"/home/ec2-user/anaconda3/envs/python3/lib/python3.6/site-packages/tensorflow_core/python/tools/saved_model_cli.py\", line 272, in _show_all\n",
      "    tag_sets = saved_model_utils.get_saved_model_tag_sets(saved_model_dir)\n",
      "  File \"/home/ec2-user/anaconda3/envs/python3/lib/python3.6/site-packages/tensorflow_core/python/tools/saved_model_utils.py\", line 88, in get_saved_model_tag_sets\n",
      "    saved_model = read_saved_model(saved_model_dir)\n",
      "  File \"/home/ec2-user/anaconda3/envs/python3/lib/python3.6/site-packages/tensorflow_core/python/tools/saved_model_utils.py\", line 55, in read_saved_model\n",
      "    raise IOError(\"SavedModel file does not exist at: %s\" % saved_model_dir)\n",
      "OSError: SavedModel file does not exist at: ./tensorflow/saved_model/0/\n"
     ]
    }
   ],
   "source": [
    "!saved_model_cli show --all --dir ./tensorflow/saved_model/0/"
   ]
  },
  {
   "cell_type": "code",
   "execution_count": 334,
   "metadata": {},
   "outputs": [],
   "source": [
    "from transformers import DistilBertTokenizer\n",
    "\n",
    "tokenizer = DistilBertTokenizer.from_pretrained('distilbert-base-uncased')"
   ]
  },
  {
   "cell_type": "code",
   "execution_count": 387,
   "metadata": {},
   "outputs": [],
   "source": [
    "class RequestHandler(object):\n",
    "\n",
    "    def __init__(self, tokenizer, max_seq_length):\n",
    "        self.tokenizer = tokenizer\n",
    "        self.max_seq_length = max_seq_length\n",
    "\n",
    "    def __call__(self, data):\n",
    "        transformed_instances = []\n",
    "\n",
    "        for instance in instances:\n",
    "            tokens_a = self.tokenizer.tokenize(instance)\n",
    "\n",
    "            # Account for [CLS] and [SEP] with \"- 2\"\n",
    "            if len(tokens_a) > self.max_seq_length - 2:\n",
    "                tokens_a = tokens_a[0:(self.max_seq_length - 2)]\n",
    "\n",
    "            tokens = []  \n",
    "            segment_ids = []\n",
    "            tokens.append(\"[CLS]\")\n",
    "            segment_ids.append(0)\n",
    "            for token in tokens_a:\n",
    "                tokens.append(token)\n",
    "                segment_ids.append(0)  \n",
    "            tokens.append(\"[SEP]\")\n",
    "            segment_ids.append(0)\n",
    "\n",
    "            input_ids = tokenizer.convert_tokens_to_ids(tokens)\n",
    "\n",
    "            input_mask = [1] * len(input_ids)\n",
    "\n",
    "            # Zero-pad up to the sequence length.\n",
    "            while len(input_ids) < self.max_seq_length:\n",
    "                input_ids.append(0)\n",
    "                input_mask.append(0)\n",
    "                segment_ids.append(0)\n",
    "\n",
    "            assert len(input_ids) == self.max_seq_length\n",
    "            assert len(input_mask) == self.max_seq_length\n",
    "            assert len(segment_ids) == self.max_seq_length\n",
    "\n",
    "            instance = {\"input_ids\": input_ids, \n",
    "                        \"input_mask\": input_mask, \n",
    "                        \"segment_ids\": segment_ids}\n",
    "\n",
    "            transformed_instances.append(instance)\n",
    "\n",
    "        transformed_data = {\"instances\": transformed_instances}\n",
    "\n",
    "        return json.dumps(transformed_data)"
   ]
  },
  {
   "cell_type": "code",
   "execution_count": 462,
   "metadata": {},
   "outputs": [],
   "source": [
    "class ResponseHandler(object):\n",
    "    import tensorflow as tf\n",
    "\n",
    "    def __init__(self, classes):\n",
    "        self.classes = classes\n",
    "    \n",
    "    def __call__(self, response, accept_header):\n",
    "        response_body = response.read().decode('utf-8')\n",
    "\n",
    "        response_json = json.loads(response_body)\n",
    "\n",
    "        log_probabilities = response_json[\"predictions\"]\n",
    "\n",
    "        predicted_classes = []\n",
    "\n",
    "        for log_probability in log_probabilities:\n",
    "            softmax = tf.nn.softmax(log_probability)    \n",
    "            predicted_class_idx = tf.argmax(softmax, axis=-1, output_type=tf.int32)\n",
    "            predicted_class = self.classes[predicted_class_idx]\n",
    "            predicted_classes.append(predicted_class)\n",
    "\n",
    "        return json.dumps(predicted_classes)"
   ]
  },
  {
   "cell_type": "code",
   "execution_count": 463,
   "metadata": {},
   "outputs": [],
   "source": [
    "from sagemaker.tensorflow.serving import Predictor\n",
    "\n",
    "request_handler = RequestHandler(tokenizer=tokenizer,\n",
    "                                 max_seq_length=128)\n",
    "\n",
    "response_handler = ResponseHandler(classes=[1, 2, 3, 4, 5])\n",
    "\n",
    "endpoint_name = 'tensorflow-inference-2020-04-30-20-05-22-385'\n",
    "#endpoint_name = 'training-pipeline-2020-04-30-03-15-22\t'\n",
    "\n",
    "predictor = Predictor(endpoint_name=deploy_endpoint_name,\n",
    "                      sagemaker_session=sess,\n",
    "                      serializer=request_handler,\n",
    "                      deserializer=response_handler,\n",
    "                      content_type='application/json',\n",
    "                      model_name='saved_model',\n",
    "                      model_version=0)"
   ]
  },
  {
   "cell_type": "code",
   "execution_count": 464,
   "metadata": {},
   "outputs": [
    {
     "name": "stdout",
     "output_type": "stream",
     "text": [
      "[5, 1]\n"
     ]
    }
   ],
   "source": [
    "import tensorflow as tf\n",
    "    \n",
    "instances = [\"This is great!\", \n",
    "             \"This is terrible.\"]\n",
    "\n",
    "predicted_classes = predictor.predict(instances)\n",
    "\n",
    "print(predicted_classes)"
   ]
  },
  {
   "cell_type": "markdown",
   "metadata": {},
   "source": [
    "# Batch Predictions\n",
    "https://github.com/awslabs/amazon-sagemaker-examples/blob/master/sagemaker_batch_transform/tensorflow_cifar-10_with_inference_script/tensorflow-serving-cifar10-python-sdk.ipynb\n",
    "\n",
    "and \n",
    "\n",
    "https://aws.amazon.com/blogs/machine-learning/performing-batch-inference-with-tensorflow-serving-in-amazon-sagemaker/"
   ]
  },
  {
   "cell_type": "code",
   "execution_count": 495,
   "metadata": {},
   "outputs": [],
   "source": [
    "from sagemaker.tensorflow.serving import Model\n",
    "\n",
    "# If you change SAGEMAKER_TFS_DEFAULT_MODEL_NAME to something other than 'saved_model', you may see the dreaded ping error in the logs error\n",
    "batch_env = {\n",
    "  'SAGEMAKER_TFS_DEFAULT_MODEL_NAME': 'saved_model', # <== change this when using multi-model,\n",
    "                                                     #     but watch out for the dreaded ping/ error \n",
    "                                                     #     if the model name doesn't exist\n",
    "  'SAGEMAKER_TFS_ENABLE_BATCHING': 'true',\n",
    "  'SAGEMAKER_TFS_BATCH_TIMEOUT_MICROS': '50000',\n",
    "  'SAGEMAKER_TFS_MAX_BATCH_SIZE': '16'\n",
    "}\n",
    "\n",
    "batch_model = Model(entry_point='batch_inference.py',\n",
    "                    source_dir='src_batch_inference',\n",
    "                    model_data='s3://{}/{}/output/model.tar.gz'.format(bucket, training_job_name),\n",
    "                    role=role,\n",
    "                    framework_version='2.1.0',\n",
    "                    env=batch_env)"
   ]
  },
  {
   "cell_type": "code",
   "execution_count": 496,
   "metadata": {
    "scrolled": true
   },
   "outputs": [],
   "source": [
    "batch_predictor = batch_model.transformer(instance_count=1, \n",
    "                                          strategy='MultiRecord', \n",
    "#                                          instance_type='local',                                          \n",
    "                                          instance_type='ml.m4.xlarge',\n",
    "                                          assemble_with='Line',\n",
    "                                          max_concurrent_transforms=64,\n",
    "                                          max_payload=1, # This is in Megabytes (not number of records)\n",
    "                                          env=batch_env)"
   ]
  },
  {
   "cell_type": "code",
   "execution_count": 497,
   "metadata": {},
   "outputs": [],
   "source": [
    "%store -r scikit_processing_job_name"
   ]
  },
  {
   "cell_type": "code",
   "execution_count": 498,
   "metadata": {},
   "outputs": [
    {
     "name": "stdout",
     "output_type": "stream",
     "text": [
      "sagemaker-scikit-learn-2020-04-28-15-47-30-110\n"
     ]
    }
   ],
   "source": [
    "print(scikit_processing_job_name)"
   ]
  },
  {
   "cell_type": "code",
   "execution_count": 499,
   "metadata": {},
   "outputs": [
    {
     "name": "stdout",
     "output_type": "stream",
     "text": [
      "Previous Scikit Processing Job Name: sagemaker-scikit-learn-2020-04-28-15-47-30-110\n"
     ]
    }
   ],
   "source": [
    "# scikit_processing_job_s3_output_prefix = 'data'\n",
    "print('Previous Scikit Processing Job Name: {}'.format(scikit_processing_job_name))"
   ]
  },
  {
   "cell_type": "code",
   "execution_count": 500,
   "metadata": {},
   "outputs": [],
   "source": [
    "prefix_test = '{}/output/bert-test'.format(scikit_processing_job_name)\n",
    "\n",
    "test_s3_uri = 's3://{}/{}'.format(bucket, prefix_test)"
   ]
  },
  {
   "cell_type": "code",
   "execution_count": 501,
   "metadata": {},
   "outputs": [
    {
     "name": "stdout",
     "output_type": "stream",
     "text": [
      "s3://sagemaker-us-east-1-835319576252/sagemaker-scikit-learn-2020-04-28-15-47-30-110/output/bert-test\n",
      "2020-04-28 16:01:51    9748020 part-algo-1-amazon_reviews_us_Software_v1_00.tfrecord\n"
     ]
    }
   ],
   "source": [
    "print(test_s3_uri)\n",
    "\n",
    "!aws s3 ls $test_s3_uri/"
   ]
  },
  {
   "cell_type": "code",
   "execution_count": 502,
   "metadata": {},
   "outputs": [],
   "source": [
    "batch_predictor.transform(data=test_s3_uri, \n",
    "                          split_type='TFRecord',\n",
    "                          content_type='application/x-tfexample')"
   ]
  },
  {
   "cell_type": "code",
   "execution_count": null,
   "metadata": {},
   "outputs": [
    {
     "name": "stdout",
     "output_type": "stream",
     "text": [
      "Waiting for batch prediction job: tensorflow-inference-2020-05-01-03-53-0-2020-05-01-03-53-09-899\n",
      "........................\u001b[34mINFO:__main__:starting services\u001b[0m\n",
      "\u001b[34mINFO:__main__:tensorflow serving model config: \u001b[0m\n",
      "\u001b[34mmodel_config_list: {\n",
      "  config: {\n",
      "    name: \"saved_model\",\n",
      "    base_path: \"/opt/ml/model/tensorflow/saved_model\",\n",
      "    model_platform: \"tensorflow\"\n",
      "  }\u001b[0m\n",
      "\u001b[34m}\n",
      "\n",
      "\u001b[0m\n",
      "\u001b[34mINFO:__main__:nginx config: \u001b[0m\n",
      "\u001b[34mload_module modules/ngx_http_js_module.so;\n",
      "\u001b[0m\n",
      "\u001b[34mworker_processes auto;\u001b[0m\n",
      "\u001b[34mdaemon off;\u001b[0m\n",
      "\u001b[34mpid /tmp/nginx.pid;\u001b[0m\n",
      "\u001b[34merror_log  /dev/stderr error;\n",
      "\u001b[0m\n",
      "\u001b[34mworker_rlimit_nofile 4096;\n",
      "\u001b[0m\n",
      "\u001b[34mevents {\n",
      "  worker_connections 2048;\u001b[0m\n",
      "\u001b[34m}\n",
      "\u001b[0m\n",
      "\u001b[34mhttp {\n",
      "  include /etc/nginx/mime.types;\n",
      "  default_type application/json;\n",
      "  access_log /dev/stdout combined;\n",
      "  js_include tensorflow-serving.js;\n",
      "\n",
      "  upstream tfs_upstream {\n",
      "    server localhost:10001;\n",
      "  }\n",
      "\n",
      "  upstream gunicorn_upstream {\n",
      "    server unix:/tmp/gunicorn.sock fail_timeout=1;\n",
      "  }\n",
      "\n",
      "  server {\n",
      "    listen 8080 deferred;\n",
      "    client_max_body_size 0;\n",
      "    client_body_buffer_size 100m;\n",
      "    subrequest_output_buffer_size 100m;\n",
      "\n",
      "    set $tfs_version 2.1;\n",
      "    set $default_tfs_model saved_model;\n",
      "\n",
      "    location /tfs {\n",
      "        rewrite ^/tfs/(.*) /$1  break;\n",
      "        proxy_redirect off;\n",
      "        proxy_pass_request_headers off;\n",
      "        proxy_set_header Content-Type 'application/json';\n",
      "        proxy_set_header Accept 'application/json';\n",
      "        proxy_pass http://tfs_upstream;\n",
      "    }\n",
      "\n",
      "    location /ping {\n",
      "        js_content ping_without_model;\n",
      "    }\n",
      "\n",
      "    location /invocations {\n",
      "        js_content invocations;\n",
      "    }\n",
      "\n",
      "    location ~ ^/models/(.*)/invoke {\n",
      "        js_content invocations;\n",
      "    }\n",
      "\n",
      "    location /models {\n",
      "        proxy_pass http://gunicorn_upstream/models;\n",
      "    }\n",
      "\n",
      "    location / {\n",
      "        return 404 '{\"error\": \"Not Found\"}';\n",
      "    }\n",
      "\n",
      "    keepalive_timeout 3;\n",
      "  }\u001b[0m\n",
      "\u001b[34m}\n",
      "\n",
      "\u001b[0m\n",
      "\u001b[34mINFO:__main__:batching is enabled\u001b[0m\n",
      "\u001b[34mWARNING:__main__:num_batch_threads defaulted to 4,the number of CPUs. Set SAGEMAKER_TFS_NUM_BATCH_THREADS to override default.\u001b[0m\n",
      "\u001b[34mmax_enqueued_batches defaulted to 100000000. Set SAGEMAKER_TFS_MAX_ENQUEUED_BATCHES to override default. Tuning this parameter may be necessary to tune out-of-memory errors occur.\n",
      "\u001b[0m\n",
      "\u001b[34mINFO:__main__:batching config: \u001b[0m\n",
      "\u001b[34mmax_batch_size { value: 16 }\u001b[0m\n",
      "\u001b[34mbatch_timeout_micros { value: 50000 }\u001b[0m\n",
      "\u001b[34mnum_batch_threads { value: 4 }\u001b[0m\n",
      "\u001b[34mmax_enqueued_batches { value: 100000000 }\n",
      "\n",
      "\u001b[0m\n",
      "\u001b[34mINFO:__main__:tensorflow version info:\u001b[0m\n",
      "\u001b[34mTensorFlow ModelServer: 2.1.0-rc1+dev.sha.075ffcf\u001b[0m\n",
      "\u001b[34mTensorFlow Library: 2.1.0\u001b[0m\n",
      "\u001b[34mINFO:__main__:tensorflow serving command: tensorflow_model_server --port=10000 --rest_api_port=10001 --model_config_file=/sagemaker/model-config.cfg --max_num_load_retries=0 --enable_batching=true --batching_parameters_file=/sagemaker/batching-config.cfg\u001b[0m\n",
      "\u001b[34mINFO:__main__:started tensorflow serving (pid: 16)\u001b[0m\n",
      "\u001b[34mINFO:__main__:nginx version info:\u001b[0m\n",
      "\u001b[34mnginx version: nginx/1.18.0\u001b[0m\n",
      "\u001b[34mbuilt by gcc 7.4.0 (Ubuntu 7.4.0-1ubuntu1~18.04.1) \u001b[0m\n",
      "\u001b[34mbuilt with OpenSSL 1.1.1  11 Sep 2018\u001b[0m\n",
      "\u001b[34mTLS SNI support enabled\u001b[0m\n",
      "\u001b[34mconfigure arguments: --prefix=/etc/nginx --sbin-path=/usr/sbin/nginx --modules-path=/usr/lib/nginx/modules --conf-path=/etc/nginx/nginx.conf --error-log-path=/var/log/nginx/error.log --http-log-path=/var/log/nginx/access.log --pid-path=/var/run/nginx.pid --lock-path=/var/run/nginx.lock --http-client-body-temp-path=/var/cache/nginx/client_temp --http-proxy-temp-path=/var/cache/nginx/proxy_temp --http-fastcgi-temp-path=/var/cache/nginx/fastcgi_temp --http-uwsgi-temp-path=/var/cache/nginx/uwsgi_temp --http-scgi-temp-path=/var/cache/nginx/scgi_temp --user=nginx --group=nginx --with-compat --with-file-aio --with-threads --with-http_addition_module --with-http_auth_request_module --with-http_dav_module --with-http_flv_module --with-http_gunzip_module --with-http_gzip_static_module --with-http_mp4_module --with-http_random_index_module --with-http_realip_module --with-http_secure_link_module --with-http_slice_module --with-http_ssl_module --with-http_stub_status_module --with-http_sub_module --with-http_v2_module --with-mail --with-mail_ssl_module --with-stream --with-stream_realip_module --with-stream_ssl_module --with-stream_ssl_preread_module --with-cc-opt='-g -O2 -fdebug-prefix-map=/data/builder/debuild/nginx-1.18.0/debian/debuild-base/nginx-1.18.0=. -fstack-protector-strong -Wformat -Werror=format-security -Wp,-D_FORTIFY_SOURCE=2 -fPIC' --with-ld-opt='-Wl,-Bsymbolic-functions -Wl,-z,relro -Wl,-z,now -Wl,--as-needed -pie'\u001b[0m\n",
      "\u001b[34mINFO:__main__:started nginx (pid: 18)\u001b[0m\n",
      "\u001b[34m2020-05-01 03:57:05.410857: I tensorflow_serving/model_servers/server_core.cc:462] Adding/updating models.\u001b[0m\n",
      "\u001b[34m2020-05-01 03:57:05.410953: I tensorflow_serving/model_servers/server_core.cc:573]  (Re-)adding model: saved_model\u001b[0m\n",
      "\u001b[34m2020-05-01 03:57:05.511816: I tensorflow_serving/util/retrier.cc:46] Retrying of Reserving resources for servable: {name: saved_model version: 0} exhausted max_num_retries: 0\u001b[0m\n",
      "\u001b[34m2020-05-01 03:57:05.511850: I tensorflow_serving/core/basic_manager.cc:739] Successfully reserved resources to load servable {name: saved_model version: 0}\u001b[0m\n",
      "\u001b[34m2020-05-01 03:57:05.511859: I tensorflow_serving/core/loader_harness.cc:66] Approving load for servable version {name: saved_model version: 0}\u001b[0m\n",
      "\u001b[34m2020-05-01 03:57:05.511869: I tensorflow_serving/core/loader_harness.cc:74] Loading servable version {name: saved_model version: 0}\u001b[0m\n",
      "\u001b[34m2020-05-01 03:57:05.511896: I external/org_tensorflow/tensorflow/cc/saved_model/reader.cc:31] Reading SavedModel from: /opt/ml/model/tensorflow/saved_model/0\u001b[0m\n",
      "\u001b[34m2020-05-01 03:57:05.575961: I external/org_tensorflow/tensorflow/cc/saved_model/reader.cc:54] Reading meta graph with tags { serve }\u001b[0m\n",
      "\u001b[34m2020-05-01 03:57:05.576014: I external/org_tensorflow/tensorflow/cc/saved_model/loader.cc:264] Reading SavedModel debug info (if present) from: /opt/ml/model/tensorflow/saved_model/0\u001b[0m\n",
      "\u001b[34m2020-05-01 03:57:05.577291: I external/org_tensorflow/tensorflow/core/common_runtime/process_util.cc:147] Creating new thread pool with default inter op setting: 2. Tune using inter_op_parallelism_threads for best performance.\u001b[0m\n",
      "\u001b[34m2020-05-01 03:57:05.796311: I external/org_tensorflow/tensorflow/cc/saved_model/loader.cc:203] Restoring SavedModel bundle.\u001b[0m\n",
      "\u001b[34m2020-05-01 03:57:07.392222: I external/org_tensorflow/tensorflow/cc/saved_model/loader.cc:152] Running initialization op on SavedModel bundle at path: /opt/ml/model/tensorflow/saved_model/0\u001b[0m\n",
      "\u001b[34m2020-05-01 03:57:07.658245: I external/org_tensorflow/tensorflow/cc/saved_model/loader.cc:333] SavedModel load for tags { serve }; Status: success: OK. Took 2146347 microseconds.\u001b[0m\n",
      "\u001b[34m2020-05-01 03:57:07.692513: I tensorflow_serving/servables/tensorflow/saved_model_bundle_factory.cc:169] Wrapping session to perform batch processing\u001b[0m\n",
      "\u001b[34m2020-05-01 03:57:07.692571: I tensorflow_serving/servables/tensorflow/bundle_factory_util.cc:153] Wrapping session to perform batch processing\u001b[0m\n",
      "\u001b[34m2020-05-01 03:57:07.692667: I tensorflow_serving/servables/tensorflow/saved_model_warmup.cc:105] No warmup data file found at /opt/ml/model/tensorflow/saved_model/0/assets.extra/tf_serving_warmup_requests\u001b[0m\n",
      "\u001b[34m2020-05-01 03:57:07.694633: I tensorflow_serving/util/retrier.cc:46] Retrying of Loading servable: {name: saved_model version: 0} exhausted max_num_retries: 0\u001b[0m\n",
      "\u001b[34m2020-05-01 03:57:07.694660: I tensorflow_serving/core/loader_harness.cc:87] Successfully loaded servable version {name: saved_model version: 0}\u001b[0m\n",
      "\u001b[34m2020-05-01 03:57:07.696953: I tensorflow_serving/model_servers/server.cc:362] Running gRPC ModelServer at 0.0.0.0:10000 ...\u001b[0m\n",
      "\u001b[34m[warn] getaddrinfo: address family for nodename not supported\u001b[0m\n",
      "\u001b[34m2020-05-01 03:57:07.698207: I tensorflow_serving/model_servers/server.cc:382] Exporting HTTP/REST API at:localhost:10001 ...\u001b[0m\n",
      "\u001b[34m[evhttp_server.cc : 238] NET_LOG: Entering the event loop ...\u001b[0m\n",
      "\n",
      "\u001b[34m169.254.255.130 - - [01/May/2020:03:57:26 +0000] \"GET /ping HTTP/1.1\" 200 0 \"-\" \"Go-http-client/1.1\"\u001b[0m\n",
      "\u001b[34m169.254.255.130 - - [01/May/2020:03:57:26 +0000] \"GET /execution-parameters HTTP/1.1\" 404 22 \"-\" \"Go-http-client/1.1\"\u001b[0m\n",
      "\u001b[35m169.254.255.130 - - [01/May/2020:03:57:26 +0000] \"GET /ping HTTP/1.1\" 200 0 \"-\" \"Go-http-client/1.1\"\u001b[0m\n",
      "\u001b[35m169.254.255.130 - - [01/May/2020:03:57:26 +0000] \"GET /execution-parameters HTTP/1.1\" 404 22 \"-\" \"Go-http-client/1.1\"\u001b[0m\n",
      "\u001b[34m169.254.255.130 - - [01/May/2020:03:57:27 +0000] \"POST /invocations HTTP/1.1\" 415 60 \"-\" \"Go-http-client/1.1\"\u001b[0m\n",
      "\u001b[34m169.254.255.130 - - [01/May/2020:03:57:27 +0000] \"POST /invocations HTTP/1.1\" 415 60 \"-\" \"Go-http-client/1.1\"\u001b[0m\n",
      "\u001b[34m169.254.255.130 - - [01/May/2020:03:57:27 +0000] \"POST /invocations HTTP/1.1\" 415 60 \"-\" \"Go-http-client/1.1\"\u001b[0m\n",
      "\u001b[35m169.254.255.130 - - [01/May/2020:03:57:27 +0000] \"POST /invocations HTTP/1.1\" 415 60 \"-\" \"Go-http-client/1.1\"\u001b[0m\n",
      "\u001b[35m169.254.255.130 - - [01/May/2020:03:57:27 +0000] \"POST /invocations HTTP/1.1\" 415 60 \"-\" \"Go-http-client/1.1\"\u001b[0m\n",
      "\u001b[35m169.254.255.130 - - [01/May/2020:03:57:27 +0000] \"POST /invocations HTTP/1.1\" 415 60 \"-\" \"Go-http-client/1.1\"\u001b[0m\n",
      "\u001b[32m2020-05-01T03:57:26.906:[sagemaker logs]: MaxConcurrentTransforms=64, MaxPayloadInMB=1, BatchStrategy=MULTI_RECORD\u001b[0m\n",
      "\u001b[32m2020-05-01T03:57:27.503:[sagemaker logs]: sagemaker-us-east-1-835319576252/sagemaker-scikit-learn-2020-04-28-15-47-30-110/output/bert-test/part-algo-1-amazon_reviews_us_Software_v1_00.tfrecord: ClientError: 415\u001b[0m\n",
      "\u001b[32m2020-05-01T03:57:27.503:[sagemaker logs]: sagemaker-us-east-1-835319576252/sagemaker-scikit-learn-2020-04-28-15-47-30-110/output/bert-test/part-algo-1-amazon_reviews_us_Software_v1_00.tfrecord: \u001b[0m\n",
      "\u001b[32m2020-05-01T03:57:27.503:[sagemaker logs]: sagemaker-us-east-1-835319576252/sagemaker-scikit-learn-2020-04-28-15-47-30-110/output/bert-test/part-algo-1-amazon_reviews_us_Software_v1_00.tfrecord: Message:\u001b[0m\n",
      "\u001b[32m2020-05-01T03:57:27.503:[sagemaker logs]: sagemaker-us-east-1-835319576252/sagemaker-scikit-learn-2020-04-28-15-47-30-110/output/bert-test/part-algo-1-amazon_reviews_us_Software_v1_00.tfrecord: {\"error\": \"Unsupported Media Type: application/x-tfexample\"}\u001b[0m\n",
      "\u001b[32m2020-05-01T03:57:27.520:[sagemaker logs]: sagemaker-us-east-1-835319576252/sagemaker-scikit-learn-2020-04-28-15-47-30-110/output/bert-test/part-algo-1-amazon_reviews_us_Software_v1_00.tfrecord: ClientError: 415\u001b[0m\n",
      "\u001b[32m2020-05-01T03:57:27.520:[sagemaker logs]: sagemaker-us-east-1-835319576252/sagemaker-scikit-learn-2020-04-28-15-47-30-110/output/bert-test/part-algo-1-amazon_reviews_us_Software_v1_00.tfrecord: \u001b[0m\n",
      "\u001b[32m2020-05-01T03:57:27.520:[sagemaker logs]: sagemaker-us-east-1-835319576252/sagemaker-scikit-learn-2020-04-28-15-47-30-110/output/bert-test/part-algo-1-amazon_reviews_us_Software_v1_00.tfrecord: Message:\u001b[0m\n",
      "\u001b[32m2020-05-01T03:57:27.520:[sagemaker logs]: sagemaker-us-east-1-835319576252/sagemaker-scikit-learn-2020-04-28-15-47-30-110/output/bert-test/part-algo-1-amazon_reviews_us_Software_v1_00.tfrecord: {\"error\": \"Unsupported Media Type: application/x-tfexample\"}\u001b[0m\n",
      "\u001b[32m2020-05-01T03:57:27.559:[sagemaker logs]: sagemaker-us-east-1-835319576252/sagemaker-scikit-learn-2020-04-28-15-47-30-110/output/bert-test/part-algo-1-amazon_reviews_us_Software_v1_00.tfrecord: ClientError: 415\u001b[0m\n",
      "\u001b[32m2020-05-01T03:57:27.559:[sagemaker logs]: sagemaker-us-east-1-835319576252/sagemaker-scikit-learn-2020-04-28-15-47-30-110/output/bert-test/part-algo-1-amazon_reviews_us_Software_v1_00.tfrecord: \u001b[0m\n",
      "\u001b[32m2020-05-01T03:57:27.559:[sagemaker logs]: sagemaker-us-east-1-835319576252/sagemaker-scikit-learn-2020-04-28-15-47-30-110/output/bert-test/part-algo-1-amazon_reviews_us_Software_v1_00.tfrecord: Message:\u001b[0m\n",
      "\u001b[32m2020-05-01T03:57:27.560:[sagemaker logs]: sagemaker-us-east-1-835319576252/sagemaker-scikit-learn-2020-04-28-15-47-30-110/output/bert-test/part-algo-1-amazon_reviews_us_Software_v1_00.tfrecord: {\"error\": \"Unsupported Media Type: application/x-tfexample\"}\u001b[0m\n"
     ]
    }
   ],
   "source": [
    "print('Waiting for batch prediction job: ' + batch_predictor.latest_transform_job.job_name)\n",
    "\n",
    "batch_predictor.wait()"
   ]
  },
  {
   "cell_type": "markdown",
   "metadata": {},
   "source": [
    "# Check Output Data\n",
    "\n",
    "After the transform job has completed, download the output data from S3.\n",
    "\n",
    "For each file \"f\" in the input data, we have a corresponding file \"f.out\" containing the predicted labels from each input row. \n",
    "\n",
    "We can compare the predicted labels to the true labels saved earlier.\n"
   ]
  },
  {
   "cell_type": "code",
   "execution_count": null,
   "metadata": {},
   "outputs": [],
   "source": [
    "# Download the output data from S3 to local filesystem\n",
    "batch_prediction_output_s3_uri = batch_predictor.output_path\n",
    "\n",
    "# !mkdir -p ./batch_prediction_output"
   ]
  },
  {
   "cell_type": "code",
   "execution_count": null,
   "metadata": {},
   "outputs": [],
   "source": [
    "%%bash \n",
    "\n",
    "aws s3 cp --recursive $batch_prediction_output_s3_uri/ ./batch_prediction_output\n",
    "\n",
    "ls ./batch_prediction_output"
   ]
  },
  {
   "cell_type": "code",
   "execution_count": null,
   "metadata": {},
   "outputs": [],
   "source": []
  }
 ],
 "metadata": {
  "kernelspec": {
   "display_name": "conda_python3",
   "language": "python",
   "name": "conda_python3"
  },
  "language_info": {
   "codemirror_mode": {
    "name": "ipython",
    "version": 3
   },
   "file_extension": ".py",
   "mimetype": "text/x-python",
   "name": "python",
   "nbconvert_exporter": "python",
   "pygments_lexer": "ipython3",
   "version": "3.6.5"
  }
 },
 "nbformat": 4,
 "nbformat_minor": 4
}
