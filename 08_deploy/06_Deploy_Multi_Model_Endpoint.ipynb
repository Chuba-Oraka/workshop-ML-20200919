{
 "cells": [
  {
   "cell_type": "markdown",
   "metadata": {},
   "source": [
    "# TODO:  Deploy Multi-Model Endpoint Using 2 Trained TensorFlow Models\n",
    "\n",
    "https://github.com/aws/sagemaker-python-sdk/blob/master/src/sagemaker/tensorflow/deploying_tensorflow_serving.rst#deploying-more-than-one-model-to-your-endpoint"
   ]
  },
  {
   "cell_type": "code",
   "execution_count": null,
   "metadata": {},
   "outputs": [],
   "source": [
    "!pip install -q --upgrade pip\n",
    "!pip install -q wrapt --upgrade --ignore-installed\n",
    "!pip install -q tensorflow==2.1.0\n",
    "!pip install -q transformers==2.8.0"
   ]
  },
  {
   "cell_type": "code",
   "execution_count": null,
   "metadata": {},
   "outputs": [],
   "source": [
    "!pip install --upgrade sagemaker==1.56.1"
   ]
  },
  {
   "cell_type": "code",
   "execution_count": null,
   "metadata": {},
   "outputs": [],
   "source": [
    "import boto3\n",
    "import sagemaker\n",
    "import pandas as pd\n",
    "\n",
    "sess   = sagemaker.Session()\n",
    "bucket = sess.default_bucket()\n",
    "role = sagemaker.get_execution_role()\n",
    "region = boto3.Session().region_name\n",
    "\n",
    "sm = boto3.Session().client(service_name='sagemaker', region_name=region)"
   ]
  },
  {
   "cell_type": "markdown",
   "metadata": {},
   "source": [
    "# Configure First Training Job"
   ]
  },
  {
   "cell_type": "code",
   "execution_count": null,
   "metadata": {},
   "outputs": [],
   "source": [
    "%store -r training_job_name"
   ]
  },
  {
   "cell_type": "code",
   "execution_count": null,
   "metadata": {},
   "outputs": [],
   "source": [
    "print(training_job_name)"
   ]
  },
  {
   "cell_type": "code",
   "execution_count": null,
   "metadata": {},
   "outputs": [],
   "source": [
    "model1_s3_uri = 's3://{}/{}/output/model.tar.gz'.format(bucket, training_job_name)"
   ]
  },
  {
   "cell_type": "code",
   "execution_count": null,
   "metadata": {},
   "outputs": [],
   "source": [
    "# TODO:  Add a second training job"
   ]
  },
  {
   "cell_type": "code",
   "execution_count": null,
   "metadata": {},
   "outputs": [],
   "source": [
    "%store -r training_job_name2"
   ]
  },
  {
   "cell_type": "code",
   "execution_count": null,
   "metadata": {},
   "outputs": [],
   "source": [
    "print(training_job_name2)"
   ]
  },
  {
   "cell_type": "code",
   "execution_count": null,
   "metadata": {},
   "outputs": [],
   "source": [
    "model2_s3_uri = 's3://{}/{}/output/model.tar.gz'.format(bucket, training_job_name2)"
   ]
  },
  {
   "cell_type": "markdown",
   "metadata": {},
   "source": [
    "# TODO:  Access the model.tar.gz from each of the S3 locations derived from the 2 training job names\n",
    "\n",
    "Put them in ./multi/model1 and model2/ directory structure shown here\n",
    "\n",
    "└── multi\n",
    "\n",
    "    ├── model1\n",
    "  \n",
    "    │   └── <version number>\n",
    "    \n",
    "    │       ├── saved_model.pb\n",
    "  \n",
    "    │       └── variables\n",
    "  \n",
    "    │           └── ...\n",
    "  \n",
    "    └── model2\n",
    "  \n",
    "        └── <version number>\n",
    "      \n",
    "            ├── saved_model.pb\n",
    "          \n",
    "            └── variables\n",
    "          \n",
    "                └── ...\n",
    "              "
   ]
  },
  {
   "cell_type": "code",
   "execution_count": null,
   "metadata": {},
   "outputs": [],
   "source": [
    "%bash\n",
    "\n",
    "aws s3 cp $model1_s3_uri model1.tar.gz\n",
    "aws s3 cp $model2_s3_uri model2.tar.gz\n",
    "\n",
    "mkdir -p multi/model1\n",
    "mkdir -p multi/model2\n",
    "\n",
    "tar xvf model1.tar.gz -C ./multi/model1\n",
    "tar xvf model2.tar.gz -C ./multi/model2\n"
   ]
  },
  {
   "cell_type": "code",
   "execution_count": null,
   "metadata": {},
   "outputs": [],
   "source": [
    "# TODO:  Change `export/Servo` to whatever matches our models up to the 0/saved_model dir, I believe.\n",
    "# mv multi/model1/export/Servo/* multi/model1/\n",
    "# mv multi/model2/export/Servo/* multi/model2/\n",
    "\n",
    "# rm -rf multi/model1/export\n",
    "# rm -rf multi/model2/export"
   ]
  },
  {
   "cell_type": "markdown",
   "metadata": {},
   "source": [
    "# Repackage the models into a new multi.tar.gz "
   ]
  },
  {
   "cell_type": "code",
   "execution_count": null,
   "metadata": {},
   "outputs": [],
   "source": [
    "# tar -C \"./multi/\" -czvf multi.tar.gz multi/"
   ]
  },
  {
   "cell_type": "markdown",
   "metadata": {},
   "source": [
    "# Upload the New Archive to S3"
   ]
  },
  {
   "cell_type": "code",
   "execution_count": null,
   "metadata": {},
   "outputs": [],
   "source": [
    "multi_model_s3_uri = #"
   ]
  },
  {
   "cell_type": "code",
   "execution_count": null,
   "metadata": {},
   "outputs": [],
   "source": [
    "!aws s3 cp multi.tar.gz $multi_model_s3_uri\n"
   ]
  },
  {
   "cell_type": "markdown",
   "metadata": {},
   "source": [
    "# Create SageMaker Model from the Multi-Model"
   ]
  },
  {
   "cell_type": "code",
   "execution_count": null,
   "metadata": {},
   "outputs": [],
   "source": [
    "from sagemaker.tensorflow.serving import Model, Predictor\n",
    "\n",
    "multi_model_s3_uri = # 's3://mybucket/models/multi.tar.gz'\n",
    "\n",
    "# For multi-model endpoints, you should set the default model name in\n",
    "# an environment variable. If it isn't set, the endpoint will work,\n",
    "# but the model it will select as default is unpredictable.\n",
    "env = {\n",
    "  'SAGEMAKER_TFS_DEFAULT_MODEL_NAME': 'model1'  # <== This must match the directory\n",
    "}\n",
    "\n",
    "model = Model(model_data=model_data, \n",
    "              role=role, \n",
    "              framework_version='2.1.0', \n",
    "              env=env)\n"
   ]
  },
  {
   "cell_type": "markdown",
   "metadata": {},
   "source": [
    "# Deploy the Multi-Model as a SageMaker Endpoint"
   ]
  },
  {
   "cell_type": "code",
   "execution_count": null,
   "metadata": {},
   "outputs": [],
   "source": [
    "predictor = model.deploy(instance_type='ml.c5.xlarge',\n",
    "                         initial_instance_count=2)\n"
   ]
  }
 ],
 "metadata": {
  "kernelspec": {
   "display_name": "conda_python3",
   "language": "python",
   "name": "conda_python3"
  },
  "language_info": {
   "codemirror_mode": {
    "name": "ipython",
    "version": 3
   },
   "file_extension": ".py",
   "mimetype": "text/x-python",
   "name": "python",
   "nbconvert_exporter": "python",
   "pygments_lexer": "ipython3",
   "version": "3.6.5"
  }
 },
 "nbformat": 4,
 "nbformat_minor": 4
}
