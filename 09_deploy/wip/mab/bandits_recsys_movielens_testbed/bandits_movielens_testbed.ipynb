{
 "cells": [
  {
   "cell_type": "markdown",
   "metadata": {},
   "source": [
    "# Contextual Bandits with Parametric Actions -- Experimentation Mode"
   ]
  },
  {
   "cell_type": "markdown",
   "metadata": {},
   "source": [
    "We demonstrate how you can use varying number of actions with contextual bandits algorithms in SageMaker. This notebook builds on \n",
    "the [Contextual Bandits example notebook](https://github.com/awslabs/amazon-sagemaker-examples/blob/master/reinforcement_learning/bandits_statlog_vw_customEnv/bandits_statlog_vw_customEnv.ipynb) example notebook which used fixed number of actions. Please refer to that notebook for basics on contextual \n",
    "bandits. \n",
    "\n",
    "In the contextual bandit setting, an agent recommends an action given a state. This notebook introduces three features to bandit algorithms that make them applicable to a broader set of real-world problems. We use the movie recommendation problem as an example.\n",
    "1. The number of actions available to the agent can change over time. For example, the movies in the catalog changes over time.\n",
    "2. Each action may have features associated with it. For the movie recommendation problem, each movie can have features such as \n",
    "genre, cast, etc.\n",
    "3. The agent can produce a ranked list of actions/items. When recommending movies, it is natural that multiple movies are recommended at a time step.\n",
    "\n",
    "The contextual bandit agent will trade-off between exploitation and exploration to quickly learn user preferences and minimize \n",
    "poor recommendations. The bandit algorithms are appropriate to use in recommendation problems when there are many cold items (items which have no or little interaction data) in the catalog or if user preferences change over time."
   ]
  },
  {
   "cell_type": "markdown",
   "metadata": {},
   "source": [
    "### What is Experimentation Mode?\n",
    "\n",
    "Contextual bandits are often used to train models by interacting with the real world. In movie recommendation, the bandit learns user preferences based on their feedback from past interactions. To test if bandit algorithms are applicable for your use case, you may want to test different algorithms and understand the impact of different features, hyper-parameters. Experimenting with real users can lead to poor experience due to unanticipated issues or poor performance. Experimenting in production comes with the complexity of working with infrastructure components (e.g. web services, data engines, databases) designed for scale. With Experimentation Mode, you can get started with a small dataset or a simulator and identify the algorithm, features and hyper-parameters that are best applicable for your use case. The experimentation is much faster, does not impact real users and easy to work with. Once you are satisfied with the algorithm performance, you can switch to [Deployment Mode](https://github.com/awslabs/amazon-sagemaker-examples/blob/master/reinforcement_learning/bandits_statlog_vw_customEnv/bandits_statlog_vw_customEnv.ipynb), where we provide infrastructure support that scales to production requirements."
   ]
  },
  {
   "cell_type": "markdown",
   "metadata": {},
   "source": [
    "<p align=\"center\">\n",
    "    <img src=\"workflow.png\">\n",
    "</p>"
   ]
  },
  {
   "cell_type": "markdown",
   "metadata": {},
   "source": [
    "## Pre-requisites \n",
    "\n",
    "### Imports\n",
    "\n",
    "To get started, we'll import the Python libraries we need, set up the environment with a few prerequisites for permissions and configurations."
   ]
  },
  {
   "cell_type": "code",
   "execution_count": 1,
   "metadata": {},
   "outputs": [],
   "source": [
    "import sagemaker\n",
    "import boto3\n",
    "import sys\n",
    "import os\n",
    "import json\n",
    "import glob\n",
    "import re\n",
    "import numpy as np\n",
    "import pandas as pd\n",
    "import matplotlib.pyplot as plt\n",
    "from IPython.display import HTML\n",
    "import time\n",
    "from time import gmtime, strftime\n",
    "from misc import get_execution_role, wait_for_s3_object\n",
    "from sagemaker.rl import RLEstimator\n",
    "%matplotlib inline"
   ]
  },
  {
   "cell_type": "markdown",
   "metadata": {},
   "source": [
    "### Setup S3 bucket\n",
    "\n",
    "Set up the linkage and authentication to the S3 bucket that you want to use for data and model outputs."
   ]
  },
  {
   "cell_type": "code",
   "execution_count": 2,
   "metadata": {},
   "outputs": [
    {
     "name": "stdout",
     "output_type": "stream",
     "text": [
      "S3 bucket path: s3://sagemaker-us-east-1-835319576252/\n"
     ]
    }
   ],
   "source": [
    "sage_session = sagemaker.session.Session()\n",
    "s3_bucket = sage_session.default_bucket()  \n",
    "s3_output_path = 's3://{}/'.format(s3_bucket)\n",
    "print(\"S3 bucket path: {}\".format(s3_output_path))"
   ]
  },
  {
   "cell_type": "code",
   "execution_count": 3,
   "metadata": {},
   "outputs": [],
   "source": [
    "# Check AWS Region\n",
    "aws_region = sage_session.boto_region_name\n",
    "#if aws_region not in [\"us-west-2\"]:\n",
    "#    raise Exception(\n",
    "#    \"\"\"\n",
    "#    This notebook can currently run only in us-west-2. Support for other regions\n",
    "#    will be added soon.\n",
    "#    \"\"\")            "
   ]
  },
  {
   "cell_type": "markdown",
   "metadata": {},
   "source": [
    "### Configure where training happens\n",
    "\n",
    "You can run this notebook on a `SageMaker notebook instance` or on your own machine. In both of these scenarios, you can do the training/inference in either the local or the SageMaker mode. The local mode uses the SageMaker Python SDK to run your code in a docker container locally. This can speed up iterative testing and debugging while using the same familiar Python SDK interface. You just need to set local_mode = True.  \n",
    "\n",
    "If local mode is `False`, then training/inference runs on a SageMaker machine."
   ]
  },
  {
   "cell_type": "code",
   "execution_count": 4,
   "metadata": {},
   "outputs": [],
   "source": [
    "# run in local mode?\n",
    "local_mode = True\n",
    "\n",
    "if local_mode:\n",
    "    instance_type = 'local'\n",
    "else:\n",
    "    instance_type = \"ml.c5.2xlarge\""
   ]
  },
  {
   "cell_type": "markdown",
   "metadata": {},
   "source": [
    "### Create an IAM role\n",
    "\n",
    "Either get the execution role when running from a SageMaker notebook instance `role = sagemaker.get_execution_role()` or, when running from local notebook instance, use utils method `role = get_execution_role()` to create an execution role."
   ]
  },
  {
   "cell_type": "code",
   "execution_count": 5,
   "metadata": {},
   "outputs": [
    {
     "name": "stdout",
     "output_type": "stream",
     "text": [
      "Using IAM role arn: arn:aws:iam::835319576252:role/service-role/AmazonSageMaker-ExecutionRole-20191006T135881\n"
     ]
    }
   ],
   "source": [
    "try:\n",
    "    role = sagemaker.get_execution_role()\n",
    "except:\n",
    "    role = get_execution_role()\n",
    "\n",
    "print(\"Using IAM role arn: {}\".format(role))"
   ]
  },
  {
   "cell_type": "markdown",
   "metadata": {},
   "source": [
    "### Simulation environment (from MovieLens data)\n",
    "The simulation environment `src/env.py` simulates a live environment that can interact with the SageMaker bandits training to produce a recommender agent (or policy). The logic of reward generation resides in simulator itself. We simulate the online learning loop with feedback using this environment inside the training job itself. The simulator uses MovieLens 100k dataset.\n",
    "\n",
    "The training workflow is as follows:\n",
    "- **User sampling and candidate list generation**: The simulator picks a user u and a list of 100 items (defined by `item_pool_size`) at random, which is sent to the SageMaker agent for retrieving recommendations. This list consists of the movies that the user u has rated in the past, as we know the true user preferences (ratings) for these movies. In this simulator, we use `user_id` to identify the user and represent each movie using the genre features.\n",
    "- **Bandit Slate recommendation**: SageMaker bandit agent returns a recommendation - a list of top-k items.\n",
    "- **Feedback generation by simulating user behaviour**: The reward is given to the agent based on user ratings in the dataset. We assume a Cascade Click model, where the user scans the list top-down, and clicks on the item that she likes. We give a reward of 0 to all the items above the clicked item and a reward to 1 to the item that was clicked. No feedback is generated for the items below the clicked item.\n",
    "- **Feedback ingestion**: The corresponding rewards and the actions are reported to the agent for learning."
   ]
  },
  {
   "cell_type": "markdown",
   "metadata": {},
   "source": [
    "The training job uses the files in the `src` folder. The descriptions of the important files are as follows:\n",
    "- `src/train.py` - This is the entrypoint for the training job. This file contains the main logic for training:\n",
    "    - It initializes a bandit agent.\n",
    "    - Starts an interaction loop in which the agent interacts with the envrionment, recommends some actions, ingests the feedback and improves over time.\n",
    "    - The agent is saved on S3 after training finishes and can be used later for inference.\n",
    "- `src/env.py` - This file implements the simulation environment using MovieLens 100K dataset. It also contains the logic for reward generation using the Cascade Click model.\n",
    "- `src/vw_agent.py` - This implements a bandit agent interface in python that communicates with a VW C++ process at the backend."
   ]
  },
  {
   "cell_type": "markdown",
   "metadata": {},
   "source": [
    "#### MovieLens 100K usage license\n",
    "Please be aware of the following requirements regarding acknowledgment, copyright and availability, cited from the [data set description page](http://files.grouplens.org/datasets/movielens/ml-100k-README.txt).\n",
    "\n",
    "The data set may be used for any research purposes under the following conditions:\n",
    "\n",
    " * The user may not state or imply any endorsement from the\n",
    "   University of Minnesota or the GroupLens Research Group.\n",
    " * The user must acknowledge the use of the data set in\n",
    "   publications resulting from the use of the data set\n",
    "   (see below for citation information).\n",
    " * The user may not redistribute the data without separate\n",
    "   permission.\n",
    " * The user may not use this information for any commercial or\n",
    "   revenue-bearing purposes without first obtaining permission\n",
    "   from a faculty member of the GroupLens Research Project at the\n",
    "   University of Minnesota.\n",
    "   \n",
    "If you have any further questions or comments, please contact GroupLens (grouplens-info@cs.umn.edu)."
   ]
  },
  {
   "cell_type": "markdown",
   "metadata": {},
   "source": [
    "#### Download MovieLens 100K and upload to S3"
   ]
  },
  {
   "cell_type": "code",
   "execution_count": 6,
   "metadata": {},
   "outputs": [
    {
     "name": "stdout",
     "output_type": "stream",
     "text": [
      "Archive:  ml-100k.zip\n",
      "  inflating: ml-100k/allbut.pl       \n",
      "  inflating: ml-100k/mku.sh          \n",
      "  inflating: ml-100k/README          \n",
      "  inflating: ml-100k/u.data          \n",
      "  inflating: ml-100k/u.genre         \n",
      "  inflating: ml-100k/u.info          \n",
      "  inflating: ml-100k/u.item          \n",
      "  inflating: ml-100k/u.occupation    \n",
      "  inflating: ml-100k/u.user          \n",
      "  inflating: ml-100k/u1.base         \n",
      "  inflating: ml-100k/u1.test         \n",
      "  inflating: ml-100k/u2.base         \n",
      "  inflating: ml-100k/u2.test         \n",
      "  inflating: ml-100k/u3.base         \n",
      "  inflating: ml-100k/u3.test         \n",
      "  inflating: ml-100k/u4.base         \n",
      "  inflating: ml-100k/u4.test         \n",
      "  inflating: ml-100k/u5.base         \n",
      "  inflating: ml-100k/u5.test         \n",
      "  inflating: ml-100k/ua.base         \n",
      "  inflating: ml-100k/ua.test         \n",
      "  inflating: ml-100k/ub.base         \n",
      "  inflating: ml-100k/ub.test         \n"
     ]
    },
    {
     "name": "stderr",
     "output_type": "stream",
     "text": [
      "  % Total    % Received % Xferd  Average Speed   Time    Time     Time  Current\n",
      "                                 Dload  Upload   Total   Spent    Left  Speed\n",
      "\r",
      "  0     0    0     0    0     0      0      0 --:--:-- --:--:-- --:--:--     0\r",
      "  8 4808k    8  422k    0     0  1462k      0  0:00:03 --:--:--  0:00:03 1457k\r",
      "100 4808k  100 4808k    0     0  10.8M      0 --:--:-- --:--:-- --:--:-- 10.8M\n"
     ]
    }
   ],
   "source": [
    "%%bash\n",
    "curl -o ml-100k.zip http://files.grouplens.org/datasets/movielens/ml-100k.zip\n",
    "unzip -o ml-100k.zip"
   ]
  },
  {
   "cell_type": "code",
   "execution_count": 7,
   "metadata": {},
   "outputs": [],
   "source": [
    "movielens_data_s3_path = sage_session.upload_data(path=\"ml-100k\", bucket=s3_bucket, key_prefix=\"movielens/data\")"
   ]
  },
  {
   "cell_type": "markdown",
   "metadata": {},
   "source": [
    "## Train the Bandit model using the Python SDK Script mode\n",
    "\n",
    "If you are using local mode, the training will run on the notebook instance/your local machine. When using SageMaker for training, you can select a CPU instance. The RLEstimator is used for training the bandit agent.\n",
    "\n",
    "1. Specify the hyperparameters for the bandit algorithm and the environment configuration. \n",
    "2. Specify the source directory where the environment, training code and dependencies are present - `src` folder\n",
    "3. Specify the training entrypoint - `train.py`\n",
    "4. Specify the container image\n",
    "5. Define the training parameters such as the instance count, job name, S3 path for output and job name.  \n",
    "6. Specify the input dataset - `movielens_data_s3_path` in the `.fit` call"
   ]
  },
  {
   "cell_type": "markdown",
   "metadata": {},
   "source": [
    "#### Define the hyperparameters and the training job name prefix"
   ]
  },
  {
   "cell_type": "code",
   "execution_count": 8,
   "metadata": {},
   "outputs": [],
   "source": [
    "hyperparameters = {\n",
    "                   # Algorithm params\n",
    "                   \"arm_features\": True,\n",
    "                   \"exploration_policy\": \"regcbopt\",\n",
    "                   \"mellowness\": 0.01,\n",
    "                   \n",
    "                   # Env params\n",
    "                   \"item_pool_size\": 100,\n",
    "                   \"top_k\": 5,\n",
    "                   \"total_interactions\": 2000,\n",
    "                   \"max_users\": 100,\n",
    "                   }\n",
    "\n",
    "job_name_prefix = \"testbed-bandits-1\""
   ]
  },
  {
   "cell_type": "code",
   "execution_count": 9,
   "metadata": {},
   "outputs": [],
   "source": [
    "vw_image_repo = '462105765813.dkr.ecr.{}.amazonaws.com/sagemaker-rl-vw-container'.format(aws_region)\n",
    "#vw_image_tag = 'adf'\n",
    "vw_image_tag = 'vw-8.7.0-cpu'\n",
    "vw_image_uri = '{}:{}'.format(vw_image_repo, vw_image_tag)\n",
    "#vw_image_uri = '462105765813.dkr.ecr.{}.amazonaws.com/sagemaker-rl-vw-container:adf'.format(aws_region)"
   ]
  },
  {
   "cell_type": "code",
   "execution_count": 10,
   "metadata": {},
   "outputs": [
    {
     "name": "stderr",
     "output_type": "stream",
     "text": [
      "WARNING:root:Parameter image_name will be renamed to image_uri in SageMaker Python SDK v2.\n",
      "WARNING:sagemaker:'s3_input' class will be renamed to 'TrainingInput' in SageMaker Python SDK v2.\n"
     ]
    },
    {
     "name": "stdout",
     "output_type": "stream",
     "text": [
      "Creating tmprmnfbkv2_algo-1-cmtbt_1 ... \n",
      "\u001b[1BAttaching to tmprmnfbkv2_algo-1-cmtbt_12mdone\u001b[0m\n",
      "\u001b[36malgo-1-cmtbt_1  |\u001b[0m 2020-08-12 01:15:26,636 sagemaker-containers INFO     No GPUs detected (normal if no gpus installed)\n",
      "\u001b[36malgo-1-cmtbt_1  |\u001b[0m 2020-08-12 01:15:26,648 sagemaker-containers INFO     No GPUs detected (normal if no gpus installed)\n",
      "\u001b[36malgo-1-cmtbt_1  |\u001b[0m 2020-08-12 01:15:26,660 sagemaker-containers INFO     No GPUs detected (normal if no gpus installed)\n",
      "\u001b[36malgo-1-cmtbt_1  |\u001b[0m 2020-08-12 01:15:26,670 sagemaker-containers INFO     Invoking user script\n",
      "\u001b[36malgo-1-cmtbt_1  |\u001b[0m \n",
      "\u001b[36malgo-1-cmtbt_1  |\u001b[0m Training Env:\n",
      "\u001b[36malgo-1-cmtbt_1  |\u001b[0m \n",
      "\u001b[36malgo-1-cmtbt_1  |\u001b[0m {\n",
      "\u001b[36malgo-1-cmtbt_1  |\u001b[0m     \"additional_framework_parameters\": {\n",
      "\u001b[36malgo-1-cmtbt_1  |\u001b[0m         \"sagemaker_estimator\": \"RLEstimator\"\n",
      "\u001b[36malgo-1-cmtbt_1  |\u001b[0m     },\n",
      "\u001b[36malgo-1-cmtbt_1  |\u001b[0m     \"channel_input_dirs\": {\n",
      "\u001b[36malgo-1-cmtbt_1  |\u001b[0m         \"movielens\": \"/opt/ml/input/data/movielens\"\n",
      "\u001b[36malgo-1-cmtbt_1  |\u001b[0m     },\n",
      "\u001b[36malgo-1-cmtbt_1  |\u001b[0m     \"current_host\": \"algo-1-cmtbt\",\n",
      "\u001b[36malgo-1-cmtbt_1  |\u001b[0m     \"framework_module\": null,\n",
      "\u001b[36malgo-1-cmtbt_1  |\u001b[0m     \"hosts\": [\n",
      "\u001b[36malgo-1-cmtbt_1  |\u001b[0m         \"algo-1-cmtbt\"\n",
      "\u001b[36malgo-1-cmtbt_1  |\u001b[0m     ],\n",
      "\u001b[36malgo-1-cmtbt_1  |\u001b[0m     \"hyperparameters\": {\n",
      "\u001b[36malgo-1-cmtbt_1  |\u001b[0m         \"arm_features\": true,\n",
      "\u001b[36malgo-1-cmtbt_1  |\u001b[0m         \"exploration_policy\": \"regcbopt\",\n",
      "\u001b[36malgo-1-cmtbt_1  |\u001b[0m         \"mellowness\": 0.01,\n",
      "\u001b[36malgo-1-cmtbt_1  |\u001b[0m         \"item_pool_size\": 100,\n",
      "\u001b[36malgo-1-cmtbt_1  |\u001b[0m         \"top_k\": 5,\n",
      "\u001b[36malgo-1-cmtbt_1  |\u001b[0m         \"total_interactions\": 2000,\n",
      "\u001b[36malgo-1-cmtbt_1  |\u001b[0m         \"max_users\": 100\n",
      "\u001b[36malgo-1-cmtbt_1  |\u001b[0m     },\n",
      "\u001b[36malgo-1-cmtbt_1  |\u001b[0m     \"input_config_dir\": \"/opt/ml/input/config\",\n",
      "\u001b[36malgo-1-cmtbt_1  |\u001b[0m     \"input_data_config\": {\n",
      "\u001b[36malgo-1-cmtbt_1  |\u001b[0m         \"movielens\": {\n",
      "\u001b[36malgo-1-cmtbt_1  |\u001b[0m             \"TrainingInputMode\": \"File\"\n",
      "\u001b[36malgo-1-cmtbt_1  |\u001b[0m         }\n",
      "\u001b[36malgo-1-cmtbt_1  |\u001b[0m     },\n",
      "\u001b[36malgo-1-cmtbt_1  |\u001b[0m     \"input_dir\": \"/opt/ml/input\",\n",
      "\u001b[36malgo-1-cmtbt_1  |\u001b[0m     \"is_master\": true,\n",
      "\u001b[36malgo-1-cmtbt_1  |\u001b[0m     \"job_name\": \"testbed-bandits-1-2020-08-12-01-15-23-635\",\n",
      "\u001b[36malgo-1-cmtbt_1  |\u001b[0m     \"log_level\": 20,\n",
      "\u001b[36malgo-1-cmtbt_1  |\u001b[0m     \"master_hostname\": \"algo-1-cmtbt\",\n",
      "\u001b[36malgo-1-cmtbt_1  |\u001b[0m     \"model_dir\": \"/opt/ml/model\",\n",
      "\u001b[36malgo-1-cmtbt_1  |\u001b[0m     \"module_dir\": \"s3://sagemaker-us-east-1-835319576252/testbed-bandits-1-2020-08-12-01-15-23-635/source/sourcedir.tar.gz\",\n",
      "\u001b[36malgo-1-cmtbt_1  |\u001b[0m     \"module_name\": \"train\",\n",
      "\u001b[36malgo-1-cmtbt_1  |\u001b[0m     \"network_interface_name\": \"eth0\",\n",
      "\u001b[36malgo-1-cmtbt_1  |\u001b[0m     \"num_cpus\": 8,\n",
      "\u001b[36malgo-1-cmtbt_1  |\u001b[0m     \"num_gpus\": 0,\n",
      "\u001b[36malgo-1-cmtbt_1  |\u001b[0m     \"output_data_dir\": \"/opt/ml/output/data\",\n",
      "\u001b[36malgo-1-cmtbt_1  |\u001b[0m     \"output_dir\": \"/opt/ml/output\",\n",
      "\u001b[36malgo-1-cmtbt_1  |\u001b[0m     \"output_intermediate_dir\": \"/opt/ml/output/intermediate\",\n",
      "\u001b[36malgo-1-cmtbt_1  |\u001b[0m     \"resource_config\": {\n",
      "\u001b[36malgo-1-cmtbt_1  |\u001b[0m         \"current_host\": \"algo-1-cmtbt\",\n",
      "\u001b[36malgo-1-cmtbt_1  |\u001b[0m         \"hosts\": [\n",
      "\u001b[36malgo-1-cmtbt_1  |\u001b[0m             \"algo-1-cmtbt\"\n",
      "\u001b[36malgo-1-cmtbt_1  |\u001b[0m         ]\n",
      "\u001b[36malgo-1-cmtbt_1  |\u001b[0m     },\n",
      "\u001b[36malgo-1-cmtbt_1  |\u001b[0m     \"user_entry_point\": \"train.py\"\n",
      "\u001b[36malgo-1-cmtbt_1  |\u001b[0m }\n",
      "\u001b[36malgo-1-cmtbt_1  |\u001b[0m \n",
      "\u001b[36malgo-1-cmtbt_1  |\u001b[0m Environment variables:\n",
      "\u001b[36malgo-1-cmtbt_1  |\u001b[0m \n",
      "\u001b[36malgo-1-cmtbt_1  |\u001b[0m SM_HOSTS=[\"algo-1-cmtbt\"]\n",
      "\u001b[36malgo-1-cmtbt_1  |\u001b[0m SM_NETWORK_INTERFACE_NAME=eth0\n",
      "\u001b[36malgo-1-cmtbt_1  |\u001b[0m SM_HPS={\"arm_features\":true,\"exploration_policy\":\"regcbopt\",\"item_pool_size\":100,\"max_users\":100,\"mellowness\":0.01,\"top_k\":5,\"total_interactions\":2000}\n",
      "\u001b[36malgo-1-cmtbt_1  |\u001b[0m SM_USER_ENTRY_POINT=train.py\n",
      "\u001b[36malgo-1-cmtbt_1  |\u001b[0m SM_FRAMEWORK_PARAMS={\"sagemaker_estimator\":\"RLEstimator\"}\n",
      "\u001b[36malgo-1-cmtbt_1  |\u001b[0m SM_RESOURCE_CONFIG={\"current_host\":\"algo-1-cmtbt\",\"hosts\":[\"algo-1-cmtbt\"]}\n",
      "\u001b[36malgo-1-cmtbt_1  |\u001b[0m SM_INPUT_DATA_CONFIG={\"movielens\":{\"TrainingInputMode\":\"File\"}}\n",
      "\u001b[36malgo-1-cmtbt_1  |\u001b[0m SM_OUTPUT_DATA_DIR=/opt/ml/output/data\n",
      "\u001b[36malgo-1-cmtbt_1  |\u001b[0m SM_CHANNELS=[\"movielens\"]\n",
      "\u001b[36malgo-1-cmtbt_1  |\u001b[0m SM_CURRENT_HOST=algo-1-cmtbt\n",
      "\u001b[36malgo-1-cmtbt_1  |\u001b[0m SM_MODULE_NAME=train\n",
      "\u001b[36malgo-1-cmtbt_1  |\u001b[0m SM_LOG_LEVEL=20\n",
      "\u001b[36malgo-1-cmtbt_1  |\u001b[0m SM_FRAMEWORK_MODULE=\n",
      "\u001b[36malgo-1-cmtbt_1  |\u001b[0m SM_INPUT_DIR=/opt/ml/input\n",
      "\u001b[36malgo-1-cmtbt_1  |\u001b[0m SM_INPUT_CONFIG_DIR=/opt/ml/input/config\n",
      "\u001b[36malgo-1-cmtbt_1  |\u001b[0m SM_OUTPUT_DIR=/opt/ml/output\n",
      "\u001b[36malgo-1-cmtbt_1  |\u001b[0m SM_NUM_CPUS=8\n",
      "\u001b[36malgo-1-cmtbt_1  |\u001b[0m SM_NUM_GPUS=0\n",
      "\u001b[36malgo-1-cmtbt_1  |\u001b[0m SM_MODEL_DIR=/opt/ml/model\n",
      "\u001b[36malgo-1-cmtbt_1  |\u001b[0m SM_MODULE_DIR=s3://sagemaker-us-east-1-835319576252/testbed-bandits-1-2020-08-12-01-15-23-635/source/sourcedir.tar.gz\n",
      "\u001b[36malgo-1-cmtbt_1  |\u001b[0m SM_TRAINING_ENV={\"additional_framework_parameters\":{\"sagemaker_estimator\":\"RLEstimator\"},\"channel_input_dirs\":{\"movielens\":\"/opt/ml/input/data/movielens\"},\"current_host\":\"algo-1-cmtbt\",\"framework_module\":null,\"hosts\":[\"algo-1-cmtbt\"],\"hyperparameters\":{\"arm_features\":true,\"exploration_policy\":\"regcbopt\",\"item_pool_size\":100,\"max_users\":100,\"mellowness\":0.01,\"top_k\":5,\"total_interactions\":2000},\"input_config_dir\":\"/opt/ml/input/config\",\"input_data_config\":{\"movielens\":{\"TrainingInputMode\":\"File\"}},\"input_dir\":\"/opt/ml/input\",\"is_master\":true,\"job_name\":\"testbed-bandits-1-2020-08-12-01-15-23-635\",\"log_level\":20,\"master_hostname\":\"algo-1-cmtbt\",\"model_dir\":\"/opt/ml/model\",\"module_dir\":\"s3://sagemaker-us-east-1-835319576252/testbed-bandits-1-2020-08-12-01-15-23-635/source/sourcedir.tar.gz\",\"module_name\":\"train\",\"network_interface_name\":\"eth0\",\"num_cpus\":8,\"num_gpus\":0,\"output_data_dir\":\"/opt/ml/output/data\",\"output_dir\":\"/opt/ml/output\",\"output_intermediate_dir\":\"/opt/ml/output/intermediate\",\"resource_config\":{\"current_host\":\"algo-1-cmtbt\",\"hosts\":[\"algo-1-cmtbt\"]},\"user_entry_point\":\"train.py\"}\n",
      "\u001b[36malgo-1-cmtbt_1  |\u001b[0m SM_USER_ARGS=[\"--arm_features\",\"True\",\"--exploration_policy\",\"regcbopt\",\"--item_pool_size\",\"100\",\"--max_users\",\"100\",\"--mellowness\",\"0.01\",\"--top_k\",\"5\",\"--total_interactions\",\"2000\"]\n",
      "\u001b[36malgo-1-cmtbt_1  |\u001b[0m SM_OUTPUT_INTERMEDIATE_DIR=/opt/ml/output/intermediate\n",
      "\u001b[36malgo-1-cmtbt_1  |\u001b[0m SM_CHANNEL_MOVIELENS=/opt/ml/input/data/movielens\n",
      "\u001b[36malgo-1-cmtbt_1  |\u001b[0m SM_HP_ARM_FEATURES=true\n",
      "\u001b[36malgo-1-cmtbt_1  |\u001b[0m SM_HP_EXPLORATION_POLICY=regcbopt\n",
      "\u001b[36malgo-1-cmtbt_1  |\u001b[0m SM_HP_MELLOWNESS=0.01\n",
      "\u001b[36malgo-1-cmtbt_1  |\u001b[0m SM_HP_ITEM_POOL_SIZE=100\n",
      "\u001b[36malgo-1-cmtbt_1  |\u001b[0m SM_HP_TOP_K=5\n",
      "\u001b[36malgo-1-cmtbt_1  |\u001b[0m SM_HP_TOTAL_INTERACTIONS=2000\n",
      "\u001b[36malgo-1-cmtbt_1  |\u001b[0m SM_HP_MAX_USERS=100\n",
      "\u001b[36malgo-1-cmtbt_1  |\u001b[0m PYTHONPATH=/opt/ml/code:/usr/local/bin:/vowpal_wabbit/python:/vowpal_wabbit/build/python:/usr/lib/python36.zip:/usr/lib/python3.6:/usr/lib/python3.6/lib-dynload:/usr/local/lib/python3.6/dist-packages:/usr/lib/python3/dist-packages\n",
      "\u001b[36malgo-1-cmtbt_1  |\u001b[0m \n",
      "\u001b[36malgo-1-cmtbt_1  |\u001b[0m Invoking script with the following command:\n",
      "\u001b[36malgo-1-cmtbt_1  |\u001b[0m \n",
      "\u001b[36malgo-1-cmtbt_1  |\u001b[0m /usr/bin/python train.py --arm_features True --exploration_policy regcbopt --item_pool_size 100 --max_users 100 --mellowness 0.01 --top_k 5 --total_interactions 2000\n",
      "\u001b[36malgo-1-cmtbt_1  |\u001b[0m \n",
      "\u001b[36malgo-1-cmtbt_1  |\u001b[0m \n",
      "\u001b[36malgo-1-cmtbt_1  |\u001b[0m INFO:root:channels ['movielens']\n",
      "\u001b[36malgo-1-cmtbt_1  |\u001b[0m INFO:root:hps: {'arm_features': True, 'exploration_policy': 'regcbopt', 'item_pool_size': 100, 'max_users': 100, 'mellowness': 0.01, 'top_k': 5, 'total_interactions': 2000}\n",
      "\u001b[36malgo-1-cmtbt_1  |\u001b[0m INFO:root:No pre-trained model has been specified in channel pretrained_model.Training will start from scratch.\n",
      "\u001b[36malgo-1-cmtbt_1  |\u001b[0m INFO:vw_model.VWModel:creating an instance of VWModel\n",
      "\u001b[36malgo-1-cmtbt_1  |\u001b[0m INFO:vw_model.VWModel:successfully created VWModel\n",
      "\u001b[36malgo-1-cmtbt_1  |\u001b[0m INFO:vw_model.VWModel:command: ['vw', '--cb_explore_adf', '--cb_type', 'mtr', '--regcbopt', '--mellowness', '0.01', '-p', '/dev/stdout', '-q', 'sd', '-f', '/opt/ml/model/vw.model', '--save_resume']\n",
      "\u001b[36malgo-1-cmtbt_1  |\u001b[0m INFO:vw_model.VWModel:Started VW process!\n",
      "\u001b[36malgo-1-cmtbt_1  |\u001b[0m INFO:root:Processed 0 interactions\n"
     ]
    },
    {
     "name": "stdout",
     "output_type": "stream",
     "text": [
      "\u001b[36malgo-1-cmtbt_1  |\u001b[0m INFO:root:Processed 500 interactions\n",
      "\u001b[36malgo-1-cmtbt_1  |\u001b[0m INFO:root:Processed 1000 interactions\n",
      "\u001b[36malgo-1-cmtbt_1  |\u001b[0m INFO:root:Processed 1500 interactions\n",
      "\u001b[36malgo-1-cmtbt_1  |\u001b[0m creating quadratic features for pairs: sd \n",
      "\u001b[36malgo-1-cmtbt_1  |\u001b[0m final_regressor = /opt/ml/model/vw.model\n",
      "\u001b[36malgo-1-cmtbt_1  |\u001b[0m predictions = /dev/stdout\n",
      "\u001b[36malgo-1-cmtbt_1  |\u001b[0m Num weight bits = 18\n",
      "\u001b[36malgo-1-cmtbt_1  |\u001b[0m learning rate = 0.5\n",
      "\u001b[36malgo-1-cmtbt_1  |\u001b[0m initial_t = 0\n",
      "\u001b[36malgo-1-cmtbt_1  |\u001b[0m power_t = 0.5\n",
      "\u001b[36malgo-1-cmtbt_1  |\u001b[0m using no cache\n",
      "\u001b[36malgo-1-cmtbt_1  |\u001b[0m Reading datafile = \n",
      "\u001b[36malgo-1-cmtbt_1  |\u001b[0m num sources = 1\n",
      "\u001b[36malgo-1-cmtbt_1  |\u001b[0m average  since         example        example  current  current  current\n",
      "\u001b[36malgo-1-cmtbt_1  |\u001b[0m loss     last          counter         weight    label  predict features\n",
      "\u001b[36malgo-1-cmtbt_1  |\u001b[0m     n.a.     n.a.            1            1.0  unknown        0:1...      324\n",
      "\u001b[36malgo-1-cmtbt_1  |\u001b[0m     n.a.     n.a.            2            2.0  unknown        0:1...      321\n",
      "\u001b[36malgo-1-cmtbt_1  |\u001b[0m     n.a.     n.a.            4            4.0  unknown        0:1...      313\n",
      "\u001b[36malgo-1-cmtbt_1  |\u001b[0m 0.000000 0.000000            8            8.0  unknown       25:1...      181\n",
      "\u001b[36malgo-1-cmtbt_1  |\u001b[0m 0.176520 0.353040           16           16.0  unknown       18:1...      163\n",
      "\u001b[36malgo-1-cmtbt_1  |\u001b[0m 0.207884 0.220430           32           32.0    known        0:-0.149746...        5\n",
      "\u001b[36malgo-1-cmtbt_1  |\u001b[0m 0.448381 0.785078           64           64.0  unknown        3:1...      302\n",
      "\u001b[36malgo-1-cmtbt_1  |\u001b[0m 0.327173 0.246368          128          128.0  unknown       11:1...      159\n",
      "\u001b[36malgo-1-cmtbt_1  |\u001b[0m 0.335270 0.343105          256          256.0  unknown        7:1...       52\n",
      "\u001b[36malgo-1-cmtbt_1  |\u001b[0m 0.352561 0.369303          512          512.0  unknown        9:1...       50\n",
      "\u001b[36malgo-1-cmtbt_1  |\u001b[0m 0.363080 0.373113         1024         1024.0    known        0:-0.944632...        4\n",
      "\u001b[36malgo-1-cmtbt_1  |\u001b[0m 0.439472 0.526876         2048         2048.0  unknown        4:1...      303\n",
      "\u001b[36malgo-1-cmtbt_1  |\u001b[0m 0.516047 0.600420         4096         4096.0  unknown       28:1...      315\n",
      "\u001b[36malgo-1-cmtbt_1  |\u001b[0m 0.595876 0.684164         8192         8192.0  unknown        4:1...       58\n",
      "\u001b[36malgo-1-cmtbt_1  |\u001b[0m \n",
      "\u001b[36malgo-1-cmtbt_1  |\u001b[0m finished run\n",
      "\u001b[36malgo-1-cmtbt_1  |\u001b[0m number of examples = 12604\n",
      "\u001b[36malgo-1-cmtbt_1  |\u001b[0m weighted example sum = 12604.000000\n",
      "\u001b[36malgo-1-cmtbt_1  |\u001b[0m weighted label sum = 0.000000\n",
      "\u001b[36malgo-1-cmtbt_1  |\u001b[0m average loss = 0.635128\n",
      "\u001b[36malgo-1-cmtbt_1  |\u001b[0m total feature number = 2036368\n",
      "\u001b[36malgo-1-cmtbt_1  |\u001b[0m \n",
      "\u001b[36malgo-1-cmtbt_1  |\u001b[0m INFO:root:Model learned using 2000 training experiences.\n",
      "\u001b[36malgo-1-cmtbt_1  |\u001b[0m 2020-08-12 01:15:33,083 sagemaker-containers INFO     Reporting training SUCCESS\n",
      "\u001b[36mtmprmnfbkv2_algo-1-cmtbt_1 exited with code 0\n",
      "\u001b[0mAborting on container exit...\n"
     ]
    },
    {
     "name": "stderr",
     "output_type": "stream",
     "text": [
      "WARNING:sagemaker.local.image:Failed to delete: /tmp/tmprmnfbkv2/algo-1-cmtbt Please remove it manually.\n"
     ]
    },
    {
     "name": "stdout",
     "output_type": "stream",
     "text": [
      "===== Job Complete =====\n"
     ]
    }
   ],
   "source": [
    "estimator = RLEstimator(entry_point='train.py',\n",
    "                        source_dir='src',\n",
    "                        image_name=vw_image_uri,\n",
    "                        role=role,\n",
    "                        train_instance_type=instance_type,\n",
    "                        train_instance_count=1,\n",
    "                        output_path=s3_output_path,\n",
    "                        base_job_name=job_name_prefix,\n",
    "                        hyperparameters = hyperparameters\n",
    "                    )\n",
    "\n",
    "estimator.fit(inputs={\"movielens\": movielens_data_s3_path}, wait=True)"
   ]
  },
  {
   "cell_type": "markdown",
   "metadata": {},
   "source": [
    "#### Download the outputs to plot performance"
   ]
  },
  {
   "cell_type": "markdown",
   "metadata": {},
   "source": [
    "Once the training is complete, we can download the regrets data to plot the performance of the bandit agent."
   ]
  },
  {
   "cell_type": "code",
   "execution_count": 11,
   "metadata": {},
   "outputs": [],
   "source": [
    "job_name = estimator.latest_training_job.job_name"
   ]
  },
  {
   "cell_type": "markdown",
   "metadata": {},
   "source": [
    "SageMaker saves the model in `model.tar.gz` and other job output in `output.tar.gz`"
   ]
  },
  {
   "cell_type": "code",
   "execution_count": 12,
   "metadata": {},
   "outputs": [],
   "source": [
    "if local_mode:\n",
    "    output_path_prefix = f\"{job_name}/output.tar.gz\"\n",
    "    model_path = f\"{job_name}/model.tar.gz\"\n",
    "    \n",
    "else:\n",
    "    output_path_prefix = f\"{job_name}/output/output.tar.gz\"\n",
    "    model_path = f\"{job_name}/output/model.tar.gz\"\n",
    "    \n",
    "sage_session.download_data(path=\"./output\", bucket=s3_bucket, key_prefix=output_path_prefix)"
   ]
  },
  {
   "cell_type": "code",
   "execution_count": 13,
   "metadata": {},
   "outputs": [
    {
     "name": "stdout",
     "output_type": "stream",
     "text": [
      "data/\n",
      "data/output.json\n",
      "intermediate/\n",
      "intermediate/.tmp.sagemaker_s3_sync/\n",
      "success\n"
     ]
    }
   ],
   "source": [
    "%%bash\n",
    "tar -C ./output -xvzf ./output/output.tar.gz"
   ]
  },
  {
   "cell_type": "code",
   "execution_count": 14,
   "metadata": {},
   "outputs": [],
   "source": [
    "if local_mode:\n",
    "    output_path_local = \"output/data/output.json\"\n",
    "else:\n",
    "    output_path_local = \"output/output.json\""
   ]
  },
  {
   "cell_type": "code",
   "execution_count": 15,
   "metadata": {},
   "outputs": [
    {
     "data": {
      "text/plain": [
       "<matplotlib.axes._subplots.AxesSubplot at 0x7f45e8a5e1d0>"
      ]
     },
     "execution_count": 15,
     "metadata": {},
     "output_type": "execute_result"
    },
    {
     "data": {
      "image/png": "[encoded data removed]",
      "text/plain": [
       "<Figure size 432x288 with 1 Axes>"
      ]
     },
     "metadata": {
      "needs_background": "light"
     },
     "output_type": "display_data"
    }
   ],
   "source": [
    "with open(output_path_local) as f:\n",
    "    all_regrets = json.load(f)\n",
    "    \n",
    "all_regrets = {key: np.cumsum(val) for key,val in all_regrets.items()}\n",
    "df = pd.DataFrame(all_regrets)\n",
    "df.plot(title=\"Cumulative Regret\")"
   ]
  },
  {
   "cell_type": "markdown",
   "metadata": {},
   "source": [
    "Regret at a time step is defined as the difference between the optimal reward that an agent can get and the actual reward that the agent got. "
   ]
  },
  {
   "cell_type": "markdown",
   "metadata": {},
   "source": [
    "As can be seen from the above plot, the bandit agent leads to a much lesser cumulative regret compared to choosing the actions at random. If we run the training for a larger no. of interactions (`total_interactions`), we will observe that the cumulative regret curve flattens out, which means that the agent has learned the user preferences successfully and training has converged."
   ]
  },
  {
   "cell_type": "markdown",
   "metadata": {},
   "source": [
    "Now, let's see how we can use the trained model to perform inference on new data."
   ]
  },
  {
   "cell_type": "markdown",
   "metadata": {},
   "source": [
    "### Create a SageMaker model for inference"
   ]
  },
  {
   "cell_type": "code",
   "execution_count": 16,
   "metadata": {},
   "outputs": [],
   "source": [
    "sage_session = sagemaker.local.LocalSession() if local_mode else sage_session"
   ]
  },
  {
   "cell_type": "code",
   "execution_count": 17,
   "metadata": {},
   "outputs": [
    {
     "name": "stderr",
     "output_type": "stream",
     "text": [
      "WARNING:sagemaker:Parameter image will be renamed to image_uri in SageMaker Python SDK v2.\n"
     ]
    }
   ],
   "source": [
    "bandit_model = sagemaker.model.Model(image=vw_image_uri,\n",
    "                                     role=role,\n",
    "                                     name='vw-model-1',\n",
    "                                     model_data=f's3://{s3_bucket}/{model_path}',\n",
    "                                     sagemaker_session=sage_session)"
   ]
  },
  {
   "cell_type": "markdown",
   "metadata": {},
   "source": [
    "Inference on SageMaker can be performed using the following two modes:\n",
    "- **[Batch Transform](https://docs.aws.amazon.com/sagemaker/latest/dg/batch-transform.html)**: Useful for scenarios that do not require a persistent serving endpoint with sub-second latency. As the name suggests, a batch transformation job processes a batch of data and is useful for achieving high throughput inference on large volumes of input data.\n",
    "- **Real-time inference**: This mode spins up a SageMaker HTTP web server end-point, that can serve predictions in real-time.\n",
    "\n",
    "We demonstrate both the modes in the cells below."
   ]
  },
  {
   "cell_type": "markdown",
   "metadata": {},
   "source": [
    "### 1. Batch Transform"
   ]
  },
  {
   "cell_type": "code",
   "execution_count": 18,
   "metadata": {},
   "outputs": [
    {
     "name": "stdout",
     "output_type": "stream",
     "text": [
      "Input path for batch transform: s3://sagemaker-us-east-1-835319576252/testbed-bandits-1-2020-08-12-01-15-23-635/batch_input/\n",
      "Output path for batch transform: s3://sagemaker-us-east-1-835319576252/testbed-bandits-1-2020-08-12-01-15-23-635/batch_output/\n"
     ]
    }
   ],
   "source": [
    "# setup input data prefix and output data prefix for batch transform\n",
    "\n",
    "# S3 prefix where we will upload the test dataset\n",
    "batch_input = f's3://{s3_bucket}/{job_name}/batch_input/'\n",
    "\n",
    "# S3 prefix where the batch transformation job will store the output\n",
    "batch_output = f's3://{s3_bucket}/{job_name}/batch_output/' \n",
    "\n",
    "print(\"Input path for batch transform: {}\".format(batch_input))\n",
    "print(\"Output path for batch transform: {}\".format(batch_output))"
   ]
  },
  {
   "cell_type": "code",
   "execution_count": 19,
   "metadata": {},
   "outputs": [],
   "source": [
    "# Let's create a transformer object that can launch batch transformation jobs\n",
    "\n",
    "batch_transformer = bandit_model.transformer(instance_count=1,\n",
    "                                             instance_type=instance_type,\n",
    "                                             output_path=batch_output,\n",
    "                                             assemble_with = 'Line',\n",
    "                                             accept = 'application/jsonlines',\n",
    "                                             max_payload=5,\n",
    "                                             max_concurrent_transforms=4,\n",
    "                                             strategy='MultiRecord'\n",
    "                                            )"
   ]
  },
  {
   "cell_type": "markdown",
   "metadata": {},
   "source": [
    "### Generating test dataset for inference"
   ]
  },
  {
   "cell_type": "markdown",
   "metadata": {},
   "source": [
    "Here we generate some test data instances using the MovieLens simulator."
   ]
  },
  {
   "cell_type": "code",
   "execution_count": 20,
   "metadata": {},
   "outputs": [],
   "source": [
    "from src.env import MovieLens100KEnv"
   ]
  },
  {
   "cell_type": "code",
   "execution_count": 21,
   "metadata": {},
   "outputs": [],
   "source": [
    "top_k = 5\n",
    "env = MovieLens100KEnv(data_dir='./ml-100k', item_pool_size=10, top_k=5, max_users=100)\n",
    "obs = env.reset()"
   ]
  },
  {
   "cell_type": "code",
   "execution_count": 22,
   "metadata": {},
   "outputs": [],
   "source": [
    "with open(\"test_data_batch.jsonlines\", \"w\") as f:\n",
    "    for i in range(100):\n",
    "        user_features, items_features = obs\n",
    "        data_instance = {\"shared_context\": user_features,\n",
    "                        \"actions_context\": items_features.tolist(),\n",
    "                        \"top_k\": 5,\n",
    "                        \"user_id\": env.current_user_id}\n",
    "        f.write(json.dumps(data_instance))\n",
    "        f.write(\"\\n\")\n",
    "\n",
    "        # Step env with random actions to get next user and candidate items\n",
    "        obs, _, done, _ = env.step(actions=np.arange(top_k))"
   ]
  },
  {
   "cell_type": "code",
   "execution_count": 23,
   "metadata": {},
   "outputs": [
    {
     "name": "stdout",
     "output_type": "stream",
     "text": [
      "{\"shared_context\": null, \"actions_context\": [[0.0, 0.0, 0.0, 0.0, 0.0, 0.0, 0.0, 0.0, 1.0, 0.0, 0.0, 0.0, 0.0, 0.0, 0.0, 1.0, 1.0, 0.0, 0.0], [0.0, 0.0, 0.0, 0.0, 0.0, 0.0, 0.0, 0.0, 1.0, 0.0, 0.0, 0.0, 0.0, 0.0, 1.0, 0.0, 0.0, 0.0, 0.0], [0.0, 0.0, 0.0, 0.0, 0.0, 0.0, 0.0, 0.0, 1.0, 0.0, 0.0, 0.0, 0.0, 0.0, 0.0, 0.0, 0.0, 0.0, 0.0], [0.0, 1.0, 0.0, 0.0, 0.0, 0.0, 0.0, 0.0, 0.0, 0.0, 0.0, 0.0, 0.0, 0.0, 0.0, 1.0, 0.0, 1.0, 0.0], [0.0, 0.0, 0.0, 0.0, 0.0, 0.0, 0.0, 0.0, 1.0, 0.0, 0.0, 0.0, 0.0, 0.0, 0.0, 0.0, 0.0, 0.0, 0.0], [0.0, 0.0, 0.0, 0.0, 0.0, 1.0, 0.0, 0.0, 0.0, 0.0, 0.0, 0.0, 0.0, 0.0, 0.0, 0.0, 0.0, 0.0, 0.0], [0.0, 0.0, 0.0, 0.0, 0.0, 1.0, 0.0, 0.0, 1.0, 0.0, 0.0, 0.0, 0.0, 0.0, 1.0, 0.0, 0.0, 0.0, 0.0], [0.0, 1.0, 0.0, 0.0, 0.0, 0.0, 0.0, 0.0, 0.0, 0.0, 0.0, 0.0, 0.0, 0.0, 0.0, 0.0, 0.0, 0.0, 1.0], [0.0, 0.0, 0.0, 0.0, 0.0, 0.0, 0.0, 0.0, 0.0, 0.0, 0.0, 0.0, 0.0, 0.0, 0.0, 0.0, 1.0, 0.0, 0.0], [0.0, 0.0, 1.0, 0.0, 0.0, 0.0, 0.0, 0.0, 1.0, 0.0, 0.0, 0.0, 0.0, 0.0, 0.0, 0.0, 0.0, 0.0, 1.0]], \"top_k\": 5, \"user_id\": 0}\n",
      "{\"shared_context\": null, \"actions_context\": [[0.0, 0.0, 0.0, 0.0, 0.0, 0.0, 0.0, 0.0, 1.0, 0.0, 0.0, 0.0, 0.0, 0.0, 0.0, 0.0, 0.0, 0.0, 0.0], [0.0, 1.0, 0.0, 0.0, 0.0, 0.0, 0.0, 0.0, 0.0, 0.0, 0.0, 0.0, 0.0, 0.0, 0.0, 1.0, 1.0, 0.0, 0.0], [0.0, 0.0, 0.0, 0.0, 0.0, 0.0, 0.0, 0.0, 1.0, 0.0, 0.0, 0.0, 0.0, 0.0, 0.0, 0.0, 0.0, 1.0, 0.0], [0.0, 0.0, 0.0, 0.0, 0.0, 1.0, 0.0, 0.0, 0.0, 0.0, 0.0, 0.0, 0.0, 0.0, 1.0, 0.0, 0.0, 0.0, 0.0], [0.0, 0.0, 0.0, 1.0, 1.0, 1.0, 0.0, 0.0, 0.0, 0.0, 0.0, 0.0, 0.0, 0.0, 0.0, 0.0, 0.0, 0.0, 0.0], [0.0, 0.0, 0.0, 0.0, 0.0, 0.0, 0.0, 0.0, 1.0, 0.0, 0.0, 0.0, 0.0, 0.0, 1.0, 0.0, 0.0, 0.0, 0.0], [0.0, 0.0, 0.0, 0.0, 0.0, 0.0, 0.0, 0.0, 1.0, 0.0, 0.0, 0.0, 0.0, 0.0, 1.0, 0.0, 0.0, 0.0, 0.0], [0.0, 0.0, 0.0, 0.0, 0.0, 0.0, 0.0, 0.0, 1.0, 0.0, 0.0, 0.0, 0.0, 0.0, 0.0, 0.0, 0.0, 0.0, 0.0], [0.0, 0.0, 0.0, 0.0, 0.0, 0.0, 0.0, 0.0, 1.0, 0.0, 0.0, 0.0, 0.0, 0.0, 0.0, 0.0, 0.0, 0.0, 0.0], [0.0, 0.0, 0.0, 0.0, 0.0, 1.0, 0.0, 0.0, 0.0, 0.0, 0.0, 0.0, 0.0, 0.0, 1.0, 0.0, 0.0, 0.0, 0.0]], \"top_k\": 5, \"user_id\": 1}\n"
     ]
    }
   ],
   "source": [
    "%%bash\n",
    "head -n2 test_data_batch.jsonlines"
   ]
  },
  {
   "cell_type": "markdown",
   "metadata": {},
   "source": [
    "Let's upload this data to S3. Note that the format of the file should be `jsonlines`, which means each line of the file is a JSON dictionary."
   ]
  },
  {
   "cell_type": "code",
   "execution_count": 24,
   "metadata": {},
   "outputs": [
    {
     "data": {
      "text/plain": [
       "'s3://sagemaker-us-east-1-835319576252/testbed-bandits-1-2020-08-12-01-15-23-635/batch_input/test_data_batch.jsonlines'"
      ]
     },
     "execution_count": 24,
     "metadata": {},
     "output_type": "execute_result"
    }
   ],
   "source": [
    "sage_session.upload_data(path=\"test_data_batch.jsonlines\", bucket=s3_bucket, key_prefix=f\"{job_name}/batch_input\")"
   ]
  },
  {
   "cell_type": "code",
   "execution_count": 25,
   "metadata": {},
   "outputs": [
    {
     "name": "stderr",
     "output_type": "stream",
     "text": [
      "WARNING:sagemaker.local.entities:Local Mode only supports 1 ConcurrentTransform. Setting MaxConcurrentTransforms to 1\n"
     ]
    },
    {
     "ename": "JSONDecodeError",
     "evalue": "Expecting value: line 1 column 1 (char 0)",
     "output_type": "error",
     "traceback": [
      "\u001b[0;31m---------------------------------------------------------------------------\u001b[0m",
      "\u001b[0;31mJSONDecodeError\u001b[0m                           Traceback (most recent call last)",
      "\u001b[0;32m<ipython-input-25-14fc7b27deac>\u001b[0m in \u001b[0;36m<module>\u001b[0;34m\u001b[0m\n\u001b[1;32m      3\u001b[0m                             \u001b[0mcontent_type\u001b[0m\u001b[0;34m=\u001b[0m\u001b[0;34m'application/jsonlines'\u001b[0m\u001b[0;34m,\u001b[0m\u001b[0;34m\u001b[0m\u001b[0;34m\u001b[0m\u001b[0m\n\u001b[1;32m      4\u001b[0m                             \u001b[0msplit_type\u001b[0m\u001b[0;34m=\u001b[0m\u001b[0;34m'Line'\u001b[0m\u001b[0;34m,\u001b[0m\u001b[0;34m\u001b[0m\u001b[0;34m\u001b[0m\u001b[0m\n\u001b[0;32m----> 5\u001b[0;31m                             join_source='Input')\n\u001b[0m\u001b[1;32m      6\u001b[0m \u001b[0mbatch_transformer\u001b[0m\u001b[0;34m.\u001b[0m\u001b[0mwait\u001b[0m\u001b[0;34m(\u001b[0m\u001b[0;34m)\u001b[0m\u001b[0;34m\u001b[0m\u001b[0;34m\u001b[0m\u001b[0m\n",
      "\u001b[0;32m~/anaconda3/envs/python3/lib/python3.6/site-packages/sagemaker/transformer.py\u001b[0m in \u001b[0;36mtransform\u001b[0;34m(self, data, data_type, content_type, compression_type, split_type, job_name, input_filter, output_filter, join_source, experiment_config, model_client_config, wait, logs)\u001b[0m\n\u001b[1;32m    214\u001b[0m             \u001b[0mjoin_source\u001b[0m\u001b[0;34m,\u001b[0m\u001b[0;34m\u001b[0m\u001b[0;34m\u001b[0m\u001b[0m\n\u001b[1;32m    215\u001b[0m             \u001b[0mexperiment_config\u001b[0m\u001b[0;34m,\u001b[0m\u001b[0;34m\u001b[0m\u001b[0;34m\u001b[0m\u001b[0m\n\u001b[0;32m--> 216\u001b[0;31m             \u001b[0mmodel_client_config\u001b[0m\u001b[0;34m,\u001b[0m\u001b[0;34m\u001b[0m\u001b[0;34m\u001b[0m\u001b[0m\n\u001b[0m\u001b[1;32m    217\u001b[0m         )\n\u001b[1;32m    218\u001b[0m \u001b[0;34m\u001b[0m\u001b[0m\n",
      "\u001b[0;32m~/anaconda3/envs/python3/lib/python3.6/site-packages/sagemaker/transformer.py\u001b[0m in \u001b[0;36mstart_new\u001b[0;34m(cls, transformer, data, data_type, content_type, compression_type, split_type, input_filter, output_filter, join_source, experiment_config, model_client_config)\u001b[0m\n\u001b[1;32m    385\u001b[0m             \u001b[0mmodel_client_config\u001b[0m\u001b[0;34m=\u001b[0m\u001b[0mmodel_client_config\u001b[0m\u001b[0;34m,\u001b[0m\u001b[0;34m\u001b[0m\u001b[0;34m\u001b[0m\u001b[0m\n\u001b[1;32m    386\u001b[0m             \u001b[0mtags\u001b[0m\u001b[0;34m=\u001b[0m\u001b[0mtransformer\u001b[0m\u001b[0;34m.\u001b[0m\u001b[0mtags\u001b[0m\u001b[0;34m,\u001b[0m\u001b[0;34m\u001b[0m\u001b[0;34m\u001b[0m\u001b[0m\n\u001b[0;32m--> 387\u001b[0;31m             \u001b[0mdata_processing\u001b[0m\u001b[0;34m=\u001b[0m\u001b[0mdata_processing\u001b[0m\u001b[0;34m,\u001b[0m\u001b[0;34m\u001b[0m\u001b[0;34m\u001b[0m\u001b[0m\n\u001b[0m\u001b[1;32m    388\u001b[0m         )\n\u001b[1;32m    389\u001b[0m \u001b[0;34m\u001b[0m\u001b[0m\n",
      "\u001b[0;32m~/anaconda3/envs/python3/lib/python3.6/site-packages/sagemaker/session.py\u001b[0m in \u001b[0;36mtransform\u001b[0;34m(self, job_name, model_name, strategy, max_concurrent_transforms, max_payload, env, input_config, output_config, resource_config, experiment_config, tags, data_processing, model_client_config)\u001b[0m\n\u001b[1;32m   2060\u001b[0m         \u001b[0mLOGGER\u001b[0m\u001b[0;34m.\u001b[0m\u001b[0minfo\u001b[0m\u001b[0;34m(\u001b[0m\u001b[0;34m\"Creating transform job with name: %s\"\u001b[0m\u001b[0;34m,\u001b[0m \u001b[0mjob_name\u001b[0m\u001b[0;34m)\u001b[0m\u001b[0;34m\u001b[0m\u001b[0;34m\u001b[0m\u001b[0m\n\u001b[1;32m   2061\u001b[0m         \u001b[0mLOGGER\u001b[0m\u001b[0;34m.\u001b[0m\u001b[0mdebug\u001b[0m\u001b[0;34m(\u001b[0m\u001b[0;34m\"Transform request: %s\"\u001b[0m\u001b[0;34m,\u001b[0m \u001b[0mjson\u001b[0m\u001b[0;34m.\u001b[0m\u001b[0mdumps\u001b[0m\u001b[0;34m(\u001b[0m\u001b[0mtransform_request\u001b[0m\u001b[0;34m,\u001b[0m \u001b[0mindent\u001b[0m\u001b[0;34m=\u001b[0m\u001b[0;36m4\u001b[0m\u001b[0;34m)\u001b[0m\u001b[0;34m)\u001b[0m\u001b[0;34m\u001b[0m\u001b[0;34m\u001b[0m\u001b[0m\n\u001b[0;32m-> 2062\u001b[0;31m         \u001b[0mself\u001b[0m\u001b[0;34m.\u001b[0m\u001b[0msagemaker_client\u001b[0m\u001b[0;34m.\u001b[0m\u001b[0mcreate_transform_job\u001b[0m\u001b[0;34m(\u001b[0m\u001b[0;34m**\u001b[0m\u001b[0mtransform_request\u001b[0m\u001b[0;34m)\u001b[0m\u001b[0;34m\u001b[0m\u001b[0;34m\u001b[0m\u001b[0m\n\u001b[0m\u001b[1;32m   2063\u001b[0m \u001b[0;34m\u001b[0m\u001b[0m\n\u001b[1;32m   2064\u001b[0m     def create_model(\n",
      "\u001b[0;32m~/anaconda3/envs/python3/lib/python3.6/site-packages/sagemaker/local/local_session.py\u001b[0m in \u001b[0;36mcreate_transform_job\u001b[0;34m(self, TransformJobName, ModelName, TransformInput, TransformOutput, TransformResources, **kwargs)\u001b[0m\n\u001b[1;32m    148\u001b[0m         \u001b[0mtransform_job\u001b[0m \u001b[0;34m=\u001b[0m \u001b[0m_LocalTransformJob\u001b[0m\u001b[0;34m(\u001b[0m\u001b[0mTransformJobName\u001b[0m\u001b[0;34m,\u001b[0m \u001b[0mModelName\u001b[0m\u001b[0;34m,\u001b[0m \u001b[0mself\u001b[0m\u001b[0;34m.\u001b[0m\u001b[0msagemaker_session\u001b[0m\u001b[0;34m)\u001b[0m\u001b[0;34m\u001b[0m\u001b[0;34m\u001b[0m\u001b[0m\n\u001b[1;32m    149\u001b[0m         \u001b[0mLocalSagemakerClient\u001b[0m\u001b[0;34m.\u001b[0m\u001b[0m_transform_jobs\u001b[0m\u001b[0;34m[\u001b[0m\u001b[0mTransformJobName\u001b[0m\u001b[0;34m]\u001b[0m \u001b[0;34m=\u001b[0m \u001b[0mtransform_job\u001b[0m\u001b[0;34m\u001b[0m\u001b[0;34m\u001b[0m\u001b[0m\n\u001b[0;32m--> 150\u001b[0;31m         \u001b[0mtransform_job\u001b[0m\u001b[0;34m.\u001b[0m\u001b[0mstart\u001b[0m\u001b[0;34m(\u001b[0m\u001b[0mTransformInput\u001b[0m\u001b[0;34m,\u001b[0m \u001b[0mTransformOutput\u001b[0m\u001b[0;34m,\u001b[0m \u001b[0mTransformResources\u001b[0m\u001b[0;34m,\u001b[0m \u001b[0;34m**\u001b[0m\u001b[0mkwargs\u001b[0m\u001b[0;34m)\u001b[0m\u001b[0;34m\u001b[0m\u001b[0;34m\u001b[0m\u001b[0m\n\u001b[0m\u001b[1;32m    151\u001b[0m \u001b[0;34m\u001b[0m\u001b[0m\n\u001b[1;32m    152\u001b[0m     \u001b[0;32mdef\u001b[0m \u001b[0mdescribe_transform_job\u001b[0m\u001b[0;34m(\u001b[0m\u001b[0mself\u001b[0m\u001b[0;34m,\u001b[0m \u001b[0mTransformJobName\u001b[0m\u001b[0;34m)\u001b[0m\u001b[0;34m:\u001b[0m\u001b[0;34m\u001b[0m\u001b[0;34m\u001b[0m\u001b[0m\n",
      "\u001b[0;32m~/anaconda3/envs/python3/lib/python3.6/site-packages/sagemaker/local/entities.py\u001b[0m in \u001b[0;36mstart\u001b[0;34m(self, input_data, output_data, transform_resources, **kwargs)\u001b[0m\n\u001b[1;32m    180\u001b[0m         \u001b[0mresponse\u001b[0m\u001b[0;34m,\u001b[0m \u001b[0mcode\u001b[0m \u001b[0;34m=\u001b[0m \u001b[0m_perform_request\u001b[0m\u001b[0;34m(\u001b[0m\u001b[0mendpoint_url\u001b[0m\u001b[0;34m)\u001b[0m\u001b[0;34m\u001b[0m\u001b[0;34m\u001b[0m\u001b[0m\n\u001b[1;32m    181\u001b[0m         \u001b[0;32mif\u001b[0m \u001b[0mcode\u001b[0m \u001b[0;34m==\u001b[0m \u001b[0;36m200\u001b[0m\u001b[0;34m:\u001b[0m\u001b[0;34m\u001b[0m\u001b[0;34m\u001b[0m\u001b[0m\n\u001b[0;32m--> 182\u001b[0;31m             \u001b[0mexecution_parameters\u001b[0m \u001b[0;34m=\u001b[0m \u001b[0mjson\u001b[0m\u001b[0;34m.\u001b[0m\u001b[0mloads\u001b[0m\u001b[0;34m(\u001b[0m\u001b[0mresponse\u001b[0m\u001b[0;34m.\u001b[0m\u001b[0mread\u001b[0m\u001b[0;34m(\u001b[0m\u001b[0;34m)\u001b[0m\u001b[0;34m)\u001b[0m\u001b[0;34m\u001b[0m\u001b[0;34m\u001b[0m\u001b[0m\n\u001b[0m\u001b[1;32m    183\u001b[0m             \u001b[0;31m# MaxConcurrentTransforms is ignored because we currently only support 1\u001b[0m\u001b[0;34m\u001b[0m\u001b[0;34m\u001b[0m\u001b[0;34m\u001b[0m\u001b[0m\n\u001b[1;32m    184\u001b[0m             \u001b[0;32mfor\u001b[0m \u001b[0msetting\u001b[0m \u001b[0;32min\u001b[0m \u001b[0;34m(\u001b[0m\u001b[0;34m\"BatchStrategy\"\u001b[0m\u001b[0;34m,\u001b[0m \u001b[0;34m\"MaxPayloadInMB\"\u001b[0m\u001b[0;34m)\u001b[0m\u001b[0;34m:\u001b[0m\u001b[0;34m\u001b[0m\u001b[0;34m\u001b[0m\u001b[0m\n",
      "\u001b[0;32m~/anaconda3/envs/python3/lib/python3.6/json/__init__.py\u001b[0m in \u001b[0;36mloads\u001b[0;34m(s, encoding, cls, object_hook, parse_float, parse_int, parse_constant, object_pairs_hook, **kw)\u001b[0m\n\u001b[1;32m    352\u001b[0m             \u001b[0mparse_int\u001b[0m \u001b[0;32mis\u001b[0m \u001b[0;32mNone\u001b[0m \u001b[0;32mand\u001b[0m \u001b[0mparse_float\u001b[0m \u001b[0;32mis\u001b[0m \u001b[0;32mNone\u001b[0m \u001b[0;32mand\u001b[0m\u001b[0;34m\u001b[0m\u001b[0;34m\u001b[0m\u001b[0m\n\u001b[1;32m    353\u001b[0m             parse_constant is None and object_pairs_hook is None and not kw):\n\u001b[0;32m--> 354\u001b[0;31m         \u001b[0;32mreturn\u001b[0m \u001b[0m_default_decoder\u001b[0m\u001b[0;34m.\u001b[0m\u001b[0mdecode\u001b[0m\u001b[0;34m(\u001b[0m\u001b[0ms\u001b[0m\u001b[0;34m)\u001b[0m\u001b[0;34m\u001b[0m\u001b[0;34m\u001b[0m\u001b[0m\n\u001b[0m\u001b[1;32m    355\u001b[0m     \u001b[0;32mif\u001b[0m \u001b[0mcls\u001b[0m \u001b[0;32mis\u001b[0m \u001b[0;32mNone\u001b[0m\u001b[0;34m:\u001b[0m\u001b[0;34m\u001b[0m\u001b[0;34m\u001b[0m\u001b[0m\n\u001b[1;32m    356\u001b[0m         \u001b[0mcls\u001b[0m \u001b[0;34m=\u001b[0m \u001b[0mJSONDecoder\u001b[0m\u001b[0;34m\u001b[0m\u001b[0;34m\u001b[0m\u001b[0m\n",
      "\u001b[0;32m~/anaconda3/envs/python3/lib/python3.6/json/decoder.py\u001b[0m in \u001b[0;36mdecode\u001b[0;34m(self, s, _w)\u001b[0m\n\u001b[1;32m    337\u001b[0m \u001b[0;34m\u001b[0m\u001b[0m\n\u001b[1;32m    338\u001b[0m         \"\"\"\n\u001b[0;32m--> 339\u001b[0;31m         \u001b[0mobj\u001b[0m\u001b[0;34m,\u001b[0m \u001b[0mend\u001b[0m \u001b[0;34m=\u001b[0m \u001b[0mself\u001b[0m\u001b[0;34m.\u001b[0m\u001b[0mraw_decode\u001b[0m\u001b[0;34m(\u001b[0m\u001b[0ms\u001b[0m\u001b[0;34m,\u001b[0m \u001b[0midx\u001b[0m\u001b[0;34m=\u001b[0m\u001b[0m_w\u001b[0m\u001b[0;34m(\u001b[0m\u001b[0ms\u001b[0m\u001b[0;34m,\u001b[0m \u001b[0;36m0\u001b[0m\u001b[0;34m)\u001b[0m\u001b[0;34m.\u001b[0m\u001b[0mend\u001b[0m\u001b[0;34m(\u001b[0m\u001b[0;34m)\u001b[0m\u001b[0;34m)\u001b[0m\u001b[0;34m\u001b[0m\u001b[0;34m\u001b[0m\u001b[0m\n\u001b[0m\u001b[1;32m    340\u001b[0m         \u001b[0mend\u001b[0m \u001b[0;34m=\u001b[0m \u001b[0m_w\u001b[0m\u001b[0;34m(\u001b[0m\u001b[0ms\u001b[0m\u001b[0;34m,\u001b[0m \u001b[0mend\u001b[0m\u001b[0;34m)\u001b[0m\u001b[0;34m.\u001b[0m\u001b[0mend\u001b[0m\u001b[0;34m(\u001b[0m\u001b[0;34m)\u001b[0m\u001b[0;34m\u001b[0m\u001b[0;34m\u001b[0m\u001b[0m\n\u001b[1;32m    341\u001b[0m         \u001b[0;32mif\u001b[0m \u001b[0mend\u001b[0m \u001b[0;34m!=\u001b[0m \u001b[0mlen\u001b[0m\u001b[0;34m(\u001b[0m\u001b[0ms\u001b[0m\u001b[0;34m)\u001b[0m\u001b[0;34m:\u001b[0m\u001b[0;34m\u001b[0m\u001b[0;34m\u001b[0m\u001b[0m\n",
      "\u001b[0;32m~/anaconda3/envs/python3/lib/python3.6/json/decoder.py\u001b[0m in \u001b[0;36mraw_decode\u001b[0;34m(self, s, idx)\u001b[0m\n\u001b[1;32m    355\u001b[0m             \u001b[0mobj\u001b[0m\u001b[0;34m,\u001b[0m \u001b[0mend\u001b[0m \u001b[0;34m=\u001b[0m \u001b[0mself\u001b[0m\u001b[0;34m.\u001b[0m\u001b[0mscan_once\u001b[0m\u001b[0;34m(\u001b[0m\u001b[0ms\u001b[0m\u001b[0;34m,\u001b[0m \u001b[0midx\u001b[0m\u001b[0;34m)\u001b[0m\u001b[0;34m\u001b[0m\u001b[0;34m\u001b[0m\u001b[0m\n\u001b[1;32m    356\u001b[0m         \u001b[0;32mexcept\u001b[0m \u001b[0mStopIteration\u001b[0m \u001b[0;32mas\u001b[0m \u001b[0merr\u001b[0m\u001b[0;34m:\u001b[0m\u001b[0;34m\u001b[0m\u001b[0;34m\u001b[0m\u001b[0m\n\u001b[0;32m--> 357\u001b[0;31m             \u001b[0;32mraise\u001b[0m \u001b[0mJSONDecodeError\u001b[0m\u001b[0;34m(\u001b[0m\u001b[0;34m\"Expecting value\"\u001b[0m\u001b[0;34m,\u001b[0m \u001b[0ms\u001b[0m\u001b[0;34m,\u001b[0m \u001b[0merr\u001b[0m\u001b[0;34m.\u001b[0m\u001b[0mvalue\u001b[0m\u001b[0;34m)\u001b[0m \u001b[0;32mfrom\u001b[0m \u001b[0;32mNone\u001b[0m\u001b[0;34m\u001b[0m\u001b[0;34m\u001b[0m\u001b[0m\n\u001b[0m\u001b[1;32m    358\u001b[0m         \u001b[0;32mreturn\u001b[0m \u001b[0mobj\u001b[0m\u001b[0;34m,\u001b[0m \u001b[0mend\u001b[0m\u001b[0;34m\u001b[0m\u001b[0;34m\u001b[0m\u001b[0m\n",
      "\u001b[0;31mJSONDecodeError\u001b[0m: Expecting value: line 1 column 1 (char 0)"
     ]
    }
   ],
   "source": [
    "batch_transformer.transform(data=batch_input,\n",
    "                            data_type='S3Prefix',\n",
    "                            content_type='application/jsonlines',\n",
    "                            split_type='Line',\n",
    "                            join_source='Input')\n",
    "batch_transformer.wait()"
   ]
  },
  {
   "cell_type": "markdown",
   "metadata": {},
   "source": [
    "### Download batch transform results"
   ]
  },
  {
   "cell_type": "code",
   "execution_count": null,
   "metadata": {},
   "outputs": [],
   "source": [
    "job_name"
   ]
  },
  {
   "cell_type": "code",
   "execution_count": null,
   "metadata": {},
   "outputs": [],
   "source": [
    "batch_transformer._current_job_name"
   ]
  },
  {
   "cell_type": "code",
   "execution_count": null,
   "metadata": {},
   "outputs": [],
   "source": [
    "if local_mode:\n",
    "    batch_output_prefix = f\"{job_name}/batch_output/{batch_transformer._current_job_name}/\"\n",
    "else:\n",
    "    batch_output_prefix = f\"{job_name}/batch_output/\"\n",
    "    \n",
    "sage_session.download_data(path=\"./output\", bucket=s3_bucket, key_prefix=batch_output_prefix)"
   ]
  },
  {
   "cell_type": "markdown",
   "metadata": {},
   "source": [
    "Let's inspect the head of the results."
   ]
  },
  {
   "cell_type": "code",
   "execution_count": null,
   "metadata": {},
   "outputs": [],
   "source": [
    "%%bash\n",
    "head -n5 ./output/test_data_batch.jsonlines.out"
   ]
  },
  {
   "cell_type": "markdown",
   "metadata": {},
   "source": [
    "### 2. Real-time inference"
   ]
  },
  {
   "cell_type": "markdown",
   "metadata": {},
   "source": [
    "If we want to do real-time inference, we can deploy the model behind a SageMaker endpoint and make requests as shown below:"
   ]
  },
  {
   "cell_type": "code",
   "execution_count": null,
   "metadata": {},
   "outputs": [],
   "source": [
    "bandit_model.deploy(initial_instance_count=1, \n",
    "                    instance_type='ml.m5.large', \n",
    "                    endpoint_name='bandit')"
   ]
  },
  {
   "cell_type": "code",
   "execution_count": null,
   "metadata": {},
   "outputs": [],
   "source": [
    "predictor = sagemaker.predictor.RealTimePredictor(endpoint=\"bandit\",\n",
    "                                                  sagemaker_session=bandit_model.sagemaker_session,\n",
    "                                                  serializer=sagemaker.predictor.json_serializer,\n",
    "                                                  deserializer=sagemaker.predictor.json_deserializer,\n",
    "                                                 )"
   ]
  },
  {
   "cell_type": "code",
   "execution_count": null,
   "metadata": {},
   "outputs": [],
   "source": [
    "predictor.predict({\"shared_context\": None, \"actions_context\": [[0, 0, 1], [1, 0, 0], [1, 1, 1]], \"top_k\": 2})"
   ]
  },
  {
   "cell_type": "markdown",
   "metadata": {},
   "source": [
    "### Clean Up endpoint"
   ]
  },
  {
   "cell_type": "code",
   "execution_count": null,
   "metadata": {},
   "outputs": [
    {
     "name": "stderr",
     "output_type": "stream",
     "text": [
      "Exception in thread Thread-4:\n",
      "Traceback (most recent call last):\n",
      "  File \"/home/ec2-user/anaconda3/envs/python3/lib/python3.6/site-packages/sagemaker/local/image.py\", line 618, in run\n",
      "    _stream_output(self.process)\n",
      "  File \"/home/ec2-user/anaconda3/envs/python3/lib/python3.6/site-packages/sagemaker/local/image.py\", line 677, in _stream_output\n",
      "    raise RuntimeError(\"Process exited with code: %s\" % exit_code)\n",
      "RuntimeError: Process exited with code: 1\n",
      "\n",
      "During handling of the above exception, another exception occurred:\n",
      "\n",
      "Traceback (most recent call last):\n",
      "  File \"/home/ec2-user/anaconda3/envs/python3/lib/python3.6/threading.py\", line 916, in _bootstrap_inner\n",
      "    self.run()\n",
      "  File \"/home/ec2-user/anaconda3/envs/python3/lib/python3.6/site-packages/sagemaker/local/image.py\", line 623, in run\n",
      "    raise RuntimeError(msg)\n",
      "RuntimeError: Failed to run: ['docker-compose', '-f', '/tmp/tmpy46gkc_h/docker-compose.yaml', 'up', '--build', '--abort-on-container-exit'], Process exited with code: 1\n",
      "\n"
     ]
    }
   ],
   "source": [
    "#if \"predictor\" in locals():\n",
    "predictor.delete_endpoint()"
   ]
  },
  {
   "cell_type": "code",
   "execution_count": null,
   "metadata": {},
   "outputs": [],
   "source": []
  }
 ],
 "metadata": {
  "kernelspec": {
   "display_name": "conda_python3",
   "language": "python",
   "name": "conda_python3"
  },
  "language_info": {
   "codemirror_mode": {
    "name": "ipython",
    "version": 3
   },
   "file_extension": ".py",
   "mimetype": "text/x-python",
   "name": "python",
   "nbconvert_exporter": "python",
   "pygments_lexer": "ipython3",
   "version": "3.6.10"
  }
 },
 "nbformat": 4,
 "nbformat_minor": 4
}
