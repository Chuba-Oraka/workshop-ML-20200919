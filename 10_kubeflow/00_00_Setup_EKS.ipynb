{
 "cells": [
  {
   "cell_type": "code",
   "execution_count": null,
   "metadata": {},
   "outputs": [],
   "source": [
    "import sys\n",
    "print('Python Version %s' % sys.version)"
   ]
  },
  {
   "cell_type": "code",
   "execution_count": null,
   "metadata": {},
   "outputs": [],
   "source": [
    "!pip list"
   ]
  },
  {
   "cell_type": "code",
   "execution_count": null,
   "metadata": {},
   "outputs": [],
   "source": [
    "%%bash\n",
    "conda list"
   ]
  },
  {
   "cell_type": "code",
   "execution_count": null,
   "metadata": {},
   "outputs": [],
   "source": [
    "%%html\n",
    "\n",
    "<iframe src=\"https://datascienceonaws.com\" width=\"800px\" height=\"600px\"/>"
   ]
  },
  {
   "cell_type": "markdown",
   "metadata": {},
   "source": [
    "# 1. Install the CLI tools\n",
    "\n",
    "_Note:  Make sure the SageMaker role has access to create EKS Cluster._"
   ]
  },
  {
   "cell_type": "code",
   "execution_count": null,
   "metadata": {},
   "outputs": [],
   "source": [
    "%%bash\n",
    "\n",
    "source ~/.bash_profile\n",
    "\n",
    "#### Install `eksctl`\n",
    "# To get started we'll first install the `awscli` and `eksctl` CLI tools. [eksctl](https://eksctl.io) simplifies the process of creating EKS clusters.\n",
    "\n",
    "pip install awscli --upgrade --user\n",
    "\n",
    "curl --silent --location \"https://github.com/weaveworks/eksctl/releases/latest/download/eksctl_$(uname -s)_amd64.tar.gz\" | tar xz -C /tmp\n",
    "\n",
    "sudo mv /tmp/eksctl /usr/local/bin\n",
    "\n",
    "eksctl version\n",
    "\n",
    "#### Install `kubectl`\n",
    "# `kubectl` is a command line interface for running commands against Kubernetes clusters. \n",
    "# Run the following to install Kubectl\n",
    "\n",
    "curl -o kubectl https://amazon-eks.s3-us-west-2.amazonaws.com/1.14.6/2019-08-22/bin/linux/amd64/kubectl\n",
    "\n",
    "chmod +x ./kubectl\n",
    "\n",
    "sudo mv ./kubectl /usr/local/bin\n",
    "\n",
    "kubectl version --short --client\n",
    "\n",
    "#### Install `aws-iam-authenticator`\n",
    "\n",
    "curl -o aws-iam-authenticator https://amazon-eks.s3-us-west-2.amazonaws.com/1.14.6/2019-08-22/bin/linux/amd64/aws-iam-authenticator\n",
    "\n",
    "chmod +x ./aws-iam-authenticator\n",
    "\n",
    "sudo mv aws-iam-authenticator /usr/local/bin\n",
    "\n",
    "aws-iam-authenticator version\n",
    "\n",
    "#### Install jq and envsubst (from GNU gettext utilities) \n",
    "sudo yum -y install jq gettext\n",
    "\n",
    "#### Verify the binaries are in the path and executable\n",
    "for command in kubectl jq envsubst\n",
    "  do\n",
    "    which $command &>/dev/null && echo \"$command in path\" || echo \"$command NOT FOUND\"\n",
    "  done\n",
    "\n",
    "echo \"Completed\""
   ]
  },
  {
   "cell_type": "markdown",
   "metadata": {},
   "source": [
    "# 2. Configure the Environment Variables"
   ]
  },
  {
   "cell_type": "code",
   "execution_count": null,
   "metadata": {},
   "outputs": [],
   "source": [
    "%%bash\n",
    "\n",
    "source ~/.bash_profile\n",
    "\n",
    "export AWS_REGION=$(aws configure get region)\n",
    "echo \"export AWS_REGION=${AWS_REGION}\" | tee -a ~/.bash_profile\n",
    "\n",
    "export AWS_CLUSTER_NAME=cluster\n",
    "echo \"export AWS_CLUSTER_NAME=${AWS_CLUSTER_NAME}\" | tee -a ~/.bash_profile\n",
    "\n",
    "echo \"Completed\""
   ]
  },
  {
   "cell_type": "markdown",
   "metadata": {},
   "source": [
    "# 3. Create the EKS Cluster\n",
    "\n",
    "_Note:  Creating a cluster may take about 15 minutes.  Please be patient._"
   ]
  },
  {
   "cell_type": "code",
   "execution_count": null,
   "metadata": {},
   "outputs": [],
   "source": [
    "%%bash\n",
    "\n",
    "source ~/.bash_profile\n",
    "\n",
    "eksctl create cluster \\\n",
    "    --name ${AWS_CLUSTER_NAME} \\\n",
    "    --version 1.14 \\\n",
    "    --region ${AWS_REGION} \\\n",
    "    --nodegroup-name cpu-nodes \\\n",
    "    --node-type c5.xlarge \\\n",
    "    --nodes 3 \\\n",
    "    --node-volume-size 100 \\\n",
    "    --node-zones us-west-2a \\\n",
    "    --timeout=40m \\\n",
    "    --zones=us-west-2a,us-west-2b,us-west-2c \\\n",
    "    --alb-ingress-access \\\n",
    "    --managed \\\n",
    "    --auto-kubeconfig\n",
    "    \n",
    "echo \"Completed\""
   ]
  },
  {
   "cell_type": "markdown",
   "metadata": {},
   "source": [
    "# --- Please wait until the EKS cluster is succesfully deployed before you continue! ---"
   ]
  },
  {
   "cell_type": "markdown",
   "metadata": {},
   "source": [
    "![](img/verify_eks.png)"
   ]
  },
  {
   "cell_type": "markdown",
   "metadata": {},
   "source": [
    "# 4. Associate IAM Policies with EKS Worker Nodes\n"
   ]
  },
  {
   "cell_type": "code",
   "execution_count": null,
   "metadata": {},
   "outputs": [],
   "source": [
    "%%bash\n",
    "\n",
    "### Source the environment\n",
    "source ~/.bash_profile\n",
    "\n",
    "### Create more environment variables\n",
    "export STACK_NAME=$(eksctl get nodegroup --cluster ${AWS_CLUSTER_NAME} -o json | jq -r '.[].StackName')\n",
    "echo \"export STACK_NAME=${STACK_NAME}\" | tee -a ~/.bash_profile\n",
    "\n",
    "export INSTANCE_ROLE_NAME=$(aws iam list-roles \\\n",
    "    | jq -r \".Roles[] \\\n",
    "    | select(.RoleName \\\n",
    "    | startswith(\\\"eksctl-$AWS_CLUSTER_NAME\\\") and contains(\\\"NodeInstanceRole\\\")) \\\n",
    "    .RoleName\")\n",
    "#export INSTANCE_ROLE_NAME=$(aws cloudformation describe-stacks --stack-name $STACK_NAME --output text --query \"Stacks[0].Outputs[1].OutputValue\" | sed -e 's/.*\\///g')\n",
    "echo \"export INSTANCE_ROLE_NAME=${INSTANCE_ROLE_NAME}\" | tee -a ~/.bash_profile\n",
    "\n",
    "#export INSTANCE_PROFILE_ARN=$(aws cloudformation describe-stacks --stack-name $STACK_NAME | jq -r '.Stacks[].Outputs[] | select(.OutputKey==\"InstanceProfileARN\") | .OutputValue')\n",
    "export INSTANCE_PROFILE_ARN=$(aws iam list-roles \\\n",
    "    | jq -r \".Roles[] \\\n",
    "    | select(.RoleName \\\n",
    "    | startswith(\\\"eksctl-$AWS_CLUSTER_NAME\\\") and contains(\\\"NodeInstanceRole\\\")) \\\n",
    "    .Arn\")\n",
    "echo \"export INSTANCE_PROFILE_ARN=${INSTANCE_PROFILE_ARN}\" | tee -a ~/.bash_profile\n",
    "\n",
    "#### Allow Access from/to the Elastic Container Registry (ECR)\n",
    "# This allows our cluster worker nodes to load custom Docker images (ie. models) from ECR.  We will load these custom Docker images in a later section.\n",
    "aws iam attach-role-policy --role-name $INSTANCE_ROLE_NAME --policy-arn arn:aws:iam::aws:policy/AmazonEC2ContainerRegistryFullAccess\n",
    "\n",
    "### Associated IAM and OIDC\n",
    "# To use IAM roles for service accounts in your cluster, you must create an OIDC identity provider in the IAM console.  See https://docs.aws.amazon.com/eks/latest/userguide/enable-iam-roles-for-service-accounts.html for more info.\n",
    "eksctl utils associate-iam-oidc-provider --cluster ${AWS_CLUSTER_NAME} --approve\n",
    "aws eks describe-cluster --name ${AWS_CLUSTER_NAME} --region ${AWS_REGION} --query \"cluster.identity.oidc.issuer\" --output text\n",
    "\n",
    "#\n",
    "# TODO:  https://github.com/aws-samples/eks-workshop/blob/master/content/beginner/130_exposing-service/ingress_controller_alb.md\n",
    "#        https://docs.aws.amazon.com/eks/latest/userguide/alb-ingress.html\n",
    "#\n",
    "\n",
    "# Create an IAM Policy for the ALB Ingress Controller pod\n",
    "#aws iam create-policy \\\n",
    "#    --policy-name ALBIngressControllerIAMPolicy \\\n",
    "#    --policy-document https://raw.githubusercontent.com/kubernetes-sigs/aws-alb-ingress-controller/v1.1.4/docs/examples/iam-policy.json\n",
    "    \n",
    "# Deploy RBAC Roles and RoleBindings needed by the AWS ALB Ingress controller:\n",
    "#kubectl apply -f https://raw.githubusercontent.com/kubernetes-sigs/aws-alb-ingress-controller/v1.1.4/docs/examples/rbac-role.yaml\n",
    "\n",
    "# Download the AWS ALB Ingress controller YAML into a local file:\n",
    "#curl -sS \"https://raw.githubusercontent.com/kubernetes-sigs/aws-alb-ingress-controller/v1.1.4/docs/examples/alb-ingress-controller.yaml\" > alb-ingress-controller.yaml\n",
    "\n",
    "# Edit the AWS ALB Ingress controller YAML to include the clusterName of the Kubernetes (or) Amazon EKS cluster.\n",
    "# Edit the ```–cluster-name``` flag to be the real name of our Kubernetes (or) Amazon EKS cluster in your ```alb-ingress-controller.yaml``` file. In this case, our cluster name was ```eksworkshop-eksctl``` as apparent from the output.\n",
    "\n",
    "#kubectl apply -f alb-ingress-controller.yaml\n",
    "\n",
    "# Verify that the deployment was successful and the controller started:\n",
    "# kubectl logs -n kube-system $(kubectl get po -n kube-system | egrep -o alb-ingress[a-zA-Z0-9-]+)\n",
    "\n",
    "echo \"Completed\""
   ]
  },
  {
   "cell_type": "markdown",
   "metadata": {},
   "source": [
    "# 5. Update `~/.kube/config` with our new EKS cluster"
   ]
  },
  {
   "cell_type": "code",
   "execution_count": null,
   "metadata": {},
   "outputs": [],
   "source": [
    "%%bash\n",
    "\n",
    "source ~/.bash_profile\n",
    "\n",
    "aws eks --region ${AWS_REGION} update-kubeconfig --name ${AWS_CLUSTER_NAME} "
   ]
  },
  {
   "cell_type": "markdown",
   "metadata": {},
   "source": [
    "# 6. Verify Your EKS Cluster\n"
   ]
  },
  {
   "cell_type": "code",
   "execution_count": null,
   "metadata": {},
   "outputs": [],
   "source": [
    "%%bash\n",
    "\n",
    "kubectl get ns\n",
    "\n",
    "### EXPECTED OUTPUT ###\n",
    "# NAME              STATUS   AGE\n",
    "# default           Active   12m\n",
    "# kube-node-lease   Active   13m\n",
    "# kube-public       Active   13m\n",
    "# kube-system       Active   13m\n"
   ]
  },
  {
   "cell_type": "code",
   "execution_count": null,
   "metadata": {},
   "outputs": [],
   "source": [
    "%%bash\n",
    "\n",
    "kubectl get nodes\n",
    "\n",
    "### EXPECTED OUTPUT ###\n",
    "# NAME                                            STATUS   ROLES    AGE    VERSION\n",
    "# ip-XXX-XXX-XXX-XXX.us-west-2.compute.internal   Ready    <none>   7m3s   v1.14.7-eks-1861c5\n",
    "# ip-XXX-XXX-XXX-XXX.us-west-2.compute.internal   Ready    <none>   7m4s   v1.14.7-eks-1861c5"
   ]
  },
  {
   "cell_type": "code",
   "execution_count": null,
   "metadata": {},
   "outputs": [],
   "source": []
  }
 ],
 "metadata": {
  "kernelspec": {
   "display_name": "conda_python3",
   "language": "python",
   "name": "conda_python3"
  },
  "language_info": {
   "codemirror_mode": {
    "name": "ipython",
    "version": 3
   },
   "file_extension": ".py",
   "mimetype": "text/x-python",
   "name": "python",
   "nbconvert_exporter": "python",
   "pygments_lexer": "ipython3",
   "version": "3.6.5"
  }
 },
 "nbformat": 4,
 "nbformat_minor": 2
}
