{
 "cells": [
  {
   "cell_type": "markdown",
   "metadata": {},
   "source": [
    "# Install Kubeflow"
   ]
  },
  {
   "cell_type": "markdown",
   "metadata": {},
   "source": [
    "Based on these instructions:  https://www.kubeflow.org/docs/aws/deploy/install-kubeflow/"
   ]
  },
  {
   "cell_type": "code",
   "execution_count": null,
   "metadata": {
    "scrolled": false
   },
   "outputs": [],
   "source": [
    "%%bash\n",
    "\n",
    "source ~/.bash_profile\n",
    "\n",
    "#### Check environment variables are set with valid values\n",
    "echo $S3_BUCKET\n",
    "echo $AWS_CLUSTER_NAME\n",
    "echo $STACK_NAME\n",
    "echo $INSTANCE_ROLE_NAME\n",
    "echo $INSTANCE_PROFILE_ARN\n",
    "\n",
    "#### Download the `kfctl` CLI tool\n",
    "curl --location https://github.com/kubeflow/kfctl/releases/download/v1.0.2/kfctl_v1.0.2-0-ga476281_linux.tar.gz | tar xz\n",
    "sudo mv kfctl /usr/local/bin\n",
    "\n",
    "#### Get the latest Kubeflow configuration file\n",
    "\n",
    "# With Ingress\n",
    "export CONFIG_URI='https://raw.githubusercontent.com/kubeflow/manifests/v1.0.2/kfdef/kfctl_aws.v1.0.2.yaml'\n",
    "echo \"export CONFIG_URI=${CONFIG_URI}\" | tee -a ~/.bash_profile\n",
    "\n",
    "#### Set Kubeflow environment variables \n",
    "export KF_NAME=${AWS_CLUSTER_NAME}\n",
    "echo \"export KF_NAME=${KF_NAME}\" | tee -a ~/.bash_profile\n",
    "\n",
    "#cd ~/SageMaker/kubeflow/notebooks/part-3-kubernetes\n",
    "\n",
    "export KF_DIR=$PWD/${KF_NAME}\n",
    "echo \"export KF_DIR=${KF_DIR}\" | tee -a ~/.bash_profile\n",
    "\n",
    "#### Customize the configuration files\n",
    "# We'll edit the configuration with the right names for the cluster and node groups before deploying Kubeflow.\n",
    "\n",
    "mkdir -p ${KF_DIR}\n",
    "cd ${KF_DIR}\n",
    "\n",
    "curl -O ${CONFIG_URI}\n",
    "\n",
    "export CONFIG_FILE=${KF_DIR}/kfctl_aws.v1.0.2.yaml\n",
    "echo \"export CONFIG_FILE=${CONFIG_FILE}\" | tee -a ~/.bash_profile\n",
    "\n",
    "sed -i.bak -e \"/region: us-west-2/ a \\      enablePodIamPolicy: true\" ${CONFIG_FILE}\n",
    "sed -i.bak -e \"s@us-west-2@$AWS_REGION@\" ${CONFIG_FILE}\n",
    "sed -i.bak -e \"s@roles:@#roles:@\" ${CONFIG_FILE}\n",
    "sed -i.bak -e \"s@- eksctl-kubeflow-aws-nodegroup-ng-a2-NodeInstanceRole-xxxxxxx@#- eksctl-kubeflow-aws-nodegroup-ng-a2-NodeInstanceRole-xxxxxxx@\" ${CONFIG_FILE}\n",
    "sed -i.bak -e \"s@eksctl-kubeflow-aws-nodegroup-ng-a2-NodeInstanceRole-xxxxxxx@$INSTANCE_ROLE_NAME@\" ${CONFIG_FILE}\n",
    "sed -i.bak -e 's/kubeflow-aws/'\"$AWS_CLUSTER_NAME\"'/' ${CONFIG_FILE}\n",
    "\n",
    "#### Generate the Kubeflow installation files\n",
    "cd ${KF_DIR}\n",
    "\n",
    "rm -rf kustomize\n",
    "rm -rf .cache\n",
    "\n",
    "kfctl build -V -f ${CONFIG_FILE}\n",
    "\n",
    "#### Deploy Kubeflow\n",
    "cd ${KF_DIR}\n",
    "\n",
    "kfctl apply -V -f ${CONFIG_FILE}\n",
    "\n",
    "#### Remove istio-ingress in --namespace kubeflow\n",
    "kubectl delete ingress istio-ingress --namespace kubeflow\n",
    "\n",
    "#### Deploy istio-ingress in --namespace istio-system\n",
    "cd .cache/manifests/manifests-1.0-branch/ \n",
    "kubectl apply -k aws/istio-ingress/base --namespace istio-system\n",
    "cd ${KF_DIR}\n",
    "\n",
    "#### Delete the usage reporting beacon\n",
    "kubectl delete all -l app=spartakus --namespace=kubeflow\n",
    "\n",
    "#### Change to `kubeflow` namespace\n",
    "kubectl config set-context --current --namespace=kubeflow"
   ]
  },
  {
   "cell_type": "markdown",
   "metadata": {},
   "source": [
    "## Wait for resource to become available\n",
    "Monitor changes by running kubectl get all namespaces command.\n"
   ]
  },
  {
   "cell_type": "code",
   "execution_count": null,
   "metadata": {},
   "outputs": [],
   "source": [
    "!kubectl -n kubeflow get all\n"
   ]
  },
  {
   "cell_type": "markdown",
   "metadata": {},
   "source": [
    "# Re-Run the Following Until You See a Valid URL \n",
    "\n",
    "It will look something like this:  *[some-long-subdomain-name].[aws-region].elb.amazonaws.com*\n",
    "\n",
    "Navigate to the Kubeflow Dashboard at this URL.  THIS WILL TAKE A FEW MINUTES\n",
    "\n",
    "Note:  DNS is eventually consistent and will take a few minutes to propagate.  \n",
    "\n",
    "If you see a 404 in your browser, please be patient.  This will take a few minutes!\n"
   ]
  },
  {
   "cell_type": "code",
   "execution_count": null,
   "metadata": {},
   "outputs": [],
   "source": [
    "%%bash\n",
    "\n",
    "echo \" THIS LINK MAY TAKE A FEW MINUTES TO SHOW UP.  PATIENCE \"\n",
    "echo \"\"\n",
    "echo \"********************************************************\"\n",
    "echo \"        CLICK THE FOLLOWING LINK WHEN IT APPEARS        \"\n",
    "echo \"\"\n",
    "echo $(kubectl get ingress -n istio-system -o jsonpath='{.items[0].status.loadBalancer.ingress[0].hostname}')\n",
    "echo \"\"\n",
    "echo \"^^^^^^ COPY/PASTE THIS URL INTO A NEW BROWSER TAB ^^^^^^\"\n",
    "echo \"********************************************************\"\n",
    "echo \"\"\n",
    "echo \"=====> FOLLOW THE INSTRUCTIONS IN NEW BROWSER TAB <=====\"\n",
    "echo \"\"\n",
    "echo \"^^^^^^^^^^^^^^^^^^^^^^^^^^^^^^^^^^^^^^^^^^^^^^^^^^^^^^^^\""
   ]
  },
  {
   "cell_type": "markdown",
   "metadata": {},
   "source": [
    "![Kubeflow Anonymous Namespace](img/kubeflow-anonymous-namespace.png)"
   ]
  },
  {
   "cell_type": "markdown",
   "metadata": {},
   "source": [
    "Click on `Start Setup`.\n",
    "\n",
    "**Note:  You must use the default namespace `anonymous`.**\n",
    "\n",
    "Click `Finish` to view the dashboard."
   ]
  },
  {
   "cell_type": "markdown",
   "metadata": {},
   "source": [
    "### You should continue when you see the following Kubeflow Dashboard."
   ]
  },
  {
   "cell_type": "markdown",
   "metadata": {},
   "source": [
    "![Kubeflow Dashboard](img/kubeflow-dashboard.png)"
   ]
  },
  {
   "cell_type": "code",
   "execution_count": null,
   "metadata": {},
   "outputs": [],
   "source": []
  }
 ],
 "metadata": {
  "kernelspec": {
   "display_name": "conda_python3",
   "language": "python",
   "name": "conda_python3"
  },
  "language_info": {
   "codemirror_mode": {
    "name": "ipython",
    "version": 3
   },
   "file_extension": ".py",
   "mimetype": "text/x-python",
   "name": "python",
   "nbconvert_exporter": "python",
   "pygments_lexer": "ipython3",
   "version": "3.6.5"
  }
 },
 "nbformat": 4,
 "nbformat_minor": 4
}
