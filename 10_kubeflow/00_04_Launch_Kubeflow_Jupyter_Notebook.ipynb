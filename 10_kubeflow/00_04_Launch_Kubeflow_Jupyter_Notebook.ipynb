{
 "cells": [
  {
   "cell_type": "markdown",
   "metadata": {},
   "source": [
    "Jupyter Notebooks are open-source web applications that allow you to create and share documents that contain live code, equations, visualizations and narrative text. It is often used for data cleaning and transformation, numerical simulation, statistical modeling, data visualization, machine learning, and more.\n",
    "\n",
    "In the Kubeflow dashboard, click on the \"hamburger\" menu icon in the upper left.  Then click **Create a new Notebook server**:\n",
    "\n",
    "![dashboard](img/dashboard-new-notebook-server.png)\n",
    "\n",
    "Select the namespace created in previous step:\n",
    "\n",
    "![dashboard](img/jupyter-select-namespace.png)\n",
    "\n",
    "This pre-populates the namespace field on the dashboard. Specify a name **notebook** for the notebook:\n",
    "\n",
    "![dashboard](img/jupyter-enter-notebook-server-name.png)\n",
    "\n",
    "Check the `Custom Image` checkbox and use the following image:\n",
    "\n",
    "```\n",
    "pipelineai/kubeflow-notebook-cpu-1.13.1:2.0.0\n",
    "\n",
    "```\n",
    "\n",
    "![dashboard](img/jupyter-select-image.png)\n",
    "\n",
    "Change the CPU value to **1.0**:\n",
    "\n",
    "![dashboard](img/jupyter-select-cpu.png)\n",
    "\n",
    "Scroll to the bottom, accept all other defaults, and click on **LAUNCH**.\n",
    "\n",
    "It takes a couple minutes for the first Jupyter notebook to come online. Click on **CONNECT**\n",
    "\n",
    "![dashboard](img/jupyter-notebook-servers.png)\n",
    "\n",
    "This connects to the notebook and opens the notebook interface in a new browser tab.\n",
    "\n",
    "![dashboard](img/jupyter-new-notebook.png)\n",
    "\n",
    "#### Clone the repo\n",
    "Click on **New**, select **Terminal**\n",
    "\n",
    "```\n",
    "git clone https://github.com/data-science-on-aws/workshop\n",
    "\n",
    "```\n",
    "\n",
    "#### Run the notebooks\n",
    "\n",
    "**Note:** Make sure you are in the Kubeflow Jupyter Notebook (not SageMaker Jupyter Notebook.)\n",
    "\n",
    "Navigate to the `workshop/10_kubeflow/` directory and start running the notebooks from `01_*`.\n",
    "\n",
    "![run-notebooks](img/run-notebooks.png)\n"
   ]
  },
  {
   "cell_type": "code",
   "execution_count": null,
   "metadata": {},
   "outputs": [],
   "source": []
  }
 ],
 "metadata": {
  "kernelspec": {
   "display_name": "conda_python3",
   "language": "python",
   "name": "conda_python3"
  },
  "language_info": {
   "codemirror_mode": {
    "name": "ipython",
    "version": 3
   },
   "file_extension": ".py",
   "mimetype": "text/x-python",
   "name": "python",
   "nbconvert_exporter": "python",
   "pygments_lexer": "ipython3",
   "version": "3.6.5"
  }
 },
 "nbformat": 4,
 "nbformat_minor": 4
}
