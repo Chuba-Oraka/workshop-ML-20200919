{
 "cells": [
  {
   "cell_type": "markdown",
   "metadata": {},
   "source": [
    "# Amazon Kinesis Data Firehose\n",
    "\n",
    "* https://github.com/aws-samples/aws-ml-data-lake-workshop\n",
    "* https://aws.amazon.com/blogs/big-data/snakes-in-the-stream-feeding-and-eating-amazon-kinesis-streams-with-python/\n",
    "\n",
    "![](img/kinesis_firehose_s3_docs.png)\n"
   ]
  },
  {
   "cell_type": "code",
   "execution_count": 7,
   "metadata": {},
   "outputs": [],
   "source": [
    "import boto3\n",
    "import sagemaker\n",
    "import pandas as pd\n",
    "import json\n",
    "\n",
    "sess   = sagemaker.Session()\n",
    "bucket = sess.default_bucket()\n",
    "role = sagemaker.get_execution_role()\n",
    "region = boto3.Session().region_name\n",
    "\n",
    "sm = boto3.Session().client(service_name='sagemaker', region_name=region)\n",
    "firehose = boto3.Session().client(service_name='firehose', region_name=region)"
   ]
  },
  {
   "cell_type": "code",
   "execution_count": 8,
   "metadata": {},
   "outputs": [],
   "source": [
    "%store -r firehose_name"
   ]
  },
  {
   "cell_type": "code",
   "execution_count": 9,
   "metadata": {},
   "outputs": [
    {
     "name": "stdout",
     "output_type": "stream",
     "text": [
      "dsoaws-kinesis-data-firehose\n"
     ]
    }
   ],
   "source": [
    "print(firehose_name)"
   ]
  },
  {
   "cell_type": "code",
   "execution_count": 10,
   "metadata": {},
   "outputs": [],
   "source": [
    "%store -r iam_role_kinesis_arn"
   ]
  },
  {
   "cell_type": "code",
   "execution_count": 11,
   "metadata": {},
   "outputs": [
    {
     "name": "stdout",
     "output_type": "stream",
     "text": [
      "arn:aws:iam::806570384721:role/DSOAWS_Kinesis\n"
     ]
    }
   ],
   "source": [
    "print(iam_role_kinesis_arn)"
   ]
  },
  {
   "cell_type": "markdown",
   "metadata": {},
   "source": [
    "# Create a Kinesis Data Firehose Delivery Stream\n",
    "_This may take 1-2 minutes.  Please be patient._"
   ]
  },
  {
   "cell_type": "code",
   "execution_count": 12,
   "metadata": {},
   "outputs": [
    {
     "name": "stdout",
     "output_type": "stream",
     "text": [
      "Delivery stream dsoaws-kinesis-data-firehose already exists.\n"
     ]
    }
   ],
   "source": [
    "from botocore.exceptions import ClientError\n",
    "\n",
    "try: \n",
    "    response = firehose.create_delivery_stream(\n",
    "        DeliveryStreamName=firehose_name,\n",
    "        DeliveryStreamType='DirectPut',\n",
    "        S3DestinationConfiguration={\n",
    "            'RoleARN': iam_role_kinesis_arn,\n",
    "            'BucketARN': 'arn:aws:s3:::{}'.format(bucket),\n",
    "            'Prefix': 'kinesis-data-firehose',        \n",
    "        }\n",
    "    )\n",
    "    print('Delivery stream {} successfully created.'.format(firehose_name))\n",
    "    print(json.dumps(response, indent=4, sort_keys=True, default=str))\n",
    "except ClientError as e:\n",
    "    if e.response['Error']['Code'] == 'ResourceInUseException':\n",
    "        print('Delivery stream {} already exists.'.format(firehose_name))\n",
    "    else:\n",
    "        print('Unexpected error: %s' % e)\n",
    "    "
   ]
  },
  {
   "cell_type": "code",
   "execution_count": 13,
   "metadata": {},
   "outputs": [
    {
     "name": "stdout",
     "output_type": "stream",
     "text": [
      "Delivery Stream dsoaws-kinesis-data-firehose is active\n"
     ]
    }
   ],
   "source": [
    "import time\n",
    "\n",
    "status = ''\n",
    "while status != 'ACTIVE':    \n",
    "    r = firehose.describe_delivery_stream(DeliveryStreamName=firehose_name)\n",
    "    description = r.get('DeliveryStreamDescription')\n",
    "    status = description.get('DeliveryStreamStatus')\n",
    "    time.sleep(5)\n",
    "    \n",
    "print('Delivery Stream {} is active'.format(firehose_name))"
   ]
  },
  {
   "cell_type": "code",
   "execution_count": 16,
   "metadata": {},
   "outputs": [
    {
     "name": "stdout",
     "output_type": "stream",
     "text": [
      "ACTIVE\n",
      "\n",
      "{\n",
      "    \"CreateTimestamp\": \"2020-09-02 14:04:32.593000+00:00\",\n",
      "    \"DeliveryStreamARN\": \"arn:aws:firehose:us-east-1:806570384721:deliverystream/dsoaws-kinesis-data-firehose\",\n",
      "    \"DeliveryStreamEncryptionConfiguration\": {\n",
      "        \"Status\": \"DISABLED\"\n",
      "    },\n",
      "    \"DeliveryStreamName\": \"dsoaws-kinesis-data-firehose\",\n",
      "    \"DeliveryStreamStatus\": \"ACTIVE\",\n",
      "    \"DeliveryStreamType\": \"DirectPut\",\n",
      "    \"Destinations\": [\n",
      "        {\n",
      "            \"DestinationId\": \"destinationId-000000000001\",\n",
      "            \"ExtendedS3DestinationDescription\": {\n",
      "                \"BucketARN\": \"arn:aws:s3:::sagemaker-us-east-1-806570384721\",\n",
      "                \"BufferingHints\": {\n",
      "                    \"IntervalInSeconds\": 300,\n",
      "                    \"SizeInMBs\": 5\n",
      "                },\n",
      "                \"CloudWatchLoggingOptions\": {\n",
      "                    \"Enabled\": false\n",
      "                },\n",
      "                \"CompressionFormat\": \"UNCOMPRESSED\",\n",
      "                \"EncryptionConfiguration\": {\n",
      "                    \"NoEncryptionConfig\": \"NoEncryption\"\n",
      "                },\n",
      "                \"Prefix\": \"kinesis-data-firehose\",\n",
      "                \"RoleARN\": \"arn:aws:iam::806570384721:role/DSOAWS_Kinesis\",\n",
      "                \"S3BackupMode\": \"Disabled\"\n",
      "            },\n",
      "            \"S3DestinationDescription\": {\n",
      "                \"BucketARN\": \"arn:aws:s3:::sagemaker-us-east-1-806570384721\",\n",
      "                \"BufferingHints\": {\n",
      "                    \"IntervalInSeconds\": 300,\n",
      "                    \"SizeInMBs\": 5\n",
      "                },\n",
      "                \"CloudWatchLoggingOptions\": {\n",
      "                    \"Enabled\": false\n",
      "                },\n",
      "                \"CompressionFormat\": \"UNCOMPRESSED\",\n",
      "                \"EncryptionConfiguration\": {\n",
      "                    \"NoEncryptionConfig\": \"NoEncryption\"\n",
      "                },\n",
      "                \"Prefix\": \"kinesis-data-firehose\",\n",
      "                \"RoleARN\": \"arn:aws:iam::806570384721:role/DSOAWS_Kinesis\"\n",
      "            }\n",
      "        }\n",
      "    ],\n",
      "    \"HasMoreDestinations\": false,\n",
      "    \"VersionId\": \"1\"\n",
      "}\n"
     ]
    }
   ],
   "source": [
    "r = firehose.describe_delivery_stream(DeliveryStreamName=firehose_name)\n",
    "\n",
    "status = description.get('DeliveryStreamStatus')\n",
    "print(status)\n",
    "\n",
    "print()\n",
    "\n",
    "description = r.get('DeliveryStreamDescription')\n",
    "print(json.dumps(description, indent=4, sort_keys=True, default=str))"
   ]
  },
  {
   "cell_type": "code",
   "execution_count": 17,
   "metadata": {},
   "outputs": [
    {
     "name": "stdout",
     "output_type": "stream",
     "text": [
      "arn:aws:firehose:us-east-1:806570384721:deliverystream/dsoaws-kinesis-data-firehose\n"
     ]
    }
   ],
   "source": [
    "firehose_arn = r['DeliveryStreamDescription']['DeliveryStreamARN']\n",
    "print(firehose_arn)"
   ]
  },
  {
   "cell_type": "markdown",
   "metadata": {},
   "source": [
    "# Store Variables for the Next Notebooks"
   ]
  },
  {
   "cell_type": "code",
   "execution_count": 18,
   "metadata": {},
   "outputs": [
    {
     "name": "stdout",
     "output_type": "stream",
     "text": [
      "Stored 'firehose_arn' (str)\n"
     ]
    }
   ],
   "source": [
    "%store firehose_arn"
   ]
  },
  {
   "cell_type": "code",
   "execution_count": 19,
   "metadata": {},
   "outputs": [
    {
     "name": "stdout",
     "output_type": "stream",
     "text": [
      "Stored variables and their in-db values:\n",
      "autopilot_endpoint_name                     -> 'automl-dm-ep-28-19-07-00'\n",
      "firehose_arn                                -> 'arn:aws:firehose:us-east-1:806570384721:deliverys\n",
      "firehose_name                               -> 'dsoaws-kinesis-data-firehose'\n",
      "header_train_s3_uri                         -> 's3://sagemaker-us-east-1-806570384721/data/amazon\n",
      "iam_kinesis_role_name                       -> 'DSOAWS_Kinesis'\n",
      "iam_role_kinesis_arn                        -> 'arn:aws:iam::806570384721:role/DSOAWS_Kinesis'\n",
      "kinesis_data_analytics_app_name             -> 'dsoaws-kinesis-data-analytics-sql-app-2'\n",
      "lambda_fn_name                              -> 'DeliverKinesisAnalyticsToCloudWatch'\n",
      "noheader_train_s3_uri                       -> 's3://sagemaker-us-east-1-806570384721/data/amazon\n",
      "partition_key                               -> 'CAFEPERSON'\n",
      "stream_arn                                  -> 'arn:aws:kinesis:us-east-1:806570384721:stream/dso\n",
      "stream_name                                 -> 'dsoaws-kinesis-data-stream'\n"
     ]
    }
   ],
   "source": [
    "%store"
   ]
  },
  {
   "cell_type": "code",
   "execution_count": null,
   "metadata": {},
   "outputs": [],
   "source": [
    "%%javascript\n",
    "Jupyter.notebook.save_checkpoint();\n",
    "Jupyter.notebook.session.delete();"
   ]
  }
 ],
 "metadata": {
  "kernelspec": {
   "display_name": "conda_python3",
   "language": "python",
   "name": "conda_python3"
  },
  "language_info": {
   "codemirror_mode": {
    "name": "ipython",
    "version": 3
   },
   "file_extension": ".py",
   "mimetype": "text/x-python",
   "name": "python",
   "nbconvert_exporter": "python",
   "pygments_lexer": "ipython3",
   "version": "3.6.10"
  }
 },
 "nbformat": 4,
 "nbformat_minor": 4
}
