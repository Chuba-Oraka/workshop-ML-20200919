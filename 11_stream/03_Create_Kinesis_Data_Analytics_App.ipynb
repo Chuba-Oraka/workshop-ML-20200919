{
 "cells": [
  {
   "cell_type": "markdown",
   "metadata": {},
   "source": [
    "# Kinesis Data Analytics App\n"
   ]
  },
  {
   "cell_type": "markdown",
   "metadata": {},
   "source": [
    "![](img/kinesis-app.png)"
   ]
  },
  {
   "cell_type": "code",
   "execution_count": null,
   "metadata": {},
   "outputs": [],
   "source": [
    "import boto3\n",
    "import sagemaker\n",
    "import pandas as pd\n",
    "\n",
    "sess   = sagemaker.Session()\n",
    "bucket = sess.default_bucket()\n",
    "role = sagemaker.get_execution_role()\n",
    "region = boto3.Session().region_name\n",
    "\n",
    "sm = boto3.Session().client(service_name='sagemaker', region_name=region)\n",
    "firehose = boto3.Session().client(service_name='firehose', region_name=region)\n",
    "kinesis_analytics = boto3.Session().client(service_name='kinesisanalytics', region_name=region)\n"
   ]
  },
  {
   "cell_type": "code",
   "execution_count": null,
   "metadata": {},
   "outputs": [],
   "source": [
    "%store -r firehose_name"
   ]
  },
  {
   "cell_type": "code",
   "execution_count": null,
   "metadata": {},
   "outputs": [],
   "source": [
    "print(firehose_name)"
   ]
  },
  {
   "cell_type": "code",
   "execution_count": null,
   "metadata": {},
   "outputs": [],
   "source": [
    "%store -r firehose_arn"
   ]
  },
  {
   "cell_type": "code",
   "execution_count": null,
   "metadata": {},
   "outputs": [],
   "source": [
    "print(firehose_arn)"
   ]
  },
  {
   "cell_type": "code",
   "execution_count": null,
   "metadata": {},
   "outputs": [],
   "source": [
    "%store -r iam_role_kinesis_arn"
   ]
  },
  {
   "cell_type": "code",
   "execution_count": null,
   "metadata": {},
   "outputs": [],
   "source": [
    "print(iam_role_kinesis_arn)"
   ]
  },
  {
   "cell_type": "markdown",
   "metadata": {},
   "source": [
    "# Set up Kinesis Data Analytics SQL App\n",
    "\n",
    "Below is the SQL derived from the following guide: \n",
    "* https://docs.aws.amazon.com/kinesisanalytics/latest/sqlref/sql-reference-avg.html\n",
    "    \n",
    "```\n",
    "CREATE \n",
    "OR REPLACE STREAM \"AVG_STAR_RATING_SQL_STREAM\" (avg_star_rating DOUBLE);\n",
    "\n",
    "CREATE \n",
    "OR REPLACE PUMP \"AVG_STAR_RATING_STREAM_PUMP\" \n",
    "\n",
    "AS \n",
    "INSERT INTO \"AVG_STAR_RATING_SQL_STREAM\" \n",
    "    SELECT STREAM \n",
    "        AVG(CAST(\"star_rating\" AS DOUBLE)) AS avg_star_rating\n",
    "    FROM \n",
    "        \"firehose_001\"\n",
    "    GROUP BY\n",
    "        STEP(\"firehose_001\".ROWTIME BY INTERVAL '30' SECOND);\n",
    "```"
   ]
  },
  {
   "cell_type": "code",
   "execution_count": null,
   "metadata": {},
   "outputs": [],
   "source": [
    "kinesis_data_analytics_app_name = 'dsoaws-kinesis-data-analytics-sql-app'"
   ]
  },
  {
   "cell_type": "code",
   "execution_count": null,
   "metadata": {},
   "outputs": [],
   "source": [
    "# in_app_stream_name = response['ApplicationDetail']['InputDescriptions'][0]['InAppStreamNames'][0]\n",
    "in_app_stream_name = 'firehose_001'\n",
    "print(in_app_stream_name)"
   ]
  },
  {
   "cell_type": "code",
   "execution_count": null,
   "metadata": {},
   "outputs": [],
   "source": [
    "response = kinesis_analytics.create_application(\n",
    "    ApplicationName=kinesis_data_analytics_app_name,\n",
    "    Inputs=[\n",
    "        {\n",
    "            'NamePrefix': 'firehose',\n",
    "            'KinesisFirehoseInput': {\n",
    "                'ResourceARN': '{}'.format(firehose_arn),\n",
    "                'RoleARN': '{}'.format(iam_role_kinesis_arn)\n",
    "            },\n",
    "#             'InputParallelism': {\n",
    "#                 'Count': 10\n",
    "#             },\n",
    "            'InputSchema': {\n",
    "                'RecordFormat': {\n",
    "                    'RecordFormatType': 'CSV',\n",
    "                    'MappingParameters': {\n",
    "                        'CSVMappingParameters': {\n",
    "                            'RecordRowDelimiter': '\\n',\n",
    "                            'RecordColumnDelimiter': '\\t'\n",
    "                        }\n",
    "                    }\n",
    "                },\n",
    "#                'RecordEncoding': 'string',\n",
    "                'RecordColumns': [\n",
    "                    {\n",
    "                        'Name': 'star_rating',\n",
    "                        'Mapping': 'star_rating',\n",
    "                        'SqlType': 'INTEGER'\n",
    "                    },\n",
    "                    {\n",
    "                        'Name': 'review_body',\n",
    "                        'Mapping': 'review_body',\n",
    "                        'SqlType': 'VARCHAR(8192)'\n",
    "                    }                    \n",
    "                ]\n",
    "            }\n",
    "        },\n",
    "    ],\n",
    "#     Outputs=[\n",
    "#         {\n",
    "#             'Name': 'string',\n",
    "#             'KinesisStreamsOutput': {\n",
    "#                 'ResourceARN': 'string',\n",
    "#                 'RoleARN': 'string'\n",
    "#             },\n",
    "#             'KinesisFirehoseOutput': {\n",
    "#                 'ResourceARN': 'string',\n",
    "#                 'RoleARN': 'string'\n",
    "#             },\n",
    "#             'LambdaOutput': {\n",
    "#                 'ResourceARN': 'string',\n",
    "#                 'RoleARN': 'string'\n",
    "#             },\n",
    "#             'DestinationSchema': {\n",
    "#                 'RecordFormatType': 'JSON'|'CSV'\n",
    "#             }\n",
    "#         },\n",
    "#     ],\n",
    "#     CloudWatchLoggingOptions=[\n",
    "#         {\n",
    "#             'LogStreamARN': 'string',\n",
    "#             'RoleARN': 'string'\n",
    "#         },\n",
    "#     ],\n",
    "    ApplicationCode=' \\\n",
    "        CREATE OR REPLACE STREAM \"AVG_STAR_RATING_SQL_STREAM\" ( \\\n",
    "            avg_star_rating DOUBLE); \\\n",
    "        CREATE OR REPLACE PUMP \"AVG_STAR_RATING_STREAM_PUMP\" \\\n",
    "            AS INSERT INTO \"AVG_STAR_RATING_SQL_STREAM\" \\\n",
    "        SELECT STREAM AVG(CAST(\"star_rating\" AS DOUBLE)) AS avg_star_rating \\\n",
    "        FROM \"firehose_001\" \\\n",
    "        GROUP BY \\\n",
    "        STEP(\"firehose_001\".ROWTIME BY INTERVAL '30' SECOND);' \n",
    "\n",
    "    # MAKE SURE YOU \\' escape the RANGE INTERVAL ^^ ABOVE ^^ \n",
    "    #   or you will see weird errors\n",
    ")"
   ]
  },
  {
   "cell_type": "code",
   "execution_count": null,
   "metadata": {},
   "outputs": [],
   "source": [
    "in_app_stream_name = response['ApplicationDetail']['InputDescriptions'][0]['InAppStreamNames'][0]\n",
    "# in_app_stream_name = 'in_app_stream_name'\n",
    "print(in_app_stream_name)"
   ]
  },
  {
   "cell_type": "code",
   "execution_count": null,
   "metadata": {
    "scrolled": true
   },
   "outputs": [],
   "source": [
    "response = kinesis_analytics.describe_application(\n",
    "    ApplicationName=kinesis_data_analytics_app_name)\n",
    "print(response)"
   ]
  },
  {
   "cell_type": "code",
   "execution_count": null,
   "metadata": {},
   "outputs": [],
   "source": [
    "input_id = response['ApplicationDetail']['InputDescriptions'][0]['InputId']\n",
    "print(input_id)"
   ]
  },
  {
   "cell_type": "code",
   "execution_count": null,
   "metadata": {},
   "outputs": [],
   "source": [
    "response = kinesis_analytics.start_application(\n",
    "    ApplicationName=kinesis_data_analytics_app_name,\n",
    "    InputConfigurations=[\n",
    "        {\n",
    "            'Id': input_id,\n",
    "            'InputStartingPositionConfiguration': {\n",
    "                'InputStartingPosition': 'NOW'\n",
    "            }\n",
    "        }\n",
    "    ]\n",
    ")"
   ]
  },
  {
   "cell_type": "code",
   "execution_count": null,
   "metadata": {},
   "outputs": [],
   "source": [
    "print(response)"
   ]
  },
  {
   "cell_type": "code",
   "execution_count": null,
   "metadata": {},
   "outputs": [],
   "source": [
    "from IPython.core.display import display, HTML\n",
    "        \n",
    "display(HTML('<b>Review <a target=\"blank\" href=\"https://console.aws.amazon.com/kinesisanalytics/home?region={}#/wizard/editor?applicationName={}\"> Kinesis Data Analytics App</a></b>'.format(region, kinesis_data_analytics_app_name)))\n"
   ]
  },
  {
   "cell_type": "code",
   "execution_count": null,
   "metadata": {},
   "outputs": [],
   "source": [
    "response = kinesis_analytics.describe_application(ApplicationName=kinesis_data_analytics_app_name)"
   ]
  },
  {
   "cell_type": "code",
   "execution_count": null,
   "metadata": {},
   "outputs": [],
   "source": [
    "import time\n",
    "\n",
    "app_status = response['ApplicationDetail']['ApplicationStatus']\n",
    "\n",
    "while app_status != 'RUNNING':\n",
    "    time.sleep(5)\n",
    "    response = kinesis_analytics.describe_application(\n",
    "        ApplicationName=kinesis_data_analytics_app_name)\n",
    "    app_status = response['ApplicationDetail']['ApplicationStatus']\n",
    "\n",
    "print('Application status {}'.format(app_status))"
   ]
  },
  {
   "cell_type": "markdown",
   "metadata": {},
   "source": [
    "# Store Variables for Next Notebooks"
   ]
  },
  {
   "cell_type": "code",
   "execution_count": null,
   "metadata": {},
   "outputs": [],
   "source": [
    "%store kinesis_data_analytics_app_name"
   ]
  },
  {
   "cell_type": "code",
   "execution_count": null,
   "metadata": {
    "scrolled": true
   },
   "outputs": [],
   "source": [
    "%store"
   ]
  },
  {
   "cell_type": "code",
   "execution_count": null,
   "metadata": {},
   "outputs": [],
   "source": [
    "%%javascript\n",
    "Jupyter.notebook.save_checkpoint();\n",
    "Jupyter.notebook.session.delete();"
   ]
  }
 ],
 "metadata": {
  "kernelspec": {
   "display_name": "conda_python3",
   "language": "python",
   "name": "conda_python3"
  },
  "language_info": {
   "codemirror_mode": {
    "name": "ipython",
    "version": 3
   },
   "file_extension": ".py",
   "mimetype": "text/x-python",
   "name": "python",
   "nbconvert_exporter": "python",
   "pygments_lexer": "ipython3",
   "version": "3.6.10"
  }
 },
 "nbformat": 4,
 "nbformat_minor": 4
}
