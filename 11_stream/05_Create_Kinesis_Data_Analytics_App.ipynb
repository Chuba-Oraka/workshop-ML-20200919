{
 "cells": [
  {
   "cell_type": "markdown",
   "metadata": {},
   "source": [
    "# Kinesis Data Analytics App\n"
   ]
  },
  {
   "cell_type": "markdown",
   "metadata": {},
   "source": [
    "![](img/kinesis-app.png)"
   ]
  },
  {
   "cell_type": "code",
   "execution_count": 1,
   "metadata": {},
   "outputs": [],
   "source": [
    "import boto3\n",
    "import sagemaker\n",
    "import pandas as pd\n",
    "import json\n",
    "\n",
    "sess   = sagemaker.Session()\n",
    "bucket = sess.default_bucket()\n",
    "role = sagemaker.get_execution_role()\n",
    "region = boto3.Session().region_name\n",
    "\n",
    "sts = boto3.Session().client(service_name='sts', region_name=region)\n",
    "account_id = sts.get_caller_identity()['Account']\n",
    "\n",
    "sm = boto3.Session().client(service_name='sagemaker', region_name=region)\n",
    "firehose = boto3.Session().client(service_name='firehose', region_name=region)\n",
    "kinesis_analytics = boto3.Session().client(service_name='kinesisanalytics', region_name=region)"
   ]
  },
  {
   "cell_type": "code",
   "execution_count": 2,
   "metadata": {},
   "outputs": [],
   "source": [
    "%store -r firehose_name"
   ]
  },
  {
   "cell_type": "code",
   "execution_count": 3,
   "metadata": {},
   "outputs": [
    {
     "name": "stdout",
     "output_type": "stream",
     "text": [
      "dsoaws-kinesis-data-firehose\n"
     ]
    }
   ],
   "source": [
    "print(firehose_name)"
   ]
  },
  {
   "cell_type": "code",
   "execution_count": 4,
   "metadata": {},
   "outputs": [],
   "source": [
    "%store -r firehose_arn"
   ]
  },
  {
   "cell_type": "code",
   "execution_count": 5,
   "metadata": {},
   "outputs": [
    {
     "name": "stdout",
     "output_type": "stream",
     "text": [
      "arn:aws:firehose:us-east-1:806570384721:deliverystream/dsoaws-kinesis-data-firehose\n"
     ]
    }
   ],
   "source": [
    "print(firehose_arn)"
   ]
  },
  {
   "cell_type": "code",
   "execution_count": 6,
   "metadata": {},
   "outputs": [],
   "source": [
    "%store -r iam_role_kinesis_arn"
   ]
  },
  {
   "cell_type": "code",
   "execution_count": 7,
   "metadata": {},
   "outputs": [
    {
     "name": "stdout",
     "output_type": "stream",
     "text": [
      "arn:aws:iam::806570384721:role/DSOAWS_Kinesis\n"
     ]
    }
   ],
   "source": [
    "print(iam_role_kinesis_arn)"
   ]
  },
  {
   "cell_type": "code",
   "execution_count": 8,
   "metadata": {},
   "outputs": [],
   "source": [
    "%store -r stream_arn"
   ]
  },
  {
   "cell_type": "code",
   "execution_count": 9,
   "metadata": {},
   "outputs": [
    {
     "name": "stdout",
     "output_type": "stream",
     "text": [
      "arn:aws:kinesis:us-east-1:806570384721:stream/dsoaws-kinesis-data-stream\n"
     ]
    }
   ],
   "source": [
    "print(stream_arn)"
   ]
  },
  {
   "cell_type": "code",
   "execution_count": 10,
   "metadata": {},
   "outputs": [],
   "source": [
    "%store -r lambda_fn_arn"
   ]
  },
  {
   "cell_type": "code",
   "execution_count": 11,
   "metadata": {},
   "outputs": [
    {
     "name": "stdout",
     "output_type": "stream",
     "text": [
      "arn:aws:lambda:us-east-1:806570384721:function:DeliverKinesisAnalyticsToCloudWatch2\n"
     ]
    }
   ],
   "source": [
    "print(lambda_fn_arn)"
   ]
  },
  {
   "cell_type": "code",
   "execution_count": 12,
   "metadata": {},
   "outputs": [],
   "source": [
    "%store -r iam_role_lambda_arn"
   ]
  },
  {
   "cell_type": "code",
   "execution_count": 13,
   "metadata": {},
   "outputs": [
    {
     "name": "stdout",
     "output_type": "stream",
     "text": [
      "arn:aws:iam::806570384721:role/DSOAWS_Lambda\n"
     ]
    }
   ],
   "source": [
    "print(iam_role_lambda_arn)"
   ]
  },
  {
   "cell_type": "markdown",
   "metadata": {},
   "source": [
    "# Create Kinesis Data Analytics App (SQL)\n",
    "\n",
    "Below is the SQL derived from the following guide: \n",
    "* https://docs.aws.amazon.com/kinesisanalytics/latest/sqlref/sql-reference-avg.html\n",
    "    \n",
    "```\n",
    "CREATE \n",
    "OR REPLACE STREAM \"AVG_STAR_RATING_SQL_STREAM\" (avg_star_rating DOUBLE);\n",
    "\n",
    "CREATE \n",
    "OR REPLACE PUMP \"AVG_STAR_RATING_STREAM_PUMP\" \n",
    "\n",
    "AS \n",
    "INSERT INTO \"AVG_STAR_RATING_SQL_STREAM\" \n",
    "    SELECT STREAM \n",
    "        AVG(CAST(\"star_rating\" AS DOUBLE)) AS avg_star_rating\n",
    "    FROM \n",
    "        \"firehose_001\"\n",
    "    GROUP BY\n",
    "        STEP(\"firehose_001\".ROWTIME BY INTERVAL '30' SECOND);\n",
    "```"
   ]
  },
  {
   "cell_type": "markdown",
   "metadata": {},
   "source": [
    "# Specify the Kinesis Analytics Application Name"
   ]
  },
  {
   "cell_type": "code",
   "execution_count": 14,
   "metadata": {},
   "outputs": [],
   "source": [
    "kinesis_data_analytics_app_name = 'dsoaws-kinesis-data-analytics-sql-app3'"
   ]
  },
  {
   "cell_type": "code",
   "execution_count": 15,
   "metadata": {},
   "outputs": [],
   "source": [
    "in_app_stream_name = 'firehose_001' # Default"
   ]
  },
  {
   "cell_type": "markdown",
   "metadata": {},
   "source": [
    "# Create Application"
   ]
  },
  {
   "cell_type": "code",
   "execution_count": 34,
   "metadata": {},
   "outputs": [],
   "source": [
    "response = kinesis_analytics.create_application(\n",
    "    ApplicationName=kinesis_data_analytics_app_name,\n",
    "    Inputs=[\n",
    "        {\n",
    "            'NamePrefix': 'firehose',\n",
    "            'KinesisFirehoseInput': {\n",
    "                'ResourceARN': '{}'.format(firehose_arn),\n",
    "                'RoleARN': '{}'.format(iam_role_kinesis_arn)\n",
    "            },\n",
    "            'InputSchema': {\n",
    "                'RecordFormat': {\n",
    "                    'RecordFormatType': 'CSV',\n",
    "                    'MappingParameters': {\n",
    "                        'CSVMappingParameters': {\n",
    "                            'RecordRowDelimiter': '\\n',\n",
    "                            'RecordColumnDelimiter': '\\t'\n",
    "                        }\n",
    "                    }\n",
    "                },\n",
    "                'RecordColumns': [\n",
    "                    {\n",
    "                        'Name': 'star_rating',\n",
    "                        'Mapping': 'star_rating',\n",
    "                        'SqlType': 'INTEGER'\n",
    "                    },\n",
    "                    {\n",
    "                        'Name': 'review_body',\n",
    "                        'Mapping': 'review_body',\n",
    "                        'SqlType': 'VARCHAR(65535)'\n",
    "                    }\n",
    "                ]\n",
    "            }\n",
    "        },\n",
    "    ],\n",
    "    Outputs=[\n",
    "        {\n",
    "            'Name': 'AVG_STAR_RATING_STREAM',\n",
    "            \n",
    "            'KinesisStreamsOutput': {\n",
    "                'ResourceARN': '{}'.format(stream_arn),\n",
    "                'RoleARN': '{}'.format(iam_role_kinesis_arn)\n",
    "            },\n",
    "\n",
    "            'DestinationSchema': {\n",
    "                'RecordFormatType': 'CSV'\n",
    "            }\n",
    "        },\n",
    "        {\n",
    "            'Name': 'AVG_STAR_RATING_SQL_STREAM',\n",
    "            'LambdaOutput': {\n",
    "                'ResourceARN': '{}'.format(lambda_fn_arn),\n",
    "                'RoleARN': '{}'.format(iam_role_lambda_arn)\n",
    "            },\n",
    "            'DestinationSchema': {\n",
    "                'RecordFormatType': 'CSV'\n",
    "            }\n",
    "        }\n",
    "    ],\n",
    "    ApplicationCode=' \\\n",
    "        CREATE OR REPLACE STREAM \"AVG_STAR_RATING_SQL_STREAM\" ( \\\n",
    "            avg_star_rating DOUBLE); \\\n",
    "        CREATE OR REPLACE PUMP \"AVG_STAR_RATING_STREAM_PUMP\" \\\n",
    "            AS INSERT INTO \"AVG_STAR_RATING_SQL_STREAM\" \\\n",
    "        SELECT STREAM AVG(CAST(\"star_rating\" AS DOUBLE)) AS avg_star_rating \\\n",
    "        FROM \"{}\" \\\n",
    "        GROUP BY \\\n",
    "        STEP(\"{}\".ROWTIME BY INTERVAL \\'5\\' SECOND);'.format(in_app_stream_name, in_app_stream_name)\n",
    "        # MAKE SURE YOU \\' escape the RANGE INTERVAL ^^ ABOVE ^^ \n",
    "        #  or you will see weird errors\n",
    ")"
   ]
  },
  {
   "cell_type": "code",
   "execution_count": 35,
   "metadata": {
    "scrolled": true
   },
   "outputs": [
    {
     "name": "stdout",
     "output_type": "stream",
     "text": [
      "{\n",
      "    \"ApplicationDetail\": {\n",
      "        \"ApplicationARN\": \"arn:aws:kinesisanalytics:us-east-1:806570384721:application/dsoaws-kinesis-data-analytics-sql-app3\",\n",
      "        \"ApplicationCode\": \"CREATE OR REPLACE STREAM \\\"AVG_STAR_RATING_SQL_STREAM\\\" (             avg_star_rating DOUBLE);         CREATE OR REPLACE PUMP \\\"AVG_STAR_RATING_STREAM_PUMP\\\"             AS INSERT INTO \\\"AVG_STAR_RATING_SQL_STREAM\\\"         SELECT STREAM AVG(CAST(\\\"star_rating\\\" AS DOUBLE)) AS avg_star_rating         FROM \\\"firehose_001\\\"         GROUP BY         STEP(\\\"firehose_001\\\".ROWTIME BY INTERVAL '5' SECOND);\\n\",\n",
      "        \"ApplicationName\": \"dsoaws-kinesis-data-analytics-sql-app3\",\n",
      "        \"ApplicationStatus\": \"READY\",\n",
      "        \"ApplicationVersionId\": 1,\n",
      "        \"CreateTimestamp\": \"2020-09-02 17:04:48+00:00\",\n",
      "        \"InputDescriptions\": [\n",
      "            {\n",
      "                \"InAppStreamNames\": [\n",
      "                    \"firehose_001\"\n",
      "                ],\n",
      "                \"InputId\": \"1.1\",\n",
      "                \"InputParallelism\": {\n",
      "                    \"Count\": 1\n",
      "                },\n",
      "                \"InputSchema\": {\n",
      "                    \"RecordColumns\": [\n",
      "                        {\n",
      "                            \"Mapping\": \"star_rating\",\n",
      "                            \"Name\": \"star_rating\",\n",
      "                            \"SqlType\": \"INTEGER\"\n",
      "                        },\n",
      "                        {\n",
      "                            \"Mapping\": \"review_body\",\n",
      "                            \"Name\": \"review_body\",\n",
      "                            \"SqlType\": \"VARCHAR(65535)\"\n",
      "                        }\n",
      "                    ],\n",
      "                    \"RecordFormat\": {\n",
      "                        \"MappingParameters\": {\n",
      "                            \"CSVMappingParameters\": {\n",
      "                                \"RecordColumnDelimiter\": \"\\t\",\n",
      "                                \"RecordRowDelimiter\": \"\\n\"\n",
      "                            }\n",
      "                        },\n",
      "                        \"RecordFormatType\": \"CSV\"\n",
      "                    }\n",
      "                },\n",
      "                \"InputStartingPositionConfiguration\": {},\n",
      "                \"KinesisFirehoseInputDescription\": {\n",
      "                    \"ResourceARN\": \"arn:aws:firehose:us-east-1:806570384721:deliverystream/dsoaws-kinesis-data-firehose\",\n",
      "                    \"RoleARN\": \"arn:aws:iam::806570384721:role/DSOAWS_Kinesis\"\n",
      "                },\n",
      "                \"NamePrefix\": \"firehose\"\n",
      "            }\n",
      "        ],\n",
      "        \"LastUpdateTimestamp\": \"2020-09-02 17:04:48+00:00\",\n",
      "        \"OutputDescriptions\": [\n",
      "            {\n",
      "                \"DestinationSchema\": {\n",
      "                    \"RecordFormatType\": \"CSV\"\n",
      "                },\n",
      "                \"KinesisStreamsOutputDescription\": {\n",
      "                    \"ResourceARN\": \"arn:aws:kinesis:us-east-1:806570384721:stream/dsoaws-kinesis-data-stream\",\n",
      "                    \"RoleARN\": \"arn:aws:iam::806570384721:role/DSOAWS_Kinesis\"\n",
      "                },\n",
      "                \"Name\": \"AVG_STAR_RATING_STREAM\",\n",
      "                \"OutputId\": \"1.1\"\n",
      "            },\n",
      "            {\n",
      "                \"DestinationSchema\": {\n",
      "                    \"RecordFormatType\": \"CSV\"\n",
      "                },\n",
      "                \"LambdaOutputDescription\": {\n",
      "                    \"ResourceARN\": \"arn:aws:lambda:us-east-1:806570384721:function:DeliverKinesisAnalyticsToCloudWatch2\",\n",
      "                    \"RoleARN\": \"arn:aws:iam::806570384721:role/DSOAWS_Lambda\"\n",
      "                },\n",
      "                \"Name\": \"AVG_STAR_RATING_SQL_STREAM\",\n",
      "                \"OutputId\": \"1.2\"\n",
      "            }\n",
      "        ]\n",
      "    },\n",
      "    \"ResponseMetadata\": {\n",
      "        \"HTTPHeaders\": {\n",
      "            \"content-length\": \"2022\",\n",
      "            \"content-type\": \"application/x-amz-json-1.1\",\n",
      "            \"date\": \"Wed, 02 Sep 2020 17:04:49 GMT\",\n",
      "            \"x-amzn-requestid\": \"05077498-06ab-4a24-96a9-94e979bab1ed\"\n",
      "        },\n",
      "        \"HTTPStatusCode\": 200,\n",
      "        \"RequestId\": \"05077498-06ab-4a24-96a9-94e979bab1ed\",\n",
      "        \"RetryAttempts\": 0\n",
      "    }\n",
      "}\n"
     ]
    }
   ],
   "source": [
    "response = kinesis_analytics.describe_application(ApplicationName=kinesis_data_analytics_app_name)\n",
    "print(json.dumps(response, indent=4, sort_keys=True, default=str))"
   ]
  },
  {
   "cell_type": "code",
   "execution_count": 36,
   "metadata": {},
   "outputs": [
    {
     "name": "stdout",
     "output_type": "stream",
     "text": [
      "1.1\n"
     ]
    }
   ],
   "source": [
    "input_id = response['ApplicationDetail']['InputDescriptions'][0]['InputId']\n",
    "print(input_id)"
   ]
  },
  {
   "cell_type": "markdown",
   "metadata": {},
   "source": [
    "# Start the Kinesis Data Analytics App (SQL)\n",
    "_Please be patient.  This may take a few minutes._"
   ]
  },
  {
   "cell_type": "code",
   "execution_count": 37,
   "metadata": {},
   "outputs": [],
   "source": [
    "response = kinesis_analytics.start_application(\n",
    "    ApplicationName=kinesis_data_analytics_app_name,\n",
    "    InputConfigurations=[\n",
    "        {\n",
    "            'Id': input_id,\n",
    "            'InputStartingPositionConfiguration': {\n",
    "                'InputStartingPosition': 'NOW'\n",
    "            }\n",
    "        }\n",
    "    ]\n",
    ")"
   ]
  },
  {
   "cell_type": "code",
   "execution_count": 38,
   "metadata": {},
   "outputs": [
    {
     "name": "stdout",
     "output_type": "stream",
     "text": [
      "{\n",
      "    \"ResponseMetadata\": {\n",
      "        \"HTTPHeaders\": {\n",
      "            \"content-length\": \"2\",\n",
      "            \"content-type\": \"application/x-amz-json-1.1\",\n",
      "            \"date\": \"Wed, 02 Sep 2020 17:05:43 GMT\",\n",
      "            \"x-amzn-requestid\": \"bb715fd8-2bd5-4b9a-8962-36259d97c5ec\"\n",
      "        },\n",
      "        \"HTTPStatusCode\": 200,\n",
      "        \"RequestId\": \"bb715fd8-2bd5-4b9a-8962-36259d97c5ec\",\n",
      "        \"RetryAttempts\": 0\n",
      "    }\n",
      "}\n"
     ]
    }
   ],
   "source": [
    "print(json.dumps(response, indent=4, sort_keys=True, default=str))"
   ]
  },
  {
   "cell_type": "code",
   "execution_count": 39,
   "metadata": {},
   "outputs": [
    {
     "data": {
      "text/html": [
       "<b>Review <a target=\"blank\" href=\"https://console.aws.amazon.com/kinesisanalytics/home?region=us-east-1#/wizard/editor?applicationName=dsoaws-kinesis-data-analytics-sql-app3\"> Kinesis Data Analytics App</a></b>"
      ],
      "text/plain": [
       "<IPython.core.display.HTML object>"
      ]
     },
     "metadata": {},
     "output_type": "display_data"
    }
   ],
   "source": [
    "from IPython.core.display import display, HTML\n",
    "        \n",
    "display(HTML('<b>Review <a target=\"blank\" href=\"https://console.aws.amazon.com/kinesisanalytics/home?region={}#/wizard/editor?applicationName={}\"> Kinesis Data Analytics App</a></b>'.format(region, kinesis_data_analytics_app_name)))\n"
   ]
  },
  {
   "cell_type": "code",
   "execution_count": 40,
   "metadata": {},
   "outputs": [],
   "source": [
    "response = kinesis_analytics.describe_application(ApplicationName=kinesis_data_analytics_app_name)"
   ]
  },
  {
   "cell_type": "code",
   "execution_count": 41,
   "metadata": {},
   "outputs": [
    {
     "name": "stdout",
     "output_type": "stream",
     "text": [
      "Application status STARTING\n",
      "Application status STARTING\n",
      "Application status STARTING\n",
      "Application status STARTING\n",
      "Application status STARTING\n",
      "Application status STARTING\n",
      "Application status STARTING\n",
      "Application status STARTING\n",
      "Application status STARTING\n",
      "Application status STARTING\n",
      "Application status STARTING\n",
      "Application status STARTING\n",
      "Application status STARTING\n",
      "Application status STARTING\n",
      "Application status STARTING\n",
      "Application status STARTING\n",
      "Application status STARTING\n",
      "Application status STARTING\n",
      "Application status STARTING\n",
      "Application status RUNNING\n",
      "Application status RUNNING\n"
     ]
    }
   ],
   "source": [
    "import time\n",
    "\n",
    "app_status = response['ApplicationDetail']['ApplicationStatus']\n",
    "\n",
    "while app_status != 'RUNNING':\n",
    "    time.sleep(5)\n",
    "    response = kinesis_analytics.describe_application(\n",
    "        ApplicationName=kinesis_data_analytics_app_name)\n",
    "    app_status = response['ApplicationDetail']['ApplicationStatus']\n",
    "    print('Application status {}'.format(app_status))\n",
    "\n",
    "print('Application status {}'.format(app_status))"
   ]
  },
  {
   "cell_type": "markdown",
   "metadata": {},
   "source": [
    "# Store Variables for Next Notebooks"
   ]
  },
  {
   "cell_type": "code",
   "execution_count": 42,
   "metadata": {},
   "outputs": [
    {
     "name": "stdout",
     "output_type": "stream",
     "text": [
      "Stored 'kinesis_data_analytics_app_name' (str)\n"
     ]
    }
   ],
   "source": [
    "%store kinesis_data_analytics_app_name"
   ]
  },
  {
   "cell_type": "code",
   "execution_count": 43,
   "metadata": {
    "scrolled": true
   },
   "outputs": [
    {
     "name": "stdout",
     "output_type": "stream",
     "text": [
      "Stored variables and their in-db values:\n",
      "autopilot_endpoint_name                     -> 'automl-dm-ep-28-19-07-00'\n",
      "firehose_arn                                -> 'arn:aws:firehose:us-east-1:806570384721:deliverys\n",
      "firehose_name                               -> 'dsoaws-kinesis-data-firehose'\n",
      "header_train_s3_uri                         -> 's3://sagemaker-us-east-1-806570384721/data/amazon\n",
      "iam_kinesis_role_name                       -> 'DSOAWS_Kinesis'\n",
      "iam_lambda_role_name                        -> 'DSOAWS_Lambda'\n",
      "iam_role_kinesis_arn                        -> 'arn:aws:iam::806570384721:role/DSOAWS_Kinesis'\n",
      "iam_role_lambda_arn                         -> 'arn:aws:iam::806570384721:role/DSOAWS_Lambda'\n",
      "kinesis_data_analytics_app_name             -> 'dsoaws-kinesis-data-analytics-sql-app3'\n",
      "lambda_fn_arn                               -> 'arn:aws:lambda:us-east-1:806570384721:function:De\n",
      "lambda_fn_name                              -> 'DeliverKinesisAnalyticsToCloudWatch2'\n",
      "noheader_train_s3_uri                       -> 's3://sagemaker-us-east-1-806570384721/data/amazon\n",
      "partition_key                               -> 'CAFEPERSON'\n",
      "stream_arn                                  -> 'arn:aws:kinesis:us-east-1:806570384721:stream/dso\n",
      "stream_name                                 -> 'dsoaws-kinesis-data-stream'\n"
     ]
    }
   ],
   "source": [
    "%store"
   ]
  },
  {
   "cell_type": "code",
   "execution_count": null,
   "metadata": {},
   "outputs": [],
   "source": [
    "%%javascript\n",
    "Jupyter.notebook.save_checkpoint();\n",
    "Jupyter.notebook.session.delete();"
   ]
  }
 ],
 "metadata": {
  "kernelspec": {
   "display_name": "conda_python3",
   "language": "python",
   "name": "conda_python3"
  },
  "language_info": {
   "codemirror_mode": {
    "name": "ipython",
    "version": 3
   },
   "file_extension": ".py",
   "mimetype": "text/x-python",
   "name": "python",
   "nbconvert_exporter": "python",
   "pygments_lexer": "ipython3",
   "version": "3.6.10"
  }
 },
 "nbformat": 4,
 "nbformat_minor": 4
}
