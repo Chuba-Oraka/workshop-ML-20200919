{
 "cells": [
  {
   "cell_type": "markdown",
   "metadata": {},
   "source": [
    "# Put Reviews On Kinesis Data Firehose"
   ]
  },
  {
   "cell_type": "code",
   "execution_count": null,
   "metadata": {},
   "outputs": [],
   "source": [
    "import boto3\n",
    "import sagemaker\n",
    "import pandas as pd\n",
    "import json\n",
    "\n",
    "sess   = sagemaker.Session()\n",
    "bucket = sess.default_bucket()\n",
    "role = sagemaker.get_execution_role()\n",
    "region = boto3.Session().region_name\n",
    "\n",
    "sm = boto3.Session().client(service_name='sagemaker', region_name=region)\n",
    "firehose = boto3.Session().client(service_name='firehose', region_name=region)\n",
    "kinesis_analytics = boto3.Session().client(service_name='kinesisanalytics', region_name=region)\n"
   ]
  },
  {
   "cell_type": "code",
   "execution_count": null,
   "metadata": {},
   "outputs": [],
   "source": [
    "%store -r firehose_name"
   ]
  },
  {
   "cell_type": "code",
   "execution_count": null,
   "metadata": {},
   "outputs": [],
   "source": [
    "print(firehose_name)"
   ]
  },
  {
   "cell_type": "code",
   "execution_count": null,
   "metadata": {},
   "outputs": [],
   "source": [
    "%store -r firehose_arn"
   ]
  },
  {
   "cell_type": "code",
   "execution_count": null,
   "metadata": {},
   "outputs": [],
   "source": [
    "print(firehose_arn)"
   ]
  },
  {
   "cell_type": "code",
   "execution_count": null,
   "metadata": {},
   "outputs": [],
   "source": [
    "%store -r iam_role_kinesis_arn"
   ]
  },
  {
   "cell_type": "code",
   "execution_count": null,
   "metadata": {},
   "outputs": [],
   "source": [
    "print(iam_role_kinesis_arn)"
   ]
  },
  {
   "cell_type": "code",
   "execution_count": null,
   "metadata": {},
   "outputs": [],
   "source": [
    "%store -r kinesis_data_analytics_app_name"
   ]
  },
  {
   "cell_type": "code",
   "execution_count": null,
   "metadata": {},
   "outputs": [],
   "source": [
    "print(kinesis_data_analytics_app_name)"
   ]
  },
  {
   "cell_type": "code",
   "execution_count": null,
   "metadata": {},
   "outputs": [],
   "source": [
    "%store -r lambda_fn_name"
   ]
  },
  {
   "cell_type": "code",
   "execution_count": null,
   "metadata": {},
   "outputs": [],
   "source": [
    "print(lambda_fn_name)"
   ]
  },
  {
   "cell_type": "code",
   "execution_count": null,
   "metadata": {},
   "outputs": [],
   "source": [
    "firehoses = firehose.list_delivery_streams(DeliveryStreamType='DirectPut')\n",
    "print(json.dumps(firehoses, indent=4, sort_keys=True, default=str))"
   ]
  },
  {
   "cell_type": "markdown",
   "metadata": {},
   "source": [
    "# Download Dataset"
   ]
  },
  {
   "cell_type": "code",
   "execution_count": null,
   "metadata": {},
   "outputs": [],
   "source": [
    "!aws s3 cp 's3://amazon-reviews-pds/tsv/amazon_reviews_us_Digital_Software_v1_00.tsv.gz' ./data/"
   ]
  },
  {
   "cell_type": "code",
   "execution_count": null,
   "metadata": {},
   "outputs": [],
   "source": [
    "import csv\n",
    "import pandas as pd\n",
    "\n",
    "df = pd.read_csv('./data/amazon_reviews_us_Digital_Software_v1_00.tsv.gz', \n",
    "                 delimiter='\\t', \n",
    "                 quoting=csv.QUOTE_NONE,\n",
    "                 compression='gzip')\n",
    "df.shape"
   ]
  },
  {
   "cell_type": "code",
   "execution_count": null,
   "metadata": {
    "scrolled": true
   },
   "outputs": [],
   "source": [
    "df.head(5)"
   ]
  },
  {
   "cell_type": "code",
   "execution_count": null,
   "metadata": {},
   "outputs": [],
   "source": [
    "df_star_rating_and_review_body = df[['review_id', \n",
    "                                         'star_rating', \n",
    "                                         'product_category', \n",
    "                                         'review_body']][0:1]\n",
    "\n",
    "df_star_rating_and_review_body.to_csv(sep='\\t',\n",
    "                                      header=None,\n",
    "                                      index=False)"
   ]
  },
  {
   "cell_type": "markdown",
   "metadata": {},
   "source": [
    "# Simulate Application Writing Records to the Stream"
   ]
  },
  {
   "cell_type": "code",
   "execution_count": null,
   "metadata": {
    "scrolled": true
   },
   "outputs": [],
   "source": [
    "firehose_response = firehose.describe_delivery_stream(\n",
    "    DeliveryStreamName=firehose_name\n",
    ")\n",
    "\n",
    "print(firehose_response)"
   ]
  },
  {
   "cell_type": "markdown",
   "metadata": {},
   "source": [
    "# Put Records onto Firehose"
   ]
  },
  {
   "cell_type": "code",
   "execution_count": null,
   "metadata": {},
   "outputs": [],
   "source": [
    "step = 1\n",
    "for start_idx in range(0, 10000, step):\n",
    "    end_idx = start_idx + step\n",
    "\n",
    "    df_star_rating_and_review_body = df[['review_id', \n",
    "                                         'star_rating', \n",
    "                                         'product_category', \n",
    "                                         'review_body']][start_idx:end_idx]\n",
    "\n",
    "    reviews_tsv = df_star_rating_and_review_body.to_csv(sep='\\t',\n",
    "                                                        header=None,\n",
    "                                                        index=False)\n",
    "    \n",
    "    # print(reviews_tsv.encode('utf-8'))\n",
    "    \n",
    "    response = firehose.put_record(        \n",
    "        Record={\n",
    "            'Data': reviews_tsv.encode('utf-8')\n",
    "        },\n",
    "        DeliveryStreamName=firehose_name\n",
    "    )"
   ]
  },
  {
   "cell_type": "code",
   "execution_count": null,
   "metadata": {},
   "outputs": [],
   "source": [
    "anomaly_step = 1\n",
    "import time\n",
    "\n",
    "timestamp = int(time.time())\n",
    "\n",
    "for start_idx in range(0, 10000, anomaly_step):\n",
    "    end_idx = start_idx + step\n",
    "\n",
    "    df_anomalies = pd.DataFrame([\n",
    "        {'review_id', str(timestamp), \n",
    "         'star_rating': 100, \n",
    "         'product_category': 'Digital_Software', \n",
    "         'review_body': 'blahblah'},     \n",
    "    ], columns=['star_rating', 'review_body'])\n",
    "\n",
    "    df_star_rating_and_review_body_anomalies = df_anomalies[['star_rating', \n",
    "                                                             'review_body']][start_idx:end_idx]\n",
    "\n",
    "    reviews_tsv_anomalies = df_star_rating_and_review_body_anomalies.to_csv(sep='\\t',\n",
    "                                                                            header=None,\n",
    "                                                                            index=False)\n",
    "    response = firehose.put_record(           \n",
    "        Record={\n",
    "            'Data': reviews_tsv_anomalies.encode('utf-8')\n",
    "        },\n",
    "        DeliveryStreamName=firehose_name\n",
    "    )"
   ]
  },
  {
   "cell_type": "markdown",
   "metadata": {},
   "source": [
    "# Analyze Stream with Kinesis Data Analytics\n",
    "\n",
    "![](./img/no_rows_in_source_kinesis_firehose_stream.png)\n",
    "\n",
    "## _Re-Run ^^ Above ^^ Cell If You See `No rows in source stream`_"
   ]
  },
  {
   "cell_type": "markdown",
   "metadata": {},
   "source": [
    "# Explore Kinesis Data Analytics App"
   ]
  },
  {
   "cell_type": "code",
   "execution_count": null,
   "metadata": {},
   "outputs": [],
   "source": [
    "from IPython.core.display import display, HTML\n",
    "        \n",
    "display(HTML('<b>Review <a target=\"blank\" href=\"https://console.aws.amazon.com/kinesisanalytics/home?region={}#/wizard/editor?applicationName={}\"> Kinesis Data Analytics App</a></b>'.format(region, kinesis_data_analytics_app_name)))\n"
   ]
  },
  {
   "cell_type": "markdown",
   "metadata": {},
   "source": [
    "# Explore Kinesis Firehose"
   ]
  },
  {
   "cell_type": "code",
   "execution_count": null,
   "metadata": {},
   "outputs": [],
   "source": [
    "from IPython.core.display import display, HTML\n",
    "    \n",
    "display(HTML('<b>Review <a target=\"blank\" href=\"https://console.aws.amazon.com/firehose/home?region={}#/details/{}/monitoring\"> Firehose</a></b>'.format(region, firehose_name)))\n"
   ]
  },
  {
   "cell_type": "markdown",
   "metadata": {},
   "source": [
    "# Explore Custom CloudWatch Metrics"
   ]
  },
  {
   "cell_type": "code",
   "execution_count": null,
   "metadata": {},
   "outputs": [],
   "source": [
    "from IPython.core.display import display, HTML\n",
    "    \n",
    "display(HTML(\"\"\"<b>Review <a target=\"blank\" href=\"https://console.aws.amazon.com/cloudwatch/home?region={}#metricsV2:graph=~(metrics~(~(~'kinesis*2fanalytics*2fAVGStarRating~'AVGStarRating~'Product*20Category~'All))~view~'timeSeries~stacked~false~start~'-PT5M~end~'P0D~region~'us-east-1~liveData~true~stat~'Average~period~1~title~'Avg*20Star*20Rating);query=~'*7bkinesis*2fanalytics*2fAVGStarRating*2c*22Product*20Category*22*7d\">CloudWatch Metrics</a></b>\"\"\".format(region, region)))\n"
   ]
  },
  {
   "cell_type": "markdown",
   "metadata": {},
   "source": [
    "# Explore Lambda Code"
   ]
  },
  {
   "cell_type": "code",
   "execution_count": null,
   "metadata": {},
   "outputs": [],
   "source": [
    "display(HTML('<b>Review <a target=\"blank\" href=\"https://console.aws.amazon.com/lambda/home?region={}#/functions/DeliverKinesisAnalyticsToCloudWatch\">Lambda</a></b>'.format(region, lambda_fn_name)))\n"
   ]
  },
  {
   "cell_type": "markdown",
   "metadata": {},
   "source": [
    "# Explore Lambda Logs"
   ]
  },
  {
   "cell_type": "code",
   "execution_count": null,
   "metadata": {},
   "outputs": [],
   "source": [
    "from IPython.core.display import display, HTML\n",
    "    \n",
    "display(HTML('<b>Review <a target=\"blank\" href=\"https://console.aws.amazon.com/cloudwatch/home?region={}#logStream:group=%252Faws%252Flambda%252F{}\">Lambda Logs</a></b>'.format(region, lambda_fn_name)))\n"
   ]
  },
  {
   "cell_type": "code",
   "execution_count": null,
   "metadata": {},
   "outputs": [],
   "source": [
    "# %%javascript\n",
    "# Jupyter.notebook.save_checkpoint();\n",
    "# Jupyter.notebook.session.delete();"
   ]
  },
  {
   "cell_type": "code",
   "execution_count": null,
   "metadata": {},
   "outputs": [],
   "source": []
  }
 ],
 "metadata": {
  "kernelspec": {
   "display_name": "conda_python3",
   "language": "python",
   "name": "conda_python3"
  },
  "language_info": {
   "codemirror_mode": {
    "name": "ipython",
    "version": 3
   },
   "file_extension": ".py",
   "mimetype": "text/x-python",
   "name": "python",
   "nbconvert_exporter": "python",
   "pygments_lexer": "ipython3",
   "version": "3.6.10"
  }
 },
 "nbformat": 4,
 "nbformat_minor": 4
}
