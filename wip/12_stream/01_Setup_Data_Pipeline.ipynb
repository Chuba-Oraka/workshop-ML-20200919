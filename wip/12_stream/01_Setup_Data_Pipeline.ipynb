{
 "cells": [
  {
   "cell_type": "markdown",
   "metadata": {},
   "source": [
    "# Setup the Amazon Kinesis Data Pipeline\n",
    "https://github.com/aws-samples/aws-ml-data-lake-workshop"
   ]
  },
  {
   "cell_type": "code",
   "execution_count": 7,
   "metadata": {},
   "outputs": [],
   "source": [
    "import boto3\n",
    "import sagemaker\n",
    "import pandas as pd\n",
    "\n",
    "sess   = sagemaker.Session()\n",
    "bucket = sess.default_bucket()\n",
    "role = sagemaker.get_execution_role()\n",
    "region = boto3.Session().region_name\n",
    "\n",
    "sm = boto3.Session().client(service_name='sagemaker', region_name=region)\n",
    "kn_data = boto3.Session().client(service_name='kinesis', region_name=region)\n",
    "kn_firehose = boto3.Session().client(service_name='firehose', region_name=region)"
   ]
  },
  {
   "cell_type": "code",
   "execution_count": 8,
   "metadata": {},
   "outputs": [
    {
     "data": {
      "text/plain": [
       "{'StreamNames': [],\n",
       " 'HasMoreStreams': False,\n",
       " 'ResponseMetadata': {'RequestId': 'ff7b21b0-1cff-8a6f-a827-6ea0d4a798b3',\n",
       "  'HTTPStatusCode': 200,\n",
       "  'HTTPHeaders': {'x-amzn-requestid': 'ff7b21b0-1cff-8a6f-a827-6ea0d4a798b3',\n",
       "   'x-amz-id-2': 'be/RpaGEKW1vW9dg2VhqgfpSxcBTxPJ9wV5kRJ+Qi2YbFF6y41N6+j8eQmU/RcQxrCOMp/qLo0hiTZWp33xulJfj4FC8NZe9',\n",
       "   'date': 'Thu, 11 Jun 2020 15:25:04 GMT',\n",
       "   'content-type': 'application/x-amz-json-1.1',\n",
       "   'content-length': '41'},\n",
       "  'RetryAttempts': 0}}"
      ]
     },
     "execution_count": 8,
     "metadata": {},
     "output_type": "execute_result"
    }
   ],
   "source": [
    "kn_data.list_streams()"
   ]
  },
  {
   "cell_type": "markdown",
   "metadata": {},
   "source": [
    "## Step 1: Create a Kinesis Data Stream"
   ]
  },
  {
   "cell_type": "code",
   "execution_count": 9,
   "metadata": {},
   "outputs": [],
   "source": [
    "stream_name = \"dsoaws-data-stream\"\n",
    "shard_count = 1"
   ]
  },
  {
   "cell_type": "code",
   "execution_count": 10,
   "metadata": {},
   "outputs": [],
   "source": [
    "response = kn_data.create_stream(\n",
    "    StreamName=stream_name, \n",
    "    ShardCount=shard_count\n",
    ")"
   ]
  },
  {
   "cell_type": "code",
   "execution_count": 11,
   "metadata": {},
   "outputs": [
    {
     "name": "stdout",
     "output_type": "stream",
     "text": [
      "{'ResponseMetadata': {'RequestId': 'c41539d5-929d-fb44-9349-76b775319cd8', 'HTTPStatusCode': 200, 'HTTPHeaders': {'x-amzn-requestid': 'c41539d5-929d-fb44-9349-76b775319cd8', 'x-amz-id-2': '6yOC+U9TRA53IUCNrp+IWA9+c3JrN7rcFqpDub/CZlRF3RDXfsGTgi9TmozvoDbVSaYZFu1EsEPrqHYTQF99wgdBDCumBNsD', 'date': 'Thu, 11 Jun 2020 15:26:26 GMT', 'content-type': 'application/x-amz-json-1.1', 'content-length': '0'}, 'RetryAttempts': 0}}\n"
     ]
    }
   ],
   "source": [
    "print(response)"
   ]
  },
  {
   "cell_type": "code",
   "execution_count": 12,
   "metadata": {},
   "outputs": [],
   "source": [
    "response = kn_data.describe_stream(\n",
    "    StreamName=stream_name\n",
    "    # Limit=123,\n",
    "    # ExclusiveStartShardId='string'\n",
    ")"
   ]
  },
  {
   "cell_type": "code",
   "execution_count": 13,
   "metadata": {},
   "outputs": [
    {
     "name": "stdout",
     "output_type": "stream",
     "text": [
      "{'StreamDescription': {'StreamName': 'dsoaws-data-stream', 'StreamARN': 'arn:aws:kinesis:us-east-1:806570384721:stream/dsoaws-data-stream', 'StreamStatus': 'ACTIVE', 'Shards': [{'ShardId': 'shardId-000000000000', 'HashKeyRange': {'StartingHashKey': '0', 'EndingHashKey': '340282366920938463463374607431768211455'}, 'SequenceNumberRange': {'StartingSequenceNumber': '49607862348221712927862777905367152435935770759162494978'}}], 'HasMoreShards': False, 'RetentionPeriodHours': 24, 'StreamCreationTimestamp': datetime.datetime(2020, 6, 11, 15, 26, 25, tzinfo=tzlocal()), 'EnhancedMonitoring': [{'ShardLevelMetrics': []}], 'EncryptionType': 'NONE'}, 'ResponseMetadata': {'RequestId': 'c4af8a78-4c9e-385d-93f3-c5b87951bed5', 'HTTPStatusCode': 200, 'HTTPHeaders': {'x-amzn-requestid': 'c4af8a78-4c9e-385d-93f3-c5b87951bed5', 'x-amz-id-2': 'w8s++bNpqZf93D+3yacXlAgRN0XdNfNrSwrOnu9SKluhcTUzcHZC9b9P4bDxHBaTgJza0cGzrxgMSJ06bJSTfdB2y5aBtTsv', 'date': 'Thu, 11 Jun 2020 15:28:00 GMT', 'content-type': 'application/x-amz-json-1.1', 'content-length': '571'}, 'RetryAttempts': 0}}\n"
     ]
    }
   ],
   "source": [
    "print(response)"
   ]
  },
  {
   "cell_type": "markdown",
   "metadata": {},
   "source": [
    "## Step 2: Create a Kinesis Firehose Stream with source data stream"
   ]
  },
  {
   "cell_type": "code",
   "execution_count": 16,
   "metadata": {},
   "outputs": [],
   "source": [
    "firehose_name = 'dsoaws-firehose-stream'\n",
    "delivery_stream_type = 'KinesisStreamAsSource'\n",
    "data_stream_arn = 'arn:aws:kinesis:us-east-1:806570384721:stream/dsoaws-data-stream'\n",
    "bucket_arn = 'arn:aws:s3:::dsoaws-streaming-data'\n",
    "shard_count = 1\n",
    "kinesis_role_arn = 'arn:aws:iam::806570384721:role/DSOAWS_Kinesis'"
   ]
  },
  {
   "cell_type": "code",
   "execution_count": 17,
   "metadata": {},
   "outputs": [],
   "source": [
    "firehose_response = kn_firehose.create_delivery_stream(\n",
    "    DeliveryStreamName=firehose_name,\n",
    "    DeliveryStreamType=delivery_stream_type,\n",
    "    KinesisStreamSourceConfiguration={\n",
    "        'KinesisStreamARN': data_stream_arn,\n",
    "        'RoleARN': kinesis_role_arn\n",
    "    },\n",
    "    ExtendedS3DestinationConfiguration={\n",
    "        'RoleARN': kinesis_role_arn,\n",
    "        'BucketARN': bucket_arn\n",
    "    }\n",
    ")"
   ]
  },
  {
   "cell_type": "code",
   "execution_count": 18,
   "metadata": {},
   "outputs": [
    {
     "name": "stdout",
     "output_type": "stream",
     "text": [
      "{'DeliveryStreamARN': 'arn:aws:firehose:us-east-1:806570384721:deliverystream/dsoaws-firehose-stream', 'ResponseMetadata': {'RequestId': 'd53a192c-4270-bd41-8266-4d67382e2862', 'HTTPStatusCode': 200, 'HTTPHeaders': {'x-amzn-requestid': 'd53a192c-4270-bd41-8266-4d67382e2862', 'x-amz-id-2': 'gWNN8HsmxtOpfzAFrKmmkreL9PJbxkbGacAsn9k48H1djXcUGUpos3QTfiaCgJ3dsZBYvS6X2uqcsO7xax3CSBfJUNWPaqXh', 'content-type': 'application/x-amz-json-1.1', 'content-length': '101', 'date': 'Thu, 11 Jun 2020 15:47:23 GMT'}, 'RetryAttempts': 0}}\n"
     ]
    }
   ],
   "source": [
    "print(firehose_response)"
   ]
  },
  {
   "cell_type": "markdown",
   "metadata": {},
   "source": []
  },
  {
   "cell_type": "markdown",
   "metadata": {},
   "source": [
    "## Step 3: Put a Record"
   ]
  },
  {
   "cell_type": "markdown",
   "metadata": {},
   "source": [
    "## Create and trigger Lambda function in `src/lambda.py`"
   ]
  },
  {
   "cell_type": "code",
   "execution_count": null,
   "metadata": {},
   "outputs": [],
   "source": []
  },
  {
   "cell_type": "code",
   "execution_count": null,
   "metadata": {},
   "outputs": [],
   "source": [
    "partition_key = '123'\n",
    "data = 'testdata'"
   ]
  },
  {
   "cell_type": "code",
   "execution_count": null,
   "metadata": {},
   "outputs": [],
   "source": [
    "!aws kinesis put-record --stream-name $stream_name --partition-key $partition_key --data $data"
   ]
  },
  {
   "cell_type": "markdown",
   "metadata": {},
   "source": [
    "## Step 4: Get the Record"
   ]
  },
  {
   "cell_type": "code",
   "execution_count": null,
   "metadata": {},
   "outputs": [],
   "source": []
  },
  {
   "cell_type": "code",
   "execution_count": null,
   "metadata": {},
   "outputs": [],
   "source": [
    "shard_id = 'shardId-000000000000'"
   ]
  },
  {
   "cell_type": "code",
   "execution_count": null,
   "metadata": {},
   "outputs": [],
   "source": [
    "!aws kinesis get-shard-iterator --shard-id $shard_id --shard-iterator-type TRIM_HORIZON --stream-name $stream_name"
   ]
  },
  {
   "cell_type": "code",
   "execution_count": null,
   "metadata": {},
   "outputs": [],
   "source": []
  }
 ],
 "metadata": {
  "kernelspec": {
   "display_name": "conda_python3",
   "language": "python",
   "name": "conda_python3"
  },
  "language_info": {
   "codemirror_mode": {
    "name": "ipython",
    "version": 3
   },
   "file_extension": ".py",
   "mimetype": "text/x-python",
   "name": "python",
   "nbconvert_exporter": "python",
   "pygments_lexer": "ipython3",
   "version": "3.6.5"
  }
 },
 "nbformat": 4,
 "nbformat_minor": 4
}
